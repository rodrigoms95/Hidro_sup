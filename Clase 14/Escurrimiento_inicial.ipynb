{
 "cells": [
  {
   "cell_type": "code",
   "execution_count": 1,
   "metadata": {},
   "outputs": [],
   "source": [
    "# Cálculo de escurrimiento.\n",
    "\n",
    "import numpy as np\n",
    "import pandas as pd\n",
    "\n",
    "from matplotlib import pyplot as plt\n",
    "\n",
    "import geopandas as gpd\n",
    "\n",
    "from scipy import integrate"
   ]
  },
  {
   "cell_type": "code",
   "execution_count": 2,
   "metadata": {},
   "outputs": [],
   "source": [
    "# Dirección de los datos.\n",
    "path = \"../Material/Clases/Clase 14/\"\n",
    "\n",
    "# Directorio de escurrimiento\n",
    "dir_esc = \"Escurrimiento/\"\n",
    "# Datos hidrométricos.\n",
    "hidro_n = dir_esc + \"hd36080.csv\"\n",
    "# Contorno de las subcuencas.\n",
    "subc_n  = dir_esc + \"Zona_36080.shp\"\n",
    "\n",
    "# Cargamos los datos.\n",
    "hidro = pd.read_csv(path + hidro_n)\n",
    "subc  = gpd.read_file(path + subc_n)"
   ]
  }
 ],
 "metadata": {
  "kernelspec": {
   "display_name": "gv",
   "language": "python",
   "name": "python3"
  },
  "language_info": {
   "codemirror_mode": {
    "name": "ipython",
    "version": 3
   },
   "file_extension": ".py",
   "mimetype": "text/x-python",
   "name": "python",
   "nbconvert_exporter": "python",
   "pygments_lexer": "ipython3",
   "version": "3.9.9"
  },
  "orig_nbformat": 4
 },
 "nbformat": 4,
 "nbformat_minor": 2
}
