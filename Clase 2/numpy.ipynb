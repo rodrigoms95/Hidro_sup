{
 "cells": [
  {
   "cell_type": "code",
   "execution_count": 1,
   "metadata": {},
   "outputs": [],
   "source": [
    "# Numpy es una librería utilizada para hacer operaciones\n",
    "# de manera rápida y fácil con arreglos y matrices.\n",
    "\n",
    "# Tomado de : https://numpy.org/doc/stable/user/quickstart.html\n",
    "\n",
    "# Tenemos que importar la librería a nuestro cuaderno.\n",
    "import numpy as np"
   ]
  },
  {
   "cell_type": "code",
   "execution_count": 42,
   "metadata": {},
   "outputs": [
    {
     "name": "stdout",
     "output_type": "stream",
     "text": [
      "[1, 5.5, 20, 2, 9]\n",
      "Tercer elemento: 20\n",
      "<class 'list'>\n"
     ]
    }
   ],
   "source": [
    "# Creamos una lista únicamente con números.\n",
    "\n",
    "x = [1, 5.5, 20, 2, 9]\n",
    "\n",
    "print(x)\n",
    "print(f\"Tercer elemento: {x[2]}\")\n",
    "print(type(x))"
   ]
  },
  {
   "cell_type": "code",
   "execution_count": 43,
   "metadata": {},
   "outputs": [
    {
     "name": "stdout",
     "output_type": "stream",
     "text": [
      "[1, 5.5, 20, 2, 9]\n",
      "Tercer elemento: 20.0\n",
      "<class 'numpy.ndarray'>\n"
     ]
    }
   ],
   "source": [
    "# Convertimos a un arreglo de numpy.\n",
    "# Los arreglos son vectores matemáticos.\n",
    "# Se accede a los elementos individuales \n",
    "# de la misma manera que en una lista.\n",
    "\n",
    "y = np.array(x)\n",
    "\n",
    "print(x)\n",
    "print(f\"Tercer elemento: {y[2]}\")\n",
    "print(type(y))"
   ]
  },
  {
   "cell_type": "code",
   "execution_count": 4,
   "metadata": {},
   "outputs": [
    {
     "name": "stdout",
     "output_type": "stream",
     "text": [
      "37.5\n",
      "7.5\n",
      "6.855654600401044\n",
      "47.0\n",
      "1.0\n",
      "20.0\n",
      "[ 1.   3.   8.5 17.5 37.5]\n"
     ]
    }
   ],
   "source": [
    "# El arreglo que creamos, es un objeto con métodos, o funciones\n",
    "# inherentes al propio objeto.\n",
    "\n",
    "# Suma\n",
    "print( y.sum() )\n",
    "\n",
    "# Promedio\n",
    "print( y.mean() )\n",
    "\n",
    "# Desviación estándar\n",
    "print( y.std() )\n",
    "\n",
    "# Varianza\n",
    "print( y.var() )\n",
    "\n",
    "# Mínimo\n",
    "print( y.min() )\n",
    "\n",
    "# Máximo\n",
    "print( y.max() )\n",
    "\n",
    "# Suma acumulada\n",
    "print( y.cumsum() )"
   ]
  },
  {
   "cell_type": "code",
   "execution_count": 44,
   "metadata": {},
   "outputs": [
    {
     "name": "stdout",
     "output_type": "stream",
     "text": [
      "[ 1.   5.5 20.   2.   9. ]\n",
      "[ 1.   2.   5.5  9.  20. ]\n"
     ]
    }
   ],
   "source": [
    "# Podemos ordenar los valores,\n",
    "\n",
    "print( y )\n",
    "\n",
    "print( np.sort(y) )"
   ]
  },
  {
   "cell_type": "code",
   "execution_count": 5,
   "metadata": {},
   "outputs": [
    {
     "name": "stdout",
     "output_type": "stream",
     "text": [
      "[ 0.  1.  2.  3.  4.  5.  6.  7.  8.  9. 10.]\n"
     ]
    }
   ],
   "source": [
    "# Linspace() crea un arreglo con un valor inicial,\n",
    "# final, y una cierta cantidad de elementos igualmente\n",
    "# espaciados entre ellos.\n",
    "\n",
    "a = np.linspace( 0, 10, 11 )\n",
    "print(a)"
   ]
  },
  {
   "cell_type": "code",
   "execution_count": 6,
   "metadata": {},
   "outputs": [
    {
     "name": "stdout",
     "output_type": "stream",
     "text": [
      "[ 0.          1.11111111  2.22222222  3.33333333  4.44444444  5.55555556\n",
      "  6.66666667  7.77777778  8.88888889 10.        ]\n"
     ]
    }
   ],
   "source": [
    "a = np.linspace( 0, 10, 10 )\n",
    "print(a)"
   ]
  },
  {
   "cell_type": "code",
   "execution_count": 7,
   "metadata": {},
   "outputs": [
    {
     "name": "stdout",
     "output_type": "stream",
     "text": [
      "[1 2 3 4 5 6 7 8 9]\n"
     ]
    }
   ],
   "source": [
    "# arange() tiene un valor inicial, uno final, y un\n",
    "# incremento entre elementos.\n",
    "# El elemento final no se incluye.\n",
    "\n",
    "a = np.arange(1, 10, 1)\n",
    "print(a)"
   ]
  },
  {
   "cell_type": "code",
   "execution_count": 8,
   "metadata": {},
   "outputs": [
    {
     "name": "stdout",
     "output_type": "stream",
     "text": [
      "[1 5 9]\n"
     ]
    }
   ],
   "source": [
    "a = np.arange(1, 10, 4)\n",
    "print(a)"
   ]
  },
  {
   "cell_type": "code",
   "execution_count": 9,
   "metadata": {},
   "outputs": [
    {
     "name": "stdout",
     "output_type": "stream",
     "text": [
      "[0. 0. 0. 0. 0.]\n"
     ]
    }
   ],
   "source": [
    "# zeros() crea un arreglo vacío de cierta longitud.\n",
    "\n",
    "a = np.zeros(5)\n",
    "print(a)"
   ]
  },
  {
   "cell_type": "code",
   "execution_count": 10,
   "metadata": {},
   "outputs": [
    {
     "name": "stdout",
     "output_type": "stream",
     "text": [
      "(5,)\n"
     ]
    }
   ],
   "source": [
    "# shape nos permite ver las dimensiones del arreglo.\n",
    "print( a.shape )"
   ]
  },
  {
   "cell_type": "code",
   "execution_count": 11,
   "metadata": {},
   "outputs": [
    {
     "name": "stdout",
     "output_type": "stream",
     "text": [
      "[[1 2 3]\n",
      " [4 5 6]\n",
      " [7 8 9]]\n",
      "(3, 3)\n"
     ]
    }
   ],
   "source": [
    "# Podemos declarar una matriz con una serie de listas.\n",
    "\n",
    "a = np.array( [ [1, 2, 3], \n",
    "                [4, 5, 6],\n",
    "                [7, 8, 9] ] )\n",
    "\n",
    "print(a)\n",
    "print(a.shape)"
   ]
  },
  {
   "cell_type": "code",
   "execution_count": 12,
   "metadata": {},
   "outputs": [
    {
     "name": "stdout",
     "output_type": "stream",
     "text": [
      "[[1 2]\n",
      " [4 5]\n",
      " [7 8]]\n",
      "(3, 2)\n"
     ]
    }
   ],
   "source": [
    "# Podemos declarar una matriz con una serie de listas.\n",
    "\n",
    "a = np.array( [ [1, 2], \n",
    "                [4, 5],\n",
    "                [7, 8] ] )\n",
    "\n",
    "print(a)\n",
    "print(a.shape)"
   ]
  },
  {
   "cell_type": "code",
   "execution_count": 13,
   "metadata": {},
   "outputs": [
    {
     "name": "stdout",
     "output_type": "stream",
     "text": [
      "2\n"
     ]
    }
   ],
   "source": [
    "# Para acceder a los elementos, se determinan los índices de cada eje.\n",
    "\n",
    "print( a[0, 1] )"
   ]
  },
  {
   "cell_type": "code",
   "execution_count": 14,
   "metadata": {},
   "outputs": [
    {
     "name": "stdout",
     "output_type": "stream",
     "text": [
      "[1 4]\n"
     ]
    }
   ],
   "source": [
    "# Se pueden utlilizar los dobles puntos.\n",
    "\n",
    "print( a[0:2, 0] )"
   ]
  },
  {
   "cell_type": "code",
   "execution_count": 15,
   "metadata": {},
   "outputs": [
    {
     "name": "stdout",
     "output_type": "stream",
     "text": [
      "[1 4 7]\n"
     ]
    }
   ],
   "source": [
    "print( a[:, 0] )"
   ]
  },
  {
   "cell_type": "code",
   "execution_count": 16,
   "metadata": {},
   "outputs": [
    {
     "name": "stdout",
     "output_type": "stream",
     "text": [
      "[[1. 1. 1.]\n",
      " [1. 1. 1.]\n",
      " [1. 1. 1.]\n",
      " [1. 1. 1.]\n",
      " [1. 1. 1.]]\n"
     ]
    }
   ],
   "source": [
    "# ones() crea un arreglo de puros unos.\n",
    "# se puede especificar las dimensiones de la matriz.\n",
    "# lo mismo aplica para zeros()\n",
    "\n",
    "a = np.ones( (5, 3) )\n",
    "print(a)"
   ]
  },
  {
   "cell_type": "code",
   "execution_count": 17,
   "metadata": {},
   "outputs": [
    {
     "name": "stdout",
     "output_type": "stream",
     "text": [
      "[[-0.99331087 -0.39138792 -1.66630499 -0.61374436]\n",
      " [-1.43213993  0.7583674  -0.6520068   0.577616  ]\n",
      " [ 0.87177097  1.09183987 -0.20867032 -0.66932711]\n",
      " [ 0.69072731 -0.24080444 -0.05766735 -1.82648102]\n",
      " [ 1.87508927  0.79076952  1.93086986  0.12453224]\n",
      " [-0.03764674  0.3227872  -0.0589606   1.54222813]]\n"
     ]
    }
   ],
   "source": [
    "# Matriz aleatoria.\n",
    "\n",
    "a = np.random.randn(6, 4)\n",
    "print(a)"
   ]
  },
  {
   "cell_type": "code",
   "execution_count": 18,
   "metadata": {},
   "outputs": [
    {
     "name": "stdout",
     "output_type": "stream",
     "text": [
      "1.7281453358690975\n",
      "[ 0.97449001  2.33157163 -0.71274019 -0.86517612]\n",
      "[-3.66474814 -0.74816332  1.08561342 -1.4342255   4.72126089  1.76840799]\n"
     ]
    }
   ],
   "source": [
    "# Los métodos se aplican para toda la matriz o para un solo eje.\n",
    "\n",
    "print( a.sum() )\n",
    "print( a.sum(axis = 0) )\n",
    "print( a.sum(axis = 1) )"
   ]
  },
  {
   "cell_type": "code",
   "execution_count": 28,
   "metadata": {},
   "outputs": [
    {
     "name": "stdout",
     "output_type": "stream",
     "text": [
      "15\n",
      "[[1 4 7]\n",
      " [2 5 8]\n",
      " [3 6 9]]\n",
      "[[ 1 14  6]\n",
      " [12 45 24]\n",
      " [35  0 54]]\n",
      "[[ 22  25  28]\n",
      " [ 49  73  64]\n",
      " [ 76 121 100]]\n",
      "[[ 3.15251974e+15 -6.30503948e+15  3.15251974e+15]\n",
      " [-6.30503948e+15  1.26100790e+16 -6.30503948e+15]\n",
      " [ 3.15251974e+15 -6.30503948e+15  3.15251974e+15]]\n"
     ]
    }
   ],
   "source": [
    "# Se pueden realizar operaciones matriciales.\n",
    "\n",
    "a = np.array( [ [1, 2, 3], \n",
    "                [4, 5, 6],\n",
    "                [7, 8, 9] ] )\n",
    "\n",
    "b = np.array( [ [1, 7, 2], \n",
    "                [3, 9, 4],\n",
    "                [5, 0, 6] ] )\n",
    "\n",
    "# Traza\n",
    "print(a.trace())\n",
    "\n",
    "# Traspuesta\n",
    "print(a.T)\n",
    "\n",
    "# Multiplicación elemento por elemento\n",
    "print( a * b )\n",
    "\n",
    "# Multiplicación matricial\n",
    "print( a @ b )\n",
    "\n",
    "# Matriz inversa.\n",
    "\n",
    "print(np.linalg.inv(a))\n"
   ]
  },
  {
   "cell_type": "code",
   "execution_count": 29,
   "metadata": {},
   "outputs": [
    {
     "name": "stdout",
     "output_type": "stream",
     "text": [
      "[[1 2 3]\n",
      " [4 5 6]\n",
      " [7 8 9]]\n",
      "\n",
      "[[ 2  4  6]\n",
      " [ 8 10 12]\n",
      " [14 16 18]]\n",
      "\n",
      "[[2.71828183e+00 7.38905610e+00 2.00855369e+01]\n",
      " [5.45981500e+01 1.48413159e+02 4.03428793e+02]\n",
      " [1.09663316e+03 2.98095799e+03 8.10308393e+03]]\n",
      "\n",
      "[[1.         1.41421356 1.73205081]\n",
      " [2.         2.23606798 2.44948974]\n",
      " [2.64575131 2.82842712 3.        ]]\n",
      "\n",
      "[[ 0.84147098  0.90929743  0.14112001]\n",
      " [-0.7568025  -0.95892427 -0.2794155 ]\n",
      " [ 0.6569866   0.98935825  0.41211849]]\n",
      "[[ 0.54030231 -0.41614684 -0.9899925 ]\n",
      " [-0.65364362  0.28366219  0.96017029]\n",
      " [ 0.75390225 -0.14550003 -0.91113026]]\n",
      "\n",
      "[[0.         0.69314718 1.09861229]\n",
      " [1.38629436 1.60943791 1.79175947]\n",
      " [1.94591015 2.07944154 2.19722458]]\n",
      "\n",
      "0.8660254037844387\n"
     ]
    }
   ],
   "source": [
    "# Operaciones matemáticas elemento por elemento.\n",
    "\n",
    "# Matriz original.\n",
    "print( a )\n",
    "print()\n",
    "\n",
    "# Operaciones básicas.\n",
    "print(a * 2)\n",
    "print()\n",
    "\n",
    "# Exponencial.\n",
    "print( np.exp(a) )\n",
    "print()\n",
    "\n",
    "# Raíz cuadrada.\n",
    "print( np.sqrt(a) )\n",
    "print()\n",
    "\n",
    "# seno y coseno.\n",
    "print( np.sin(a) )\n",
    "print( np.cos(a) )\n",
    "print()\n",
    "\n",
    "# Logaritmo natural\n",
    "print( np.log(a) )\n",
    "print()\n",
    "\n",
    "# También es posible aplicarlas a un solo número.\n",
    "print( np.cos(np.radians(30)) )"
   ]
  },
  {
   "cell_type": "code",
   "execution_count": 21,
   "metadata": {},
   "outputs": [
    {
     "name": "stdout",
     "output_type": "stream",
     "text": [
      "[[1 2 3]\n",
      " [4 5 6]\n",
      " [7 8 9]]\n",
      "\n",
      "[[1 2]\n",
      " [4 5]]\n",
      "\n",
      "[[0 2]\n",
      " [4 5]]\n",
      "\n",
      "[[0 2 3]\n",
      " [4 5 6]\n",
      " [7 8 9]]\n"
     ]
    }
   ],
   "source": [
    "# Si le asigno una variable a un subconjunto y lo modifico,\n",
    "# el arreglo entero se modifica; esto es una vista.\n",
    "\n",
    "print(a)\n",
    "print()\n",
    "\n",
    "a_1 = a[0:2, 0:2]\n",
    "print(a_1)\n",
    "print()\n",
    "\n",
    "a_1[0,0] = 0\n",
    "print(a_1)\n",
    "print()\n",
    "\n",
    "print(a)"
   ]
  },
  {
   "cell_type": "code",
   "execution_count": 22,
   "metadata": {},
   "outputs": [
    {
     "name": "stdout",
     "output_type": "stream",
     "text": [
      "[[0 2 3]\n",
      " [4 5 6]\n",
      " [7 8 9]]\n",
      "\n",
      "[[0 2]\n",
      " [4 5]]\n",
      "\n",
      "[[-10   2]\n",
      " [  4   5]]\n",
      "\n",
      "[[0 2 3]\n",
      " [4 5 6]\n",
      " [7 8 9]]\n"
     ]
    }
   ],
   "source": [
    "# Para modificar solo el subconjunto, se hace una copia.\n",
    "\n",
    "print(a)\n",
    "print()\n",
    "\n",
    "a_1 = a[0:2, 0:2].copy()\n",
    "print(a_1)\n",
    "print()\n",
    "\n",
    "a_1[0,0] = -10\n",
    "print(a_1)\n",
    "print()\n",
    "\n",
    "print(a)"
   ]
  },
  {
   "cell_type": "code",
   "execution_count": 33,
   "metadata": {},
   "outputs": [
    {
     "name": "stdout",
     "output_type": "stream",
     "text": [
      "[[1 2 3]\n",
      " [4 5 6]\n",
      " [7 8 9]]\n",
      "\n",
      "[1 2 3 4 5 6 7 8 9]\n"
     ]
    }
   ],
   "source": [
    "# \"Aplanar\" matriz\n",
    "\n",
    "print(a)\n",
    "print()\n",
    "\n",
    "print(a.flatten())"
   ]
  },
  {
   "cell_type": "code",
   "execution_count": 32,
   "metadata": {},
   "outputs": [
    {
     "name": "stdout",
     "output_type": "stream",
     "text": [
      "3.141592653589793\n",
      "nan\n",
      "2.718281828459045\n"
     ]
    }
   ],
   "source": [
    "# Números especiales.\n",
    "\n",
    "print(np.pi)\n",
    "print(np.nan)\n",
    "print(np.e)"
   ]
  },
  {
   "cell_type": "code",
   "execution_count": 23,
   "metadata": {},
   "outputs": [],
   "source": [
    "# Explicar cómo obtener documentación, y stackoverflow."
   ]
  },
  {
   "cell_type": "code",
   "execution_count": 24,
   "metadata": {},
   "outputs": [],
   "source": [
    "# Busca la serie de la materia de álgebra.\n",
    "# Resuelve los ejercicios 1, 2, 3.\n",
    "# Busca la serie 6 de la materia de álgebra.\n",
    "# Resuelve los ejercicios 2, 4, 10, 12."
   ]
  }
 ],
 "metadata": {
  "kernelspec": {
   "display_name": "gv",
   "language": "python",
   "name": "python3"
  },
  "language_info": {
   "codemirror_mode": {
    "name": "ipython",
    "version": 3
   },
   "file_extension": ".py",
   "mimetype": "text/x-python",
   "name": "python",
   "nbconvert_exporter": "python",
   "pygments_lexer": "ipython3",
   "version": "3.9.9"
  },
  "orig_nbformat": 4,
  "vscode": {
   "interpreter": {
    "hash": "cce8d45697d85db6636183b0f945e1ffea3934773870cd67d93bb4bbe05deaec"
   }
  }
 },
 "nbformat": 4,
 "nbformat_minor": 2
}
