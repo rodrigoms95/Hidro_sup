{
 "cells": [
  {
   "cell_type": "code",
   "execution_count": 1,
   "metadata": {},
   "outputs": [],
   "source": [
    "# Numpy es una librería utilizada para hacer operaciones\n",
    "# de manera rápida y fácil con arreglos y matrices.\n",
    "\n",
    "# Tenemos que importar la librería a nuestro cuaderno.\n",
    "import numpy as np"
   ]
  },
  {
   "cell_type": "code",
   "execution_count": 2,
   "metadata": {},
   "outputs": [
    {
     "name": "stdout",
     "output_type": "stream",
     "text": [
      "[1, 2, 5.5, 9, 20]\n",
      "Tercer elemento: 5.5\n",
      "<class 'list'>\n"
     ]
    }
   ],
   "source": [
    "# Creamos una lista únicamente con números.\n",
    "\n",
    "x = [1, 2, 5.5, 9, 20]\n",
    "\n",
    "print(x)\n",
    "print(f\"Tercer elemento: {x[2]}\")\n",
    "print(type(x))"
   ]
  },
  {
   "cell_type": "code",
   "execution_count": 3,
   "metadata": {},
   "outputs": [
    {
     "name": "stdout",
     "output_type": "stream",
     "text": [
      "[1, 2, 5.5, 9, 20]\n",
      "Tercer elemento: 5.5\n",
      "<class 'numpy.ndarray'>\n"
     ]
    }
   ],
   "source": [
    "# Convertimos a un arreglo de numpy.\n",
    "# Los arreglos son vectores matemáticos.\n",
    "# Se accede a los elementos individuales \n",
    "# de la misma manera que en una lista.\n",
    "\n",
    "y = np.array(x)\n",
    "\n",
    "print(x)\n",
    "print(f\"Tercer elemento: {y[2]}\")\n",
    "print(type(y))"
   ]
  },
  {
   "cell_type": "code",
   "execution_count": 4,
   "metadata": {},
   "outputs": [
    {
     "name": "stdout",
     "output_type": "stream",
     "text": [
      "37.5\n",
      "7.5\n",
      "6.855654600401044\n",
      "47.0\n",
      "1.0\n",
      "20.0\n"
     ]
    }
   ],
   "source": [
    "# El arreglo que creamos, es un objeto con métodos, o funciones\n",
    "# inherentes al propio objeto.\n",
    "\n",
    "# Suma\n",
    "print( y.sum() )\n",
    "\n",
    "# Promedio\n",
    "print( y.mean() )\n",
    "\n",
    "# Desviación estándar\n",
    "print( y.std() )\n",
    "\n",
    "# Varianza\n",
    "print( y.var() )\n",
    "\n",
    "# Mínimo\n",
    "print( y.min() )\n",
    "\n",
    "# Máximo\n",
    "print( y.max() )"
   ]
  },
  {
   "cell_type": "code",
   "execution_count": 5,
   "metadata": {},
   "outputs": [
    {
     "name": "stdout",
     "output_type": "stream",
     "text": [
      "[ 0.  1.  2.  3.  4.  5.  6.  7.  8.  9. 10.]\n"
     ]
    }
   ],
   "source": [
    "# Linspace() crea un arreglo con un valor inicial,\n",
    "# final, y una cierta cantidad de elementos igualmente\n",
    "# espaciados entre ellos.\n",
    "\n",
    "a = np.linspace( 0, 10, 11 )\n",
    "print(a)"
   ]
  },
  {
   "cell_type": "code",
   "execution_count": 6,
   "metadata": {},
   "outputs": [
    {
     "name": "stdout",
     "output_type": "stream",
     "text": [
      "[ 0.          1.11111111  2.22222222  3.33333333  4.44444444  5.55555556\n",
      "  6.66666667  7.77777778  8.88888889 10.        ]\n"
     ]
    }
   ],
   "source": [
    "a = np.linspace( 0, 10, 10 )\n",
    "print(a)"
   ]
  },
  {
   "cell_type": "code",
   "execution_count": 7,
   "metadata": {},
   "outputs": [
    {
     "name": "stdout",
     "output_type": "stream",
     "text": [
      "[1 2 3 4 5 6 7 8 9]\n"
     ]
    }
   ],
   "source": [
    "# arange() tiene un valor inicial, uno final, y un\n",
    "# incremento entre elementos.\n",
    "# El elemento final no se incluye.\n",
    "\n",
    "a = np.arange(1, 10, 1)\n",
    "print(a)"
   ]
  },
  {
   "cell_type": "code",
   "execution_count": 8,
   "metadata": {},
   "outputs": [
    {
     "name": "stdout",
     "output_type": "stream",
     "text": [
      "[1 5 9]\n"
     ]
    }
   ],
   "source": [
    "a = np.arange(1, 10, 4)\n",
    "print(a)"
   ]
  },
  {
   "cell_type": "code",
   "execution_count": 9,
   "metadata": {},
   "outputs": [
    {
     "name": "stdout",
     "output_type": "stream",
     "text": [
      "[0. 0. 0. 0. 0.]\n"
     ]
    }
   ],
   "source": [
    "# zeros() crea un arreglo vacío de cierta longitud.\n",
    "\n",
    "a = np.zeros(5)\n",
    "print(a)"
   ]
  },
  {
   "cell_type": "code",
   "execution_count": 10,
   "metadata": {},
   "outputs": [
    {
     "name": "stdout",
     "output_type": "stream",
     "text": [
      "(5,)\n"
     ]
    }
   ],
   "source": [
    "# shape nos permite ver las dimensiones del arreglo.\n",
    "print( a.shape )"
   ]
  },
  {
   "cell_type": "code",
   "execution_count": 11,
   "metadata": {},
   "outputs": [
    {
     "name": "stdout",
     "output_type": "stream",
     "text": [
      "[[1 2 3]\n",
      " [4 5 6]\n",
      " [7 8 9]]\n",
      "(3, 3)\n"
     ]
    }
   ],
   "source": [
    "# Podemos declarar una matriz con una serie de listas.\n",
    "\n",
    "a = np.array( [ [1, 2, 3], \n",
    "                [4, 5, 6],\n",
    "                [7, 8, 9] ] )\n",
    "\n",
    "print(a)\n",
    "print(a.shape)"
   ]
  },
  {
   "cell_type": "code",
   "execution_count": 12,
   "metadata": {},
   "outputs": [
    {
     "name": "stdout",
     "output_type": "stream",
     "text": [
      "[[1 2]\n",
      " [4 5]\n",
      " [7 8]]\n",
      "(3, 2)\n"
     ]
    }
   ],
   "source": [
    "# Podemos declarar una matriz con una serie de listas.\n",
    "\n",
    "a = np.array( [ [1, 2], \n",
    "                [4, 5],\n",
    "                [7, 8] ] )\n",
    "\n",
    "print(a)\n",
    "print(a.shape)"
   ]
  },
  {
   "cell_type": "code",
   "execution_count": 13,
   "metadata": {},
   "outputs": [
    {
     "name": "stdout",
     "output_type": "stream",
     "text": [
      "2\n"
     ]
    }
   ],
   "source": [
    "# Para acceder a los elementos, se determinan los índices de cada eje.\n",
    "\n",
    "print( a[0, 1] )"
   ]
  },
  {
   "cell_type": "code",
   "execution_count": 14,
   "metadata": {},
   "outputs": [
    {
     "name": "stdout",
     "output_type": "stream",
     "text": [
      "[1 4]\n"
     ]
    }
   ],
   "source": [
    "# Se pueden utlilizar los dobles puntos.\n",
    "\n",
    "print( a[0:2, 0] )"
   ]
  },
  {
   "cell_type": "code",
   "execution_count": 15,
   "metadata": {},
   "outputs": [
    {
     "name": "stdout",
     "output_type": "stream",
     "text": [
      "[1 4 7]\n"
     ]
    }
   ],
   "source": [
    "print( a[:, 0] )"
   ]
  },
  {
   "cell_type": "code",
   "execution_count": 16,
   "metadata": {},
   "outputs": [
    {
     "name": "stdout",
     "output_type": "stream",
     "text": [
      "[[1. 1. 1.]\n",
      " [1. 1. 1.]\n",
      " [1. 1. 1.]\n",
      " [1. 1. 1.]\n",
      " [1. 1. 1.]]\n"
     ]
    }
   ],
   "source": [
    "# ones() crea un arreglo de puros unos.\n",
    "# se puede especificar las dimensiones de la matriz.\n",
    "# lo mismo aplica para zeros()\n",
    "\n",
    "a = np.ones( (5, 3) )\n",
    "print(a)"
   ]
  },
  {
   "cell_type": "code",
   "execution_count": 17,
   "metadata": {},
   "outputs": [
    {
     "name": "stdout",
     "output_type": "stream",
     "text": [
      "15.0\n",
      "[5. 5. 5.]\n",
      "[3. 3. 3. 3. 3.]\n"
     ]
    }
   ],
   "source": [
    "# Los métodos se aplican para toda la matriz o para un solo eje.\n",
    "\n",
    "print( a.sum() )\n",
    "print( a.sum(axis = 0) )\n",
    "print( a.sum(axis = 1) )"
   ]
  },
  {
   "cell_type": "code",
   "execution_count": 20,
   "metadata": {},
   "outputs": [
    {
     "name": "stdout",
     "output_type": "stream",
     "text": [
      "15\n",
      "[[1 4 7]\n",
      " [2 5 8]\n",
      " [3 6 9]]\n",
      "[[ 1 14  6]\n",
      " [12 45 24]\n",
      " [35  0 54]]\n",
      "[[ 22  25  28]\n",
      " [ 49  73  64]\n",
      " [ 76 121 100]]\n"
     ]
    }
   ],
   "source": [
    "# Se pueden realizar operaciones matriciales.\n",
    "\n",
    "a = np.array( [ [1, 2, 3], \n",
    "                [4, 5, 6],\n",
    "                [7, 8, 9] ] )\n",
    "\n",
    "b = np.array( [ [1, 7, 2], \n",
    "                [3, 9, 4],\n",
    "                [5, 0, 6] ] )\n",
    "\n",
    "# Traza\n",
    "print(a.trace())\n",
    "\n",
    "# Traspuesta\n",
    "print(a.T)\n",
    "\n",
    "# Multiplicación elemento por elemento\n",
    "print( a * b )\n",
    "\n",
    "# Multiplicación matricial\n",
    "print( a @ b )\n",
    "\n",
    "# Aplicar una operación a cada elemento.\n",
    "print( a.apply( T ) )\n"
   ]
  }
 ],
 "metadata": {
  "kernelspec": {
   "display_name": "gv",
   "language": "python",
   "name": "python3"
  },
  "language_info": {
   "codemirror_mode": {
    "name": "ipython",
    "version": 3
   },
   "file_extension": ".py",
   "mimetype": "text/x-python",
   "name": "python",
   "nbconvert_exporter": "python",
   "pygments_lexer": "ipython3",
   "version": "3.9.9"
  },
  "orig_nbformat": 4,
  "vscode": {
   "interpreter": {
    "hash": "cce8d45697d85db6636183b0f945e1ffea3934773870cd67d93bb4bbe05deaec"
   }
  }
 },
 "nbformat": 4,
 "nbformat_minor": 2
}
