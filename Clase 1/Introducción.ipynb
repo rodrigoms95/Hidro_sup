{
 "cells": [
  {
   "attachments": {},
   "cell_type": "markdown",
   "metadata": {},
   "source": [
    "Las celdas de markdown son texto\n",
    "\n",
    "# Título 1\n",
    "\n",
    "## Título 2\n",
    "\n",
    "**negritas**\n",
    "\n",
    "*itálica*"
   ]
  },
  {
   "cell_type": "code",
   "execution_count": 1,
   "metadata": {},
   "outputs": [
    {
     "data": {
      "text/plain": [
       "10"
      ]
     },
     "execution_count": 1,
     "metadata": {},
     "output_type": "execute_result"
    }
   ],
   "source": [
    "# Una celda es un conjunto de líneas que se ejecutan al mismo tiempo.\n",
    "a = 5 + 5\n",
    "a"
   ]
  },
  {
   "cell_type": "code",
   "execution_count": 22,
   "metadata": {},
   "outputs": [
    {
     "data": {
      "text/plain": [
       "5"
      ]
     },
     "execution_count": 22,
     "metadata": {},
     "output_type": "execute_result"
    }
   ],
   "source": [
    "a"
   ]
  },
  {
   "cell_type": "code",
   "execution_count": 3,
   "metadata": {},
   "outputs": [],
   "source": [
    "# si hay una línea posterior al nombre de una variable, su valor no aparece.\n",
    "# Las celdas se pueden ejecutar en cualquier orden.\n",
    "# Las variables permanecen hasta que se reinicie el kernel.\n",
    "# Las variables son comunes a todas las celdas del cuaderno.\n",
    "a = 3 + 5\n",
    "a\n",
    "b = 5"
   ]
  },
  {
   "cell_type": "code",
   "execution_count": 4,
   "metadata": {},
   "outputs": [
    {
     "name": "stdout",
     "output_type": "stream",
     "text": [
      "15\n"
     ]
    }
   ],
   "source": [
    "# si se imprime el valor, siempre aparece\n",
    "a = 5 + 10\n",
    "print(a)\n",
    "b = 5"
   ]
  },
  {
   "cell_type": "code",
   "execution_count": 5,
   "metadata": {},
   "outputs": [
    {
     "name": "stdout",
     "output_type": "stream",
     "text": [
      "8\n"
     ]
    }
   ],
   "source": [
    "# Una función realiza una tarea específica.\n",
    "# Python tiene sus propias funciones.\n",
    "# nombre(variable_Entrada)\n",
    "\n",
    "# Imprimir un valor.\n",
    "print( 5 + 3 )"
   ]
  },
  {
   "cell_type": "code",
   "execution_count": 6,
   "metadata": {},
   "outputs": [
    {
     "name": "stdout",
     "output_type": "stream",
     "text": [
      "3\n"
     ]
    }
   ],
   "source": [
    "# len() nos da la longitud de una lista.\n",
    "a = [1, 2, 3]\n",
    "print( len(a) )"
   ]
  },
  {
   "cell_type": "code",
   "execution_count": 7,
   "metadata": {},
   "outputs": [
    {
     "name": "stdout",
     "output_type": "stream",
     "text": [
      "3\n",
      "1\n"
     ]
    }
   ],
   "source": [
    "# max() nos da el valor máximo.\n",
    "print( max(a) )\n",
    "\n",
    "# min() nos da el valor mínimo.\n",
    "print( min(a) )"
   ]
  },
  {
   "cell_type": "code",
   "execution_count": 8,
   "metadata": {},
   "outputs": [
    {
     "name": "stdout",
     "output_type": "stream",
     "text": [
      "4\n"
     ]
    }
   ],
   "source": [
    "# Uno puede definir sus propias funciones.\n",
    "# después de los dos puntos se identa el bloque de instrucciones\n",
    "# que pertenecen a la función.\n",
    "\n",
    "def mi_funcion(variable_entrada):\n",
    "    variable_salida = 2 * variable_entrada\n",
    "    return variable_salida\n",
    "\n",
    "print(mi_funcion(2))"
   ]
  },
  {
   "cell_type": "code",
   "execution_count": 23,
   "metadata": {},
   "outputs": [
    {
     "data": {
      "text/plain": [
       "4"
      ]
     },
     "execution_count": 23,
     "metadata": {},
     "output_type": "execute_result"
    }
   ],
   "source": [
    "a = mi_funcion(2)\n",
    "\n",
    "a"
   ]
  },
  {
   "cell_type": "code",
   "execution_count": null,
   "metadata": {},
   "outputs": [],
   "source": [
    "# función con dos entradas.\n",
    "\n",
    "def f2(v_in_1, v_in_2):\n",
    "    print(v_in_1 * v_in_2)\n",
    "\n",
    "f2(5, 700)"
   ]
  },
  {
   "cell_type": "code",
   "execution_count": 9,
   "metadata": {},
   "outputs": [
    {
     "name": "stdout",
     "output_type": "stream",
     "text": [
      "4\n"
     ]
    }
   ],
   "source": [
    "def f2(v_in):\n",
    "    v_out = 2 * v_in\n",
    "    print(v_out)\n",
    "\n",
    "f2(2)"
   ]
  },
  {
   "cell_type": "code",
   "execution_count": 10,
   "metadata": {},
   "outputs": [
    {
     "name": "stdout",
     "output_type": "stream",
     "text": [
      "5.52\n",
      "Ahora con tres decimales: 5.523\n",
      "Ahora con cero a la izquierda: 05.523\n"
     ]
    }
   ],
   "source": [
    "# Es posible darle formato al número con print con las cadenas f\n",
    "\n",
    "a = 5.5234\n",
    "\n",
    "print(f\"{a:.2f}\")\n",
    "print(f\"Ahora con tres decimales: {a:.3f}\")\n",
    "print(f\"Ahora con ceros a la izquierda: {a:06.3f}\")"
   ]
  }
 ],
 "metadata": {
  "kernelspec": {
   "display_name": "gv",
   "language": "python",
   "name": "python3"
  },
  "language_info": {
   "codemirror_mode": {
    "name": "ipython",
    "version": 3
   },
   "file_extension": ".py",
   "mimetype": "text/x-python",
   "name": "python",
   "nbconvert_exporter": "python",
   "pygments_lexer": "ipython3",
   "version": "3.9.9"
  },
  "orig_nbformat": 4,
  "vscode": {
   "interpreter": {
    "hash": "cce8d45697d85db6636183b0f945e1ffea3934773870cd67d93bb4bbe05deaec"
   }
  }
 },
 "nbformat": 4,
 "nbformat_minor": 2
}
