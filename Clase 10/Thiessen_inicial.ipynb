{
 "cells": [
  {
   "cell_type": "code",
   "execution_count": 28,
   "metadata": {},
   "outputs": [],
   "source": [
    "# Cálculo polígonos de thiessen.\n",
    "\n",
    "import numpy as np\n",
    "import pandas as pd\n",
    "\n",
    "from scipy import spatial\n",
    "\n",
    "from matplotlib import pyplot as plt\n",
    "\n",
    "import geopandas as gpd\n",
    "import shapely as shp"
   ]
  },
  {
   "cell_type": "code",
   "execution_count": 29,
   "metadata": {},
   "outputs": [],
   "source": [
    "# Dirección de los datos.\n",
    "path = \"../Material/Clases/Clase 10/\"\n",
    "\n",
    "# Nombre de la cuenca.\n",
    "nombres_sub = \"RH19Be_subc.shp\"\n",
    "\n",
    "# Datos de estaciones.\n",
    "nombre_e = \"Estaciones_Guerrero_1980.csv\""
   ]
  },
  {
   "cell_type": "code",
   "execution_count": null,
   "metadata": {},
   "outputs": [],
   "source": [
    "# Tarea clase 10.\n",
    "# 1. Escoge una subcuenca interior de la pensínsula de Yucatán.\n",
    "# 2. Escoge 5 estaciones del Clicom-CICESE\n",
    "# (http://clicom-mex.cicese.mx/mapa.html) que sean relevantes para la cuenca.\n",
    "# Da clic en la estación en el mapa -> ingresar a los datos ->\n",
    "# Variable: Precipitación -> Datos: Diarios -> Graficar -> Descargar.\n",
    "# 3. Encuentra un día que haya tenido precipitación.\n",
    "# 4. Calcula los polígonos de Thiessen las áreas de influencia de\n",
    "# los polígonos de Thiessen que caen dentro de la subcuenca.\n",
    "# y calcula la precipitación media por Thiessen."
   ]
  }
 ],
 "metadata": {
  "kernelspec": {
   "display_name": "gv",
   "language": "python",
   "name": "python3"
  },
  "language_info": {
   "codemirror_mode": {
    "name": "ipython",
    "version": 3
   },
   "file_extension": ".py",
   "mimetype": "text/x-python",
   "name": "python",
   "nbconvert_exporter": "python",
   "pygments_lexer": "ipython3",
   "version": "3.9.9"
  },
  "orig_nbformat": 4
 },
 "nbformat": 4,
 "nbformat_minor": 2
}
