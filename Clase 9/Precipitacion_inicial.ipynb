{
 "cells": [
  {
   "cell_type": "code",
   "execution_count": 1,
   "metadata": {},
   "outputs": [],
   "source": [
    "# Cálculo de hietogramas y regresión lineal múltiple.\n",
    "\n",
    "import numpy as np\n",
    "import pandas as pd\n",
    "\n",
    "from scipy import spatial\n",
    "\n",
    "from matplotlib import pyplot as plt\n",
    "\n",
    "import geopandas as gpd\n",
    "import shapely as shp"
   ]
  },
  {
   "cell_type": "code",
   "execution_count": 2,
   "metadata": {},
   "outputs": [],
   "source": [
    "# Dirección de los datos.\n",
    "path = \"../Material/Clases/Clase 9/\"\n",
    "\n",
    "# Datos.\n",
    "villa = \"Estacion_VILLAHERMOSA__90_dias.csv\""
   ]
  },
  {
   "attachments": {},
   "cell_type": "markdown",
   "metadata": {},
   "source": [
    "# Hietogramas y curva masa."
   ]
  },
  {
   "attachments": {},
   "cell_type": "markdown",
   "metadata": {},
   "source": [
    "# Regresión lineal"
   ]
  },
  {
   "cell_type": "code",
   "execution_count": 10,
   "metadata": {},
   "outputs": [],
   "source": [
    "# Dirección de datos.\n",
    "path_y = path + \"YUCATAN/\"\n",
    "\n",
    "# Archivo con nombre de datos.\n",
    "file_n = \"ESTACIONES_YUCATAN.csv\""
   ]
  },
  {
   "cell_type": "code",
   "execution_count": null,
   "metadata": {},
   "outputs": [],
   "source": [
    "# Tarea.\n",
    "# Descarga la información de 90 días de alguna EMA en:\n",
    "# https://smn.conagua.gob.mx/tools/PHP/sivea_v2/sivea.php\n",
    "# 1. Obten la precipitación diaria con df.resample(\"D\").sum()\n",
    "# 2. a) Ubica un día que haya tenido una tormenta.\n",
    "#    b) Obtén el hietograma, la curva masa y la duración."
   ]
  }
 ],
 "metadata": {
  "kernelspec": {
   "display_name": "gv",
   "language": "python",
   "name": "python3"
  },
  "language_info": {
   "codemirror_mode": {
    "name": "ipython",
    "version": 3
   },
   "file_extension": ".py",
   "mimetype": "text/x-python",
   "name": "python",
   "nbconvert_exporter": "python",
   "pygments_lexer": "ipython3",
   "version": "3.9.9"
  },
  "orig_nbformat": 4
 },
 "nbformat": 4,
 "nbformat_minor": 2
}
