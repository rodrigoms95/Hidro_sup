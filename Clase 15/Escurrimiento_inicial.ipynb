{
 "cells": [
  {
   "cell_type": "code",
   "execution_count": 1,
   "metadata": {},
   "outputs": [],
   "source": [
    "# Cálculo de escurrimiento.\n",
    "\n",
    "import numpy as np\n",
    "import pandas as pd\n",
    "\n",
    "from matplotlib import pyplot as plt\n",
    "\n",
    "import geopandas as gpd\n",
    "\n",
    "from scipy import integrate"
   ]
  },
  {
   "cell_type": "code",
   "execution_count": 4,
   "metadata": {},
   "outputs": [],
   "source": [
    "# Dirección de los datos.\n",
    "path = \"../Material/Clase 15/\"\n",
    "\n",
    "# Datos hidrométricos.\n",
    "hidro_n = \"hd36080.csv\"\n",
    "# Contorno de las subcuencas.\n",
    "subc_n  = \"Zona_36080.shp\"\n",
    "# Ubicacion de la estación hidrométrica\n",
    "est_n   = \"Estacion_36080.shp\"\n",
    "\n",
    "# Cargamos los datos.\n",
    "hidro = pd.read_csv(path + hidro_n)\n",
    "subc  = gpd.read_file(path + subc_n)\n",
    "est   = gpd.read_file(path + est_n)"
   ]
  },
  {
   "cell_type": "code",
   "execution_count": null,
   "metadata": {},
   "outputs": [],
   "source": [
    "# Tarea clase 14.\n",
    "# 1. Para la tormenta estudiada en clase, calcula la precipitación en exceso\n",
    "# para los 4 casos que surgen de combinar los siguientes métodos y compara.\n",
    "# a) Punto D: tiempo de vaciado y gastos desplazados.\n",
    "# b) Gasto base: pendiente desde punto A a D y recta de punto A hasta\n",
    "# gasto pico seguida de pendiente hasta punto D.\n",
    "# 2. Encuentra alguna otra tormenta en el registro y calcula la precipitación\n",
    "# en exceso utilizando solo un método de los anteriores."
   ]
  }
 ],
 "metadata": {
  "kernelspec": {
   "display_name": "gv",
   "language": "python",
   "name": "python3"
  },
  "language_info": {
   "codemirror_mode": {
    "name": "ipython",
    "version": 3
   },
   "file_extension": ".py",
   "mimetype": "text/x-python",
   "name": "python",
   "nbconvert_exporter": "python",
   "pygments_lexer": "ipython3",
   "version": "3.9.9"
  },
  "orig_nbformat": 4
 },
 "nbformat": 4,
 "nbformat_minor": 2
}
