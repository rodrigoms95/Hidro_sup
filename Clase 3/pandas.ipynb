{
 "cells": [
  {
   "cell_type": "code",
   "execution_count": 2,
   "metadata": {},
   "outputs": [],
   "source": [
    "# Pandas es el Excel de python.\n",
    "# Obtenido de: https://pandas.pydata.org/docs/user_guide/10min.html\n",
    "\n",
    "import pandas as pd\n",
    "import numpy as np"
   ]
  },
  {
   "cell_type": "code",
   "execution_count": 3,
   "metadata": {},
   "outputs": [
    {
     "name": "stdout",
     "output_type": "stream",
     "text": [
      "0    1.0\n",
      "1    3.0\n",
      "2    5.0\n",
      "3    NaN\n",
      "4    6.0\n",
      "5    8.0\n",
      "dtype: float64\n"
     ]
    }
   ],
   "source": [
    "# Una columna en pandas se llama una serie\n",
    "# np.nan es un valor faltante\n",
    "# Cada elemento tiene un índice.\n",
    "\n",
    "s = pd.Series([1, 3, 5, np.nan, 6, 8])\n",
    "print(s)"
   ]
  },
  {
   "cell_type": "code",
   "execution_count": 4,
   "metadata": {},
   "outputs": [
    {
     "name": "stdout",
     "output_type": "stream",
     "text": [
      "DatetimeIndex(['2013-01-01', '2013-01-02', '2013-01-03', '2013-01-04',\n",
      "               '2013-01-05', '2013-01-06'],\n",
      "              dtype='datetime64[ns]', freq='D')\n"
     ]
    }
   ],
   "source": [
    "# El índice puede ser una fecha\n",
    "\n",
    "fechas = pd.date_range(\"20130101\", periods = 6, freq = \"D\")\n",
    "\n",
    "print(fechas)"
   ]
  },
  {
   "cell_type": "code",
   "execution_count": 5,
   "metadata": {},
   "outputs": [
    {
     "name": "stdout",
     "output_type": "stream",
     "text": [
      "2013-01-01    1.0\n",
      "2013-01-02    3.0\n",
      "2013-01-03    5.0\n",
      "2013-01-04    NaN\n",
      "2013-01-05    6.0\n",
      "2013-01-06    8.0\n",
      "Freq: D, Name: datos, dtype: float64\n"
     ]
    }
   ],
   "source": [
    "s = pd.Series([1, 3, 5, np.nan, 6, 8], index = fechas, name = \"datos\")\n",
    "\n",
    "print(s)"
   ]
  },
  {
   "cell_type": "code",
   "execution_count": 6,
   "metadata": {},
   "outputs": [
    {
     "name": "stdout",
     "output_type": "stream",
     "text": [
      "                   A         B         C         D\n",
      "2013-01-01 -0.849531 -1.218918 -0.782622  0.340801\n",
      "2013-01-02  0.900871  0.312723 -0.151387 -0.000137\n",
      "2013-01-03 -0.389075 -1.201781  0.320880  1.703846\n",
      "2013-01-04  0.275994 -0.308872 -1.123060 -0.235346\n",
      "2013-01-05 -0.706344 -1.444777 -2.783718 -0.068565\n",
      "2013-01-06 -1.565061  1.288668  1.714380 -0.865340\n"
     ]
    }
   ],
   "source": [
    "# Un dataframe es un conjunto de columnas.\n",
    "\n",
    "# creado a partir de series.\n",
    "df = pd.DataFrame( np.random.randn(6, 4), index = fechas,\n",
    "    columns = [\"A\", \"B\", \"C\", \"D\"] )\n",
    "\n",
    "print(df)"
   ]
  },
  {
   "cell_type": "code",
   "execution_count": 7,
   "metadata": {},
   "outputs": [
    {
     "name": "stdout",
     "output_type": "stream",
     "text": [
      "                   A         B         C         D\n",
      "2013-01-01 -0.849531 -1.218918 -0.782622  0.340801\n",
      "2013-01-02  0.900871  0.312723 -0.151387 -0.000137\n",
      "2013-01-03 -0.389075 -1.201781  0.320880  1.703846\n",
      "2013-01-04  0.275994 -0.308872 -1.123060 -0.235346\n",
      "2013-01-05 -0.706344 -1.444777 -2.783718 -0.068565\n",
      "                   A         B         C         D\n",
      "2013-01-02  0.900871  0.312723 -0.151387 -0.000137\n",
      "2013-01-03 -0.389075 -1.201781  0.320880  1.703846\n",
      "2013-01-04  0.275994 -0.308872 -1.123060 -0.235346\n",
      "2013-01-05 -0.706344 -1.444777 -2.783718 -0.068565\n",
      "2013-01-06 -1.565061  1.288668  1.714380 -0.865340\n"
     ]
    }
   ],
   "source": [
    "# head() y tail() muestran la parte \n",
    "# superior e inferior del Dataframe.\n",
    "\n",
    "print(df.head())\n",
    "print(df.tail())"
   ]
  },
  {
   "cell_type": "code",
   "execution_count": 8,
   "metadata": {},
   "outputs": [
    {
     "name": "stdout",
     "output_type": "stream",
     "text": [
      "DatetimeIndex(['2013-01-01', '2013-01-02', '2013-01-03', '2013-01-04',\n",
      "               '2013-01-05', '2013-01-06'],\n",
      "              dtype='datetime64[ns]', freq='D')\n",
      "Index(['A', 'B', 'C', 'D'], dtype='object')\n"
     ]
    }
   ],
   "source": [
    "# Podemos acceder al índice y las columnas.\n",
    "\n",
    "print(df.index)\n",
    "print(df.columns)"
   ]
  },
  {
   "cell_type": "code",
   "execution_count": 9,
   "metadata": {},
   "outputs": [
    {
     "name": "stdout",
     "output_type": "stream",
     "text": [
      "   2013-01-01  2013-01-02  2013-01-03  2013-01-04  2013-01-05  2013-01-06\n",
      "A   -0.849531    0.900871   -0.389075    0.275994   -0.706344   -1.565061\n",
      "B   -1.218918    0.312723   -1.201781   -0.308872   -1.444777    1.288668\n",
      "C   -0.782622   -0.151387    0.320880   -1.123060   -2.783718    1.714380\n",
      "D    0.340801   -0.000137    1.703846   -0.235346   -0.068565   -0.865340\n"
     ]
    }
   ],
   "source": [
    "# Trasponer.\n",
    "\n",
    "print(df.T)"
   ]
  },
  {
   "cell_type": "code",
   "execution_count": 10,
   "metadata": {},
   "outputs": [
    {
     "name": "stdout",
     "output_type": "stream",
     "text": [
      "[[-8.49530715e-01 -1.21891776e+00 -7.82622448e-01  3.40800951e-01]\n",
      " [ 9.00871372e-01  3.12722775e-01 -1.51387499e-01 -1.36875919e-04]\n",
      " [-3.89075337e-01 -1.20178059e+00  3.20879696e-01  1.70384634e+00]\n",
      " [ 2.75993670e-01 -3.08871628e-01 -1.12305956e+00 -2.35345679e-01]\n",
      " [-7.06344377e-01 -1.44477676e+00 -2.78371839e+00 -6.85648204e-02]\n",
      " [-1.56506137e+00  1.28866829e+00  1.71437970e+00 -8.65340440e-01]]\n"
     ]
    }
   ],
   "source": [
    "# Convertir a un arreglo de numpy.\n",
    "\n",
    "print( df.to_numpy() )"
   ]
  },
  {
   "cell_type": "code",
   "execution_count": 11,
   "metadata": {},
   "outputs": [
    {
     "name": "stdout",
     "output_type": "stream",
     "text": [
      "              A         B         C         D\n",
      "count  6.000000  6.000000  6.000000  6.000000\n",
      "mean  -0.388858 -0.428826 -0.467588  0.145877\n",
      "std    0.871998  1.074051  1.508376  0.860286\n",
      "min   -1.565061 -1.444777 -2.783718 -0.865340\n",
      "25%   -0.813734 -1.214633 -1.037950 -0.193650\n",
      "50%   -0.547710 -0.755326 -0.467005 -0.034351\n",
      "75%    0.109726  0.157324  0.202813  0.255566\n",
      "max    0.900871  1.288668  1.714380  1.703846\n"
     ]
    }
   ],
   "source": [
    "# Estadística descriptiva.\n",
    "\n",
    "print( df.describe() )"
   ]
  },
  {
   "cell_type": "code",
   "execution_count": 12,
   "metadata": {},
   "outputs": [
    {
     "name": "stdout",
     "output_type": "stream",
     "text": [
      "                   A         B         C         D\n",
      "2013-01-06 -1.565061  1.288668  1.714380 -0.865340\n",
      "2013-01-05 -0.706344 -1.444777 -2.783718 -0.068565\n",
      "2013-01-04  0.275994 -0.308872 -1.123060 -0.235346\n",
      "2013-01-03 -0.389075 -1.201781  0.320880  1.703846\n",
      "2013-01-02  0.900871  0.312723 -0.151387 -0.000137\n",
      "2013-01-01 -0.849531 -1.218918 -0.782622  0.340801\n"
     ]
    }
   ],
   "source": [
    "# Ordenar datos.\n",
    "\n",
    "# Por índice.\n",
    "\n",
    "print( df.sort_index(ascending = False) )"
   ]
  },
  {
   "cell_type": "code",
   "execution_count": 13,
   "metadata": {},
   "outputs": [
    {
     "name": "stdout",
     "output_type": "stream",
     "text": [
      "                   A         B         C         D\n",
      "2013-01-05 -0.706344 -1.444777 -2.783718 -0.068565\n",
      "2013-01-01 -0.849531 -1.218918 -0.782622  0.340801\n",
      "2013-01-03 -0.389075 -1.201781  0.320880  1.703846\n",
      "2013-01-04  0.275994 -0.308872 -1.123060 -0.235346\n",
      "2013-01-02  0.900871  0.312723 -0.151387 -0.000137\n",
      "2013-01-06 -1.565061  1.288668  1.714380 -0.865340\n"
     ]
    }
   ],
   "source": [
    "# Por columna.\n",
    "print( df.sort_values(by = \"B\") )"
   ]
  },
  {
   "cell_type": "code",
   "execution_count": 14,
   "metadata": {},
   "outputs": [
    {
     "name": "stdout",
     "output_type": "stream",
     "text": [
      "2013-01-01   -0.849531\n",
      "2013-01-02    0.900871\n",
      "2013-01-03   -0.389075\n",
      "2013-01-04    0.275994\n",
      "2013-01-05   -0.706344\n",
      "2013-01-06   -1.565061\n",
      "Freq: D, Name: A, dtype: float64\n"
     ]
    }
   ],
   "source": [
    "# Escoger una columna.\n",
    "\n",
    "print( df[\"A\"] )"
   ]
  },
  {
   "cell_type": "code",
   "execution_count": 15,
   "metadata": {},
   "outputs": [
    {
     "name": "stdout",
     "output_type": "stream",
     "text": [
      "A   -0.849531\n",
      "B   -1.218918\n",
      "C   -0.782622\n",
      "D    0.340801\n",
      "Name: 2013-01-01 00:00:00, dtype: float64\n"
     ]
    }
   ],
   "source": [
    "# Escoger una fila.\n",
    "\n",
    "print( df.loc[df.index[0]] )"
   ]
  },
  {
   "cell_type": "code",
   "execution_count": 16,
   "metadata": {},
   "outputs": [
    {
     "name": "stdout",
     "output_type": "stream",
     "text": [
      "A   -0.849531\n",
      "B   -1.218918\n",
      "C   -0.782622\n",
      "D    0.340801\n",
      "Name: 2013-01-01 00:00:00, dtype: float64\n"
     ]
    }
   ],
   "source": [
    "# Escoger por número de fila.\n",
    "\n",
    "print( df.iloc[0] )"
   ]
  },
  {
   "cell_type": "code",
   "execution_count": 17,
   "metadata": {},
   "outputs": [
    {
     "name": "stdout",
     "output_type": "stream",
     "text": [
      "-1.2017805855427672\n"
     ]
    }
   ],
   "source": [
    "# Escoger por fila y columna.\n",
    "\n",
    "print( df.loc[df.index[2], \"B\"] )"
   ]
  },
  {
   "cell_type": "code",
   "execution_count": 18,
   "metadata": {},
   "outputs": [
    {
     "name": "stdout",
     "output_type": "stream",
     "text": [
      "-1.2017805855427672\n"
     ]
    }
   ],
   "source": [
    "# Escoger por número de fila y columna.\n",
    "\n",
    "print( df.iloc[2, 1] )"
   ]
  },
  {
   "cell_type": "code",
   "execution_count": 19,
   "metadata": {},
   "outputs": [
    {
     "name": "stdout",
     "output_type": "stream",
     "text": [
      "                   B        C\n",
      "2013-01-03 -1.201781  0.32088\n",
      "2013-01-04 -0.308872 -1.12306\n"
     ]
    }
   ],
   "source": [
    "# Escoger una subsección del dataframe.\n",
    "\n",
    "df_2 = df.iloc[2:4, 1:3]\n",
    "print( df_2 )"
   ]
  },
  {
   "cell_type": "code",
   "execution_count": 20,
   "metadata": {},
   "outputs": [
    {
     "name": "stdout",
     "output_type": "stream",
     "text": [
      "                   A         B        C         D\n",
      "2013-01-03 -0.389075 -1.201781  0.32088  1.703846\n",
      "2013-01-04  0.275994 -0.308872 -1.12306 -0.235346\n"
     ]
    }
   ],
   "source": [
    "df_2 = df.iloc[2:4, :]\n",
    "print( df_2 )\n",
    "\n",
    "# Las copias y vistas funcionan igual que en numpy!!"
   ]
  },
  {
   "cell_type": "code",
   "execution_count": 21,
   "metadata": {},
   "outputs": [
    {
     "name": "stdout",
     "output_type": "stream",
     "text": [
      "                   A         B         C         D\n",
      "2013-01-02  0.900871  0.312723 -0.151387 -0.000137\n",
      "2013-01-04  0.275994 -0.308872 -1.123060 -0.235346\n"
     ]
    }
   ],
   "source": [
    "# Búsqueda por condiciones.\n",
    "\n",
    "# En una columna.\n",
    "print( df[df[\"A\"] > 0] )"
   ]
  },
  {
   "cell_type": "code",
   "execution_count": 22,
   "metadata": {},
   "outputs": [
    {
     "name": "stdout",
     "output_type": "stream",
     "text": [
      "                   A         B        C         D\n",
      "2013-01-01       NaN       NaN      NaN  0.340801\n",
      "2013-01-02  0.900871  0.312723      NaN       NaN\n",
      "2013-01-03       NaN       NaN  0.32088  1.703846\n",
      "2013-01-04  0.275994       NaN      NaN       NaN\n",
      "2013-01-05       NaN       NaN      NaN       NaN\n",
      "2013-01-06       NaN  1.288668  1.71438       NaN\n"
     ]
    }
   ],
   "source": [
    "# En todo el dataframe.\n",
    "\n",
    "print( df[df>0] )"
   ]
  },
  {
   "cell_type": "code",
   "execution_count": 23,
   "metadata": {},
   "outputs": [
    {
     "name": "stdout",
     "output_type": "stream",
     "text": [
      "                   A         B         C         D       E\n",
      "2013-01-01 -0.849531 -1.218918 -0.782622  0.340801     uno\n",
      "2013-01-02  0.900871  0.312723 -0.151387 -0.000137     uno\n",
      "2013-01-03 -0.389075 -1.201781  0.320880  1.703846     dos\n",
      "2013-01-04  0.275994 -0.308872 -1.123060 -0.235346    tres\n",
      "2013-01-05 -0.706344 -1.444777 -2.783718 -0.068565  cuatro\n",
      "2013-01-06 -1.565061  1.288668  1.714380 -0.865340    tres\n"
     ]
    }
   ],
   "source": [
    "# Agregar columnas.\n",
    "# Todos los elementos de una columna son del mismo tipo.\n",
    "# Las columnas pueden tener distintos tipos.\n",
    "\n",
    "df[\"E\"] = [\"uno\", \"uno\", \"dos\", \"tres\", \"cuatro\", \"tres\"]\n",
    "\n",
    "print(df)"
   ]
  },
  {
   "cell_type": "code",
   "execution_count": 24,
   "metadata": {},
   "outputs": [
    {
     "name": "stdout",
     "output_type": "stream",
     "text": [
      "                   A         B         C         D       E    F\n",
      "2013-01-01 -0.849531 -1.218918 -0.782622  0.340801     uno  1.0\n",
      "2013-01-02  0.900871  0.312723 -0.151387 -0.000137     uno  1.8\n",
      "2013-01-03 -0.389075 -1.201781  0.320880  1.703846     dos  2.6\n",
      "2013-01-04  0.275994 -0.308872 -1.123060 -0.235346    tres  3.4\n",
      "2013-01-05 -0.706344 -1.444777 -2.783718 -0.068565  cuatro  4.2\n"
     ]
    }
   ],
   "source": [
    "# Nueva columna con arreglos.\n",
    "\n",
    "df[\"F\"] = np.linspace(1, 5, 6)\n",
    "print(df.head())"
   ]
  },
  {
   "cell_type": "code",
   "execution_count": 25,
   "metadata": {},
   "outputs": [
    {
     "name": "stdout",
     "output_type": "stream",
     "text": [
      "                   A         B         C         D       E    F\n",
      "2013-01-03 -0.389075 -1.201781  0.320880  1.703846     dos  2.6\n",
      "2013-01-05 -0.706344 -1.444777 -2.783718 -0.068565  cuatro  4.2\n"
     ]
    }
   ],
   "source": [
    "# Buscar valores específicos con isin()\n",
    "\n",
    "print( df[df[\"E\"].isin([\"dos\", \"cuatro\"])] )"
   ]
  },
  {
   "cell_type": "code",
   "execution_count": 26,
   "metadata": {},
   "outputs": [
    {
     "name": "stdout",
     "output_type": "stream",
     "text": [
      "                   A          B         C         D       E    F\n",
      "2013-01-01 -0.849531  10.000000 -0.782622  0.340801     uno  1.0\n",
      "2013-01-02  0.900871   0.312723 -0.151387 -0.000137     uno  1.8\n",
      "2013-01-03 -0.389075  -1.201781  0.320880  1.703846     dos  2.6\n",
      "2013-01-04  0.275994  -0.308872 -1.123060 -0.235346    tres  3.4\n",
      "2013-01-05 -0.706344  -1.444777 -2.783718 -0.068565  cuatro  4.2\n",
      "2013-01-06 -1.565061   1.288668  1.714380 -0.865340    tres  5.0\n"
     ]
    }
   ],
   "source": [
    "# Podemos cambiar un valor específico.\n",
    "\n",
    "df.iloc[0, 1] = 10\n",
    "print(df)"
   ]
  },
  {
   "cell_type": "code",
   "execution_count": 27,
   "metadata": {},
   "outputs": [
    {
     "name": "stdout",
     "output_type": "stream",
     "text": [
      "                   A          B         C         D    F\n",
      "2013-01-01 -0.849531  10.000000 -0.782622  0.340801  1.0\n",
      "2013-01-02  0.900871   0.312723 -0.151387 -0.000137  1.8\n",
      "2013-01-03 -0.389075  -1.201781  0.320880  1.703846  2.6\n",
      "2013-01-04  0.275994  -0.308872 -1.123060 -0.235346  3.4\n",
      "2013-01-05 -0.706344  -1.444777 -2.783718 -0.068565  4.2\n",
      "2013-01-06 -1.565061   1.288668  1.714380 -0.865340  5.0\n"
     ]
    }
   ],
   "source": [
    "# Quitar columna.\n",
    "\n",
    "df = df.drop(\"E\", axis = 1)\n",
    "print(df)"
   ]
  },
  {
   "cell_type": "code",
   "execution_count": 28,
   "metadata": {},
   "outputs": [
    {
     "name": "stdout",
     "output_type": "stream",
     "text": [
      "                   A          B        C         D    F\n",
      "2013-01-01  0.000000  10.000000  0.00000  0.340801  1.0\n",
      "2013-01-02  0.900871   0.312723  0.00000  0.000000  1.8\n",
      "2013-01-03  0.000000   0.000000  0.32088  1.703846  2.6\n",
      "2013-01-04  0.275994   0.000000  0.00000  0.000000  3.4\n",
      "2013-01-05  0.000000   0.000000  0.00000  0.000000  4.2\n",
      "2013-01-06  0.000000   1.288668  1.71438  0.000000  5.0\n"
     ]
    }
   ],
   "source": [
    "# Establecer valores con condicional.\n",
    "\n",
    "df[df<0] = 0\n",
    "print(df)"
   ]
  },
  {
   "cell_type": "code",
   "execution_count": 29,
   "metadata": {},
   "outputs": [
    {
     "name": "stdout",
     "output_type": "stream",
     "text": [
      "                   A         B        C         D    F\n",
      "2013-01-01  0.000000       NaN  0.00000  0.340801  1.0\n",
      "2013-01-02  0.900871  0.312723  0.00000  0.000000  1.8\n",
      "2013-01-03  0.000000  0.000000  0.32088  1.703846  NaN\n",
      "2013-01-04  0.275994  0.000000  0.00000  0.000000  NaN\n",
      "2013-01-05  0.000000  0.000000  0.00000  0.000000  NaN\n",
      "2013-01-06  0.000000  1.288668  1.71438  0.000000  NaN\n"
     ]
    }
   ],
   "source": [
    "# Agregamos algunos valores nulos.\n",
    "\n",
    "df[df>2] = np.nan\n",
    "print(df)"
   ]
  },
  {
   "cell_type": "code",
   "execution_count": 30,
   "metadata": {},
   "outputs": [
    {
     "name": "stdout",
     "output_type": "stream",
     "text": [
      "                   A         B    C    D    F\n",
      "2013-01-02  0.900871  0.312723  0.0  0.0  1.8\n",
      "                   A           B        C         D      F\n",
      "2013-01-01  0.000000 -100.000000  0.00000  0.340801    1.0\n",
      "2013-01-02  0.900871    0.312723  0.00000  0.000000    1.8\n",
      "2013-01-03  0.000000    0.000000  0.32088  1.703846 -100.0\n",
      "2013-01-04  0.275994    0.000000  0.00000  0.000000 -100.0\n",
      "2013-01-05  0.000000    0.000000  0.00000  0.000000 -100.0\n",
      "2013-01-06  0.000000    1.288668  1.71438  0.000000 -100.0\n",
      "                A      B      C      D      F\n",
      "2013-01-01  False   True  False  False  False\n",
      "2013-01-02  False  False  False  False  False\n",
      "2013-01-03  False  False  False  False   True\n",
      "2013-01-04  False  False  False  False   True\n",
      "2013-01-05  False  False  False  False   True\n",
      "2013-01-06  False  False  False  False   True\n"
     ]
    }
   ],
   "source": [
    "# Quitar filas con valores nulos.\n",
    "print(df.dropna())\n",
    "\n",
    "# Rellenar valores nulos.\n",
    "print(df.fillna(-100))\n",
    "\n",
    "# Determinar valores nulos.\n",
    "print(df.isna())"
   ]
  },
  {
   "cell_type": "code",
   "execution_count": 31,
   "metadata": {},
   "outputs": [
    {
     "name": "stdout",
     "output_type": "stream",
     "text": [
      "                   A         B        C         D    F         G\n",
      "2013-01-01  0.000000       NaN  0.00000  0.340801  1.0  0.000000\n",
      "2013-01-02  0.900871  0.312723  0.00000  0.000000  1.8  0.900871\n",
      "2013-01-03  0.000000  0.000000  0.32088  1.703846  NaN  0.320880\n",
      "2013-01-04  0.275994  0.000000  0.00000  0.000000  NaN  0.275994\n",
      "2013-01-05  0.000000  0.000000  0.00000  0.000000  NaN  0.000000\n",
      "2013-01-06  0.000000  1.288668  1.71438  0.000000  NaN  1.714380\n",
      "A    0.196144\n",
      "B    0.320278\n",
      "C    0.339210\n",
      "D    0.340775\n",
      "F    1.400000\n",
      "G    0.535354\n",
      "dtype: float64\n",
      "2013-01-01    0.268160\n",
      "2013-01-02    0.652411\n",
      "2013-01-03    0.469121\n",
      "2013-01-04    0.110397\n",
      "2013-01-05    0.000000\n",
      "2013-01-06    0.943486\n",
      "Freq: D, dtype: float64\n"
     ]
    }
   ],
   "source": [
    "# operaciones.\n",
    "\n",
    "# Entre columnas.\n",
    "df[\"G\"] = df[\"A\"] + df[\"C\"]\n",
    "\n",
    "print(df)\n",
    "\n",
    "# promedio\n",
    "print(df.mean())\n",
    "print(df.mean(1))"
   ]
  },
  {
   "cell_type": "code",
   "execution_count": 32,
   "metadata": {},
   "outputs": [
    {
     "data": {
      "text/html": [
       "<div>\n",
       "<style scoped>\n",
       "    .dataframe tbody tr th:only-of-type {\n",
       "        vertical-align: middle;\n",
       "    }\n",
       "\n",
       "    .dataframe tbody tr th {\n",
       "        vertical-align: top;\n",
       "    }\n",
       "\n",
       "    .dataframe thead th {\n",
       "        text-align: right;\n",
       "    }\n",
       "</style>\n",
       "<table border=\"1\" class=\"dataframe\">\n",
       "  <thead>\n",
       "    <tr style=\"text-align: right;\">\n",
       "      <th></th>\n",
       "      <th>A</th>\n",
       "      <th>B</th>\n",
       "      <th>C</th>\n",
       "      <th>D</th>\n",
       "      <th>F</th>\n",
       "      <th>G</th>\n",
       "    </tr>\n",
       "  </thead>\n",
       "  <tbody>\n",
       "    <tr>\n",
       "      <th>2013-01-01</th>\n",
       "      <td>0.000000</td>\n",
       "      <td>NaN</td>\n",
       "      <td>0.000000</td>\n",
       "      <td>0.340801</td>\n",
       "      <td>1.0</td>\n",
       "      <td>0.000000</td>\n",
       "    </tr>\n",
       "    <tr>\n",
       "      <th>2013-01-02</th>\n",
       "      <td>0.900871</td>\n",
       "      <td>0.312723</td>\n",
       "      <td>0.000000</td>\n",
       "      <td>0.340801</td>\n",
       "      <td>2.8</td>\n",
       "      <td>0.900871</td>\n",
       "    </tr>\n",
       "    <tr>\n",
       "      <th>2013-01-03</th>\n",
       "      <td>0.900871</td>\n",
       "      <td>0.312723</td>\n",
       "      <td>0.320880</td>\n",
       "      <td>2.044647</td>\n",
       "      <td>NaN</td>\n",
       "      <td>1.221751</td>\n",
       "    </tr>\n",
       "    <tr>\n",
       "      <th>2013-01-04</th>\n",
       "      <td>1.176865</td>\n",
       "      <td>0.312723</td>\n",
       "      <td>0.320880</td>\n",
       "      <td>2.044647</td>\n",
       "      <td>NaN</td>\n",
       "      <td>1.497745</td>\n",
       "    </tr>\n",
       "    <tr>\n",
       "      <th>2013-01-05</th>\n",
       "      <td>1.176865</td>\n",
       "      <td>0.312723</td>\n",
       "      <td>0.320880</td>\n",
       "      <td>2.044647</td>\n",
       "      <td>NaN</td>\n",
       "      <td>1.497745</td>\n",
       "    </tr>\n",
       "    <tr>\n",
       "      <th>2013-01-06</th>\n",
       "      <td>1.176865</td>\n",
       "      <td>1.601391</td>\n",
       "      <td>2.035259</td>\n",
       "      <td>2.044647</td>\n",
       "      <td>NaN</td>\n",
       "      <td>3.212124</td>\n",
       "    </tr>\n",
       "  </tbody>\n",
       "</table>\n",
       "</div>"
      ],
      "text/plain": [
       "                   A         B         C         D    F         G\n",
       "2013-01-01  0.000000       NaN  0.000000  0.340801  1.0  0.000000\n",
       "2013-01-02  0.900871  0.312723  0.000000  0.340801  2.8  0.900871\n",
       "2013-01-03  0.900871  0.312723  0.320880  2.044647  NaN  1.221751\n",
       "2013-01-04  1.176865  0.312723  0.320880  2.044647  NaN  1.497745\n",
       "2013-01-05  1.176865  0.312723  0.320880  2.044647  NaN  1.497745\n",
       "2013-01-06  1.176865  1.601391  2.035259  2.044647  NaN  3.212124"
      ]
     },
     "execution_count": 32,
     "metadata": {},
     "output_type": "execute_result"
    }
   ],
   "source": [
    "# Aplicar operación.\n",
    "# np.cumsum() hace una suma acumulada.\n",
    "df.apply(np.cumsum)"
   ]
  },
  {
   "cell_type": "code",
   "execution_count": 33,
   "metadata": {},
   "outputs": [
    {
     "name": "stdout",
     "output_type": "stream",
     "text": [
      "0    1\n",
      "1    1\n",
      "2    4\n",
      "3    5\n",
      "4    5\n",
      "5    1\n",
      "6    1\n",
      "7    0\n",
      "8    0\n",
      "9    6\n",
      "dtype: int64\n"
     ]
    }
   ],
   "source": [
    "# Se puede obtener un histograma.\n",
    "\n",
    "s = pd.Series(np.random.randint(0, 7, size = 10))\n",
    "print (s)\n"
   ]
  },
  {
   "cell_type": "code",
   "execution_count": 34,
   "metadata": {},
   "outputs": [
    {
     "name": "stdout",
     "output_type": "stream",
     "text": [
      "1    4\n",
      "5    2\n",
      "0    2\n",
      "4    1\n",
      "6    1\n",
      "dtype: int64\n"
     ]
    }
   ],
   "source": [
    "print(s.value_counts())"
   ]
  },
  {
   "cell_type": "code",
   "execution_count": 35,
   "metadata": {},
   "outputs": [
    {
     "name": "stdout",
     "output_type": "stream",
     "text": [
      "                   A         B         C         D\n",
      "2013-01-01  0.708496  0.769959 -0.267129 -1.360763\n",
      "2013-01-02  0.783382  0.295696 -0.085690  0.429883\n",
      "2013-01-03  0.590373  0.420901 -0.595486 -1.002284\n",
      "2013-01-04  0.519364  0.585781  1.501747 -0.619531\n",
      "2013-01-05 -0.217893 -0.769042 -0.331876  1.173758\n",
      "...              ...       ...       ...       ...\n",
      "2013-07-15  0.194318 -1.387961 -0.360975 -1.589907\n",
      "2013-07-16 -0.300580  0.405295  0.755332  0.723973\n",
      "2013-07-17 -1.414695  0.646161 -1.631316 -0.551761\n",
      "2013-07-18 -0.100474  1.121226 -1.011722 -0.745656\n",
      "2013-07-19 -0.093251  0.169300 -1.333324 -0.295179\n",
      "\n",
      "[200 rows x 4 columns]\n"
     ]
    }
   ],
   "source": [
    "# Agrupar datos\n",
    "\n",
    "fechas = pd.date_range(\"20130101\", periods = 200, freq = \"D\")\n",
    "df = pd.DataFrame( np.random.randn(200, 4), index = fechas,\n",
    "    columns = [\"A\", \"B\", \"C\", \"D\"] )\n",
    "\n",
    "print(df)"
   ]
  },
  {
   "cell_type": "code",
   "execution_count": 36,
   "metadata": {},
   "outputs": [
    {
     "data": {
      "text/html": [
       "<div>\n",
       "<style scoped>\n",
       "    .dataframe tbody tr th:only-of-type {\n",
       "        vertical-align: middle;\n",
       "    }\n",
       "\n",
       "    .dataframe tbody tr th {\n",
       "        vertical-align: top;\n",
       "    }\n",
       "\n",
       "    .dataframe thead th {\n",
       "        text-align: right;\n",
       "    }\n",
       "</style>\n",
       "<table border=\"1\" class=\"dataframe\">\n",
       "  <thead>\n",
       "    <tr style=\"text-align: right;\">\n",
       "      <th></th>\n",
       "      <th>A</th>\n",
       "      <th>B</th>\n",
       "      <th>C</th>\n",
       "      <th>D</th>\n",
       "    </tr>\n",
       "  </thead>\n",
       "  <tbody>\n",
       "    <tr>\n",
       "      <th>1</th>\n",
       "      <td>3.829662</td>\n",
       "      <td>-1.909864</td>\n",
       "      <td>7.531364</td>\n",
       "      <td>-7.410341</td>\n",
       "    </tr>\n",
       "    <tr>\n",
       "      <th>2</th>\n",
       "      <td>2.445226</td>\n",
       "      <td>-3.605350</td>\n",
       "      <td>-3.073325</td>\n",
       "      <td>7.861396</td>\n",
       "    </tr>\n",
       "    <tr>\n",
       "      <th>3</th>\n",
       "      <td>2.303539</td>\n",
       "      <td>-7.676941</td>\n",
       "      <td>4.281950</td>\n",
       "      <td>4.680042</td>\n",
       "    </tr>\n",
       "    <tr>\n",
       "      <th>4</th>\n",
       "      <td>-3.803042</td>\n",
       "      <td>1.923270</td>\n",
       "      <td>-0.754348</td>\n",
       "      <td>-3.807958</td>\n",
       "    </tr>\n",
       "    <tr>\n",
       "      <th>5</th>\n",
       "      <td>1.658795</td>\n",
       "      <td>-6.067036</td>\n",
       "      <td>6.651172</td>\n",
       "      <td>-1.002043</td>\n",
       "    </tr>\n",
       "    <tr>\n",
       "      <th>6</th>\n",
       "      <td>0.627518</td>\n",
       "      <td>3.087443</td>\n",
       "      <td>-3.335207</td>\n",
       "      <td>-7.023783</td>\n",
       "    </tr>\n",
       "    <tr>\n",
       "      <th>7</th>\n",
       "      <td>-3.248636</td>\n",
       "      <td>0.928429</td>\n",
       "      <td>-5.516293</td>\n",
       "      <td>-4.706233</td>\n",
       "    </tr>\n",
       "  </tbody>\n",
       "</table>\n",
       "</div>"
      ],
      "text/plain": [
       "          A         B         C         D\n",
       "1  3.829662 -1.909864  7.531364 -7.410341\n",
       "2  2.445226 -3.605350 -3.073325  7.861396\n",
       "3  2.303539 -7.676941  4.281950  4.680042\n",
       "4 -3.803042  1.923270 -0.754348 -3.807958\n",
       "5  1.658795 -6.067036  6.651172 -1.002043\n",
       "6  0.627518  3.087443 -3.335207 -7.023783\n",
       "7 -3.248636  0.928429 -5.516293 -4.706233"
      ]
     },
     "execution_count": 36,
     "metadata": {},
     "output_type": "execute_result"
    }
   ],
   "source": [
    "# Agrupamos y realizamos una operación.\n",
    "df.groupby(df.index.month).sum()"
   ]
  },
  {
   "cell_type": "code",
   "execution_count": 37,
   "metadata": {},
   "outputs": [
    {
     "data": {
      "text/html": [
       "<div>\n",
       "<style scoped>\n",
       "    .dataframe tbody tr th:only-of-type {\n",
       "        vertical-align: middle;\n",
       "    }\n",
       "\n",
       "    .dataframe tbody tr th {\n",
       "        vertical-align: top;\n",
       "    }\n",
       "\n",
       "    .dataframe thead th {\n",
       "        text-align: right;\n",
       "    }\n",
       "</style>\n",
       "<table border=\"1\" class=\"dataframe\">\n",
       "  <thead>\n",
       "    <tr style=\"text-align: right;\">\n",
       "      <th></th>\n",
       "      <th>A</th>\n",
       "      <th>B</th>\n",
       "      <th>C</th>\n",
       "      <th>D</th>\n",
       "    </tr>\n",
       "  </thead>\n",
       "  <tbody>\n",
       "    <tr>\n",
       "      <th>1</th>\n",
       "      <td>0.062025</td>\n",
       "      <td>-0.810052</td>\n",
       "      <td>0.036109</td>\n",
       "      <td>-0.787425</td>\n",
       "    </tr>\n",
       "    <tr>\n",
       "      <th>2</th>\n",
       "      <td>0.090926</td>\n",
       "      <td>-0.328685</td>\n",
       "      <td>-0.132170</td>\n",
       "      <td>-0.057975</td>\n",
       "    </tr>\n",
       "    <tr>\n",
       "      <th>3</th>\n",
       "      <td>0.414145</td>\n",
       "      <td>0.190042</td>\n",
       "      <td>-0.250442</td>\n",
       "      <td>-0.244959</td>\n",
       "    </tr>\n",
       "    <tr>\n",
       "      <th>4</th>\n",
       "      <td>0.444868</td>\n",
       "      <td>0.069236</td>\n",
       "      <td>0.408478</td>\n",
       "      <td>-0.317428</td>\n",
       "    </tr>\n",
       "    <tr>\n",
       "      <th>5</th>\n",
       "      <td>-0.523164</td>\n",
       "      <td>-0.091200</td>\n",
       "      <td>-0.537080</td>\n",
       "      <td>0.323205</td>\n",
       "    </tr>\n",
       "    <tr>\n",
       "      <th>6</th>\n",
       "      <td>0.127317</td>\n",
       "      <td>-0.874091</td>\n",
       "      <td>-0.199101</td>\n",
       "      <td>0.155689</td>\n",
       "    </tr>\n",
       "    <tr>\n",
       "      <th>7</th>\n",
       "      <td>-0.033239</td>\n",
       "      <td>0.096372</td>\n",
       "      <td>0.232898</td>\n",
       "      <td>0.431500</td>\n",
       "    </tr>\n",
       "    <tr>\n",
       "      <th>8</th>\n",
       "      <td>0.056326</td>\n",
       "      <td>-0.313328</td>\n",
       "      <td>0.342732</td>\n",
       "      <td>0.318079</td>\n",
       "    </tr>\n",
       "    <tr>\n",
       "      <th>9</th>\n",
       "      <td>0.193156</td>\n",
       "      <td>0.502172</td>\n",
       "      <td>-0.252693</td>\n",
       "      <td>-0.265346</td>\n",
       "    </tr>\n",
       "    <tr>\n",
       "      <th>10</th>\n",
       "      <td>0.201453</td>\n",
       "      <td>-0.465677</td>\n",
       "      <td>-0.028036</td>\n",
       "      <td>0.364933</td>\n",
       "    </tr>\n",
       "    <tr>\n",
       "      <th>11</th>\n",
       "      <td>0.719457</td>\n",
       "      <td>0.326944</td>\n",
       "      <td>0.904631</td>\n",
       "      <td>-0.170234</td>\n",
       "    </tr>\n",
       "    <tr>\n",
       "      <th>12</th>\n",
       "      <td>0.277333</td>\n",
       "      <td>-0.209263</td>\n",
       "      <td>0.324530</td>\n",
       "      <td>-0.025674</td>\n",
       "    </tr>\n",
       "    <tr>\n",
       "      <th>13</th>\n",
       "      <td>0.184191</td>\n",
       "      <td>-0.172615</td>\n",
       "      <td>-0.328283</td>\n",
       "      <td>-0.328986</td>\n",
       "    </tr>\n",
       "    <tr>\n",
       "      <th>14</th>\n",
       "      <td>-0.198691</td>\n",
       "      <td>-0.156398</td>\n",
       "      <td>-0.541972</td>\n",
       "      <td>0.069186</td>\n",
       "    </tr>\n",
       "    <tr>\n",
       "      <th>15</th>\n",
       "      <td>-0.010199</td>\n",
       "      <td>-0.066012</td>\n",
       "      <td>0.339479</td>\n",
       "      <td>-0.047334</td>\n",
       "    </tr>\n",
       "    <tr>\n",
       "      <th>16</th>\n",
       "      <td>-0.025731</td>\n",
       "      <td>0.050413</td>\n",
       "      <td>0.197048</td>\n",
       "      <td>0.036802</td>\n",
       "    </tr>\n",
       "    <tr>\n",
       "      <th>17</th>\n",
       "      <td>0.288246</td>\n",
       "      <td>0.367730</td>\n",
       "      <td>-0.294341</td>\n",
       "      <td>-0.161450</td>\n",
       "    </tr>\n",
       "    <tr>\n",
       "      <th>18</th>\n",
       "      <td>-0.051517</td>\n",
       "      <td>0.343023</td>\n",
       "      <td>-0.010151</td>\n",
       "      <td>-0.254368</td>\n",
       "    </tr>\n",
       "    <tr>\n",
       "      <th>19</th>\n",
       "      <td>-0.169521</td>\n",
       "      <td>-0.635217</td>\n",
       "      <td>0.215793</td>\n",
       "      <td>-0.036501</td>\n",
       "    </tr>\n",
       "    <tr>\n",
       "      <th>20</th>\n",
       "      <td>0.192230</td>\n",
       "      <td>0.652761</td>\n",
       "      <td>-0.009424</td>\n",
       "      <td>-0.411998</td>\n",
       "    </tr>\n",
       "    <tr>\n",
       "      <th>21</th>\n",
       "      <td>-0.518749</td>\n",
       "      <td>0.237437</td>\n",
       "      <td>-0.394761</td>\n",
       "      <td>0.067571</td>\n",
       "    </tr>\n",
       "    <tr>\n",
       "      <th>22</th>\n",
       "      <td>0.372845</td>\n",
       "      <td>-0.329985</td>\n",
       "      <td>-0.256530</td>\n",
       "      <td>0.021895</td>\n",
       "    </tr>\n",
       "    <tr>\n",
       "      <th>23</th>\n",
       "      <td>-0.531691</td>\n",
       "      <td>-0.134116</td>\n",
       "      <td>-0.137143</td>\n",
       "      <td>-0.180130</td>\n",
       "    </tr>\n",
       "    <tr>\n",
       "      <th>24</th>\n",
       "      <td>0.116934</td>\n",
       "      <td>-0.279818</td>\n",
       "      <td>-0.359305</td>\n",
       "      <td>-0.261583</td>\n",
       "    </tr>\n",
       "    <tr>\n",
       "      <th>25</th>\n",
       "      <td>0.159572</td>\n",
       "      <td>0.093004</td>\n",
       "      <td>0.187188</td>\n",
       "      <td>0.060918</td>\n",
       "    </tr>\n",
       "    <tr>\n",
       "      <th>26</th>\n",
       "      <td>-0.891505</td>\n",
       "      <td>-0.120000</td>\n",
       "      <td>0.567879</td>\n",
       "      <td>0.602507</td>\n",
       "    </tr>\n",
       "    <tr>\n",
       "      <th>27</th>\n",
       "      <td>-0.200023</td>\n",
       "      <td>0.275871</td>\n",
       "      <td>0.380515</td>\n",
       "      <td>0.860658</td>\n",
       "    </tr>\n",
       "    <tr>\n",
       "      <th>28</th>\n",
       "      <td>-0.398715</td>\n",
       "      <td>-0.018855</td>\n",
       "      <td>0.411771</td>\n",
       "      <td>-0.400014</td>\n",
       "    </tr>\n",
       "    <tr>\n",
       "      <th>29</th>\n",
       "      <td>-0.027828</td>\n",
       "      <td>0.383929</td>\n",
       "      <td>0.247036</td>\n",
       "      <td>-0.772433</td>\n",
       "    </tr>\n",
       "    <tr>\n",
       "      <th>30</th>\n",
       "      <td>0.274519</td>\n",
       "      <td>-0.213877</td>\n",
       "      <td>0.138172</td>\n",
       "      <td>-0.292088</td>\n",
       "    </tr>\n",
       "    <tr>\n",
       "      <th>31</th>\n",
       "      <td>-0.519146</td>\n",
       "      <td>-0.397287</td>\n",
       "      <td>-0.491281</td>\n",
       "      <td>-0.419090</td>\n",
       "    </tr>\n",
       "  </tbody>\n",
       "</table>\n",
       "</div>"
      ],
      "text/plain": [
       "           A         B         C         D\n",
       "1   0.062025 -0.810052  0.036109 -0.787425\n",
       "2   0.090926 -0.328685 -0.132170 -0.057975\n",
       "3   0.414145  0.190042 -0.250442 -0.244959\n",
       "4   0.444868  0.069236  0.408478 -0.317428\n",
       "5  -0.523164 -0.091200 -0.537080  0.323205\n",
       "6   0.127317 -0.874091 -0.199101  0.155689\n",
       "7  -0.033239  0.096372  0.232898  0.431500\n",
       "8   0.056326 -0.313328  0.342732  0.318079\n",
       "9   0.193156  0.502172 -0.252693 -0.265346\n",
       "10  0.201453 -0.465677 -0.028036  0.364933\n",
       "11  0.719457  0.326944  0.904631 -0.170234\n",
       "12  0.277333 -0.209263  0.324530 -0.025674\n",
       "13  0.184191 -0.172615 -0.328283 -0.328986\n",
       "14 -0.198691 -0.156398 -0.541972  0.069186\n",
       "15 -0.010199 -0.066012  0.339479 -0.047334\n",
       "16 -0.025731  0.050413  0.197048  0.036802\n",
       "17  0.288246  0.367730 -0.294341 -0.161450\n",
       "18 -0.051517  0.343023 -0.010151 -0.254368\n",
       "19 -0.169521 -0.635217  0.215793 -0.036501\n",
       "20  0.192230  0.652761 -0.009424 -0.411998\n",
       "21 -0.518749  0.237437 -0.394761  0.067571\n",
       "22  0.372845 -0.329985 -0.256530  0.021895\n",
       "23 -0.531691 -0.134116 -0.137143 -0.180130\n",
       "24  0.116934 -0.279818 -0.359305 -0.261583\n",
       "25  0.159572  0.093004  0.187188  0.060918\n",
       "26 -0.891505 -0.120000  0.567879  0.602507\n",
       "27 -0.200023  0.275871  0.380515  0.860658\n",
       "28 -0.398715 -0.018855  0.411771 -0.400014\n",
       "29 -0.027828  0.383929  0.247036 -0.772433\n",
       "30  0.274519 -0.213877  0.138172 -0.292088\n",
       "31 -0.519146 -0.397287 -0.491281 -0.419090"
      ]
     },
     "execution_count": 37,
     "metadata": {},
     "output_type": "execute_result"
    }
   ],
   "source": [
    "df.groupby(df.index.day).mean()"
   ]
  },
  {
   "cell_type": "code",
   "execution_count": 38,
   "metadata": {},
   "outputs": [
    {
     "name": "stdout",
     "output_type": "stream",
     "text": [
      "2012-01-01 00:00:00    439\n",
      "2012-01-01 00:00:01     29\n",
      "2012-01-01 00:00:02     39\n",
      "2012-01-01 00:00:03    477\n",
      "2012-01-01 00:00:04    227\n",
      "                      ... \n",
      "2012-01-01 00:03:15    243\n",
      "2012-01-01 00:03:16     62\n",
      "2012-01-01 00:03:17    239\n",
      "2012-01-01 00:03:18    465\n",
      "2012-01-01 00:03:19    226\n",
      "Freq: S, Length: 200, dtype: int64\n"
     ]
    }
   ],
   "source": [
    "# Hay mucha flexibilidad en el manejo de las fechas para series de tiempo.\n",
    "\n",
    "rango = pd.date_range(\"1/1/2012\", periods = 200, freq = \"S\")\n",
    "ts = pd.Series(np.random.randint( 0, 500, len(rango) ), index = rango)\n",
    "\n",
    "print(ts)"
   ]
  },
  {
   "cell_type": "code",
   "execution_count": 39,
   "metadata": {},
   "outputs": [
    {
     "name": "stdout",
     "output_type": "stream",
     "text": [
      "2012-01-01 00:00:00    15309\n",
      "2012-01-01 00:01:00    13791\n",
      "2012-01-01 00:02:00    15216\n",
      "2012-01-01 00:03:00     3856\n",
      "Freq: T, dtype: int64\n"
     ]
    }
   ],
   "source": [
    "# Hacemos un resampleo.\n",
    "\n",
    "print( ts.resample(\"1Min\").sum() )"
   ]
  },
  {
   "cell_type": "code",
   "execution_count": 41,
   "metadata": {},
   "outputs": [],
   "source": [
    "# Leer y escribir archivos es muy fácil con \n",
    "# el formato csv, compatible con Excel.\n",
    "\n",
    "# Escribir.\n",
    "ts.name = \"Datos\"\n",
    "ts.index.name = \"Timestamp\"\n",
    "ts.to_csv(\"time_series.csv\")\n"
   ]
  },
  {
   "cell_type": "code",
   "execution_count": 44,
   "metadata": {},
   "outputs": [
    {
     "name": "stdout",
     "output_type": "stream",
     "text": [
      "               Datos\n",
      "Timestamp           \n",
      "01/01/12 0:00    439\n",
      "01/01/12 0:00     29\n",
      "01/01/12 0:00     39\n",
      "01/01/12 0:00    477\n",
      "01/01/12 0:00    227\n",
      "...              ...\n",
      "01/01/12 0:03    243\n",
      "01/01/12 0:03     62\n",
      "01/01/12 0:03    239\n",
      "01/01/12 0:03    465\n",
      "01/01/12 0:03    226\n",
      "\n",
      "[200 rows x 1 columns]\n"
     ]
    }
   ],
   "source": [
    "# Leer archivo.\n",
    "\n",
    "ts_2 = pd.read_csv(\"time_series.csv\", index_col = \"Timestamp\")\n",
    "\n",
    "print(ts_2)"
   ]
  },
  {
   "cell_type": "code",
   "execution_count": 46,
   "metadata": {},
   "outputs": [
    {
     "name": "stdout",
     "output_type": "stream",
     "text": [
      "Index(['01/01/12 0:00', '01/01/12 0:00', '01/01/12 0:00', '01/01/12 0:00',\n",
      "       '01/01/12 0:00', '01/01/12 0:00', '01/01/12 0:00', '01/01/12 0:00',\n",
      "       '01/01/12 0:00', '01/01/12 0:00',\n",
      "       ...\n",
      "       '01/01/12 0:03', '01/01/12 0:03', '01/01/12 0:03', '01/01/12 0:03',\n",
      "       '01/01/12 0:03', '01/01/12 0:03', '01/01/12 0:03', '01/01/12 0:03',\n",
      "       '01/01/12 0:03', '01/01/12 0:03'],\n",
      "      dtype='object', name='Timestamp', length=200)\n"
     ]
    }
   ],
   "source": [
    "print( ts_2.index )"
   ]
  },
  {
   "cell_type": "code",
   "execution_count": 50,
   "metadata": {},
   "outputs": [
    {
     "name": "stdout",
     "output_type": "stream",
     "text": [
      "DatetimeIndex(['2012-01-01 00:00:00', '2012-01-01 00:00:00',\n",
      "               '2012-01-01 00:00:00', '2012-01-01 00:00:00',\n",
      "               '2012-01-01 00:00:00', '2012-01-01 00:00:00',\n",
      "               '2012-01-01 00:00:00', '2012-01-01 00:00:00',\n",
      "               '2012-01-01 00:00:00', '2012-01-01 00:00:00',\n",
      "               ...\n",
      "               '2012-01-01 00:03:00', '2012-01-01 00:03:00',\n",
      "               '2012-01-01 00:03:00', '2012-01-01 00:03:00',\n",
      "               '2012-01-01 00:03:00', '2012-01-01 00:03:00',\n",
      "               '2012-01-01 00:03:00', '2012-01-01 00:03:00',\n",
      "               '2012-01-01 00:03:00', '2012-01-01 00:03:00'],\n",
      "              dtype='datetime64[ns]', name='Timestamp', length=200, freq=None)\n"
     ]
    }
   ],
   "source": [
    "ts_2.index = pd.to_datetime( ts_2.index )\n",
    "\n",
    "print(ts_2.index)"
   ]
  },
  {
   "cell_type": "code",
   "execution_count": null,
   "metadata": {},
   "outputs": [],
   "source": [
    "# Cargar el archivo Electrico_residencial_2010_2017\n",
    "# Selecciona las entradas correspondientes a Baja California.\n",
    "# Ordena los datos de menor a mayor consumo en 2010.\n",
    "# Selecciona los municipios con una cantidad de usiarios en 2012 menor a 100\n",
    "# Encuentra el municipio con mayor consumo en tarifa DAC."
   ]
  }
 ],
 "metadata": {
  "kernelspec": {
   "display_name": "gv",
   "language": "python",
   "name": "python3"
  },
  "language_info": {
   "codemirror_mode": {
    "name": "ipython",
    "version": 3
   },
   "file_extension": ".py",
   "mimetype": "text/x-python",
   "name": "python",
   "nbconvert_exporter": "python",
   "pygments_lexer": "ipython3",
   "version": "3.9.9"
  },
  "orig_nbformat": 4,
  "vscode": {
   "interpreter": {
    "hash": "cce8d45697d85db6636183b0f945e1ffea3934773870cd67d93bb4bbe05deaec"
   }
  }
 },
 "nbformat": 4,
 "nbformat_minor": 2
}
