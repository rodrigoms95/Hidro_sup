{
 "cells": [
  {
   "cell_type": "code",
   "execution_count": 1,
   "metadata": {},
   "outputs": [],
   "source": [
    "# Pandas es el Excel de python.\n",
    "# Obtenido de: https://pandas.pydata.org/docs/user_guide/10min.html\n",
    "\n",
    "import pandas as pd\n",
    "import numpy as np"
   ]
  },
  {
   "cell_type": "code",
   "execution_count": 2,
   "metadata": {},
   "outputs": [
    {
     "name": "stdout",
     "output_type": "stream",
     "text": [
      "0    1.0\n",
      "1    3.0\n",
      "2    5.0\n",
      "3    NaN\n",
      "4    6.0\n",
      "5    8.0\n",
      "dtype: float64\n"
     ]
    }
   ],
   "source": [
    "# Una columna en pandas se llama una serie\n",
    "# np.nan es un valor faltante\n",
    "# Cada elemento tiene un índice.\n",
    "\n",
    "s = pd.Series([1, 3, 5, np.nan, 6, 8])\n",
    "print(s)"
   ]
  },
  {
   "cell_type": "code",
   "execution_count": 3,
   "metadata": {},
   "outputs": [
    {
     "name": "stdout",
     "output_type": "stream",
     "text": [
      "DatetimeIndex(['2013-01-01', '2013-01-02', '2013-01-03', '2013-01-04',\n",
      "               '2013-01-05', '2013-01-06'],\n",
      "              dtype='datetime64[ns]', freq='D')\n"
     ]
    }
   ],
   "source": [
    "# El índice puede ser una fecha\n",
    "\n",
    "fechas = pd.date_range(\"20130101\", periods = 6, freq = \"D\")\n",
    "\n",
    "print(fechas)"
   ]
  },
  {
   "cell_type": "code",
   "execution_count": 4,
   "metadata": {},
   "outputs": [
    {
     "name": "stdout",
     "output_type": "stream",
     "text": [
      "2013-01-01    1.0\n",
      "2013-01-02    3.0\n",
      "2013-01-03    5.0\n",
      "2013-01-04    NaN\n",
      "2013-01-05    6.0\n",
      "2013-01-06    8.0\n",
      "Freq: D, Name: datos, dtype: float64\n"
     ]
    }
   ],
   "source": [
    "s = pd.Series([1, 3, 5, np.nan, 6, 8], index = fechas, name = \"datos\")\n",
    "\n",
    "print(s)"
   ]
  },
  {
   "cell_type": "code",
   "execution_count": 5,
   "metadata": {},
   "outputs": [
    {
     "name": "stdout",
     "output_type": "stream",
     "text": [
      "                   A         B         C         D\n",
      "2013-01-01 -0.029955  0.791315 -0.959357  0.013228\n",
      "2013-01-02 -0.639850 -1.603372 -2.298525 -1.416965\n",
      "2013-01-03  1.009577 -1.083771  1.311173  0.154061\n",
      "2013-01-04  0.096465 -0.786210 -1.281606  0.036652\n",
      "2013-01-05 -0.160273  0.981198 -0.643166  1.539274\n",
      "2013-01-06 -0.633479  2.077087  1.043861  0.565009\n"
     ]
    }
   ],
   "source": [
    "# Un dataframe es un conjunto de columnas.\n",
    "\n",
    "# creado a partir de arreglos de numpy.\n",
    "df = pd.DataFrame( np.random.randn(6, 4), index = fechas,\n",
    "    columns = [\"A\", \"B\", \"C\", \"D\"] )\n",
    "\n",
    "print(df)"
   ]
  },
  {
   "cell_type": "code",
   "execution_count": 6,
   "metadata": {},
   "outputs": [
    {
     "name": "stdout",
     "output_type": "stream",
     "text": [
      "                   A         B         C         D\n",
      "2013-01-01 -0.029955  0.791315 -0.959357  0.013228\n",
      "2013-01-02 -0.639850 -1.603372 -2.298525 -1.416965\n",
      "2013-01-03  1.009577 -1.083771  1.311173  0.154061\n",
      "2013-01-04  0.096465 -0.786210 -1.281606  0.036652\n",
      "2013-01-05 -0.160273  0.981198 -0.643166  1.539274\n",
      "\n",
      "                   A         B         C         D\n",
      "2013-01-02 -0.639850 -1.603372 -2.298525 -1.416965\n",
      "2013-01-03  1.009577 -1.083771  1.311173  0.154061\n",
      "2013-01-04  0.096465 -0.786210 -1.281606  0.036652\n",
      "2013-01-05 -0.160273  0.981198 -0.643166  1.539274\n",
      "2013-01-06 -0.633479  2.077087  1.043861  0.565009\n"
     ]
    }
   ],
   "source": [
    "# head() y tail() muestran la parte \n",
    "# superior e inferior del Dataframe.\n",
    "\n",
    "print(df.head())\n",
    "print()\n",
    "print(df.tail())"
   ]
  },
  {
   "cell_type": "code",
   "execution_count": 7,
   "metadata": {},
   "outputs": [
    {
     "name": "stdout",
     "output_type": "stream",
     "text": [
      "DatetimeIndex(['2013-01-01', '2013-01-02', '2013-01-03', '2013-01-04',\n",
      "               '2013-01-05', '2013-01-06'],\n",
      "              dtype='datetime64[ns]', freq='D')\n",
      "\n",
      "Index(['A', 'B', 'C', 'D'], dtype='object')\n"
     ]
    }
   ],
   "source": [
    "# Podemos acceder al índice y las columnas.\n",
    "\n",
    "print(df.index)\n",
    "print()\n",
    "print(df.columns)"
   ]
  },
  {
   "cell_type": "code",
   "execution_count": 8,
   "metadata": {},
   "outputs": [
    {
     "name": "stdout",
     "output_type": "stream",
     "text": [
      "   2013-01-01  2013-01-02  2013-01-03  2013-01-04  2013-01-05  2013-01-06\n",
      "A   -0.029955   -0.639850    1.009577    0.096465   -0.160273   -0.633479\n",
      "B    0.791315   -1.603372   -1.083771   -0.786210    0.981198    2.077087\n",
      "C   -0.959357   -2.298525    1.311173   -1.281606   -0.643166    1.043861\n",
      "D    0.013228   -1.416965    0.154061    0.036652    1.539274    0.565009\n"
     ]
    }
   ],
   "source": [
    "# Trasponer.\n",
    "\n",
    "print(df.T)"
   ]
  },
  {
   "cell_type": "code",
   "execution_count": 9,
   "metadata": {},
   "outputs": [
    {
     "name": "stdout",
     "output_type": "stream",
     "text": [
      "[[-0.029955    0.79131548 -0.95935675  0.01322846]\n",
      " [-0.63985013 -1.60337196 -2.29852478 -1.41696521]\n",
      " [ 1.00957736 -1.08377099  1.31117346  0.15406127]\n",
      " [ 0.09646463 -0.78620961 -1.28160561  0.03665236]\n",
      " [-0.16027327  0.98119827 -0.64316575  1.53927377]\n",
      " [-0.63347862  2.07708742  1.04386096  0.56500893]]\n"
     ]
    }
   ],
   "source": [
    "# Convertir a un arreglo de numpy.\n",
    "\n",
    "print( df.to_numpy() )"
   ]
  },
  {
   "cell_type": "code",
   "execution_count": 10,
   "metadata": {},
   "outputs": [
    {
     "name": "stdout",
     "output_type": "stream",
     "text": [
      "              A         B         C         D\n",
      "count  6.000000  6.000000  6.000000  6.000000\n",
      "mean  -0.059586  0.062708 -0.471270  0.148543\n",
      "std    0.607378  1.431301  1.395422  0.958045\n",
      "min   -0.639850 -1.603372 -2.298525 -1.416965\n",
      "25%   -0.515177 -1.009381 -1.201043  0.019084\n",
      "50%   -0.095114  0.002553 -0.801261  0.095357\n",
      "75%    0.064860  0.933728  0.622104  0.462272\n",
      "max    1.009577  2.077087  1.311173  1.539274\n"
     ]
    }
   ],
   "source": [
    "# Estadística descriptiva.\n",
    "\n",
    "print( df.describe() )"
   ]
  },
  {
   "cell_type": "code",
   "execution_count": 11,
   "metadata": {},
   "outputs": [
    {
     "name": "stdout",
     "output_type": "stream",
     "text": [
      "                   A         B         C         D\n",
      "2013-01-06 -0.633479  2.077087  1.043861  0.565009\n",
      "2013-01-05 -0.160273  0.981198 -0.643166  1.539274\n",
      "2013-01-04  0.096465 -0.786210 -1.281606  0.036652\n",
      "2013-01-03  1.009577 -1.083771  1.311173  0.154061\n",
      "2013-01-02 -0.639850 -1.603372 -2.298525 -1.416965\n",
      "2013-01-01 -0.029955  0.791315 -0.959357  0.013228\n"
     ]
    }
   ],
   "source": [
    "# Ordenar datos.\n",
    "\n",
    "# Por índice.\n",
    "\n",
    "print( df.sort_index(ascending = False) )"
   ]
  },
  {
   "cell_type": "code",
   "execution_count": 12,
   "metadata": {},
   "outputs": [
    {
     "name": "stdout",
     "output_type": "stream",
     "text": [
      "                   A         B         C         D\n",
      "2013-01-02 -0.639850 -1.603372 -2.298525 -1.416965\n",
      "2013-01-03  1.009577 -1.083771  1.311173  0.154061\n",
      "2013-01-04  0.096465 -0.786210 -1.281606  0.036652\n",
      "2013-01-01 -0.029955  0.791315 -0.959357  0.013228\n",
      "2013-01-05 -0.160273  0.981198 -0.643166  1.539274\n",
      "2013-01-06 -0.633479  2.077087  1.043861  0.565009\n"
     ]
    }
   ],
   "source": [
    "# Por columna.\n",
    "print( df.sort_values(by = \"B\") )"
   ]
  },
  {
   "cell_type": "code",
   "execution_count": 13,
   "metadata": {},
   "outputs": [
    {
     "name": "stdout",
     "output_type": "stream",
     "text": [
      "2013-01-01   -0.029955\n",
      "2013-01-02   -0.639850\n",
      "2013-01-03    1.009577\n",
      "2013-01-04    0.096465\n",
      "2013-01-05   -0.160273\n",
      "2013-01-06   -0.633479\n",
      "Freq: D, Name: A, dtype: float64\n"
     ]
    }
   ],
   "source": [
    "# Escoger una columna.\n",
    "\n",
    "print( df[\"A\"] )"
   ]
  },
  {
   "cell_type": "code",
   "execution_count": 14,
   "metadata": {},
   "outputs": [
    {
     "name": "stdout",
     "output_type": "stream",
     "text": [
      "2013-01-01 00:00:00\n",
      "A   -0.029955\n",
      "B    0.791315\n",
      "C   -0.959357\n",
      "D    0.013228\n",
      "Name: 2013-01-01 00:00:00, dtype: float64\n"
     ]
    }
   ],
   "source": [
    "# Escoger una fila.\n",
    "\n",
    "print(df.index[0])\n",
    "print( df.loc[df.index[0]] )"
   ]
  },
  {
   "cell_type": "code",
   "execution_count": 15,
   "metadata": {},
   "outputs": [
    {
     "name": "stdout",
     "output_type": "stream",
     "text": [
      "A   -0.029955\n",
      "B    0.791315\n",
      "C   -0.959357\n",
      "D    0.013228\n",
      "Name: 2013-01-01 00:00:00, dtype: float64\n"
     ]
    }
   ],
   "source": [
    "# Escoger por número de fila.\n",
    "\n",
    "print( df.iloc[0] )"
   ]
  },
  {
   "cell_type": "code",
   "execution_count": 16,
   "metadata": {},
   "outputs": [
    {
     "name": "stdout",
     "output_type": "stream",
     "text": [
      "-1.083770990817644\n"
     ]
    }
   ],
   "source": [
    "# Escoger por fila y columna.\n",
    "\n",
    "print( df.loc[df.index[2], \"B\"] )"
   ]
  },
  {
   "cell_type": "code",
   "execution_count": 17,
   "metadata": {},
   "outputs": [
    {
     "name": "stdout",
     "output_type": "stream",
     "text": [
      "-1.083770990817644\n"
     ]
    }
   ],
   "source": [
    "# Escoger por número de fila y columna.\n",
    "\n",
    "print( df.iloc[2, 1] )"
   ]
  },
  {
   "cell_type": "code",
   "execution_count": 18,
   "metadata": {},
   "outputs": [
    {
     "name": "stdout",
     "output_type": "stream",
     "text": [
      "                   B         C\n",
      "2013-01-03 -1.083771  1.311173\n",
      "2013-01-04 -0.786210 -1.281606\n"
     ]
    }
   ],
   "source": [
    "# Escoger una subsección del dataframe.\n",
    "\n",
    "df_2 = df.iloc[2:4, 1:3]\n",
    "print( df_2 )"
   ]
  },
  {
   "cell_type": "code",
   "execution_count": 19,
   "metadata": {},
   "outputs": [
    {
     "name": "stdout",
     "output_type": "stream",
     "text": [
      "                   A         B         C         D\n",
      "2013-01-03  1.009577 -1.083771  1.311173  0.154061\n",
      "2013-01-04  0.096465 -0.786210 -1.281606  0.036652\n"
     ]
    }
   ],
   "source": [
    "df_2 = df.iloc[2:4, :]\n",
    "print( df_2 )\n",
    "\n",
    "# Las copias y vistas funcionan igual que en numpy!!"
   ]
  },
  {
   "cell_type": "code",
   "execution_count": 20,
   "metadata": {},
   "outputs": [
    {
     "name": "stdout",
     "output_type": "stream",
     "text": [
      "                   A         B         C         D\n",
      "2013-01-03  1.009577 -1.083771  1.311173  0.154061\n",
      "2013-01-04  0.096465 -0.786210 -1.281606  0.036652\n"
     ]
    }
   ],
   "source": [
    "# Búsqueda por condiciones.\n",
    "\n",
    "# En una columna.\n",
    "print( df[df[\"A\"] > 0] )"
   ]
  },
  {
   "cell_type": "code",
   "execution_count": 21,
   "metadata": {},
   "outputs": [
    {
     "name": "stdout",
     "output_type": "stream",
     "text": [
      "                   A         B         C         D\n",
      "2013-01-01       NaN  0.791315       NaN  0.013228\n",
      "2013-01-02       NaN       NaN       NaN       NaN\n",
      "2013-01-03  1.009577       NaN  1.311173  0.154061\n",
      "2013-01-04  0.096465       NaN       NaN  0.036652\n",
      "2013-01-05       NaN  0.981198       NaN  1.539274\n",
      "2013-01-06       NaN  2.077087  1.043861  0.565009\n"
     ]
    }
   ],
   "source": [
    "# En todo el dataframe.\n",
    "\n",
    "print( df[df>0] )"
   ]
  },
  {
   "cell_type": "code",
   "execution_count": 22,
   "metadata": {},
   "outputs": [
    {
     "name": "stdout",
     "output_type": "stream",
     "text": [
      "                   A         B         C         D       E\n",
      "2013-01-01 -0.029955  0.791315 -0.959357  0.013228     uno\n",
      "2013-01-02 -0.639850 -1.603372 -2.298525 -1.416965     uno\n",
      "2013-01-03  1.009577 -1.083771  1.311173  0.154061     dos\n",
      "2013-01-04  0.096465 -0.786210 -1.281606  0.036652    tres\n",
      "2013-01-05 -0.160273  0.981198 -0.643166  1.539274  cuatro\n",
      "2013-01-06 -0.633479  2.077087  1.043861  0.565009    tres\n"
     ]
    }
   ],
   "source": [
    "# Agregar columnas.\n",
    "# Todos los elementos de una columna son del mismo tipo.\n",
    "# Las columnas pueden tener distintos tipos.\n",
    "\n",
    "df[\"E\"] = [\"uno\", \"uno\", \"dos\", \"tres\", \"cuatro\", \"tres\"]\n",
    "\n",
    "print(df)"
   ]
  },
  {
   "cell_type": "code",
   "execution_count": 23,
   "metadata": {},
   "outputs": [
    {
     "name": "stdout",
     "output_type": "stream",
     "text": [
      "                   A         B         C         D       E    F\n",
      "2013-01-01 -0.029955  0.791315 -0.959357  0.013228     uno  1.0\n",
      "2013-01-02 -0.639850 -1.603372 -2.298525 -1.416965     uno  1.8\n",
      "2013-01-03  1.009577 -1.083771  1.311173  0.154061     dos  2.6\n",
      "2013-01-04  0.096465 -0.786210 -1.281606  0.036652    tres  3.4\n",
      "2013-01-05 -0.160273  0.981198 -0.643166  1.539274  cuatro  4.2\n"
     ]
    }
   ],
   "source": [
    "# Nueva columna con arreglos.\n",
    "\n",
    "df[\"F\"] = np.linspace(1, 5, 6)\n",
    "print(df.head())"
   ]
  },
  {
   "cell_type": "code",
   "execution_count": 24,
   "metadata": {},
   "outputs": [
    {
     "name": "stdout",
     "output_type": "stream",
     "text": [
      "                   A         B         C         D       E    F\n",
      "2013-01-03  1.009577 -1.083771  1.311173  0.154061     dos  2.6\n",
      "2013-01-05 -0.160273  0.981198 -0.643166  1.539274  cuatro  4.2\n"
     ]
    }
   ],
   "source": [
    "# Buscar valores específicos con isin()\n",
    "\n",
    "print( df[ df[\"E\"].isin( [\"dos\", \"cuatro\"] ) ] )"
   ]
  },
  {
   "cell_type": "code",
   "execution_count": 25,
   "metadata": {},
   "outputs": [
    {
     "name": "stdout",
     "output_type": "stream",
     "text": [
      "                   A          B         C         D       E    F\n",
      "2013-01-01 -0.029955  10.000000 -0.959357  0.013228     uno  1.0\n",
      "2013-01-02 -0.639850  -1.603372 -2.298525 -1.416965     uno  1.8\n",
      "2013-01-03  1.009577  -1.083771  1.311173  0.154061     dos  2.6\n",
      "2013-01-04  0.096465  -0.786210 -1.281606  0.036652    tres  3.4\n",
      "2013-01-05 -0.160273   0.981198 -0.643166  1.539274  cuatro  4.2\n",
      "2013-01-06 -0.633479   2.077087  1.043861  0.565009    tres  5.0\n"
     ]
    }
   ],
   "source": [
    "# Podemos cambiar un valor específico.\n",
    "\n",
    "df.iloc[0, 1] = 10\n",
    "print(df)"
   ]
  },
  {
   "cell_type": "code",
   "execution_count": 26,
   "metadata": {},
   "outputs": [
    {
     "name": "stdout",
     "output_type": "stream",
     "text": [
      "                   A          B         C         D    F\n",
      "2013-01-01 -0.029955  10.000000 -0.959357  0.013228  1.0\n",
      "2013-01-02 -0.639850  -1.603372 -2.298525 -1.416965  1.8\n",
      "2013-01-03  1.009577  -1.083771  1.311173  0.154061  2.6\n",
      "2013-01-04  0.096465  -0.786210 -1.281606  0.036652  3.4\n",
      "2013-01-05 -0.160273   0.981198 -0.643166  1.539274  4.2\n",
      "2013-01-06 -0.633479   2.077087  1.043861  0.565009  5.0\n"
     ]
    }
   ],
   "source": [
    "# Quitar columna.\n",
    "\n",
    "df = df.drop(\"E\", axis = 1)\n",
    "print(df)"
   ]
  },
  {
   "cell_type": "code",
   "execution_count": 27,
   "metadata": {},
   "outputs": [
    {
     "name": "stdout",
     "output_type": "stream",
     "text": [
      "                   A          B         C         D    F\n",
      "2013-01-01  0.000000  10.000000  0.000000  0.013228  1.0\n",
      "2013-01-02  0.000000   0.000000  0.000000  0.000000  1.8\n",
      "2013-01-03  1.009577   0.000000  1.311173  0.154061  2.6\n",
      "2013-01-04  0.096465   0.000000  0.000000  0.036652  3.4\n",
      "2013-01-05  0.000000   0.981198  0.000000  1.539274  4.2\n",
      "2013-01-06  0.000000   2.077087  1.043861  0.565009  5.0\n"
     ]
    }
   ],
   "source": [
    "# Establecer valores con condicional.\n",
    "\n",
    "df[df<0] = 0\n",
    "print(df)"
   ]
  },
  {
   "cell_type": "code",
   "execution_count": 28,
   "metadata": {},
   "outputs": [
    {
     "name": "stdout",
     "output_type": "stream",
     "text": [
      "                   A         B         C         D    F\n",
      "2013-01-01  0.000000       NaN  0.000000  0.013228  1.0\n",
      "2013-01-02  0.000000  0.000000  0.000000  0.000000  1.8\n",
      "2013-01-03  1.009577  0.000000  1.311173  0.154061  NaN\n",
      "2013-01-04  0.096465  0.000000  0.000000  0.036652  NaN\n",
      "2013-01-05  0.000000  0.981198  0.000000  1.539274  NaN\n",
      "2013-01-06  0.000000       NaN  1.043861  0.565009  NaN\n"
     ]
    }
   ],
   "source": [
    "# Agregamos algunos valores nulos.\n",
    "\n",
    "df[df>2] = np.nan\n",
    "print(df)"
   ]
  },
  {
   "cell_type": "code",
   "execution_count": 29,
   "metadata": {},
   "outputs": [
    {
     "name": "stdout",
     "output_type": "stream",
     "text": [
      "              A    B    C    D    F\n",
      "2013-01-02  0.0  0.0  0.0  0.0  1.8\n",
      "\n",
      "                   A           B         C         D      F\n",
      "2013-01-01  0.000000 -100.000000  0.000000  0.013228    1.0\n",
      "2013-01-02  0.000000    0.000000  0.000000  0.000000    1.8\n",
      "2013-01-03  1.009577    0.000000  1.311173  0.154061 -100.0\n",
      "2013-01-04  0.096465    0.000000  0.000000  0.036652 -100.0\n",
      "2013-01-05  0.000000    0.981198  0.000000  1.539274 -100.0\n",
      "2013-01-06  0.000000 -100.000000  1.043861  0.565009 -100.0\n",
      "\n",
      "                A      B      C      D      F\n",
      "2013-01-01  False   True  False  False  False\n",
      "2013-01-02  False  False  False  False  False\n",
      "2013-01-03  False  False  False  False   True\n",
      "2013-01-04  False  False  False  False   True\n",
      "2013-01-05  False  False  False  False   True\n",
      "2013-01-06  False   True  False  False   True\n"
     ]
    }
   ],
   "source": [
    "# Quitar filas con valores nulos.\n",
    "print(df.dropna())\n",
    "print()\n",
    "\n",
    "# Rellenar valores nulos.\n",
    "print(df.fillna(-100))\n",
    "print()\n",
    "\n",
    "# Determinar valores nulos.\n",
    "print(df.isna())"
   ]
  },
  {
   "cell_type": "code",
   "execution_count": 30,
   "metadata": {},
   "outputs": [
    {
     "name": "stdout",
     "output_type": "stream",
     "text": [
      "                   A         B         C         D    F         G\n",
      "2013-01-01  0.000000       NaN  0.000000  0.013228  1.0  0.000000\n",
      "2013-01-02  0.000000  0.000000  0.000000  0.000000  1.8  0.000000\n",
      "2013-01-03  1.009577  0.000000  1.311173  0.154061  NaN  2.320751\n",
      "2013-01-04  0.096465  0.000000  0.000000  0.036652  NaN  0.096465\n",
      "2013-01-05  0.000000  0.981198  0.000000  1.539274  NaN  0.000000\n",
      "2013-01-06  0.000000       NaN  1.043861  0.565009  NaN  1.043861\n",
      "\n",
      "A    0.184340\n",
      "B    0.245300\n",
      "C    0.392506\n",
      "D    0.384704\n",
      "F    1.400000\n",
      "G    0.576846\n",
      "dtype: float64\n",
      "\n",
      "2013-01-01    0.202646\n",
      "2013-01-02    0.300000\n",
      "2013-01-03    0.959113\n",
      "2013-01-04    0.045916\n",
      "2013-01-05    0.504094\n",
      "2013-01-06    0.663183\n",
      "Freq: D, dtype: float64\n"
     ]
    }
   ],
   "source": [
    "# operaciones.\n",
    "\n",
    "# Entre columnas.\n",
    "df[\"G\"] = df[\"A\"] + df[\"C\"]\n",
    "\n",
    "print(df)\n",
    "print()\n",
    "\n",
    "# promedio\n",
    "print(df.mean())\n",
    "print()\n",
    "print(df.mean(1))"
   ]
  },
  {
   "cell_type": "code",
   "execution_count": 31,
   "metadata": {},
   "outputs": [
    {
     "data": {
      "text/html": [
       "<div>\n",
       "<style scoped>\n",
       "    .dataframe tbody tr th:only-of-type {\n",
       "        vertical-align: middle;\n",
       "    }\n",
       "\n",
       "    .dataframe tbody tr th {\n",
       "        vertical-align: top;\n",
       "    }\n",
       "\n",
       "    .dataframe thead th {\n",
       "        text-align: right;\n",
       "    }\n",
       "</style>\n",
       "<table border=\"1\" class=\"dataframe\">\n",
       "  <thead>\n",
       "    <tr style=\"text-align: right;\">\n",
       "      <th></th>\n",
       "      <th>A</th>\n",
       "      <th>B</th>\n",
       "      <th>C</th>\n",
       "      <th>D</th>\n",
       "      <th>F</th>\n",
       "      <th>G</th>\n",
       "    </tr>\n",
       "  </thead>\n",
       "  <tbody>\n",
       "    <tr>\n",
       "      <th>2013-01-01</th>\n",
       "      <td>0.000000</td>\n",
       "      <td>NaN</td>\n",
       "      <td>0.000000</td>\n",
       "      <td>0.013228</td>\n",
       "      <td>1.0</td>\n",
       "      <td>0.000000</td>\n",
       "    </tr>\n",
       "    <tr>\n",
       "      <th>2013-01-02</th>\n",
       "      <td>0.000000</td>\n",
       "      <td>0.000000</td>\n",
       "      <td>0.000000</td>\n",
       "      <td>0.013228</td>\n",
       "      <td>2.8</td>\n",
       "      <td>0.000000</td>\n",
       "    </tr>\n",
       "    <tr>\n",
       "      <th>2013-01-03</th>\n",
       "      <td>1.009577</td>\n",
       "      <td>0.000000</td>\n",
       "      <td>1.311173</td>\n",
       "      <td>0.167290</td>\n",
       "      <td>NaN</td>\n",
       "      <td>2.320751</td>\n",
       "    </tr>\n",
       "    <tr>\n",
       "      <th>2013-01-04</th>\n",
       "      <td>1.106042</td>\n",
       "      <td>0.000000</td>\n",
       "      <td>1.311173</td>\n",
       "      <td>0.203942</td>\n",
       "      <td>NaN</td>\n",
       "      <td>2.417215</td>\n",
       "    </tr>\n",
       "    <tr>\n",
       "      <th>2013-01-05</th>\n",
       "      <td>1.106042</td>\n",
       "      <td>0.981198</td>\n",
       "      <td>1.311173</td>\n",
       "      <td>1.743216</td>\n",
       "      <td>NaN</td>\n",
       "      <td>2.417215</td>\n",
       "    </tr>\n",
       "    <tr>\n",
       "      <th>2013-01-06</th>\n",
       "      <td>1.106042</td>\n",
       "      <td>NaN</td>\n",
       "      <td>2.355034</td>\n",
       "      <td>2.308225</td>\n",
       "      <td>NaN</td>\n",
       "      <td>3.461076</td>\n",
       "    </tr>\n",
       "  </tbody>\n",
       "</table>\n",
       "</div>"
      ],
      "text/plain": [
       "                   A         B         C         D    F         G\n",
       "2013-01-01  0.000000       NaN  0.000000  0.013228  1.0  0.000000\n",
       "2013-01-02  0.000000  0.000000  0.000000  0.013228  2.8  0.000000\n",
       "2013-01-03  1.009577  0.000000  1.311173  0.167290  NaN  2.320751\n",
       "2013-01-04  1.106042  0.000000  1.311173  0.203942  NaN  2.417215\n",
       "2013-01-05  1.106042  0.981198  1.311173  1.743216  NaN  2.417215\n",
       "2013-01-06  1.106042       NaN  2.355034  2.308225  NaN  3.461076"
      ]
     },
     "execution_count": 31,
     "metadata": {},
     "output_type": "execute_result"
    }
   ],
   "source": [
    "# Aplicar operación.\n",
    "# np.cumsum() hace una suma acumulada.\n",
    "df.apply(np.cumsum)"
   ]
  },
  {
   "cell_type": "code",
   "execution_count": 32,
   "metadata": {},
   "outputs": [
    {
     "name": "stderr",
     "output_type": "stream",
     "text": [
      "/opt/homebrew/Caskroom/miniforge/base/envs/gv/lib/python3.9/site-packages/pandas/core/arraylike.py:364: RuntimeWarning: divide by zero encountered in log\n",
      "  result = getattr(ufunc, method)(*inputs, **kwargs)\n"
     ]
    },
    {
     "data": {
      "text/html": [
       "<div>\n",
       "<style scoped>\n",
       "    .dataframe tbody tr th:only-of-type {\n",
       "        vertical-align: middle;\n",
       "    }\n",
       "\n",
       "    .dataframe tbody tr th {\n",
       "        vertical-align: top;\n",
       "    }\n",
       "\n",
       "    .dataframe thead th {\n",
       "        text-align: right;\n",
       "    }\n",
       "</style>\n",
       "<table border=\"1\" class=\"dataframe\">\n",
       "  <thead>\n",
       "    <tr style=\"text-align: right;\">\n",
       "      <th></th>\n",
       "      <th>A</th>\n",
       "      <th>B</th>\n",
       "      <th>C</th>\n",
       "      <th>D</th>\n",
       "      <th>F</th>\n",
       "      <th>G</th>\n",
       "      <th>H</th>\n",
       "    </tr>\n",
       "  </thead>\n",
       "  <tbody>\n",
       "    <tr>\n",
       "      <th>2013-01-01</th>\n",
       "      <td>0.000000</td>\n",
       "      <td>NaN</td>\n",
       "      <td>0.000000</td>\n",
       "      <td>0.013228</td>\n",
       "      <td>1.0</td>\n",
       "      <td>0.000000</td>\n",
       "      <td>-inf</td>\n",
       "    </tr>\n",
       "    <tr>\n",
       "      <th>2013-01-02</th>\n",
       "      <td>0.000000</td>\n",
       "      <td>0.000000</td>\n",
       "      <td>0.000000</td>\n",
       "      <td>0.000000</td>\n",
       "      <td>1.8</td>\n",
       "      <td>0.000000</td>\n",
       "      <td>-inf</td>\n",
       "    </tr>\n",
       "    <tr>\n",
       "      <th>2013-01-03</th>\n",
       "      <td>1.009577</td>\n",
       "      <td>0.000000</td>\n",
       "      <td>1.311173</td>\n",
       "      <td>0.154061</td>\n",
       "      <td>NaN</td>\n",
       "      <td>2.320751</td>\n",
       "      <td>0.270923</td>\n",
       "    </tr>\n",
       "    <tr>\n",
       "      <th>2013-01-04</th>\n",
       "      <td>0.096465</td>\n",
       "      <td>0.000000</td>\n",
       "      <td>0.000000</td>\n",
       "      <td>0.036652</td>\n",
       "      <td>NaN</td>\n",
       "      <td>0.096465</td>\n",
       "      <td>-inf</td>\n",
       "    </tr>\n",
       "    <tr>\n",
       "      <th>2013-01-05</th>\n",
       "      <td>0.000000</td>\n",
       "      <td>0.981198</td>\n",
       "      <td>0.000000</td>\n",
       "      <td>1.539274</td>\n",
       "      <td>NaN</td>\n",
       "      <td>0.000000</td>\n",
       "      <td>-inf</td>\n",
       "    </tr>\n",
       "    <tr>\n",
       "      <th>2013-01-06</th>\n",
       "      <td>0.000000</td>\n",
       "      <td>NaN</td>\n",
       "      <td>1.043861</td>\n",
       "      <td>0.565009</td>\n",
       "      <td>NaN</td>\n",
       "      <td>1.043861</td>\n",
       "      <td>0.042926</td>\n",
       "    </tr>\n",
       "  </tbody>\n",
       "</table>\n",
       "</div>"
      ],
      "text/plain": [
       "                   A         B         C         D    F         G         H\n",
       "2013-01-01  0.000000       NaN  0.000000  0.013228  1.0  0.000000      -inf\n",
       "2013-01-02  0.000000  0.000000  0.000000  0.000000  1.8  0.000000      -inf\n",
       "2013-01-03  1.009577  0.000000  1.311173  0.154061  NaN  2.320751  0.270923\n",
       "2013-01-04  0.096465  0.000000  0.000000  0.036652  NaN  0.096465      -inf\n",
       "2013-01-05  0.000000  0.981198  0.000000  1.539274  NaN  0.000000      -inf\n",
       "2013-01-06  0.000000       NaN  1.043861  0.565009  NaN  1.043861  0.042926"
      ]
     },
     "execution_count": 32,
     "metadata": {},
     "output_type": "execute_result"
    }
   ],
   "source": [
    "# Logaritmo a cada elemento.\n",
    "df[\"H\"] = np.log( df[\"C\"] )\n",
    "\n",
    "df"
   ]
  },
  {
   "cell_type": "code",
   "execution_count": 33,
   "metadata": {},
   "outputs": [
    {
     "data": {
      "text/html": [
       "<div>\n",
       "<style scoped>\n",
       "    .dataframe tbody tr th:only-of-type {\n",
       "        vertical-align: middle;\n",
       "    }\n",
       "\n",
       "    .dataframe tbody tr th {\n",
       "        vertical-align: top;\n",
       "    }\n",
       "\n",
       "    .dataframe thead th {\n",
       "        text-align: right;\n",
       "    }\n",
       "</style>\n",
       "<table border=\"1\" class=\"dataframe\">\n",
       "  <thead>\n",
       "    <tr style=\"text-align: right;\">\n",
       "      <th></th>\n",
       "      <th>A</th>\n",
       "      <th>B</th>\n",
       "      <th>C</th>\n",
       "      <th>D</th>\n",
       "      <th>F</th>\n",
       "      <th>G</th>\n",
       "      <th>H</th>\n",
       "      <th>I</th>\n",
       "    </tr>\n",
       "  </thead>\n",
       "  <tbody>\n",
       "    <tr>\n",
       "      <th>2013-01-01</th>\n",
       "      <td>0.000000</td>\n",
       "      <td>NaN</td>\n",
       "      <td>0.000000</td>\n",
       "      <td>0.013228</td>\n",
       "      <td>1.0</td>\n",
       "      <td>0.000000</td>\n",
       "      <td>-inf</td>\n",
       "      <td>NaN</td>\n",
       "    </tr>\n",
       "    <tr>\n",
       "      <th>2013-01-02</th>\n",
       "      <td>0.000000</td>\n",
       "      <td>0.000000</td>\n",
       "      <td>0.000000</td>\n",
       "      <td>0.000000</td>\n",
       "      <td>1.8</td>\n",
       "      <td>0.000000</td>\n",
       "      <td>-inf</td>\n",
       "      <td>NaN</td>\n",
       "    </tr>\n",
       "    <tr>\n",
       "      <th>2013-01-03</th>\n",
       "      <td>1.009577</td>\n",
       "      <td>0.000000</td>\n",
       "      <td>1.311173</td>\n",
       "      <td>0.154061</td>\n",
       "      <td>NaN</td>\n",
       "      <td>2.320751</td>\n",
       "      <td>0.270923</td>\n",
       "      <td>0.000000</td>\n",
       "    </tr>\n",
       "    <tr>\n",
       "      <th>2013-01-04</th>\n",
       "      <td>0.096465</td>\n",
       "      <td>0.000000</td>\n",
       "      <td>0.000000</td>\n",
       "      <td>0.036652</td>\n",
       "      <td>NaN</td>\n",
       "      <td>0.096465</td>\n",
       "      <td>-inf</td>\n",
       "      <td>0.000000</td>\n",
       "    </tr>\n",
       "    <tr>\n",
       "      <th>2013-01-05</th>\n",
       "      <td>0.000000</td>\n",
       "      <td>0.981198</td>\n",
       "      <td>0.000000</td>\n",
       "      <td>1.539274</td>\n",
       "      <td>NaN</td>\n",
       "      <td>0.000000</td>\n",
       "      <td>-inf</td>\n",
       "      <td>1.311173</td>\n",
       "    </tr>\n",
       "    <tr>\n",
       "      <th>2013-01-06</th>\n",
       "      <td>0.000000</td>\n",
       "      <td>NaN</td>\n",
       "      <td>1.043861</td>\n",
       "      <td>0.565009</td>\n",
       "      <td>NaN</td>\n",
       "      <td>1.043861</td>\n",
       "      <td>0.042926</td>\n",
       "      <td>0.000000</td>\n",
       "    </tr>\n",
       "  </tbody>\n",
       "</table>\n",
       "</div>"
      ],
      "text/plain": [
       "                   A         B         C         D    F         G         H  \\\n",
       "2013-01-01  0.000000       NaN  0.000000  0.013228  1.0  0.000000      -inf   \n",
       "2013-01-02  0.000000  0.000000  0.000000  0.000000  1.8  0.000000      -inf   \n",
       "2013-01-03  1.009577  0.000000  1.311173  0.154061  NaN  2.320751  0.270923   \n",
       "2013-01-04  0.096465  0.000000  0.000000  0.036652  NaN  0.096465      -inf   \n",
       "2013-01-05  0.000000  0.981198  0.000000  1.539274  NaN  0.000000      -inf   \n",
       "2013-01-06  0.000000       NaN  1.043861  0.565009  NaN  1.043861  0.042926   \n",
       "\n",
       "                   I  \n",
       "2013-01-01       NaN  \n",
       "2013-01-02       NaN  \n",
       "2013-01-03  0.000000  \n",
       "2013-01-04  0.000000  \n",
       "2013-01-05  1.311173  \n",
       "2013-01-06  0.000000  "
      ]
     },
     "execution_count": 33,
     "metadata": {},
     "output_type": "execute_result"
    }
   ],
   "source": [
    "# Recorrer una columna una cierta cantidad de filas.\n",
    "\n",
    "df[\"I\"] = df[\"C\"].shift(2)\n",
    "\n",
    "df"
   ]
  },
  {
   "cell_type": "code",
   "execution_count": 34,
   "metadata": {},
   "outputs": [
    {
     "name": "stdout",
     "output_type": "stream",
     "text": [
      "                   A         B         C         D\n",
      "2013-01-01  0.692775  0.864991 -0.174458 -2.124173\n",
      "2013-01-02 -0.956523 -0.860580  0.386738 -0.371287\n",
      "2013-01-03 -0.312029 -1.483915 -1.445393  0.173630\n",
      "2013-01-04  0.571486  0.737125 -1.308373  0.879276\n",
      "2013-01-05  0.133828 -1.494838  0.858746 -0.455372\n",
      "...              ...       ...       ...       ...\n",
      "2013-07-15  0.573632  1.095817  0.243636  0.885749\n",
      "2013-07-16 -0.482022 -0.814978 -1.963382  0.566107\n",
      "2013-07-17 -0.262109  0.363217 -0.720502 -0.625185\n",
      "2013-07-18 -0.914503 -0.200421  1.083039 -0.646416\n",
      "2013-07-19  1.042444 -2.119689 -0.006965 -0.535855\n",
      "\n",
      "[200 rows x 4 columns]\n"
     ]
    }
   ],
   "source": [
    "# Agrupar datos\n",
    "\n",
    "fechas = pd.date_range(\"20130101\", periods = 200, freq = \"D\")\n",
    "df = pd.DataFrame( np.random.randn(200, 4), index = fechas,\n",
    "    columns = [\"A\", \"B\", \"C\", \"D\"] )\n",
    "\n",
    "print(df)"
   ]
  },
  {
   "cell_type": "code",
   "execution_count": 35,
   "metadata": {},
   "outputs": [
    {
     "data": {
      "text/html": [
       "<div>\n",
       "<style scoped>\n",
       "    .dataframe tbody tr th:only-of-type {\n",
       "        vertical-align: middle;\n",
       "    }\n",
       "\n",
       "    .dataframe tbody tr th {\n",
       "        vertical-align: top;\n",
       "    }\n",
       "\n",
       "    .dataframe thead th {\n",
       "        text-align: right;\n",
       "    }\n",
       "</style>\n",
       "<table border=\"1\" class=\"dataframe\">\n",
       "  <thead>\n",
       "    <tr style=\"text-align: right;\">\n",
       "      <th></th>\n",
       "      <th>A</th>\n",
       "      <th>B</th>\n",
       "      <th>C</th>\n",
       "      <th>D</th>\n",
       "    </tr>\n",
       "  </thead>\n",
       "  <tbody>\n",
       "    <tr>\n",
       "      <th>1</th>\n",
       "      <td>11.348114</td>\n",
       "      <td>9.886959</td>\n",
       "      <td>-2.658161</td>\n",
       "      <td>3.025521</td>\n",
       "    </tr>\n",
       "    <tr>\n",
       "      <th>2</th>\n",
       "      <td>4.323873</td>\n",
       "      <td>4.011944</td>\n",
       "      <td>-6.432318</td>\n",
       "      <td>2.489803</td>\n",
       "    </tr>\n",
       "    <tr>\n",
       "      <th>3</th>\n",
       "      <td>-1.884798</td>\n",
       "      <td>8.181839</td>\n",
       "      <td>-6.068654</td>\n",
       "      <td>2.597035</td>\n",
       "    </tr>\n",
       "    <tr>\n",
       "      <th>4</th>\n",
       "      <td>-9.007724</td>\n",
       "      <td>-12.620506</td>\n",
       "      <td>0.623759</td>\n",
       "      <td>0.414459</td>\n",
       "    </tr>\n",
       "    <tr>\n",
       "      <th>5</th>\n",
       "      <td>-2.625622</td>\n",
       "      <td>-5.569930</td>\n",
       "      <td>-5.686952</td>\n",
       "      <td>-0.506349</td>\n",
       "    </tr>\n",
       "    <tr>\n",
       "      <th>6</th>\n",
       "      <td>-3.505536</td>\n",
       "      <td>-2.022315</td>\n",
       "      <td>5.044583</td>\n",
       "      <td>7.370641</td>\n",
       "    </tr>\n",
       "    <tr>\n",
       "      <th>7</th>\n",
       "      <td>3.235357</td>\n",
       "      <td>-6.743474</td>\n",
       "      <td>1.131728</td>\n",
       "      <td>4.931266</td>\n",
       "    </tr>\n",
       "  </tbody>\n",
       "</table>\n",
       "</div>"
      ],
      "text/plain": [
       "           A          B         C         D\n",
       "1  11.348114   9.886959 -2.658161  3.025521\n",
       "2   4.323873   4.011944 -6.432318  2.489803\n",
       "3  -1.884798   8.181839 -6.068654  2.597035\n",
       "4  -9.007724 -12.620506  0.623759  0.414459\n",
       "5  -2.625622  -5.569930 -5.686952 -0.506349\n",
       "6  -3.505536  -2.022315  5.044583  7.370641\n",
       "7   3.235357  -6.743474  1.131728  4.931266"
      ]
     },
     "execution_count": 35,
     "metadata": {},
     "output_type": "execute_result"
    }
   ],
   "source": [
    "# Agrupamos y realizamos una operación.\n",
    "df.groupby(df.index.month).sum()"
   ]
  },
  {
   "cell_type": "code",
   "execution_count": 36,
   "metadata": {},
   "outputs": [
    {
     "data": {
      "text/html": [
       "<div>\n",
       "<style scoped>\n",
       "    .dataframe tbody tr th:only-of-type {\n",
       "        vertical-align: middle;\n",
       "    }\n",
       "\n",
       "    .dataframe tbody tr th {\n",
       "        vertical-align: top;\n",
       "    }\n",
       "\n",
       "    .dataframe thead th {\n",
       "        text-align: right;\n",
       "    }\n",
       "</style>\n",
       "<table border=\"1\" class=\"dataframe\">\n",
       "  <thead>\n",
       "    <tr style=\"text-align: right;\">\n",
       "      <th></th>\n",
       "      <th>A</th>\n",
       "      <th>B</th>\n",
       "      <th>C</th>\n",
       "      <th>D</th>\n",
       "    </tr>\n",
       "  </thead>\n",
       "  <tbody>\n",
       "    <tr>\n",
       "      <th>1</th>\n",
       "      <td>0.030964</td>\n",
       "      <td>0.368589</td>\n",
       "      <td>-0.931040</td>\n",
       "      <td>-0.407003</td>\n",
       "    </tr>\n",
       "    <tr>\n",
       "      <th>2</th>\n",
       "      <td>-0.821352</td>\n",
       "      <td>-0.094202</td>\n",
       "      <td>0.159229</td>\n",
       "      <td>0.062816</td>\n",
       "    </tr>\n",
       "    <tr>\n",
       "      <th>3</th>\n",
       "      <td>-0.488620</td>\n",
       "      <td>-0.376746</td>\n",
       "      <td>-0.157382</td>\n",
       "      <td>0.006404</td>\n",
       "    </tr>\n",
       "    <tr>\n",
       "      <th>4</th>\n",
       "      <td>0.560289</td>\n",
       "      <td>0.031361</td>\n",
       "      <td>-0.330725</td>\n",
       "      <td>0.555317</td>\n",
       "    </tr>\n",
       "    <tr>\n",
       "      <th>5</th>\n",
       "      <td>-0.424152</td>\n",
       "      <td>-0.572082</td>\n",
       "      <td>-0.105260</td>\n",
       "      <td>0.367265</td>\n",
       "    </tr>\n",
       "    <tr>\n",
       "      <th>6</th>\n",
       "      <td>0.079052</td>\n",
       "      <td>0.432350</td>\n",
       "      <td>0.297869</td>\n",
       "      <td>0.177384</td>\n",
       "    </tr>\n",
       "    <tr>\n",
       "      <th>7</th>\n",
       "      <td>0.613838</td>\n",
       "      <td>-0.257498</td>\n",
       "      <td>0.233614</td>\n",
       "      <td>0.253418</td>\n",
       "    </tr>\n",
       "    <tr>\n",
       "      <th>8</th>\n",
       "      <td>0.023690</td>\n",
       "      <td>-0.386617</td>\n",
       "      <td>0.445436</td>\n",
       "      <td>0.397491</td>\n",
       "    </tr>\n",
       "    <tr>\n",
       "      <th>9</th>\n",
       "      <td>0.070875</td>\n",
       "      <td>0.585341</td>\n",
       "      <td>-0.352931</td>\n",
       "      <td>0.684521</td>\n",
       "    </tr>\n",
       "    <tr>\n",
       "      <th>10</th>\n",
       "      <td>-0.238000</td>\n",
       "      <td>0.320594</td>\n",
       "      <td>-0.007920</td>\n",
       "      <td>0.111347</td>\n",
       "    </tr>\n",
       "    <tr>\n",
       "      <th>11</th>\n",
       "      <td>0.324212</td>\n",
       "      <td>0.072135</td>\n",
       "      <td>0.392902</td>\n",
       "      <td>0.383453</td>\n",
       "    </tr>\n",
       "    <tr>\n",
       "      <th>12</th>\n",
       "      <td>0.594596</td>\n",
       "      <td>-0.108801</td>\n",
       "      <td>0.218320</td>\n",
       "      <td>0.157903</td>\n",
       "    </tr>\n",
       "    <tr>\n",
       "      <th>13</th>\n",
       "      <td>0.314781</td>\n",
       "      <td>0.266497</td>\n",
       "      <td>-0.049552</td>\n",
       "      <td>0.215321</td>\n",
       "    </tr>\n",
       "    <tr>\n",
       "      <th>14</th>\n",
       "      <td>0.078689</td>\n",
       "      <td>-0.141722</td>\n",
       "      <td>-0.173683</td>\n",
       "      <td>-0.396658</td>\n",
       "    </tr>\n",
       "    <tr>\n",
       "      <th>15</th>\n",
       "      <td>-0.499789</td>\n",
       "      <td>-0.003410</td>\n",
       "      <td>-0.130786</td>\n",
       "      <td>0.218901</td>\n",
       "    </tr>\n",
       "    <tr>\n",
       "      <th>16</th>\n",
       "      <td>-0.099887</td>\n",
       "      <td>0.283639</td>\n",
       "      <td>-0.907582</td>\n",
       "      <td>0.295281</td>\n",
       "    </tr>\n",
       "    <tr>\n",
       "      <th>17</th>\n",
       "      <td>0.176543</td>\n",
       "      <td>-0.039269</td>\n",
       "      <td>0.506082</td>\n",
       "      <td>-0.064341</td>\n",
       "    </tr>\n",
       "    <tr>\n",
       "      <th>18</th>\n",
       "      <td>-0.463825</td>\n",
       "      <td>-0.552053</td>\n",
       "      <td>0.079897</td>\n",
       "      <td>-0.290837</td>\n",
       "    </tr>\n",
       "    <tr>\n",
       "      <th>19</th>\n",
       "      <td>0.573963</td>\n",
       "      <td>-0.110512</td>\n",
       "      <td>0.279847</td>\n",
       "      <td>0.071158</td>\n",
       "    </tr>\n",
       "    <tr>\n",
       "      <th>20</th>\n",
       "      <td>0.100580</td>\n",
       "      <td>0.696130</td>\n",
       "      <td>-0.436415</td>\n",
       "      <td>-0.092491</td>\n",
       "    </tr>\n",
       "    <tr>\n",
       "      <th>21</th>\n",
       "      <td>-0.288654</td>\n",
       "      <td>-0.763020</td>\n",
       "      <td>0.093034</td>\n",
       "      <td>-0.435716</td>\n",
       "    </tr>\n",
       "    <tr>\n",
       "      <th>22</th>\n",
       "      <td>0.498170</td>\n",
       "      <td>-0.608230</td>\n",
       "      <td>-0.636684</td>\n",
       "      <td>0.328899</td>\n",
       "    </tr>\n",
       "    <tr>\n",
       "      <th>23</th>\n",
       "      <td>0.301832</td>\n",
       "      <td>0.676416</td>\n",
       "      <td>0.420499</td>\n",
       "      <td>0.465661</td>\n",
       "    </tr>\n",
       "    <tr>\n",
       "      <th>24</th>\n",
       "      <td>-0.046573</td>\n",
       "      <td>-0.404791</td>\n",
       "      <td>-0.348267</td>\n",
       "      <td>0.280357</td>\n",
       "    </tr>\n",
       "    <tr>\n",
       "      <th>25</th>\n",
       "      <td>-0.503937</td>\n",
       "      <td>-0.110207</td>\n",
       "      <td>-0.180749</td>\n",
       "      <td>0.280007</td>\n",
       "    </tr>\n",
       "    <tr>\n",
       "      <th>26</th>\n",
       "      <td>0.021579</td>\n",
       "      <td>0.479582</td>\n",
       "      <td>0.116412</td>\n",
       "      <td>-0.118702</td>\n",
       "    </tr>\n",
       "    <tr>\n",
       "      <th>27</th>\n",
       "      <td>-0.171384</td>\n",
       "      <td>-0.035896</td>\n",
       "      <td>0.028851</td>\n",
       "      <td>-0.097026</td>\n",
       "    </tr>\n",
       "    <tr>\n",
       "      <th>28</th>\n",
       "      <td>0.178209</td>\n",
       "      <td>-0.438134</td>\n",
       "      <td>-0.329876</td>\n",
       "      <td>-0.120888</td>\n",
       "    </tr>\n",
       "    <tr>\n",
       "      <th>29</th>\n",
       "      <td>-0.035516</td>\n",
       "      <td>-0.035421</td>\n",
       "      <td>0.386401</td>\n",
       "      <td>-0.196382</td>\n",
       "    </tr>\n",
       "    <tr>\n",
       "      <th>30</th>\n",
       "      <td>0.054572</td>\n",
       "      <td>0.007834</td>\n",
       "      <td>-0.369443</td>\n",
       "      <td>0.063776</td>\n",
       "    </tr>\n",
       "    <tr>\n",
       "      <th>31</th>\n",
       "      <td>-0.530544</td>\n",
       "      <td>0.096058</td>\n",
       "      <td>-0.918655</td>\n",
       "      <td>-0.516391</td>\n",
       "    </tr>\n",
       "  </tbody>\n",
       "</table>\n",
       "</div>"
      ],
      "text/plain": [
       "           A         B         C         D\n",
       "1   0.030964  0.368589 -0.931040 -0.407003\n",
       "2  -0.821352 -0.094202  0.159229  0.062816\n",
       "3  -0.488620 -0.376746 -0.157382  0.006404\n",
       "4   0.560289  0.031361 -0.330725  0.555317\n",
       "5  -0.424152 -0.572082 -0.105260  0.367265\n",
       "6   0.079052  0.432350  0.297869  0.177384\n",
       "7   0.613838 -0.257498  0.233614  0.253418\n",
       "8   0.023690 -0.386617  0.445436  0.397491\n",
       "9   0.070875  0.585341 -0.352931  0.684521\n",
       "10 -0.238000  0.320594 -0.007920  0.111347\n",
       "11  0.324212  0.072135  0.392902  0.383453\n",
       "12  0.594596 -0.108801  0.218320  0.157903\n",
       "13  0.314781  0.266497 -0.049552  0.215321\n",
       "14  0.078689 -0.141722 -0.173683 -0.396658\n",
       "15 -0.499789 -0.003410 -0.130786  0.218901\n",
       "16 -0.099887  0.283639 -0.907582  0.295281\n",
       "17  0.176543 -0.039269  0.506082 -0.064341\n",
       "18 -0.463825 -0.552053  0.079897 -0.290837\n",
       "19  0.573963 -0.110512  0.279847  0.071158\n",
       "20  0.100580  0.696130 -0.436415 -0.092491\n",
       "21 -0.288654 -0.763020  0.093034 -0.435716\n",
       "22  0.498170 -0.608230 -0.636684  0.328899\n",
       "23  0.301832  0.676416  0.420499  0.465661\n",
       "24 -0.046573 -0.404791 -0.348267  0.280357\n",
       "25 -0.503937 -0.110207 -0.180749  0.280007\n",
       "26  0.021579  0.479582  0.116412 -0.118702\n",
       "27 -0.171384 -0.035896  0.028851 -0.097026\n",
       "28  0.178209 -0.438134 -0.329876 -0.120888\n",
       "29 -0.035516 -0.035421  0.386401 -0.196382\n",
       "30  0.054572  0.007834 -0.369443  0.063776\n",
       "31 -0.530544  0.096058 -0.918655 -0.516391"
      ]
     },
     "execution_count": 36,
     "metadata": {},
     "output_type": "execute_result"
    }
   ],
   "source": [
    "df.groupby(df.index.day).mean()"
   ]
  },
  {
   "cell_type": "code",
   "execution_count": 37,
   "metadata": {},
   "outputs": [
    {
     "name": "stdout",
     "output_type": "stream",
     "text": [
      "2012-01-01 00:00:00    321\n",
      "2012-01-01 00:00:01    422\n",
      "2012-01-01 00:00:02    400\n",
      "2012-01-01 00:00:03    117\n",
      "2012-01-01 00:00:04    480\n",
      "                      ... \n",
      "2012-01-01 00:03:15    110\n",
      "2012-01-01 00:03:16    341\n",
      "2012-01-01 00:03:17    143\n",
      "2012-01-01 00:03:18    458\n",
      "2012-01-01 00:03:19    158\n",
      "Freq: S, Length: 200, dtype: int64\n"
     ]
    }
   ],
   "source": [
    "# Hay mucha flexibilidad en el manejo de las fechas para series de tiempo.\n",
    "\n",
    "rango = pd.date_range(\"1/1/2012\", periods = 200, freq = \"S\")\n",
    "ts = pd.Series(np.random.randint( 0, 500, len(rango) ), index = rango)\n",
    "\n",
    "print(ts)"
   ]
  },
  {
   "cell_type": "code",
   "execution_count": 38,
   "metadata": {},
   "outputs": [
    {
     "name": "stdout",
     "output_type": "stream",
     "text": [
      "2012-01-01 00:00:00    16054\n",
      "2012-01-01 00:01:00    13360\n",
      "2012-01-01 00:02:00    15558\n",
      "2012-01-01 00:03:00     4299\n",
      "Freq: T, dtype: int64\n"
     ]
    }
   ],
   "source": [
    "# Hacemos un resampleo.\n",
    "\n",
    "print( ts.resample(\"1Min\").sum() )"
   ]
  },
  {
   "cell_type": "code",
   "execution_count": 39,
   "metadata": {},
   "outputs": [],
   "source": [
    "# Leer y escribir archivos es muy fácil con \n",
    "# el formato csv, compatible con Excel.\n",
    "\n",
    "# Escribir.\n",
    "ts.name = \"Datos\"\n",
    "ts.index.name = \"Timestamp\"\n",
    "ts.to_csv(\"time_series.csv\")\n"
   ]
  },
  {
   "cell_type": "code",
   "execution_count": 40,
   "metadata": {},
   "outputs": [
    {
     "name": "stdout",
     "output_type": "stream",
     "text": [
      "                     Datos\n",
      "Timestamp                 \n",
      "2012-01-01 00:00:00    321\n",
      "2012-01-01 00:00:01    422\n",
      "2012-01-01 00:00:02    400\n",
      "2012-01-01 00:00:03    117\n",
      "2012-01-01 00:00:04    480\n",
      "...                    ...\n",
      "2012-01-01 00:03:15    110\n",
      "2012-01-01 00:03:16    341\n",
      "2012-01-01 00:03:17    143\n",
      "2012-01-01 00:03:18    458\n",
      "2012-01-01 00:03:19    158\n",
      "\n",
      "[200 rows x 1 columns]\n"
     ]
    }
   ],
   "source": [
    "# Leer archivo.\n",
    "\n",
    "ts_2 = pd.read_csv(\"time_series.csv\", index_col = \"Timestamp\")\n",
    "\n",
    "print(ts_2)"
   ]
  },
  {
   "cell_type": "code",
   "execution_count": 41,
   "metadata": {},
   "outputs": [
    {
     "name": "stdout",
     "output_type": "stream",
     "text": [
      "Index(['2012-01-01 00:00:00', '2012-01-01 00:00:01', '2012-01-01 00:00:02',\n",
      "       '2012-01-01 00:00:03', '2012-01-01 00:00:04', '2012-01-01 00:00:05',\n",
      "       '2012-01-01 00:00:06', '2012-01-01 00:00:07', '2012-01-01 00:00:08',\n",
      "       '2012-01-01 00:00:09',\n",
      "       ...\n",
      "       '2012-01-01 00:03:10', '2012-01-01 00:03:11', '2012-01-01 00:03:12',\n",
      "       '2012-01-01 00:03:13', '2012-01-01 00:03:14', '2012-01-01 00:03:15',\n",
      "       '2012-01-01 00:03:16', '2012-01-01 00:03:17', '2012-01-01 00:03:18',\n",
      "       '2012-01-01 00:03:19'],\n",
      "      dtype='object', name='Timestamp', length=200)\n"
     ]
    }
   ],
   "source": [
    "print( ts_2.index )"
   ]
  },
  {
   "cell_type": "code",
   "execution_count": 42,
   "metadata": {},
   "outputs": [
    {
     "name": "stdout",
     "output_type": "stream",
     "text": [
      "DatetimeIndex(['2012-01-01 00:00:00', '2012-01-01 00:00:01',\n",
      "               '2012-01-01 00:00:02', '2012-01-01 00:00:03',\n",
      "               '2012-01-01 00:00:04', '2012-01-01 00:00:05',\n",
      "               '2012-01-01 00:00:06', '2012-01-01 00:00:07',\n",
      "               '2012-01-01 00:00:08', '2012-01-01 00:00:09',\n",
      "               ...\n",
      "               '2012-01-01 00:03:10', '2012-01-01 00:03:11',\n",
      "               '2012-01-01 00:03:12', '2012-01-01 00:03:13',\n",
      "               '2012-01-01 00:03:14', '2012-01-01 00:03:15',\n",
      "               '2012-01-01 00:03:16', '2012-01-01 00:03:17',\n",
      "               '2012-01-01 00:03:18', '2012-01-01 00:03:19'],\n",
      "              dtype='datetime64[ns]', name='Timestamp', length=200, freq=None)\n"
     ]
    }
   ],
   "source": [
    "ts_2.index = pd.to_datetime( ts_2.index )\n",
    "\n",
    "print(ts_2.index)"
   ]
  },
  {
   "cell_type": "code",
   "execution_count": 43,
   "metadata": {},
   "outputs": [
    {
     "name": "stdout",
     "output_type": "stream",
     "text": [
      "      Col_1     Col_2\n",
      "0  0.011712 -1.012935\n",
      "1 -1.157727 -0.351751\n",
      "2 -0.205312  0.784919\n",
      "3 -0.114543  0.110804\n",
      "4 -1.248067  1.581528\n",
      "\n",
      "          Col_1     Col_2\n",
      "Col_1  1.000000  0.029431\n",
      "Col_2  0.029431  1.000000\n",
      "\n",
      "          Col_1     Col_2\n",
      "Col_1  0.990424  0.029596\n",
      "Col_2  0.029596  1.021027\n",
      "\n",
      "0.037162751548199445\n"
     ]
    }
   ],
   "source": [
    "# Correlación\n",
    "\n",
    "# Creamos un dataframe aleatorio.\n",
    "df = pd.DataFrame(np.random.randn(1000,2), columns = [\"Col_1\", \"Col_2\"])\n",
    "\n",
    "print(df.head())\n",
    "print()\n",
    "\n",
    "# Matriz de correlación\n",
    "print( df.corr() )\n",
    "print()\n",
    "\n",
    "# Matriz de covarianza\n",
    "print( df.cov() )\n",
    "print()\n",
    "\n",
    "# Autocorrelación.\n",
    "print(df[\"Col_1\"].autocorr(lag = 1))"
   ]
  },
  {
   "cell_type": "code",
   "execution_count": 44,
   "metadata": {},
   "outputs": [
    {
     "name": "stdout",
     "output_type": "stream",
     "text": [
      "      Col_1     Col_2\n",
      "0 -0.056030  0.023527\n",
      "1 -0.489505  0.824042\n",
      "2 -0.276109 -0.521740\n",
      "3 -2.693434 -0.566829\n",
      "4  1.290869 -2.115969\n",
      "\n",
      "      Col_1     Col_2\n",
      "0 -1.105007 -0.124848\n",
      "1  2.944958  0.039948\n",
      "2 -0.723169  0.210178\n",
      "3  0.198669  0.026255\n",
      "4 -0.305018  0.206550\n",
      "\n",
      "        Col_1     Col_2\n",
      "0   -0.056030  0.023527\n",
      "1   -0.489505  0.824042\n",
      "2   -0.276109 -0.521740\n",
      "3   -2.693434 -0.566829\n",
      "4    1.290869 -2.115969\n",
      "..        ...       ...\n",
      "195  1.713550  0.573105\n",
      "196  0.582938 -1.030717\n",
      "197  1.395751 -0.126859\n",
      "198  1.122381 -1.428322\n",
      "199 -1.448325  0.461974\n",
      "\n",
      "[200 rows x 2 columns]\n"
     ]
    }
   ],
   "source": [
    "# Concatenar dataframes.\n",
    "\n",
    "# Creamos un dataframe aleatorio.\n",
    "df_1 = pd.DataFrame(np.random.randn(100,2), columns = [\"Col_1\", \"Col_2\"])\n",
    "df_2 = pd.DataFrame(np.random.randn(100,2), columns = [\"Col_1\", \"Col_2\"])\n",
    "\n",
    "print(df_1.head())\n",
    "print()\n",
    "print(df_2.head())\n",
    "print()\n",
    "\n",
    "# Concatenamos.\n",
    "df = pd.concat([df_1, df_2], axis = 0, ignore_index = True)\n",
    "\n",
    "# Reiniciamos el índice.\n",
    "df = df.reset_index(drop = True)\n",
    "\n",
    "print(df)"
   ]
  },
  {
   "cell_type": "code",
   "execution_count": 45,
   "metadata": {},
   "outputs": [
    {
     "name": "stdout",
     "output_type": "stream",
     "text": [
      "      Col_1     Col_2\n",
      "0  0.828310  0.550275\n",
      "1  0.682187 -0.619901\n",
      "2  0.241013  0.068001\n",
      "3 -0.161554 -0.930467\n",
      "4  1.072136 -0.772513\n",
      "\n",
      "      Col_3     Col_4\n",
      "0 -0.012879  0.649223\n",
      "1  1.307390 -0.017059\n",
      "2  0.748104  0.697904\n",
      "3  1.179369 -0.024348\n",
      "4 -0.903988 -0.484414\n",
      "\n",
      "       Col_1     Col_2     Col_3     Col_4\n",
      "0   0.828310  0.550275 -0.012879  0.649223\n",
      "1   0.682187 -0.619901  1.307390 -0.017059\n",
      "2   0.241013  0.068001  0.748104  0.697904\n",
      "3  -0.161554 -0.930467  1.179369 -0.024348\n",
      "4   1.072136 -0.772513 -0.903988 -0.484414\n",
      "..       ...       ...       ...       ...\n",
      "95 -1.470397 -1.088074  1.653223 -0.285305\n",
      "96 -0.932873  0.155548  0.894440 -1.177244\n",
      "97 -0.496353  1.480891 -0.827917  0.228381\n",
      "98 -0.096301  0.756939 -0.476784 -1.687545\n",
      "99  0.565201 -0.198155  2.065439  1.474111\n",
      "\n",
      "[100 rows x 4 columns]\n"
     ]
    }
   ],
   "source": [
    "# Concatenar dataframes.\n",
    "\n",
    "# Creamos un dataframe aleatorio.\n",
    "df_1 = pd.DataFrame(np.random.randn(100,2), columns = [\"Col_1\", \"Col_2\"])\n",
    "df_2 = pd.DataFrame(np.random.randn(100,2), columns = [\"Col_3\", \"Col_4\"])\n",
    "\n",
    "print(df_1.head())\n",
    "print()\n",
    "print(df_2.head())\n",
    "print()\n",
    "\n",
    "# Concatenamos.\n",
    "df = pd.concat([df_1, df_2], axis = 1)\n",
    "\n",
    "print(df)"
   ]
  },
  {
   "cell_type": "code",
   "execution_count": 46,
   "metadata": {},
   "outputs": [
    {
     "name": "stdout",
     "output_type": "stream",
     "text": [
      "0    0\n",
      "1    6\n",
      "2    1\n",
      "3    4\n",
      "4    4\n",
      "5    6\n",
      "6    4\n",
      "7    5\n",
      "8    3\n",
      "9    3\n",
      "dtype: int64\n"
     ]
    }
   ],
   "source": [
    "# Se puede obtener un histograma.\n",
    "\n",
    "s = pd.Series(np.random.randint(0, 7, size = 10))\n",
    "print (s)\n"
   ]
  },
  {
   "cell_type": "code",
   "execution_count": 47,
   "metadata": {},
   "outputs": [
    {
     "name": "stdout",
     "output_type": "stream",
     "text": [
      "4    3\n",
      "6    2\n",
      "3    2\n",
      "0    1\n",
      "1    1\n",
      "5    1\n",
      "dtype: int64\n"
     ]
    }
   ],
   "source": [
    "print(s.value_counts())"
   ]
  },
  {
   "cell_type": "code",
   "execution_count": 48,
   "metadata": {},
   "outputs": [],
   "source": [
    "# Cargar el archivo Electrico_residencial_2010_2017\n",
    "# Selecciona las entradas correspondientes a Baja California.\n",
    "# Ordena los datos de menor a mayor consumo en 2010.\n",
    "# Selecciona los municipios con una cantidad de usiarios en 2012 menor a 100\n",
    "# Encuentra el municipio con mayor consumo en tarifa DAC.\n",
    "# Selecciona solo la tarifa DAC.\n",
    "# Encuentra la correlación entre el consumo de 2012 y 2013"
   ]
  }
 ],
 "metadata": {
  "kernelspec": {
   "display_name": "gv",
   "language": "python",
   "name": "python3"
  },
  "language_info": {
   "codemirror_mode": {
    "name": "ipython",
    "version": 3
   },
   "file_extension": ".py",
   "mimetype": "text/x-python",
   "name": "python",
   "nbconvert_exporter": "python",
   "pygments_lexer": "ipython3",
   "version": "3.9.9"
  },
  "orig_nbformat": 4,
  "vscode": {
   "interpreter": {
    "hash": "cce8d45697d85db6636183b0f945e1ffea3934773870cd67d93bb4bbe05deaec"
   }
  }
 },
 "nbformat": 4,
 "nbformat_minor": 2
}
