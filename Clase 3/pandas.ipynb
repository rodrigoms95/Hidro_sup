{
 "cells": [
  {
   "cell_type": "code",
   "execution_count": 1,
   "metadata": {},
   "outputs": [],
   "source": [
    "# Pandas es el Excel de python.\n",
    "# Obtenido de: https://pandas.pydata.org/docs/user_guide/10min.html\n",
    "\n",
    "import pandas as pd\n",
    "import numpy as np"
   ]
  },
  {
   "cell_type": "code",
   "execution_count": 2,
   "metadata": {},
   "outputs": [
    {
     "name": "stdout",
     "output_type": "stream",
     "text": [
      "0    1.0\n",
      "1    3.0\n",
      "2    5.0\n",
      "3    NaN\n",
      "4    6.0\n",
      "5    8.0\n",
      "dtype: float64\n"
     ]
    }
   ],
   "source": [
    "# Una columna en pandas se llama una serie\n",
    "# np.nan es un valor faltante\n",
    "# Cada elemento tiene un índice.\n",
    "\n",
    "s = pd.Series([1, 3, 5, np.nan, 6, 8])\n",
    "print(s)"
   ]
  },
  {
   "cell_type": "code",
   "execution_count": 3,
   "metadata": {},
   "outputs": [
    {
     "name": "stdout",
     "output_type": "stream",
     "text": [
      "DatetimeIndex(['2013-01-01', '2013-01-02', '2013-01-03', '2013-01-04',\n",
      "               '2013-01-05', '2013-01-06'],\n",
      "              dtype='datetime64[ns]', freq='D')\n"
     ]
    }
   ],
   "source": [
    "# El índice puede ser una fecha\n",
    "\n",
    "fechas = pd.date_range(\"20130101\", periods = 6, freq = \"D\")\n",
    "\n",
    "print(fechas)"
   ]
  },
  {
   "cell_type": "code",
   "execution_count": 4,
   "metadata": {},
   "outputs": [
    {
     "name": "stdout",
     "output_type": "stream",
     "text": [
      "2013-01-01    1.0\n",
      "2013-01-02    3.0\n",
      "2013-01-03    5.0\n",
      "2013-01-04    NaN\n",
      "2013-01-05    6.0\n",
      "2013-01-06    8.0\n",
      "Freq: D, Name: datos, dtype: float64\n"
     ]
    }
   ],
   "source": [
    "s = pd.Series([1, 3, 5, np.nan, 6, 8], index = fechas, name = \"datos\")\n",
    "\n",
    "print(s)"
   ]
  },
  {
   "cell_type": "code",
   "execution_count": 5,
   "metadata": {},
   "outputs": [
    {
     "name": "stdout",
     "output_type": "stream",
     "text": [
      "                   A         B         C         D\n",
      "2013-01-01  3.007878 -0.909170 -0.859399  0.182561\n",
      "2013-01-02  1.131851  0.734660 -0.022333  0.211655\n",
      "2013-01-03  1.342641 -1.051362 -1.170588 -0.531547\n",
      "2013-01-04 -1.975218  0.442906 -1.090930 -1.357888\n",
      "2013-01-05  0.643082 -1.543886  0.219861 -0.552904\n",
      "2013-01-06  0.083203  2.232580 -0.200007  1.491007\n"
     ]
    }
   ],
   "source": [
    "# Un dataframe es un conjunto de columnas.\n",
    "\n",
    "# creado a partir de series.\n",
    "df = pd.DataFrame( np.random.randn(6, 4), index = fechas,\n",
    "    columns = [\"A\", \"B\", \"C\", \"D\"] )\n",
    "\n",
    "print(df)"
   ]
  },
  {
   "cell_type": "code",
   "execution_count": 6,
   "metadata": {},
   "outputs": [
    {
     "name": "stdout",
     "output_type": "stream",
     "text": [
      "                   A         B         C         D\n",
      "2013-01-01  3.007878 -0.909170 -0.859399  0.182561\n",
      "2013-01-02  1.131851  0.734660 -0.022333  0.211655\n",
      "2013-01-03  1.342641 -1.051362 -1.170588 -0.531547\n",
      "2013-01-04 -1.975218  0.442906 -1.090930 -1.357888\n",
      "2013-01-05  0.643082 -1.543886  0.219861 -0.552904\n",
      "                   A         B         C         D\n",
      "2013-01-02  1.131851  0.734660 -0.022333  0.211655\n",
      "2013-01-03  1.342641 -1.051362 -1.170588 -0.531547\n",
      "2013-01-04 -1.975218  0.442906 -1.090930 -1.357888\n",
      "2013-01-05  0.643082 -1.543886  0.219861 -0.552904\n",
      "2013-01-06  0.083203  2.232580 -0.200007  1.491007\n"
     ]
    }
   ],
   "source": [
    "# head() y tail() muestran la parte \n",
    "# superior e inferior del Dataframe.\n",
    "\n",
    "print(df.head())\n",
    "print(df.tail())"
   ]
  },
  {
   "cell_type": "code",
   "execution_count": 7,
   "metadata": {},
   "outputs": [
    {
     "name": "stdout",
     "output_type": "stream",
     "text": [
      "DatetimeIndex(['2013-01-01', '2013-01-02', '2013-01-03', '2013-01-04',\n",
      "               '2013-01-05', '2013-01-06'],\n",
      "              dtype='datetime64[ns]', freq='D')\n",
      "Index(['A', 'B', 'C', 'D'], dtype='object')\n"
     ]
    }
   ],
   "source": [
    "# Podemos acceder al índice y las columnas.\n",
    "\n",
    "print(df.index)\n",
    "print(df.columns)"
   ]
  },
  {
   "cell_type": "code",
   "execution_count": 8,
   "metadata": {},
   "outputs": [
    {
     "name": "stdout",
     "output_type": "stream",
     "text": [
      "   2013-01-01  2013-01-02  2013-01-03  2013-01-04  2013-01-05  2013-01-06\n",
      "A    3.007878    1.131851    1.342641   -1.975218    0.643082    0.083203\n",
      "B   -0.909170    0.734660   -1.051362    0.442906   -1.543886    2.232580\n",
      "C   -0.859399   -0.022333   -1.170588   -1.090930    0.219861   -0.200007\n",
      "D    0.182561    0.211655   -0.531547   -1.357888   -0.552904    1.491007\n"
     ]
    }
   ],
   "source": [
    "# Trasponer.\n",
    "\n",
    "print(df.T)"
   ]
  },
  {
   "cell_type": "code",
   "execution_count": 9,
   "metadata": {},
   "outputs": [
    {
     "name": "stdout",
     "output_type": "stream",
     "text": [
      "[[ 3.0078783  -0.90916954 -0.85939853  0.18256081]\n",
      " [ 1.1318511   0.73466008 -0.02233323  0.21165544]\n",
      " [ 1.34264083 -1.05136249 -1.17058846 -0.53154656]\n",
      " [-1.975218    0.4429058  -1.09092988 -1.35788841]\n",
      " [ 0.64308197 -1.54388628  0.21986133 -0.55290415]\n",
      " [ 0.08320303  2.23257962 -0.20000655  1.49100659]]\n"
     ]
    }
   ],
   "source": [
    "# Convertir a un arreglo de numpy.\n",
    "\n",
    "print( df.to_numpy() )"
   ]
  },
  {
   "cell_type": "code",
   "execution_count": 10,
   "metadata": {},
   "outputs": [
    {
     "name": "stdout",
     "output_type": "stream",
     "text": [
      "              A         B         C         D\n",
      "count  6.000000  6.000000  6.000000  6.000000\n",
      "mean   0.705573 -0.015712 -0.520566 -0.092853\n",
      "std    1.641101  1.416641  0.593612  0.967637\n",
      "min   -1.975218 -1.543886 -1.170588 -1.357888\n",
      "25%    0.223173 -1.015814 -1.033047 -0.547565\n",
      "50%    0.887467 -0.233132 -0.529703 -0.174493\n",
      "75%    1.289943  0.661722 -0.066752  0.204382\n",
      "max    3.007878  2.232580  0.219861  1.491007\n"
     ]
    }
   ],
   "source": [
    "# Estadística descriptiva.\n",
    "\n",
    "print( df.describe() )"
   ]
  },
  {
   "cell_type": "code",
   "execution_count": 11,
   "metadata": {},
   "outputs": [
    {
     "name": "stdout",
     "output_type": "stream",
     "text": [
      "                   A         B         C         D\n",
      "2013-01-06  0.083203  2.232580 -0.200007  1.491007\n",
      "2013-01-05  0.643082 -1.543886  0.219861 -0.552904\n",
      "2013-01-04 -1.975218  0.442906 -1.090930 -1.357888\n",
      "2013-01-03  1.342641 -1.051362 -1.170588 -0.531547\n",
      "2013-01-02  1.131851  0.734660 -0.022333  0.211655\n",
      "2013-01-01  3.007878 -0.909170 -0.859399  0.182561\n"
     ]
    }
   ],
   "source": [
    "# Ordenar datos.\n",
    "\n",
    "# Por índice.\n",
    "\n",
    "print( df.sort_index(ascending = False) )"
   ]
  },
  {
   "cell_type": "code",
   "execution_count": 12,
   "metadata": {},
   "outputs": [
    {
     "name": "stdout",
     "output_type": "stream",
     "text": [
      "                   A         B         C         D\n",
      "2013-01-05  0.643082 -1.543886  0.219861 -0.552904\n",
      "2013-01-03  1.342641 -1.051362 -1.170588 -0.531547\n",
      "2013-01-01  3.007878 -0.909170 -0.859399  0.182561\n",
      "2013-01-04 -1.975218  0.442906 -1.090930 -1.357888\n",
      "2013-01-02  1.131851  0.734660 -0.022333  0.211655\n",
      "2013-01-06  0.083203  2.232580 -0.200007  1.491007\n"
     ]
    }
   ],
   "source": [
    "# Por columna.\n",
    "print( df.sort_values(by = \"B\") )"
   ]
  },
  {
   "cell_type": "code",
   "execution_count": 13,
   "metadata": {},
   "outputs": [
    {
     "name": "stdout",
     "output_type": "stream",
     "text": [
      "2013-01-01    3.007878\n",
      "2013-01-02    1.131851\n",
      "2013-01-03    1.342641\n",
      "2013-01-04   -1.975218\n",
      "2013-01-05    0.643082\n",
      "2013-01-06    0.083203\n",
      "Freq: D, Name: A, dtype: float64\n"
     ]
    }
   ],
   "source": [
    "# Escoger una columna.\n",
    "\n",
    "print( df[\"A\"] )"
   ]
  },
  {
   "cell_type": "code",
   "execution_count": 14,
   "metadata": {},
   "outputs": [
    {
     "name": "stdout",
     "output_type": "stream",
     "text": [
      "A    3.007878\n",
      "B   -0.909170\n",
      "C   -0.859399\n",
      "D    0.182561\n",
      "Name: 2013-01-01 00:00:00, dtype: float64\n"
     ]
    }
   ],
   "source": [
    "# Escoger una fila.\n",
    "\n",
    "print( df.loc[df.index[0]] )"
   ]
  },
  {
   "cell_type": "code",
   "execution_count": 15,
   "metadata": {},
   "outputs": [
    {
     "name": "stdout",
     "output_type": "stream",
     "text": [
      "A    3.007878\n",
      "B   -0.909170\n",
      "C   -0.859399\n",
      "D    0.182561\n",
      "Name: 2013-01-01 00:00:00, dtype: float64\n"
     ]
    }
   ],
   "source": [
    "# Escoger por número de fila.\n",
    "\n",
    "print( df.iloc[0] )"
   ]
  },
  {
   "cell_type": "code",
   "execution_count": 16,
   "metadata": {},
   "outputs": [
    {
     "name": "stdout",
     "output_type": "stream",
     "text": [
      "-1.0513624913877697\n"
     ]
    }
   ],
   "source": [
    "# Escoger por fila y columna.\n",
    "\n",
    "print( df.loc[df.index[2], \"B\"] )"
   ]
  },
  {
   "cell_type": "code",
   "execution_count": 17,
   "metadata": {},
   "outputs": [
    {
     "name": "stdout",
     "output_type": "stream",
     "text": [
      "-1.0513624913877697\n"
     ]
    }
   ],
   "source": [
    "# Escoger por número de fila y columna.\n",
    "\n",
    "print( df.iloc[2, 1] )"
   ]
  },
  {
   "cell_type": "code",
   "execution_count": 18,
   "metadata": {},
   "outputs": [
    {
     "name": "stdout",
     "output_type": "stream",
     "text": [
      "                   B         C\n",
      "2013-01-03 -1.051362 -1.170588\n",
      "2013-01-04  0.442906 -1.090930\n"
     ]
    }
   ],
   "source": [
    "# Escoger una subsección del dataframe.\n",
    "\n",
    "df_2 = df.iloc[2:4, 1:3]\n",
    "print( df_2 )"
   ]
  },
  {
   "cell_type": "code",
   "execution_count": 19,
   "metadata": {},
   "outputs": [
    {
     "name": "stdout",
     "output_type": "stream",
     "text": [
      "                   A         B         C         D\n",
      "2013-01-03  1.342641 -1.051362 -1.170588 -0.531547\n",
      "2013-01-04 -1.975218  0.442906 -1.090930 -1.357888\n"
     ]
    }
   ],
   "source": [
    "df_2 = df.iloc[2:4, :]\n",
    "print( df_2 )\n",
    "\n",
    "# Las copias y vistas funcionan igual que en numpy!!"
   ]
  },
  {
   "cell_type": "code",
   "execution_count": 20,
   "metadata": {},
   "outputs": [
    {
     "name": "stdout",
     "output_type": "stream",
     "text": [
      "                   A         B         C         D\n",
      "2013-01-01  3.007878 -0.909170 -0.859399  0.182561\n",
      "2013-01-02  1.131851  0.734660 -0.022333  0.211655\n",
      "2013-01-03  1.342641 -1.051362 -1.170588 -0.531547\n",
      "2013-01-05  0.643082 -1.543886  0.219861 -0.552904\n",
      "2013-01-06  0.083203  2.232580 -0.200007  1.491007\n"
     ]
    }
   ],
   "source": [
    "# Búsqueda por condiciones.\n",
    "\n",
    "# En una columna.\n",
    "print( df[df[\"A\"] > 0] )"
   ]
  },
  {
   "cell_type": "code",
   "execution_count": 21,
   "metadata": {},
   "outputs": [
    {
     "name": "stdout",
     "output_type": "stream",
     "text": [
      "                   A         B         C         D\n",
      "2013-01-01  3.007878       NaN       NaN  0.182561\n",
      "2013-01-02  1.131851  0.734660       NaN  0.211655\n",
      "2013-01-03  1.342641       NaN       NaN       NaN\n",
      "2013-01-04       NaN  0.442906       NaN       NaN\n",
      "2013-01-05  0.643082       NaN  0.219861       NaN\n",
      "2013-01-06  0.083203  2.232580       NaN  1.491007\n"
     ]
    }
   ],
   "source": [
    "# En todo el dataframe.\n",
    "\n",
    "print( df[df>0] )"
   ]
  },
  {
   "cell_type": "code",
   "execution_count": 22,
   "metadata": {},
   "outputs": [
    {
     "name": "stdout",
     "output_type": "stream",
     "text": [
      "                   A         B         C         D       E\n",
      "2013-01-01  3.007878 -0.909170 -0.859399  0.182561     uno\n",
      "2013-01-02  1.131851  0.734660 -0.022333  0.211655     uno\n",
      "2013-01-03  1.342641 -1.051362 -1.170588 -0.531547     dos\n",
      "2013-01-04 -1.975218  0.442906 -1.090930 -1.357888    tres\n",
      "2013-01-05  0.643082 -1.543886  0.219861 -0.552904  cuatro\n",
      "2013-01-06  0.083203  2.232580 -0.200007  1.491007    tres\n"
     ]
    }
   ],
   "source": [
    "# Agregar columnas.\n",
    "# Todos los elementos de una columna son del mismo tipo.\n",
    "# Las columnas pueden tener distintos tipos.\n",
    "\n",
    "df[\"E\"] = [\"uno\", \"uno\", \"dos\", \"tres\", \"cuatro\", \"tres\"]\n",
    "\n",
    "print(df)"
   ]
  },
  {
   "cell_type": "code",
   "execution_count": 23,
   "metadata": {},
   "outputs": [
    {
     "name": "stdout",
     "output_type": "stream",
     "text": [
      "                   A         B         C         D       E    F\n",
      "2013-01-01  3.007878 -0.909170 -0.859399  0.182561     uno  1.0\n",
      "2013-01-02  1.131851  0.734660 -0.022333  0.211655     uno  1.8\n",
      "2013-01-03  1.342641 -1.051362 -1.170588 -0.531547     dos  2.6\n",
      "2013-01-04 -1.975218  0.442906 -1.090930 -1.357888    tres  3.4\n",
      "2013-01-05  0.643082 -1.543886  0.219861 -0.552904  cuatro  4.2\n"
     ]
    }
   ],
   "source": [
    "# Nueva columna con arreglos.\n",
    "\n",
    "df[\"F\"] = np.linspace(1, 5, 6)\n",
    "print(df.head())"
   ]
  },
  {
   "cell_type": "code",
   "execution_count": 24,
   "metadata": {},
   "outputs": [
    {
     "name": "stdout",
     "output_type": "stream",
     "text": [
      "                   A         B         C         D       E    F\n",
      "2013-01-03  1.342641 -1.051362 -1.170588 -0.531547     dos  2.6\n",
      "2013-01-05  0.643082 -1.543886  0.219861 -0.552904  cuatro  4.2\n"
     ]
    }
   ],
   "source": [
    "# Buscar valores específicos con isin()\n",
    "\n",
    "print( df[df[\"E\"].isin([\"dos\", \"cuatro\"])] )"
   ]
  },
  {
   "cell_type": "code",
   "execution_count": 25,
   "metadata": {},
   "outputs": [
    {
     "name": "stdout",
     "output_type": "stream",
     "text": [
      "                   A          B         C         D       E    F\n",
      "2013-01-01  3.007878  10.000000 -0.859399  0.182561     uno  1.0\n",
      "2013-01-02  1.131851   0.734660 -0.022333  0.211655     uno  1.8\n",
      "2013-01-03  1.342641  -1.051362 -1.170588 -0.531547     dos  2.6\n",
      "2013-01-04 -1.975218   0.442906 -1.090930 -1.357888    tres  3.4\n",
      "2013-01-05  0.643082  -1.543886  0.219861 -0.552904  cuatro  4.2\n",
      "2013-01-06  0.083203   2.232580 -0.200007  1.491007    tres  5.0\n"
     ]
    }
   ],
   "source": [
    "# Podemos cambiar un valor específico.\n",
    "\n",
    "df.iloc[0, 1] = 10\n",
    "print(df)"
   ]
  },
  {
   "cell_type": "code",
   "execution_count": 26,
   "metadata": {},
   "outputs": [
    {
     "name": "stdout",
     "output_type": "stream",
     "text": [
      "                   A          B         C         D    F\n",
      "2013-01-01  3.007878  10.000000 -0.859399  0.182561  1.0\n",
      "2013-01-02  1.131851   0.734660 -0.022333  0.211655  1.8\n",
      "2013-01-03  1.342641  -1.051362 -1.170588 -0.531547  2.6\n",
      "2013-01-04 -1.975218   0.442906 -1.090930 -1.357888  3.4\n",
      "2013-01-05  0.643082  -1.543886  0.219861 -0.552904  4.2\n",
      "2013-01-06  0.083203   2.232580 -0.200007  1.491007  5.0\n"
     ]
    }
   ],
   "source": [
    "# Quitar columna.\n",
    "\n",
    "df = df.drop(\"E\", axis = 1)\n",
    "print(df)"
   ]
  },
  {
   "cell_type": "code",
   "execution_count": 27,
   "metadata": {},
   "outputs": [
    {
     "name": "stdout",
     "output_type": "stream",
     "text": [
      "                   A          B         C         D    F\n",
      "2013-01-01  3.007878  10.000000  0.000000  0.182561  1.0\n",
      "2013-01-02  1.131851   0.734660  0.000000  0.211655  1.8\n",
      "2013-01-03  1.342641   0.000000  0.000000  0.000000  2.6\n",
      "2013-01-04  0.000000   0.442906  0.000000  0.000000  3.4\n",
      "2013-01-05  0.643082   0.000000  0.219861  0.000000  4.2\n",
      "2013-01-06  0.083203   2.232580  0.000000  1.491007  5.0\n"
     ]
    }
   ],
   "source": [
    "# Establecer valores con condicional.\n",
    "\n",
    "df[df<0] = 0\n",
    "print(df)"
   ]
  },
  {
   "cell_type": "code",
   "execution_count": 28,
   "metadata": {},
   "outputs": [
    {
     "name": "stdout",
     "output_type": "stream",
     "text": [
      "                   A         B         C         D    F\n",
      "2013-01-01       NaN       NaN  0.000000  0.182561  1.0\n",
      "2013-01-02  1.131851  0.734660  0.000000  0.211655  1.8\n",
      "2013-01-03  1.342641  0.000000  0.000000  0.000000  NaN\n",
      "2013-01-04  0.000000  0.442906  0.000000  0.000000  NaN\n",
      "2013-01-05  0.643082  0.000000  0.219861  0.000000  NaN\n",
      "2013-01-06  0.083203       NaN  0.000000  1.491007  NaN\n"
     ]
    }
   ],
   "source": [
    "# Agregamos algunos valores nulos.\n",
    "\n",
    "df[df>2] = np.nan\n",
    "print(df)"
   ]
  },
  {
   "cell_type": "code",
   "execution_count": 29,
   "metadata": {},
   "outputs": [
    {
     "name": "stdout",
     "output_type": "stream",
     "text": [
      "                   A        B    C         D    F\n",
      "2013-01-02  1.131851  0.73466  0.0  0.211655  1.8\n",
      "                     A           B         C         D      F\n",
      "2013-01-01 -100.000000 -100.000000  0.000000  0.182561    1.0\n",
      "2013-01-02    1.131851    0.734660  0.000000  0.211655    1.8\n",
      "2013-01-03    1.342641    0.000000  0.000000  0.000000 -100.0\n",
      "2013-01-04    0.000000    0.442906  0.000000  0.000000 -100.0\n",
      "2013-01-05    0.643082    0.000000  0.219861  0.000000 -100.0\n",
      "2013-01-06    0.083203 -100.000000  0.000000  1.491007 -100.0\n",
      "                A      B      C      D      F\n",
      "2013-01-01   True   True  False  False  False\n",
      "2013-01-02  False  False  False  False  False\n",
      "2013-01-03  False  False  False  False   True\n",
      "2013-01-04  False  False  False  False   True\n",
      "2013-01-05  False  False  False  False   True\n",
      "2013-01-06  False   True  False  False   True\n"
     ]
    }
   ],
   "source": [
    "# Quitar filas con valores nulos.\n",
    "print(df.dropna())\n",
    "\n",
    "# Rellenar valores nulos.\n",
    "print(df.fillna(-100))\n",
    "\n",
    "# Determinar valores nulos.\n",
    "print(df.isna())"
   ]
  },
  {
   "cell_type": "code",
   "execution_count": 30,
   "metadata": {},
   "outputs": [
    {
     "name": "stdout",
     "output_type": "stream",
     "text": [
      "                   A         B         C         D    F         G\n",
      "2013-01-01       NaN       NaN  0.000000  0.182561  1.0       NaN\n",
      "2013-01-02  1.131851  0.734660  0.000000  0.211655  1.8  1.131851\n",
      "2013-01-03  1.342641  0.000000  0.000000  0.000000  NaN  1.342641\n",
      "2013-01-04  0.000000  0.442906  0.000000  0.000000  NaN  0.000000\n",
      "2013-01-05  0.643082  0.000000  0.219861  0.000000  NaN  0.862943\n",
      "2013-01-06  0.083203       NaN  0.000000  1.491007  NaN  0.083203\n",
      "A    0.640155\n",
      "B    0.294391\n",
      "C    0.036644\n",
      "D    0.314204\n",
      "F    1.400000\n",
      "G    0.684128\n",
      "dtype: float64\n",
      "2013-01-01    0.394187\n",
      "2013-01-02    0.835003\n",
      "2013-01-03    0.537056\n",
      "2013-01-04    0.088581\n",
      "2013-01-05    0.345177\n",
      "2013-01-06    0.414353\n",
      "Freq: D, dtype: float64\n"
     ]
    }
   ],
   "source": [
    "# operaciones.\n",
    "\n",
    "# Entre columnas.\n",
    "df[\"G\"] = df[\"A\"] + df[\"C\"]\n",
    "\n",
    "print(df)\n",
    "\n",
    "# promedio\n",
    "print(df.mean())\n",
    "print(df.mean(1))"
   ]
  },
  {
   "cell_type": "code",
   "execution_count": 31,
   "metadata": {},
   "outputs": [
    {
     "data": {
      "text/html": [
       "<div>\n",
       "<style scoped>\n",
       "    .dataframe tbody tr th:only-of-type {\n",
       "        vertical-align: middle;\n",
       "    }\n",
       "\n",
       "    .dataframe tbody tr th {\n",
       "        vertical-align: top;\n",
       "    }\n",
       "\n",
       "    .dataframe thead th {\n",
       "        text-align: right;\n",
       "    }\n",
       "</style>\n",
       "<table border=\"1\" class=\"dataframe\">\n",
       "  <thead>\n",
       "    <tr style=\"text-align: right;\">\n",
       "      <th></th>\n",
       "      <th>A</th>\n",
       "      <th>B</th>\n",
       "      <th>C</th>\n",
       "      <th>D</th>\n",
       "      <th>F</th>\n",
       "      <th>G</th>\n",
       "    </tr>\n",
       "  </thead>\n",
       "  <tbody>\n",
       "    <tr>\n",
       "      <th>2013-01-01</th>\n",
       "      <td>NaN</td>\n",
       "      <td>NaN</td>\n",
       "      <td>0.000000</td>\n",
       "      <td>0.182561</td>\n",
       "      <td>1.0</td>\n",
       "      <td>NaN</td>\n",
       "    </tr>\n",
       "    <tr>\n",
       "      <th>2013-01-02</th>\n",
       "      <td>1.131851</td>\n",
       "      <td>0.734660</td>\n",
       "      <td>0.000000</td>\n",
       "      <td>0.394216</td>\n",
       "      <td>2.8</td>\n",
       "      <td>1.131851</td>\n",
       "    </tr>\n",
       "    <tr>\n",
       "      <th>2013-01-03</th>\n",
       "      <td>2.474492</td>\n",
       "      <td>0.734660</td>\n",
       "      <td>0.000000</td>\n",
       "      <td>0.394216</td>\n",
       "      <td>NaN</td>\n",
       "      <td>2.474492</td>\n",
       "    </tr>\n",
       "    <tr>\n",
       "      <th>2013-01-04</th>\n",
       "      <td>2.474492</td>\n",
       "      <td>1.177566</td>\n",
       "      <td>0.000000</td>\n",
       "      <td>0.394216</td>\n",
       "      <td>NaN</td>\n",
       "      <td>2.474492</td>\n",
       "    </tr>\n",
       "    <tr>\n",
       "      <th>2013-01-05</th>\n",
       "      <td>3.117574</td>\n",
       "      <td>1.177566</td>\n",
       "      <td>0.219861</td>\n",
       "      <td>0.394216</td>\n",
       "      <td>NaN</td>\n",
       "      <td>3.337435</td>\n",
       "    </tr>\n",
       "    <tr>\n",
       "      <th>2013-01-06</th>\n",
       "      <td>3.200777</td>\n",
       "      <td>NaN</td>\n",
       "      <td>0.219861</td>\n",
       "      <td>1.885223</td>\n",
       "      <td>NaN</td>\n",
       "      <td>3.420638</td>\n",
       "    </tr>\n",
       "  </tbody>\n",
       "</table>\n",
       "</div>"
      ],
      "text/plain": [
       "                   A         B         C         D    F         G\n",
       "2013-01-01       NaN       NaN  0.000000  0.182561  1.0       NaN\n",
       "2013-01-02  1.131851  0.734660  0.000000  0.394216  2.8  1.131851\n",
       "2013-01-03  2.474492  0.734660  0.000000  0.394216  NaN  2.474492\n",
       "2013-01-04  2.474492  1.177566  0.000000  0.394216  NaN  2.474492\n",
       "2013-01-05  3.117574  1.177566  0.219861  0.394216  NaN  3.337435\n",
       "2013-01-06  3.200777       NaN  0.219861  1.885223  NaN  3.420638"
      ]
     },
     "execution_count": 31,
     "metadata": {},
     "output_type": "execute_result"
    }
   ],
   "source": [
    "# Aplicar operación.\n",
    "# np.cumsum() hace una suma acumulada.\n",
    "df.apply(np.cumsum)"
   ]
  },
  {
   "cell_type": "code",
   "execution_count": 32,
   "metadata": {},
   "outputs": [
    {
     "name": "stderr",
     "output_type": "stream",
     "text": [
      "/opt/homebrew/Caskroom/miniforge/base/envs/gv/lib/python3.9/site-packages/pandas/core/arraylike.py:364: RuntimeWarning: divide by zero encountered in log\n",
      "  result = getattr(ufunc, method)(*inputs, **kwargs)\n"
     ]
    },
    {
     "data": {
      "text/html": [
       "<div>\n",
       "<style scoped>\n",
       "    .dataframe tbody tr th:only-of-type {\n",
       "        vertical-align: middle;\n",
       "    }\n",
       "\n",
       "    .dataframe tbody tr th {\n",
       "        vertical-align: top;\n",
       "    }\n",
       "\n",
       "    .dataframe thead th {\n",
       "        text-align: right;\n",
       "    }\n",
       "</style>\n",
       "<table border=\"1\" class=\"dataframe\">\n",
       "  <thead>\n",
       "    <tr style=\"text-align: right;\">\n",
       "      <th></th>\n",
       "      <th>A</th>\n",
       "      <th>B</th>\n",
       "      <th>C</th>\n",
       "      <th>D</th>\n",
       "      <th>F</th>\n",
       "      <th>G</th>\n",
       "      <th>H</th>\n",
       "    </tr>\n",
       "  </thead>\n",
       "  <tbody>\n",
       "    <tr>\n",
       "      <th>2013-01-01</th>\n",
       "      <td>NaN</td>\n",
       "      <td>NaN</td>\n",
       "      <td>0.000000</td>\n",
       "      <td>0.182561</td>\n",
       "      <td>1.0</td>\n",
       "      <td>NaN</td>\n",
       "      <td>-inf</td>\n",
       "    </tr>\n",
       "    <tr>\n",
       "      <th>2013-01-02</th>\n",
       "      <td>1.131851</td>\n",
       "      <td>0.734660</td>\n",
       "      <td>0.000000</td>\n",
       "      <td>0.211655</td>\n",
       "      <td>1.8</td>\n",
       "      <td>1.131851</td>\n",
       "      <td>-inf</td>\n",
       "    </tr>\n",
       "    <tr>\n",
       "      <th>2013-01-03</th>\n",
       "      <td>1.342641</td>\n",
       "      <td>0.000000</td>\n",
       "      <td>0.000000</td>\n",
       "      <td>0.000000</td>\n",
       "      <td>NaN</td>\n",
       "      <td>1.342641</td>\n",
       "      <td>-inf</td>\n",
       "    </tr>\n",
       "    <tr>\n",
       "      <th>2013-01-04</th>\n",
       "      <td>0.000000</td>\n",
       "      <td>0.442906</td>\n",
       "      <td>0.000000</td>\n",
       "      <td>0.000000</td>\n",
       "      <td>NaN</td>\n",
       "      <td>0.000000</td>\n",
       "      <td>-inf</td>\n",
       "    </tr>\n",
       "    <tr>\n",
       "      <th>2013-01-05</th>\n",
       "      <td>0.643082</td>\n",
       "      <td>0.000000</td>\n",
       "      <td>0.219861</td>\n",
       "      <td>0.000000</td>\n",
       "      <td>NaN</td>\n",
       "      <td>0.862943</td>\n",
       "      <td>-1.514758</td>\n",
       "    </tr>\n",
       "    <tr>\n",
       "      <th>2013-01-06</th>\n",
       "      <td>0.083203</td>\n",
       "      <td>NaN</td>\n",
       "      <td>0.000000</td>\n",
       "      <td>1.491007</td>\n",
       "      <td>NaN</td>\n",
       "      <td>0.083203</td>\n",
       "      <td>-inf</td>\n",
       "    </tr>\n",
       "  </tbody>\n",
       "</table>\n",
       "</div>"
      ],
      "text/plain": [
       "                   A         B         C         D    F         G         H\n",
       "2013-01-01       NaN       NaN  0.000000  0.182561  1.0       NaN      -inf\n",
       "2013-01-02  1.131851  0.734660  0.000000  0.211655  1.8  1.131851      -inf\n",
       "2013-01-03  1.342641  0.000000  0.000000  0.000000  NaN  1.342641      -inf\n",
       "2013-01-04  0.000000  0.442906  0.000000  0.000000  NaN  0.000000      -inf\n",
       "2013-01-05  0.643082  0.000000  0.219861  0.000000  NaN  0.862943 -1.514758\n",
       "2013-01-06  0.083203       NaN  0.000000  1.491007  NaN  0.083203      -inf"
      ]
     },
     "execution_count": 32,
     "metadata": {},
     "output_type": "execute_result"
    }
   ],
   "source": [
    "# Logaritmo a cada elemento.\n",
    "df[\"H\"] = np.log( df[\"C\"] )\n",
    "\n",
    "df"
   ]
  },
  {
   "cell_type": "code",
   "execution_count": 33,
   "metadata": {},
   "outputs": [
    {
     "data": {
      "text/html": [
       "<div>\n",
       "<style scoped>\n",
       "    .dataframe tbody tr th:only-of-type {\n",
       "        vertical-align: middle;\n",
       "    }\n",
       "\n",
       "    .dataframe tbody tr th {\n",
       "        vertical-align: top;\n",
       "    }\n",
       "\n",
       "    .dataframe thead th {\n",
       "        text-align: right;\n",
       "    }\n",
       "</style>\n",
       "<table border=\"1\" class=\"dataframe\">\n",
       "  <thead>\n",
       "    <tr style=\"text-align: right;\">\n",
       "      <th></th>\n",
       "      <th>A</th>\n",
       "      <th>B</th>\n",
       "      <th>C</th>\n",
       "      <th>D</th>\n",
       "      <th>F</th>\n",
       "      <th>G</th>\n",
       "      <th>H</th>\n",
       "      <th>I</th>\n",
       "    </tr>\n",
       "  </thead>\n",
       "  <tbody>\n",
       "    <tr>\n",
       "      <th>2013-01-01</th>\n",
       "      <td>NaN</td>\n",
       "      <td>NaN</td>\n",
       "      <td>0.000000</td>\n",
       "      <td>0.182561</td>\n",
       "      <td>1.0</td>\n",
       "      <td>NaN</td>\n",
       "      <td>-inf</td>\n",
       "      <td>NaN</td>\n",
       "    </tr>\n",
       "    <tr>\n",
       "      <th>2013-01-02</th>\n",
       "      <td>1.131851</td>\n",
       "      <td>0.734660</td>\n",
       "      <td>0.000000</td>\n",
       "      <td>0.211655</td>\n",
       "      <td>1.8</td>\n",
       "      <td>1.131851</td>\n",
       "      <td>-inf</td>\n",
       "      <td>NaN</td>\n",
       "    </tr>\n",
       "    <tr>\n",
       "      <th>2013-01-03</th>\n",
       "      <td>1.342641</td>\n",
       "      <td>0.000000</td>\n",
       "      <td>0.000000</td>\n",
       "      <td>0.000000</td>\n",
       "      <td>NaN</td>\n",
       "      <td>1.342641</td>\n",
       "      <td>-inf</td>\n",
       "      <td>0.0</td>\n",
       "    </tr>\n",
       "    <tr>\n",
       "      <th>2013-01-04</th>\n",
       "      <td>0.000000</td>\n",
       "      <td>0.442906</td>\n",
       "      <td>0.000000</td>\n",
       "      <td>0.000000</td>\n",
       "      <td>NaN</td>\n",
       "      <td>0.000000</td>\n",
       "      <td>-inf</td>\n",
       "      <td>0.0</td>\n",
       "    </tr>\n",
       "    <tr>\n",
       "      <th>2013-01-05</th>\n",
       "      <td>0.643082</td>\n",
       "      <td>0.000000</td>\n",
       "      <td>0.219861</td>\n",
       "      <td>0.000000</td>\n",
       "      <td>NaN</td>\n",
       "      <td>0.862943</td>\n",
       "      <td>-1.514758</td>\n",
       "      <td>0.0</td>\n",
       "    </tr>\n",
       "    <tr>\n",
       "      <th>2013-01-06</th>\n",
       "      <td>0.083203</td>\n",
       "      <td>NaN</td>\n",
       "      <td>0.000000</td>\n",
       "      <td>1.491007</td>\n",
       "      <td>NaN</td>\n",
       "      <td>0.083203</td>\n",
       "      <td>-inf</td>\n",
       "      <td>0.0</td>\n",
       "    </tr>\n",
       "  </tbody>\n",
       "</table>\n",
       "</div>"
      ],
      "text/plain": [
       "                   A         B         C         D    F         G         H  \\\n",
       "2013-01-01       NaN       NaN  0.000000  0.182561  1.0       NaN      -inf   \n",
       "2013-01-02  1.131851  0.734660  0.000000  0.211655  1.8  1.131851      -inf   \n",
       "2013-01-03  1.342641  0.000000  0.000000  0.000000  NaN  1.342641      -inf   \n",
       "2013-01-04  0.000000  0.442906  0.000000  0.000000  NaN  0.000000      -inf   \n",
       "2013-01-05  0.643082  0.000000  0.219861  0.000000  NaN  0.862943 -1.514758   \n",
       "2013-01-06  0.083203       NaN  0.000000  1.491007  NaN  0.083203      -inf   \n",
       "\n",
       "              I  \n",
       "2013-01-01  NaN  \n",
       "2013-01-02  NaN  \n",
       "2013-01-03  0.0  \n",
       "2013-01-04  0.0  \n",
       "2013-01-05  0.0  \n",
       "2013-01-06  0.0  "
      ]
     },
     "execution_count": 33,
     "metadata": {},
     "output_type": "execute_result"
    }
   ],
   "source": [
    "# Recorrer una columna una cierta cantidad de filas.\n",
    "\n",
    "df[\"I\"] = df[\"C\"].shift(2)\n",
    "\n",
    "df"
   ]
  },
  {
   "cell_type": "code",
   "execution_count": 34,
   "metadata": {},
   "outputs": [
    {
     "name": "stdout",
     "output_type": "stream",
     "text": [
      "0    6\n",
      "1    6\n",
      "2    3\n",
      "3    3\n",
      "4    5\n",
      "5    6\n",
      "6    6\n",
      "7    4\n",
      "8    5\n",
      "9    1\n",
      "dtype: int64\n"
     ]
    }
   ],
   "source": [
    "# Se puede obtener un histograma.\n",
    "\n",
    "s = pd.Series(np.random.randint(0, 7, size = 10))\n",
    "print (s)\n"
   ]
  },
  {
   "cell_type": "code",
   "execution_count": 35,
   "metadata": {},
   "outputs": [
    {
     "name": "stdout",
     "output_type": "stream",
     "text": [
      "6    4\n",
      "3    2\n",
      "5    2\n",
      "4    1\n",
      "1    1\n",
      "dtype: int64\n"
     ]
    }
   ],
   "source": [
    "print(s.value_counts())"
   ]
  },
  {
   "cell_type": "code",
   "execution_count": 36,
   "metadata": {},
   "outputs": [
    {
     "name": "stdout",
     "output_type": "stream",
     "text": [
      "                   A         B         C         D\n",
      "2013-01-01  0.225040  0.032689  2.000264  0.158546\n",
      "2013-01-02 -0.253067 -0.823060  0.732808  0.562186\n",
      "2013-01-03  0.036158  0.295104  0.053556  1.207154\n",
      "2013-01-04 -0.253271  0.030089 -0.637101 -0.051489\n",
      "2013-01-05 -0.131738  0.758541 -0.039777 -0.023115\n",
      "...              ...       ...       ...       ...\n",
      "2013-07-15 -2.872059 -1.330135 -0.094820  0.419263\n",
      "2013-07-16  0.687347 -0.553696 -0.052474 -0.673264\n",
      "2013-07-17  0.258002 -0.008737 -0.570560  0.691876\n",
      "2013-07-18 -0.151862 -0.008466 -0.499816  0.315654\n",
      "2013-07-19  0.866259  0.295905  0.173873 -0.268414\n",
      "\n",
      "[200 rows x 4 columns]\n"
     ]
    }
   ],
   "source": [
    "# Agrupar datos\n",
    "\n",
    "fechas = pd.date_range(\"20130101\", periods = 200, freq = \"D\")\n",
    "df = pd.DataFrame( np.random.randn(200, 4), index = fechas,\n",
    "    columns = [\"A\", \"B\", \"C\", \"D\"] )\n",
    "\n",
    "print(df)"
   ]
  },
  {
   "cell_type": "code",
   "execution_count": 37,
   "metadata": {},
   "outputs": [
    {
     "data": {
      "text/html": [
       "<div>\n",
       "<style scoped>\n",
       "    .dataframe tbody tr th:only-of-type {\n",
       "        vertical-align: middle;\n",
       "    }\n",
       "\n",
       "    .dataframe tbody tr th {\n",
       "        vertical-align: top;\n",
       "    }\n",
       "\n",
       "    .dataframe thead th {\n",
       "        text-align: right;\n",
       "    }\n",
       "</style>\n",
       "<table border=\"1\" class=\"dataframe\">\n",
       "  <thead>\n",
       "    <tr style=\"text-align: right;\">\n",
       "      <th></th>\n",
       "      <th>A</th>\n",
       "      <th>B</th>\n",
       "      <th>C</th>\n",
       "      <th>D</th>\n",
       "    </tr>\n",
       "  </thead>\n",
       "  <tbody>\n",
       "    <tr>\n",
       "      <th>1</th>\n",
       "      <td>4.522922</td>\n",
       "      <td>-2.086457</td>\n",
       "      <td>2.816427</td>\n",
       "      <td>0.388388</td>\n",
       "    </tr>\n",
       "    <tr>\n",
       "      <th>2</th>\n",
       "      <td>5.330515</td>\n",
       "      <td>4.658638</td>\n",
       "      <td>6.617321</td>\n",
       "      <td>-2.617100</td>\n",
       "    </tr>\n",
       "    <tr>\n",
       "      <th>3</th>\n",
       "      <td>4.838794</td>\n",
       "      <td>9.183483</td>\n",
       "      <td>3.340863</td>\n",
       "      <td>3.722874</td>\n",
       "    </tr>\n",
       "    <tr>\n",
       "      <th>4</th>\n",
       "      <td>1.976721</td>\n",
       "      <td>0.704714</td>\n",
       "      <td>-0.237758</td>\n",
       "      <td>-13.615722</td>\n",
       "    </tr>\n",
       "    <tr>\n",
       "      <th>5</th>\n",
       "      <td>13.202225</td>\n",
       "      <td>-2.934071</td>\n",
       "      <td>-4.014157</td>\n",
       "      <td>3.179861</td>\n",
       "    </tr>\n",
       "    <tr>\n",
       "      <th>6</th>\n",
       "      <td>6.860170</td>\n",
       "      <td>-6.064772</td>\n",
       "      <td>-5.256009</td>\n",
       "      <td>-1.281053</td>\n",
       "    </tr>\n",
       "    <tr>\n",
       "      <th>7</th>\n",
       "      <td>-0.925903</td>\n",
       "      <td>-1.605635</td>\n",
       "      <td>-4.546258</td>\n",
       "      <td>-0.568339</td>\n",
       "    </tr>\n",
       "  </tbody>\n",
       "</table>\n",
       "</div>"
      ],
      "text/plain": [
       "           A         B         C          D\n",
       "1   4.522922 -2.086457  2.816427   0.388388\n",
       "2   5.330515  4.658638  6.617321  -2.617100\n",
       "3   4.838794  9.183483  3.340863   3.722874\n",
       "4   1.976721  0.704714 -0.237758 -13.615722\n",
       "5  13.202225 -2.934071 -4.014157   3.179861\n",
       "6   6.860170 -6.064772 -5.256009  -1.281053\n",
       "7  -0.925903 -1.605635 -4.546258  -0.568339"
      ]
     },
     "execution_count": 37,
     "metadata": {},
     "output_type": "execute_result"
    }
   ],
   "source": [
    "# Agrupamos y realizamos una operación.\n",
    "df.groupby(df.index.month).sum()"
   ]
  },
  {
   "cell_type": "code",
   "execution_count": 38,
   "metadata": {},
   "outputs": [
    {
     "data": {
      "text/html": [
       "<div>\n",
       "<style scoped>\n",
       "    .dataframe tbody tr th:only-of-type {\n",
       "        vertical-align: middle;\n",
       "    }\n",
       "\n",
       "    .dataframe tbody tr th {\n",
       "        vertical-align: top;\n",
       "    }\n",
       "\n",
       "    .dataframe thead th {\n",
       "        text-align: right;\n",
       "    }\n",
       "</style>\n",
       "<table border=\"1\" class=\"dataframe\">\n",
       "  <thead>\n",
       "    <tr style=\"text-align: right;\">\n",
       "      <th></th>\n",
       "      <th>A</th>\n",
       "      <th>B</th>\n",
       "      <th>C</th>\n",
       "      <th>D</th>\n",
       "    </tr>\n",
       "  </thead>\n",
       "  <tbody>\n",
       "    <tr>\n",
       "      <th>1</th>\n",
       "      <td>-0.251839</td>\n",
       "      <td>-0.118920</td>\n",
       "      <td>0.041703</td>\n",
       "      <td>0.022354</td>\n",
       "    </tr>\n",
       "    <tr>\n",
       "      <th>2</th>\n",
       "      <td>0.158499</td>\n",
       "      <td>0.205744</td>\n",
       "      <td>0.301463</td>\n",
       "      <td>-0.352446</td>\n",
       "    </tr>\n",
       "    <tr>\n",
       "      <th>3</th>\n",
       "      <td>0.243061</td>\n",
       "      <td>0.107841</td>\n",
       "      <td>-0.317754</td>\n",
       "      <td>0.469486</td>\n",
       "    </tr>\n",
       "    <tr>\n",
       "      <th>4</th>\n",
       "      <td>0.236687</td>\n",
       "      <td>0.617257</td>\n",
       "      <td>0.056408</td>\n",
       "      <td>-0.227536</td>\n",
       "    </tr>\n",
       "    <tr>\n",
       "      <th>5</th>\n",
       "      <td>-0.105659</td>\n",
       "      <td>-0.528514</td>\n",
       "      <td>0.376754</td>\n",
       "      <td>0.173485</td>\n",
       "    </tr>\n",
       "    <tr>\n",
       "      <th>6</th>\n",
       "      <td>0.644699</td>\n",
       "      <td>-0.462295</td>\n",
       "      <td>0.587274</td>\n",
       "      <td>0.141083</td>\n",
       "    </tr>\n",
       "    <tr>\n",
       "      <th>7</th>\n",
       "      <td>0.630558</td>\n",
       "      <td>0.079664</td>\n",
       "      <td>-0.687527</td>\n",
       "      <td>0.069174</td>\n",
       "    </tr>\n",
       "    <tr>\n",
       "      <th>8</th>\n",
       "      <td>0.501805</td>\n",
       "      <td>-0.267741</td>\n",
       "      <td>0.158739</td>\n",
       "      <td>0.504529</td>\n",
       "    </tr>\n",
       "    <tr>\n",
       "      <th>9</th>\n",
       "      <td>-0.061040</td>\n",
       "      <td>0.086594</td>\n",
       "      <td>0.172205</td>\n",
       "      <td>1.026687</td>\n",
       "    </tr>\n",
       "    <tr>\n",
       "      <th>10</th>\n",
       "      <td>0.333744</td>\n",
       "      <td>1.161529</td>\n",
       "      <td>0.034939</td>\n",
       "      <td>-0.400194</td>\n",
       "    </tr>\n",
       "    <tr>\n",
       "      <th>11</th>\n",
       "      <td>0.847036</td>\n",
       "      <td>0.132835</td>\n",
       "      <td>-0.343181</td>\n",
       "      <td>-0.506992</td>\n",
       "    </tr>\n",
       "    <tr>\n",
       "      <th>12</th>\n",
       "      <td>-0.010036</td>\n",
       "      <td>0.126456</td>\n",
       "      <td>-0.215377</td>\n",
       "      <td>-0.110001</td>\n",
       "    </tr>\n",
       "    <tr>\n",
       "      <th>13</th>\n",
       "      <td>-0.105981</td>\n",
       "      <td>-0.160826</td>\n",
       "      <td>-0.286089</td>\n",
       "      <td>0.096757</td>\n",
       "    </tr>\n",
       "    <tr>\n",
       "      <th>14</th>\n",
       "      <td>0.198633</td>\n",
       "      <td>0.030655</td>\n",
       "      <td>-0.367832</td>\n",
       "      <td>0.218214</td>\n",
       "    </tr>\n",
       "    <tr>\n",
       "      <th>15</th>\n",
       "      <td>-0.474725</td>\n",
       "      <td>0.189451</td>\n",
       "      <td>0.029486</td>\n",
       "      <td>-0.308143</td>\n",
       "    </tr>\n",
       "    <tr>\n",
       "      <th>16</th>\n",
       "      <td>0.219778</td>\n",
       "      <td>-0.276424</td>\n",
       "      <td>-0.408247</td>\n",
       "      <td>-0.042398</td>\n",
       "    </tr>\n",
       "    <tr>\n",
       "      <th>17</th>\n",
       "      <td>-0.080674</td>\n",
       "      <td>-0.001125</td>\n",
       "      <td>-0.260211</td>\n",
       "      <td>0.474625</td>\n",
       "    </tr>\n",
       "    <tr>\n",
       "      <th>18</th>\n",
       "      <td>-0.051848</td>\n",
       "      <td>0.108608</td>\n",
       "      <td>0.401880</td>\n",
       "      <td>0.222873</td>\n",
       "    </tr>\n",
       "    <tr>\n",
       "      <th>19</th>\n",
       "      <td>0.169872</td>\n",
       "      <td>0.801829</td>\n",
       "      <td>0.026483</td>\n",
       "      <td>-0.346056</td>\n",
       "    </tr>\n",
       "    <tr>\n",
       "      <th>20</th>\n",
       "      <td>0.237792</td>\n",
       "      <td>0.265061</td>\n",
       "      <td>0.073619</td>\n",
       "      <td>-0.880541</td>\n",
       "    </tr>\n",
       "    <tr>\n",
       "      <th>21</th>\n",
       "      <td>-0.259562</td>\n",
       "      <td>-0.029002</td>\n",
       "      <td>0.228757</td>\n",
       "      <td>-0.142364</td>\n",
       "    </tr>\n",
       "    <tr>\n",
       "      <th>22</th>\n",
       "      <td>0.282306</td>\n",
       "      <td>-0.628092</td>\n",
       "      <td>0.219451</td>\n",
       "      <td>0.335896</td>\n",
       "    </tr>\n",
       "    <tr>\n",
       "      <th>23</th>\n",
       "      <td>0.261464</td>\n",
       "      <td>0.692143</td>\n",
       "      <td>-0.384611</td>\n",
       "      <td>-0.351207</td>\n",
       "    </tr>\n",
       "    <tr>\n",
       "      <th>24</th>\n",
       "      <td>0.182456</td>\n",
       "      <td>-0.645267</td>\n",
       "      <td>0.281473</td>\n",
       "      <td>-0.292780</td>\n",
       "    </tr>\n",
       "    <tr>\n",
       "      <th>25</th>\n",
       "      <td>-0.074949</td>\n",
       "      <td>-0.320721</td>\n",
       "      <td>-0.237264</td>\n",
       "      <td>0.015634</td>\n",
       "    </tr>\n",
       "    <tr>\n",
       "      <th>26</th>\n",
       "      <td>0.010727</td>\n",
       "      <td>0.230352</td>\n",
       "      <td>-0.305803</td>\n",
       "      <td>0.004832</td>\n",
       "    </tr>\n",
       "    <tr>\n",
       "      <th>27</th>\n",
       "      <td>0.186908</td>\n",
       "      <td>-0.276500</td>\n",
       "      <td>0.375188</td>\n",
       "      <td>-0.746353</td>\n",
       "    </tr>\n",
       "    <tr>\n",
       "      <th>28</th>\n",
       "      <td>0.934773</td>\n",
       "      <td>0.202783</td>\n",
       "      <td>0.227437</td>\n",
       "      <td>-0.342752</td>\n",
       "    </tr>\n",
       "    <tr>\n",
       "      <th>29</th>\n",
       "      <td>0.564845</td>\n",
       "      <td>-0.927951</td>\n",
       "      <td>0.169196</td>\n",
       "      <td>-0.656908</td>\n",
       "    </tr>\n",
       "    <tr>\n",
       "      <th>30</th>\n",
       "      <td>-0.317849</td>\n",
       "      <td>-0.174415</td>\n",
       "      <td>0.448828</td>\n",
       "      <td>-0.183560</td>\n",
       "    </tr>\n",
       "    <tr>\n",
       "      <th>31</th>\n",
       "      <td>0.900332</td>\n",
       "      <td>-0.801718</td>\n",
       "      <td>-0.782326</td>\n",
       "      <td>-0.023159</td>\n",
       "    </tr>\n",
       "  </tbody>\n",
       "</table>\n",
       "</div>"
      ],
      "text/plain": [
       "           A         B         C         D\n",
       "1  -0.251839 -0.118920  0.041703  0.022354\n",
       "2   0.158499  0.205744  0.301463 -0.352446\n",
       "3   0.243061  0.107841 -0.317754  0.469486\n",
       "4   0.236687  0.617257  0.056408 -0.227536\n",
       "5  -0.105659 -0.528514  0.376754  0.173485\n",
       "6   0.644699 -0.462295  0.587274  0.141083\n",
       "7   0.630558  0.079664 -0.687527  0.069174\n",
       "8   0.501805 -0.267741  0.158739  0.504529\n",
       "9  -0.061040  0.086594  0.172205  1.026687\n",
       "10  0.333744  1.161529  0.034939 -0.400194\n",
       "11  0.847036  0.132835 -0.343181 -0.506992\n",
       "12 -0.010036  0.126456 -0.215377 -0.110001\n",
       "13 -0.105981 -0.160826 -0.286089  0.096757\n",
       "14  0.198633  0.030655 -0.367832  0.218214\n",
       "15 -0.474725  0.189451  0.029486 -0.308143\n",
       "16  0.219778 -0.276424 -0.408247 -0.042398\n",
       "17 -0.080674 -0.001125 -0.260211  0.474625\n",
       "18 -0.051848  0.108608  0.401880  0.222873\n",
       "19  0.169872  0.801829  0.026483 -0.346056\n",
       "20  0.237792  0.265061  0.073619 -0.880541\n",
       "21 -0.259562 -0.029002  0.228757 -0.142364\n",
       "22  0.282306 -0.628092  0.219451  0.335896\n",
       "23  0.261464  0.692143 -0.384611 -0.351207\n",
       "24  0.182456 -0.645267  0.281473 -0.292780\n",
       "25 -0.074949 -0.320721 -0.237264  0.015634\n",
       "26  0.010727  0.230352 -0.305803  0.004832\n",
       "27  0.186908 -0.276500  0.375188 -0.746353\n",
       "28  0.934773  0.202783  0.227437 -0.342752\n",
       "29  0.564845 -0.927951  0.169196 -0.656908\n",
       "30 -0.317849 -0.174415  0.448828 -0.183560\n",
       "31  0.900332 -0.801718 -0.782326 -0.023159"
      ]
     },
     "execution_count": 38,
     "metadata": {},
     "output_type": "execute_result"
    }
   ],
   "source": [
    "df.groupby(df.index.day).mean()"
   ]
  },
  {
   "cell_type": "code",
   "execution_count": 39,
   "metadata": {},
   "outputs": [
    {
     "name": "stdout",
     "output_type": "stream",
     "text": [
      "2012-01-01 00:00:00    184\n",
      "2012-01-01 00:00:01    448\n",
      "2012-01-01 00:00:02    323\n",
      "2012-01-01 00:00:03     62\n",
      "2012-01-01 00:00:04    405\n",
      "                      ... \n",
      "2012-01-01 00:03:15    496\n",
      "2012-01-01 00:03:16    225\n",
      "2012-01-01 00:03:17    361\n",
      "2012-01-01 00:03:18     95\n",
      "2012-01-01 00:03:19    255\n",
      "Freq: S, Length: 200, dtype: int64\n"
     ]
    }
   ],
   "source": [
    "# Hay mucha flexibilidad en el manejo de las fechas para series de tiempo.\n",
    "\n",
    "rango = pd.date_range(\"1/1/2012\", periods = 200, freq = \"S\")\n",
    "ts = pd.Series(np.random.randint( 0, 500, len(rango) ), index = rango)\n",
    "\n",
    "print(ts)"
   ]
  },
  {
   "cell_type": "code",
   "execution_count": 40,
   "metadata": {},
   "outputs": [
    {
     "name": "stdout",
     "output_type": "stream",
     "text": [
      "2012-01-01 00:00:00    15286\n",
      "2012-01-01 00:01:00    14741\n",
      "2012-01-01 00:02:00    15024\n",
      "2012-01-01 00:03:00     5231\n",
      "Freq: T, dtype: int64\n"
     ]
    }
   ],
   "source": [
    "# Hacemos un resampleo.\n",
    "\n",
    "print( ts.resample(\"1Min\").sum() )"
   ]
  },
  {
   "cell_type": "code",
   "execution_count": 41,
   "metadata": {},
   "outputs": [],
   "source": [
    "# Leer y escribir archivos es muy fácil con \n",
    "# el formato csv, compatible con Excel.\n",
    "\n",
    "# Escribir.\n",
    "ts.name = \"Datos\"\n",
    "ts.index.name = \"Timestamp\"\n",
    "ts.to_csv(\"time_series.csv\")\n"
   ]
  },
  {
   "cell_type": "code",
   "execution_count": 42,
   "metadata": {},
   "outputs": [
    {
     "name": "stdout",
     "output_type": "stream",
     "text": [
      "                     Datos\n",
      "Timestamp                 \n",
      "2012-01-01 00:00:00    184\n",
      "2012-01-01 00:00:01    448\n",
      "2012-01-01 00:00:02    323\n",
      "2012-01-01 00:00:03     62\n",
      "2012-01-01 00:00:04    405\n",
      "...                    ...\n",
      "2012-01-01 00:03:15    496\n",
      "2012-01-01 00:03:16    225\n",
      "2012-01-01 00:03:17    361\n",
      "2012-01-01 00:03:18     95\n",
      "2012-01-01 00:03:19    255\n",
      "\n",
      "[200 rows x 1 columns]\n"
     ]
    }
   ],
   "source": [
    "# Leer archivo.\n",
    "\n",
    "ts_2 = pd.read_csv(\"time_series.csv\", index_col = \"Timestamp\")\n",
    "\n",
    "print(ts_2)"
   ]
  },
  {
   "cell_type": "code",
   "execution_count": 43,
   "metadata": {},
   "outputs": [
    {
     "name": "stdout",
     "output_type": "stream",
     "text": [
      "Index(['2012-01-01 00:00:00', '2012-01-01 00:00:01', '2012-01-01 00:00:02',\n",
      "       '2012-01-01 00:00:03', '2012-01-01 00:00:04', '2012-01-01 00:00:05',\n",
      "       '2012-01-01 00:00:06', '2012-01-01 00:00:07', '2012-01-01 00:00:08',\n",
      "       '2012-01-01 00:00:09',\n",
      "       ...\n",
      "       '2012-01-01 00:03:10', '2012-01-01 00:03:11', '2012-01-01 00:03:12',\n",
      "       '2012-01-01 00:03:13', '2012-01-01 00:03:14', '2012-01-01 00:03:15',\n",
      "       '2012-01-01 00:03:16', '2012-01-01 00:03:17', '2012-01-01 00:03:18',\n",
      "       '2012-01-01 00:03:19'],\n",
      "      dtype='object', name='Timestamp', length=200)\n"
     ]
    }
   ],
   "source": [
    "print( ts_2.index )"
   ]
  },
  {
   "cell_type": "code",
   "execution_count": 44,
   "metadata": {},
   "outputs": [
    {
     "name": "stdout",
     "output_type": "stream",
     "text": [
      "DatetimeIndex(['2012-01-01 00:00:00', '2012-01-01 00:00:01',\n",
      "               '2012-01-01 00:00:02', '2012-01-01 00:00:03',\n",
      "               '2012-01-01 00:00:04', '2012-01-01 00:00:05',\n",
      "               '2012-01-01 00:00:06', '2012-01-01 00:00:07',\n",
      "               '2012-01-01 00:00:08', '2012-01-01 00:00:09',\n",
      "               ...\n",
      "               '2012-01-01 00:03:10', '2012-01-01 00:03:11',\n",
      "               '2012-01-01 00:03:12', '2012-01-01 00:03:13',\n",
      "               '2012-01-01 00:03:14', '2012-01-01 00:03:15',\n",
      "               '2012-01-01 00:03:16', '2012-01-01 00:03:17',\n",
      "               '2012-01-01 00:03:18', '2012-01-01 00:03:19'],\n",
      "              dtype='datetime64[ns]', name='Timestamp', length=200, freq=None)\n"
     ]
    }
   ],
   "source": [
    "ts_2.index = pd.to_datetime( ts_2.index )\n",
    "\n",
    "print(ts_2.index)"
   ]
  },
  {
   "cell_type": "code",
   "execution_count": 45,
   "metadata": {},
   "outputs": [
    {
     "name": "stdout",
     "output_type": "stream",
     "text": [
      "      Col_1     Col_2\n",
      "0  1.562925  0.437307\n",
      "1  0.688374  1.092793\n",
      "2  0.783194  0.046905\n",
      "3 -0.237644 -0.509770\n",
      "4 -0.255502  0.105617\n",
      "\n",
      "          Col_1     Col_2\n",
      "Col_1  1.000000  0.001737\n",
      "Col_2  0.001737  1.000000\n",
      "\n",
      "          Col_1     Col_2\n",
      "Col_1  0.989122  0.001745\n",
      "Col_2  0.001745  1.019854\n",
      "\n"
     ]
    }
   ],
   "source": [
    "# Correlación\n",
    "\n",
    "# Creamos un dataframe aleatorio.\n",
    "df = pd.DataFrame(np.random.randn(1000,2), columns = [\"Col_1\", \"Col_2\"])\n",
    "\n",
    "print(df.head())\n",
    "print()\n",
    "\n",
    "# Matriz de correlación\n",
    "print( df.corr() )\n",
    "print()\n",
    "\n",
    "# Matriz de covarianza\n",
    "print( df.cov() )\n",
    "print()"
   ]
  },
  {
   "cell_type": "code",
   "execution_count": 46,
   "metadata": {},
   "outputs": [
    {
     "name": "stdout",
     "output_type": "stream",
     "text": [
      "      Col_1     Col_2\n",
      "0 -1.201299  1.438965\n",
      "1  2.364967 -0.051359\n",
      "2  0.808376  0.257757\n",
      "3 -0.918288  0.881175\n",
      "4  0.598928 -1.399259\n",
      "\n",
      "      Col_1     Col_2\n",
      "0  0.686800  0.770382\n",
      "1  0.462271  1.135926\n",
      "2 -0.137846 -0.072558\n",
      "3 -0.202865 -0.526763\n",
      "4  1.795157 -1.419180\n",
      "\n",
      "        Col_1     Col_2\n",
      "0   -1.201299  1.438965\n",
      "1    2.364967 -0.051359\n",
      "2    0.808376  0.257757\n",
      "3   -0.918288  0.881175\n",
      "4    0.598928 -1.399259\n",
      "..        ...       ...\n",
      "195 -0.526915 -1.070878\n",
      "196  0.268223  1.236221\n",
      "197 -1.026228  1.399747\n",
      "198  0.732366 -1.404635\n",
      "199  0.012224  0.717642\n",
      "\n",
      "[200 rows x 2 columns]\n"
     ]
    }
   ],
   "source": [
    "# Concatenar dataframes.\n",
    "\n",
    "# Creamos un dataframe aleatorio.\n",
    "df_1 = pd.DataFrame(np.random.randn(100,2), columns = [\"Col_1\", \"Col_2\"])\n",
    "df_2 = pd.DataFrame(np.random.randn(100,2), columns = [\"Col_1\", \"Col_2\"])\n",
    "\n",
    "print(df_1.head())\n",
    "print()\n",
    "print(df_2.head())\n",
    "print()\n",
    "\n",
    "# Concatenamos.\n",
    "df = pd.concat([df_1, df_2], axis = 0, ignore_index = True)\n",
    "\n",
    "# Reiniciamos el índice.\n",
    "df = df.reset_index(drop = True)\n",
    "\n",
    "print(df)"
   ]
  },
  {
   "cell_type": "code",
   "execution_count": 47,
   "metadata": {},
   "outputs": [
    {
     "name": "stdout",
     "output_type": "stream",
     "text": [
      "      Col_1     Col_2\n",
      "0 -1.311240 -1.072674\n",
      "1 -0.294746 -1.617547\n",
      "2  0.143844  0.010000\n",
      "3  0.560983 -1.356749\n",
      "4  0.355116 -0.193275\n",
      "\n",
      "      Col_3     Col_4\n",
      "0  0.977635  0.210739\n",
      "1  0.119943 -0.261642\n",
      "2 -0.082919 -0.776785\n",
      "3  0.941000 -0.698441\n",
      "4 -0.070891 -0.781094\n",
      "\n",
      "       Col_1     Col_2     Col_3     Col_4\n",
      "0  -1.311240 -1.072674  0.977635  0.210739\n",
      "1  -0.294746 -1.617547  0.119943 -0.261642\n",
      "2   0.143844  0.010000 -0.082919 -0.776785\n",
      "3   0.560983 -1.356749  0.941000 -0.698441\n",
      "4   0.355116 -0.193275 -0.070891 -0.781094\n",
      "..       ...       ...       ...       ...\n",
      "95 -0.174311  1.430512  1.523382  0.283030\n",
      "96 -0.180748 -0.106633 -0.868043  0.873607\n",
      "97 -1.074421 -0.122811 -1.185270 -1.392931\n",
      "98 -0.872951  0.960660 -0.612654 -1.164091\n",
      "99 -1.247217 -0.906712 -0.989300 -1.537168\n",
      "\n",
      "[100 rows x 4 columns]\n"
     ]
    }
   ],
   "source": [
    "# Concatenar dataframes.\n",
    "\n",
    "# Creamos un dataframe aleatorio.\n",
    "df_1 = pd.DataFrame(np.random.randn(100,2), columns = [\"Col_1\", \"Col_2\"])\n",
    "df_2 = pd.DataFrame(np.random.randn(100,2), columns = [\"Col_3\", \"Col_4\"])\n",
    "\n",
    "print(df_1.head())\n",
    "print()\n",
    "print(df_2.head())\n",
    "print()\n",
    "\n",
    "# Concatenamos.\n",
    "df = pd.concat([df_1, df_2], axis = 1)\n",
    "\n",
    "print(df)"
   ]
  },
  {
   "cell_type": "code",
   "execution_count": 48,
   "metadata": {},
   "outputs": [],
   "source": [
    "# Cargar el archivo Electrico_residencial_2010_2017\n",
    "# Selecciona las entradas correspondientes a Baja California.\n",
    "# Ordena los datos de menor a mayor consumo en 2010.\n",
    "# Selecciona los municipios con una cantidad de usiarios en 2012 menor a 100\n",
    "# Encuentra el municipio con mayor consumo en tarifa DAC.\n",
    "# Selecciona solo la tarifa DAC.\n",
    "# Encuentra la correlación entre el consumo de 2012 y 2013"
   ]
  }
 ],
 "metadata": {
  "kernelspec": {
   "display_name": "gv",
   "language": "python",
   "name": "python3"
  },
  "language_info": {
   "codemirror_mode": {
    "name": "ipython",
    "version": 3
   },
   "file_extension": ".py",
   "mimetype": "text/x-python",
   "name": "python",
   "nbconvert_exporter": "python",
   "pygments_lexer": "ipython3",
   "version": "3.9.9"
  },
  "orig_nbformat": 4,
  "vscode": {
   "interpreter": {
    "hash": "cce8d45697d85db6636183b0f945e1ffea3934773870cd67d93bb4bbe05deaec"
   }
  }
 },
 "nbformat": 4,
 "nbformat_minor": 2
}
