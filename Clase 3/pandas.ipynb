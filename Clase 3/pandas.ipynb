{
 "cells": [
  {
   "cell_type": "code",
   "execution_count": 2,
   "metadata": {},
   "outputs": [],
   "source": [
    "# Pandas es el Excel de python.\n",
    "# Obtenido de: https://pandas.pydata.org/docs/user_guide/10min.html\n",
    "\n",
    "import pandas as pd\n",
    "import numpy as np"
   ]
  },
  {
   "cell_type": "code",
   "execution_count": 3,
   "metadata": {},
   "outputs": [
    {
     "name": "stdout",
     "output_type": "stream",
     "text": [
      "0    1.0\n",
      "1    3.0\n",
      "2    5.0\n",
      "3    NaN\n",
      "4    6.0\n",
      "5    8.0\n",
      "dtype: float64\n"
     ]
    }
   ],
   "source": [
    "# Una columna en pandas se llama una serie\n",
    "# np.nan es un valor faltante\n",
    "# Cada elemento tiene un índice.\n",
    "\n",
    "s = pd.Series([1, 3, 5, np.nan, 6, 8])\n",
    "print(s)"
   ]
  },
  {
   "cell_type": "code",
   "execution_count": 4,
   "metadata": {},
   "outputs": [
    {
     "name": "stdout",
     "output_type": "stream",
     "text": [
      "DatetimeIndex(['2013-01-01', '2013-01-02', '2013-01-03', '2013-01-04',\n",
      "               '2013-01-05', '2013-01-06'],\n",
      "              dtype='datetime64[ns]', freq='D')\n"
     ]
    }
   ],
   "source": [
    "# El índice puede ser una fecha\n",
    "\n",
    "fechas = pd.date_range(\"20130101\", periods = 6, freq = \"D\")\n",
    "\n",
    "print(fechas)"
   ]
  },
  {
   "cell_type": "code",
   "execution_count": 5,
   "metadata": {},
   "outputs": [
    {
     "name": "stdout",
     "output_type": "stream",
     "text": [
      "2013-01-01    1.0\n",
      "2013-01-02    3.0\n",
      "2013-01-03    5.0\n",
      "2013-01-04    NaN\n",
      "2013-01-05    6.0\n",
      "2013-01-06    8.0\n",
      "Freq: D, Name: datos, dtype: float64\n"
     ]
    }
   ],
   "source": [
    "s = pd.Series([1, 3, 5, np.nan, 6, 8], index = fechas, name = \"datos\")\n",
    "\n",
    "print(s)"
   ]
  },
  {
   "cell_type": "code",
   "execution_count": 6,
   "metadata": {},
   "outputs": [
    {
     "name": "stdout",
     "output_type": "stream",
     "text": [
      "                   A         B         C         D\n",
      "2013-01-01 -0.688920  0.706461  0.038464 -0.557300\n",
      "2013-01-02  0.024111  2.587698  1.121242  0.468241\n",
      "2013-01-03 -1.350958  0.550008  0.007322  0.723728\n",
      "2013-01-04 -0.861917 -0.803071  0.453286  1.802179\n",
      "2013-01-05  1.007735  0.759993 -1.356845  0.107955\n",
      "2013-01-06  1.684444  2.478518 -0.120551 -1.314997\n"
     ]
    }
   ],
   "source": [
    "# Un dataframe es un conjunto de columnas.\n",
    "\n",
    "# creado a partir de series.\n",
    "df = pd.DataFrame( np.random.randn(6, 4), index = fechas,\n",
    "    columns = [\"A\", \"B\", \"C\", \"D\"] )\n",
    "\n",
    "print(df)"
   ]
  },
  {
   "cell_type": "code",
   "execution_count": 7,
   "metadata": {},
   "outputs": [
    {
     "name": "stdout",
     "output_type": "stream",
     "text": [
      "                   A         B         C         D\n",
      "2013-01-01 -0.688920  0.706461  0.038464 -0.557300\n",
      "2013-01-02  0.024111  2.587698  1.121242  0.468241\n",
      "2013-01-03 -1.350958  0.550008  0.007322  0.723728\n",
      "2013-01-04 -0.861917 -0.803071  0.453286  1.802179\n",
      "2013-01-05  1.007735  0.759993 -1.356845  0.107955\n",
      "                   A         B         C         D\n",
      "2013-01-02  0.024111  2.587698  1.121242  0.468241\n",
      "2013-01-03 -1.350958  0.550008  0.007322  0.723728\n",
      "2013-01-04 -0.861917 -0.803071  0.453286  1.802179\n",
      "2013-01-05  1.007735  0.759993 -1.356845  0.107955\n",
      "2013-01-06  1.684444  2.478518 -0.120551 -1.314997\n"
     ]
    }
   ],
   "source": [
    "# head() y tail() muestran la parte \n",
    "# superior e inferior del Dataframe.\n",
    "\n",
    "print(df.head())\n",
    "print(df.tail())"
   ]
  },
  {
   "cell_type": "code",
   "execution_count": 8,
   "metadata": {},
   "outputs": [
    {
     "name": "stdout",
     "output_type": "stream",
     "text": [
      "DatetimeIndex(['2013-01-01', '2013-01-02', '2013-01-03', '2013-01-04',\n",
      "               '2013-01-05', '2013-01-06'],\n",
      "              dtype='datetime64[ns]', freq='D')\n",
      "Index(['A', 'B', 'C', 'D'], dtype='object')\n"
     ]
    }
   ],
   "source": [
    "# Podemos acceder al índice y las columnas.\n",
    "\n",
    "print(df.index)\n",
    "print(df.columns)"
   ]
  },
  {
   "cell_type": "code",
   "execution_count": 9,
   "metadata": {},
   "outputs": [
    {
     "name": "stdout",
     "output_type": "stream",
     "text": [
      "   2013-01-01  2013-01-02  2013-01-03  2013-01-04  2013-01-05  2013-01-06\n",
      "A   -0.688920    0.024111   -1.350958   -0.861917    1.007735    1.684444\n",
      "B    0.706461    2.587698    0.550008   -0.803071    0.759993    2.478518\n",
      "C    0.038464    1.121242    0.007322    0.453286   -1.356845   -0.120551\n",
      "D   -0.557300    0.468241    0.723728    1.802179    0.107955   -1.314997\n"
     ]
    }
   ],
   "source": [
    "# Trasponer.\n",
    "\n",
    "print(df.T)"
   ]
  },
  {
   "cell_type": "code",
   "execution_count": 10,
   "metadata": {},
   "outputs": [
    {
     "name": "stdout",
     "output_type": "stream",
     "text": [
      "[[-0.68891986  0.70646124  0.03846365 -0.55730041]\n",
      " [ 0.02411094  2.58769818  1.12124162  0.46824078]\n",
      " [-1.35095843  0.55000789  0.00732162  0.72372777]\n",
      " [-0.86191674 -0.80307105  0.45328616  1.80217899]\n",
      " [ 1.00773544  0.75999268 -1.3568453   0.1079546 ]\n",
      " [ 1.68444441  2.47851801 -0.12055138 -1.31499682]]\n"
     ]
    }
   ],
   "source": [
    "# Convertir a un arreglo de numpy.\n",
    "\n",
    "print( df.to_numpy() )"
   ]
  },
  {
   "cell_type": "code",
   "execution_count": 11,
   "metadata": {},
   "outputs": [
    {
     "name": "stdout",
     "output_type": "stream",
     "text": [
      "              A         B         C         D\n",
      "count  6.000000  6.000000  6.000000  6.000000\n",
      "mean  -0.030917  1.046601  0.023819  0.204967\n",
      "std    1.173911  1.287719  0.814413  1.076129\n",
      "min   -1.350958 -0.803071 -1.356845 -1.314997\n",
      "25%   -0.818668  0.589121 -0.088583 -0.390987\n",
      "50%   -0.332404  0.733227  0.022893  0.288098\n",
      "75%    0.761829  2.048887  0.349581  0.659856\n",
      "max    1.684444  2.587698  1.121242  1.802179\n"
     ]
    }
   ],
   "source": [
    "# Estadística descriptiva.\n",
    "\n",
    "print( df.describe() )"
   ]
  },
  {
   "cell_type": "code",
   "execution_count": 12,
   "metadata": {},
   "outputs": [
    {
     "name": "stdout",
     "output_type": "stream",
     "text": [
      "                   A         B         C         D\n",
      "2013-01-06  1.684444  2.478518 -0.120551 -1.314997\n",
      "2013-01-05  1.007735  0.759993 -1.356845  0.107955\n",
      "2013-01-04 -0.861917 -0.803071  0.453286  1.802179\n",
      "2013-01-03 -1.350958  0.550008  0.007322  0.723728\n",
      "2013-01-02  0.024111  2.587698  1.121242  0.468241\n",
      "2013-01-01 -0.688920  0.706461  0.038464 -0.557300\n"
     ]
    }
   ],
   "source": [
    "# Ordenar datos.\n",
    "\n",
    "# Por índice.\n",
    "\n",
    "print( df.sort_index(ascending = False) )"
   ]
  },
  {
   "cell_type": "code",
   "execution_count": 13,
   "metadata": {},
   "outputs": [
    {
     "name": "stdout",
     "output_type": "stream",
     "text": [
      "                   A         B         C         D\n",
      "2013-01-04 -0.861917 -0.803071  0.453286  1.802179\n",
      "2013-01-03 -1.350958  0.550008  0.007322  0.723728\n",
      "2013-01-01 -0.688920  0.706461  0.038464 -0.557300\n",
      "2013-01-05  1.007735  0.759993 -1.356845  0.107955\n",
      "2013-01-06  1.684444  2.478518 -0.120551 -1.314997\n",
      "2013-01-02  0.024111  2.587698  1.121242  0.468241\n"
     ]
    }
   ],
   "source": [
    "# Por columna.\n",
    "print( df.sort_values(by = \"B\") )"
   ]
  },
  {
   "cell_type": "code",
   "execution_count": 14,
   "metadata": {},
   "outputs": [
    {
     "name": "stdout",
     "output_type": "stream",
     "text": [
      "2013-01-01   -0.688920\n",
      "2013-01-02    0.024111\n",
      "2013-01-03   -1.350958\n",
      "2013-01-04   -0.861917\n",
      "2013-01-05    1.007735\n",
      "2013-01-06    1.684444\n",
      "Freq: D, Name: A, dtype: float64\n"
     ]
    }
   ],
   "source": [
    "# Escoger una columna.\n",
    "\n",
    "print( df[\"A\"] )"
   ]
  },
  {
   "cell_type": "code",
   "execution_count": 15,
   "metadata": {},
   "outputs": [
    {
     "name": "stdout",
     "output_type": "stream",
     "text": [
      "A   -0.688920\n",
      "B    0.706461\n",
      "C    0.038464\n",
      "D   -0.557300\n",
      "Name: 2013-01-01 00:00:00, dtype: float64\n"
     ]
    }
   ],
   "source": [
    "# Escoger una fila.\n",
    "\n",
    "print( df.loc[df.index[0]] )"
   ]
  },
  {
   "cell_type": "code",
   "execution_count": 16,
   "metadata": {},
   "outputs": [
    {
     "name": "stdout",
     "output_type": "stream",
     "text": [
      "A   -0.688920\n",
      "B    0.706461\n",
      "C    0.038464\n",
      "D   -0.557300\n",
      "Name: 2013-01-01 00:00:00, dtype: float64\n"
     ]
    }
   ],
   "source": [
    "# Escoger por número de fila.\n",
    "\n",
    "print( df.iloc[0] )"
   ]
  },
  {
   "cell_type": "code",
   "execution_count": 17,
   "metadata": {},
   "outputs": [
    {
     "name": "stdout",
     "output_type": "stream",
     "text": [
      "0.5500078887549639\n"
     ]
    }
   ],
   "source": [
    "# Escoger por fila y columna.\n",
    "\n",
    "print( df.loc[df.index[2], \"B\"] )"
   ]
  },
  {
   "cell_type": "code",
   "execution_count": 18,
   "metadata": {},
   "outputs": [
    {
     "name": "stdout",
     "output_type": "stream",
     "text": [
      "0.5500078887549639\n"
     ]
    }
   ],
   "source": [
    "# Escoger por número de fila y columna.\n",
    "\n",
    "print( df.iloc[2, 1] )"
   ]
  },
  {
   "cell_type": "code",
   "execution_count": 19,
   "metadata": {},
   "outputs": [
    {
     "name": "stdout",
     "output_type": "stream",
     "text": [
      "                   B         C\n",
      "2013-01-03  0.550008  0.007322\n",
      "2013-01-04 -0.803071  0.453286\n"
     ]
    }
   ],
   "source": [
    "# Escoger una subsección del dataframe.\n",
    "\n",
    "df_2 = df.iloc[2:4, 1:3]\n",
    "print( df_2 )"
   ]
  },
  {
   "cell_type": "code",
   "execution_count": 20,
   "metadata": {},
   "outputs": [
    {
     "name": "stdout",
     "output_type": "stream",
     "text": [
      "                   A         B         C         D\n",
      "2013-01-03 -1.350958  0.550008  0.007322  0.723728\n",
      "2013-01-04 -0.861917 -0.803071  0.453286  1.802179\n"
     ]
    }
   ],
   "source": [
    "df_2 = df.iloc[2:4, :]\n",
    "print( df_2 )\n",
    "\n",
    "# Las copias y vistas funcionan igual que en numpy!!"
   ]
  },
  {
   "cell_type": "code",
   "execution_count": 21,
   "metadata": {},
   "outputs": [
    {
     "name": "stdout",
     "output_type": "stream",
     "text": [
      "                   A         B         C         D\n",
      "2013-01-02  0.024111  2.587698  1.121242  0.468241\n",
      "2013-01-05  1.007735  0.759993 -1.356845  0.107955\n",
      "2013-01-06  1.684444  2.478518 -0.120551 -1.314997\n"
     ]
    }
   ],
   "source": [
    "# Búsqueda por condiciones.\n",
    "\n",
    "# En una columna.\n",
    "print( df[df[\"A\"] > 0] )"
   ]
  },
  {
   "cell_type": "code",
   "execution_count": 22,
   "metadata": {},
   "outputs": [
    {
     "name": "stdout",
     "output_type": "stream",
     "text": [
      "                   A         B         C         D\n",
      "2013-01-01       NaN  0.706461  0.038464       NaN\n",
      "2013-01-02  0.024111  2.587698  1.121242  0.468241\n",
      "2013-01-03       NaN  0.550008  0.007322  0.723728\n",
      "2013-01-04       NaN       NaN  0.453286  1.802179\n",
      "2013-01-05  1.007735  0.759993       NaN  0.107955\n",
      "2013-01-06  1.684444  2.478518       NaN       NaN\n"
     ]
    }
   ],
   "source": [
    "# En todo el dataframe.\n",
    "\n",
    "print( df[df>0] )"
   ]
  },
  {
   "cell_type": "code",
   "execution_count": 23,
   "metadata": {},
   "outputs": [
    {
     "name": "stdout",
     "output_type": "stream",
     "text": [
      "                   A         B         C         D       E\n",
      "2013-01-01 -0.688920  0.706461  0.038464 -0.557300     uno\n",
      "2013-01-02  0.024111  2.587698  1.121242  0.468241     uno\n",
      "2013-01-03 -1.350958  0.550008  0.007322  0.723728     dos\n",
      "2013-01-04 -0.861917 -0.803071  0.453286  1.802179    tres\n",
      "2013-01-05  1.007735  0.759993 -1.356845  0.107955  cuatro\n",
      "2013-01-06  1.684444  2.478518 -0.120551 -1.314997    tres\n"
     ]
    }
   ],
   "source": [
    "# Agregar columnas.\n",
    "# Todos los elementos de una columna son del mismo tipo.\n",
    "# Las columnas pueden tener distintos tipos.\n",
    "\n",
    "df[\"E\"] = [\"uno\", \"uno\", \"dos\", \"tres\", \"cuatro\", \"tres\"]\n",
    "\n",
    "print(df)"
   ]
  },
  {
   "cell_type": "code",
   "execution_count": 24,
   "metadata": {},
   "outputs": [
    {
     "name": "stdout",
     "output_type": "stream",
     "text": [
      "                   A         B         C         D       E    F\n",
      "2013-01-01 -0.688920  0.706461  0.038464 -0.557300     uno  1.0\n",
      "2013-01-02  0.024111  2.587698  1.121242  0.468241     uno  1.8\n",
      "2013-01-03 -1.350958  0.550008  0.007322  0.723728     dos  2.6\n",
      "2013-01-04 -0.861917 -0.803071  0.453286  1.802179    tres  3.4\n",
      "2013-01-05  1.007735  0.759993 -1.356845  0.107955  cuatro  4.2\n"
     ]
    }
   ],
   "source": [
    "# Nueva columna con arreglos.\n",
    "\n",
    "df[\"F\"] = np.linspace(1, 5, 6)\n",
    "print(df.head())"
   ]
  },
  {
   "cell_type": "code",
   "execution_count": 25,
   "metadata": {},
   "outputs": [
    {
     "name": "stdout",
     "output_type": "stream",
     "text": [
      "                   A         B         C         D       E    F\n",
      "2013-01-03 -1.350958  0.550008  0.007322  0.723728     dos  2.6\n",
      "2013-01-05  1.007735  0.759993 -1.356845  0.107955  cuatro  4.2\n"
     ]
    }
   ],
   "source": [
    "# Buscar valores específicos con isin()\n",
    "\n",
    "print( df[df[\"E\"].isin([\"dos\", \"cuatro\"])] )"
   ]
  },
  {
   "cell_type": "code",
   "execution_count": 26,
   "metadata": {},
   "outputs": [
    {
     "name": "stdout",
     "output_type": "stream",
     "text": [
      "                   A          B         C         D       E    F\n",
      "2013-01-01 -0.688920  10.000000  0.038464 -0.557300     uno  1.0\n",
      "2013-01-02  0.024111   2.587698  1.121242  0.468241     uno  1.8\n",
      "2013-01-03 -1.350958   0.550008  0.007322  0.723728     dos  2.6\n",
      "2013-01-04 -0.861917  -0.803071  0.453286  1.802179    tres  3.4\n",
      "2013-01-05  1.007735   0.759993 -1.356845  0.107955  cuatro  4.2\n",
      "2013-01-06  1.684444   2.478518 -0.120551 -1.314997    tres  5.0\n"
     ]
    }
   ],
   "source": [
    "# Podemos cambiar un valor específico.\n",
    "\n",
    "df.iloc[0, 1] = 10\n",
    "print(df)"
   ]
  },
  {
   "cell_type": "code",
   "execution_count": 27,
   "metadata": {},
   "outputs": [
    {
     "name": "stdout",
     "output_type": "stream",
     "text": [
      "                   A          B         C         D    F\n",
      "2013-01-01 -0.688920  10.000000  0.038464 -0.557300  1.0\n",
      "2013-01-02  0.024111   2.587698  1.121242  0.468241  1.8\n",
      "2013-01-03 -1.350958   0.550008  0.007322  0.723728  2.6\n",
      "2013-01-04 -0.861917  -0.803071  0.453286  1.802179  3.4\n",
      "2013-01-05  1.007735   0.759993 -1.356845  0.107955  4.2\n",
      "2013-01-06  1.684444   2.478518 -0.120551 -1.314997  5.0\n"
     ]
    }
   ],
   "source": [
    "# Quitar columna.\n",
    "\n",
    "df = df.drop(\"E\", axis = 1)\n",
    "print(df)"
   ]
  },
  {
   "cell_type": "code",
   "execution_count": 28,
   "metadata": {},
   "outputs": [
    {
     "name": "stdout",
     "output_type": "stream",
     "text": [
      "                   A          B         C         D    F\n",
      "2013-01-01  0.000000  10.000000  0.038464  0.000000  1.0\n",
      "2013-01-02  0.024111   2.587698  1.121242  0.468241  1.8\n",
      "2013-01-03  0.000000   0.550008  0.007322  0.723728  2.6\n",
      "2013-01-04  0.000000   0.000000  0.453286  1.802179  3.4\n",
      "2013-01-05  1.007735   0.759993  0.000000  0.107955  4.2\n",
      "2013-01-06  1.684444   2.478518  0.000000  0.000000  5.0\n"
     ]
    }
   ],
   "source": [
    "# Establecer valores con condicional.\n",
    "\n",
    "df[df<0] = 0\n",
    "print(df)"
   ]
  },
  {
   "cell_type": "code",
   "execution_count": 29,
   "metadata": {},
   "outputs": [
    {
     "name": "stdout",
     "output_type": "stream",
     "text": [
      "                   A         B         C         D    F\n",
      "2013-01-01  0.000000       NaN  0.038464  0.000000  1.0\n",
      "2013-01-02  0.024111       NaN  1.121242  0.468241  1.8\n",
      "2013-01-03  0.000000  0.550008  0.007322  0.723728  NaN\n",
      "2013-01-04  0.000000  0.000000  0.453286  1.802179  NaN\n",
      "2013-01-05  1.007735  0.759993  0.000000  0.107955  NaN\n",
      "2013-01-06  1.684444       NaN  0.000000  0.000000  NaN\n"
     ]
    }
   ],
   "source": [
    "# Agregamos algunos valores nulos.\n",
    "\n",
    "df[df>2] = np.nan\n",
    "print(df)"
   ]
  },
  {
   "cell_type": "code",
   "execution_count": 30,
   "metadata": {},
   "outputs": [
    {
     "name": "stdout",
     "output_type": "stream",
     "text": [
      "Empty DataFrame\n",
      "Columns: [A, B, C, D, F]\n",
      "Index: []\n",
      "                   A           B         C         D      F\n",
      "2013-01-01  0.000000 -100.000000  0.038464  0.000000    1.0\n",
      "2013-01-02  0.024111 -100.000000  1.121242  0.468241    1.8\n",
      "2013-01-03  0.000000    0.550008  0.007322  0.723728 -100.0\n",
      "2013-01-04  0.000000    0.000000  0.453286  1.802179 -100.0\n",
      "2013-01-05  1.007735    0.759993  0.000000  0.107955 -100.0\n",
      "2013-01-06  1.684444 -100.000000  0.000000  0.000000 -100.0\n",
      "                A      B      C      D      F\n",
      "2013-01-01  False   True  False  False  False\n",
      "2013-01-02  False   True  False  False  False\n",
      "2013-01-03  False  False  False  False   True\n",
      "2013-01-04  False  False  False  False   True\n",
      "2013-01-05  False  False  False  False   True\n",
      "2013-01-06  False   True  False  False   True\n"
     ]
    }
   ],
   "source": [
    "# Quitar filas con valores nulos.\n",
    "print(df.dropna())\n",
    "\n",
    "# Rellenar valores nulos.\n",
    "print(df.fillna(-100))\n",
    "\n",
    "# Determinar valores nulos.\n",
    "print(df.isna())"
   ]
  },
  {
   "cell_type": "code",
   "execution_count": 31,
   "metadata": {},
   "outputs": [
    {
     "name": "stdout",
     "output_type": "stream",
     "text": [
      "                   A         B         C         D    F         G\n",
      "2013-01-01  0.000000       NaN  0.038464  0.000000  1.0  0.038464\n",
      "2013-01-02  0.024111       NaN  1.121242  0.468241  1.8  1.145353\n",
      "2013-01-03  0.000000  0.550008  0.007322  0.723728  NaN  0.007322\n",
      "2013-01-04  0.000000  0.000000  0.453286  1.802179  NaN  0.453286\n",
      "2013-01-05  1.007735  0.759993  0.000000  0.107955  NaN  1.007735\n",
      "2013-01-06  1.684444       NaN  0.000000  0.000000  NaN  1.684444\n",
      "A    0.452715\n",
      "B    0.436667\n",
      "C    0.270052\n",
      "D    0.517017\n",
      "F    1.400000\n",
      "G    0.722767\n",
      "dtype: float64\n",
      "2013-01-01    0.215385\n",
      "2013-01-02    0.911789\n",
      "2013-01-03    0.257676\n",
      "2013-01-04    0.541750\n",
      "2013-01-05    0.576684\n",
      "2013-01-06    0.842222\n",
      "Freq: D, dtype: float64\n"
     ]
    }
   ],
   "source": [
    "# operaciones.\n",
    "\n",
    "# Entre columnas.\n",
    "df[\"G\"] = df[\"A\"] + df[\"C\"]\n",
    "\n",
    "print(df)\n",
    "\n",
    "# promedio\n",
    "print(df.mean())\n",
    "print(df.mean(1))"
   ]
  },
  {
   "cell_type": "code",
   "execution_count": 32,
   "metadata": {},
   "outputs": [
    {
     "data": {
      "text/html": [
       "<div>\n",
       "<style scoped>\n",
       "    .dataframe tbody tr th:only-of-type {\n",
       "        vertical-align: middle;\n",
       "    }\n",
       "\n",
       "    .dataframe tbody tr th {\n",
       "        vertical-align: top;\n",
       "    }\n",
       "\n",
       "    .dataframe thead th {\n",
       "        text-align: right;\n",
       "    }\n",
       "</style>\n",
       "<table border=\"1\" class=\"dataframe\">\n",
       "  <thead>\n",
       "    <tr style=\"text-align: right;\">\n",
       "      <th></th>\n",
       "      <th>A</th>\n",
       "      <th>B</th>\n",
       "      <th>C</th>\n",
       "      <th>D</th>\n",
       "      <th>F</th>\n",
       "      <th>G</th>\n",
       "    </tr>\n",
       "  </thead>\n",
       "  <tbody>\n",
       "    <tr>\n",
       "      <th>2013-01-01</th>\n",
       "      <td>0.000000</td>\n",
       "      <td>NaN</td>\n",
       "      <td>0.038464</td>\n",
       "      <td>0.000000</td>\n",
       "      <td>1.0</td>\n",
       "      <td>0.038464</td>\n",
       "    </tr>\n",
       "    <tr>\n",
       "      <th>2013-01-02</th>\n",
       "      <td>0.024111</td>\n",
       "      <td>NaN</td>\n",
       "      <td>1.159705</td>\n",
       "      <td>0.468241</td>\n",
       "      <td>2.8</td>\n",
       "      <td>1.183816</td>\n",
       "    </tr>\n",
       "    <tr>\n",
       "      <th>2013-01-03</th>\n",
       "      <td>0.024111</td>\n",
       "      <td>0.550008</td>\n",
       "      <td>1.167027</td>\n",
       "      <td>1.191969</td>\n",
       "      <td>NaN</td>\n",
       "      <td>1.191138</td>\n",
       "    </tr>\n",
       "    <tr>\n",
       "      <th>2013-01-04</th>\n",
       "      <td>0.024111</td>\n",
       "      <td>0.550008</td>\n",
       "      <td>1.620313</td>\n",
       "      <td>2.994148</td>\n",
       "      <td>NaN</td>\n",
       "      <td>1.644424</td>\n",
       "    </tr>\n",
       "    <tr>\n",
       "      <th>2013-01-05</th>\n",
       "      <td>1.031846</td>\n",
       "      <td>1.310001</td>\n",
       "      <td>1.620313</td>\n",
       "      <td>3.102102</td>\n",
       "      <td>NaN</td>\n",
       "      <td>2.652159</td>\n",
       "    </tr>\n",
       "    <tr>\n",
       "      <th>2013-01-06</th>\n",
       "      <td>2.716291</td>\n",
       "      <td>NaN</td>\n",
       "      <td>1.620313</td>\n",
       "      <td>3.102102</td>\n",
       "      <td>NaN</td>\n",
       "      <td>4.336604</td>\n",
       "    </tr>\n",
       "  </tbody>\n",
       "</table>\n",
       "</div>"
      ],
      "text/plain": [
       "                   A         B         C         D    F         G\n",
       "2013-01-01  0.000000       NaN  0.038464  0.000000  1.0  0.038464\n",
       "2013-01-02  0.024111       NaN  1.159705  0.468241  2.8  1.183816\n",
       "2013-01-03  0.024111  0.550008  1.167027  1.191969  NaN  1.191138\n",
       "2013-01-04  0.024111  0.550008  1.620313  2.994148  NaN  1.644424\n",
       "2013-01-05  1.031846  1.310001  1.620313  3.102102  NaN  2.652159\n",
       "2013-01-06  2.716291       NaN  1.620313  3.102102  NaN  4.336604"
      ]
     },
     "execution_count": 32,
     "metadata": {},
     "output_type": "execute_result"
    }
   ],
   "source": [
    "# Aplicar operación.\n",
    "# np.cumsum() hace una suma acumulada.\n",
    "df.apply(np.cumsum)"
   ]
  },
  {
   "cell_type": "code",
   "execution_count": 33,
   "metadata": {},
   "outputs": [
    {
     "name": "stdout",
     "output_type": "stream",
     "text": [
      "0    1\n",
      "1    4\n",
      "2    1\n",
      "3    1\n",
      "4    6\n",
      "5    6\n",
      "6    0\n",
      "7    3\n",
      "8    5\n",
      "9    5\n",
      "dtype: int64\n"
     ]
    }
   ],
   "source": [
    "# Se puede obtener un histograma.\n",
    "\n",
    "s = pd.Series(np.random.randint(0, 7, size = 10))\n",
    "print (s)\n"
   ]
  },
  {
   "cell_type": "code",
   "execution_count": 34,
   "metadata": {},
   "outputs": [
    {
     "name": "stdout",
     "output_type": "stream",
     "text": [
      "1    3\n",
      "6    2\n",
      "5    2\n",
      "4    1\n",
      "0    1\n",
      "3    1\n",
      "dtype: int64\n"
     ]
    }
   ],
   "source": [
    "print(s.value_counts())"
   ]
  },
  {
   "cell_type": "code",
   "execution_count": 35,
   "metadata": {},
   "outputs": [
    {
     "name": "stdout",
     "output_type": "stream",
     "text": [
      "                   A         B         C         D\n",
      "2013-01-01 -0.236662  0.550306 -2.634410  0.671860\n",
      "2013-01-02 -0.031187 -0.081049 -1.256877 -1.134545\n",
      "2013-01-03  1.101908 -0.852672 -0.028781  0.402657\n",
      "2013-01-04 -0.938619  1.108729 -1.428704 -0.321900\n",
      "2013-01-05  1.889525  1.225235 -1.942665 -0.986916\n",
      "...              ...       ...       ...       ...\n",
      "2013-07-15  1.077508  0.737979  1.250247 -1.219586\n",
      "2013-07-16 -0.854513  1.749456 -0.863483  0.199379\n",
      "2013-07-17 -0.453848  0.161105 -0.332168 -0.046481\n",
      "2013-07-18  1.747913 -1.275610  1.675633  0.669138\n",
      "2013-07-19  0.507014 -0.384201  0.104155 -0.408654\n",
      "\n",
      "[200 rows x 4 columns]\n"
     ]
    }
   ],
   "source": [
    "# Agrupar datos\n",
    "\n",
    "fechas = pd.date_range(\"20130101\", periods = 200, freq = \"D\")\n",
    "df = pd.DataFrame( np.random.randn(200, 4), index = fechas,\n",
    "    columns = [\"A\", \"B\", \"C\", \"D\"] )\n",
    "\n",
    "print(df)"
   ]
  },
  {
   "cell_type": "code",
   "execution_count": 36,
   "metadata": {},
   "outputs": [
    {
     "data": {
      "text/html": [
       "<div>\n",
       "<style scoped>\n",
       "    .dataframe tbody tr th:only-of-type {\n",
       "        vertical-align: middle;\n",
       "    }\n",
       "\n",
       "    .dataframe tbody tr th {\n",
       "        vertical-align: top;\n",
       "    }\n",
       "\n",
       "    .dataframe thead th {\n",
       "        text-align: right;\n",
       "    }\n",
       "</style>\n",
       "<table border=\"1\" class=\"dataframe\">\n",
       "  <thead>\n",
       "    <tr style=\"text-align: right;\">\n",
       "      <th></th>\n",
       "      <th>A</th>\n",
       "      <th>B</th>\n",
       "      <th>C</th>\n",
       "      <th>D</th>\n",
       "    </tr>\n",
       "  </thead>\n",
       "  <tbody>\n",
       "    <tr>\n",
       "      <th>1</th>\n",
       "      <td>6.151396</td>\n",
       "      <td>3.865367</td>\n",
       "      <td>-6.672204</td>\n",
       "      <td>5.396473</td>\n",
       "    </tr>\n",
       "    <tr>\n",
       "      <th>2</th>\n",
       "      <td>-2.838412</td>\n",
       "      <td>4.191532</td>\n",
       "      <td>2.110218</td>\n",
       "      <td>-2.150074</td>\n",
       "    </tr>\n",
       "    <tr>\n",
       "      <th>3</th>\n",
       "      <td>5.743556</td>\n",
       "      <td>-6.034221</td>\n",
       "      <td>0.301843</td>\n",
       "      <td>-8.499961</td>\n",
       "    </tr>\n",
       "    <tr>\n",
       "      <th>4</th>\n",
       "      <td>4.611471</td>\n",
       "      <td>2.748181</td>\n",
       "      <td>4.848537</td>\n",
       "      <td>6.928591</td>\n",
       "    </tr>\n",
       "    <tr>\n",
       "      <th>5</th>\n",
       "      <td>4.257319</td>\n",
       "      <td>3.746627</td>\n",
       "      <td>0.833503</td>\n",
       "      <td>0.241398</td>\n",
       "    </tr>\n",
       "    <tr>\n",
       "      <th>6</th>\n",
       "      <td>-4.223978</td>\n",
       "      <td>5.506082</td>\n",
       "      <td>8.727856</td>\n",
       "      <td>3.162316</td>\n",
       "    </tr>\n",
       "    <tr>\n",
       "      <th>7</th>\n",
       "      <td>-3.358485</td>\n",
       "      <td>-2.444933</td>\n",
       "      <td>2.767849</td>\n",
       "      <td>0.238474</td>\n",
       "    </tr>\n",
       "  </tbody>\n",
       "</table>\n",
       "</div>"
      ],
      "text/plain": [
       "          A         B         C         D\n",
       "1  6.151396  3.865367 -6.672204  5.396473\n",
       "2 -2.838412  4.191532  2.110218 -2.150074\n",
       "3  5.743556 -6.034221  0.301843 -8.499961\n",
       "4  4.611471  2.748181  4.848537  6.928591\n",
       "5  4.257319  3.746627  0.833503  0.241398\n",
       "6 -4.223978  5.506082  8.727856  3.162316\n",
       "7 -3.358485 -2.444933  2.767849  0.238474"
      ]
     },
     "execution_count": 36,
     "metadata": {},
     "output_type": "execute_result"
    }
   ],
   "source": [
    "# Agrupamos y realizamos una operación.\n",
    "df.groupby(df.index.month).sum()"
   ]
  },
  {
   "cell_type": "code",
   "execution_count": 37,
   "metadata": {},
   "outputs": [
    {
     "data": {
      "text/html": [
       "<div>\n",
       "<style scoped>\n",
       "    .dataframe tbody tr th:only-of-type {\n",
       "        vertical-align: middle;\n",
       "    }\n",
       "\n",
       "    .dataframe tbody tr th {\n",
       "        vertical-align: top;\n",
       "    }\n",
       "\n",
       "    .dataframe thead th {\n",
       "        text-align: right;\n",
       "    }\n",
       "</style>\n",
       "<table border=\"1\" class=\"dataframe\">\n",
       "  <thead>\n",
       "    <tr style=\"text-align: right;\">\n",
       "      <th></th>\n",
       "      <th>A</th>\n",
       "      <th>B</th>\n",
       "      <th>C</th>\n",
       "      <th>D</th>\n",
       "    </tr>\n",
       "  </thead>\n",
       "  <tbody>\n",
       "    <tr>\n",
       "      <th>1</th>\n",
       "      <td>-0.182482</td>\n",
       "      <td>-0.205090</td>\n",
       "      <td>0.246542</td>\n",
       "      <td>0.523700</td>\n",
       "    </tr>\n",
       "    <tr>\n",
       "      <th>2</th>\n",
       "      <td>-0.610860</td>\n",
       "      <td>0.052774</td>\n",
       "      <td>0.095210</td>\n",
       "      <td>-0.172404</td>\n",
       "    </tr>\n",
       "    <tr>\n",
       "      <th>3</th>\n",
       "      <td>-0.167430</td>\n",
       "      <td>0.390377</td>\n",
       "      <td>-0.106098</td>\n",
       "      <td>0.546969</td>\n",
       "    </tr>\n",
       "    <tr>\n",
       "      <th>4</th>\n",
       "      <td>0.082571</td>\n",
       "      <td>0.107658</td>\n",
       "      <td>-0.781847</td>\n",
       "      <td>-0.049781</td>\n",
       "    </tr>\n",
       "    <tr>\n",
       "      <th>5</th>\n",
       "      <td>0.602043</td>\n",
       "      <td>-0.046503</td>\n",
       "      <td>-0.033703</td>\n",
       "      <td>-0.179123</td>\n",
       "    </tr>\n",
       "    <tr>\n",
       "      <th>6</th>\n",
       "      <td>0.775882</td>\n",
       "      <td>-0.093834</td>\n",
       "      <td>0.355353</td>\n",
       "      <td>-0.128347</td>\n",
       "    </tr>\n",
       "    <tr>\n",
       "      <th>7</th>\n",
       "      <td>0.004927</td>\n",
       "      <td>-0.117809</td>\n",
       "      <td>0.550041</td>\n",
       "      <td>0.052623</td>\n",
       "    </tr>\n",
       "    <tr>\n",
       "      <th>8</th>\n",
       "      <td>-0.735894</td>\n",
       "      <td>-0.069245</td>\n",
       "      <td>0.241292</td>\n",
       "      <td>-0.136868</td>\n",
       "    </tr>\n",
       "    <tr>\n",
       "      <th>9</th>\n",
       "      <td>0.714511</td>\n",
       "      <td>-0.303218</td>\n",
       "      <td>0.239807</td>\n",
       "      <td>0.053803</td>\n",
       "    </tr>\n",
       "    <tr>\n",
       "      <th>10</th>\n",
       "      <td>-0.466276</td>\n",
       "      <td>0.200722</td>\n",
       "      <td>0.058272</td>\n",
       "      <td>-0.130807</td>\n",
       "    </tr>\n",
       "    <tr>\n",
       "      <th>11</th>\n",
       "      <td>0.530219</td>\n",
       "      <td>0.285193</td>\n",
       "      <td>-0.319683</td>\n",
       "      <td>-0.039977</td>\n",
       "    </tr>\n",
       "    <tr>\n",
       "      <th>12</th>\n",
       "      <td>-0.455654</td>\n",
       "      <td>0.211867</td>\n",
       "      <td>-0.234489</td>\n",
       "      <td>0.416964</td>\n",
       "    </tr>\n",
       "    <tr>\n",
       "      <th>13</th>\n",
       "      <td>-0.101092</td>\n",
       "      <td>0.282839</td>\n",
       "      <td>0.627172</td>\n",
       "      <td>-0.135142</td>\n",
       "    </tr>\n",
       "    <tr>\n",
       "      <th>14</th>\n",
       "      <td>0.450429</td>\n",
       "      <td>-0.054520</td>\n",
       "      <td>0.214422</td>\n",
       "      <td>0.610462</td>\n",
       "    </tr>\n",
       "    <tr>\n",
       "      <th>15</th>\n",
       "      <td>-0.454222</td>\n",
       "      <td>0.149143</td>\n",
       "      <td>0.779497</td>\n",
       "      <td>-0.258199</td>\n",
       "    </tr>\n",
       "    <tr>\n",
       "      <th>16</th>\n",
       "      <td>-0.196295</td>\n",
       "      <td>0.289734</td>\n",
       "      <td>-0.040697</td>\n",
       "      <td>0.023580</td>\n",
       "    </tr>\n",
       "    <tr>\n",
       "      <th>17</th>\n",
       "      <td>-0.440724</td>\n",
       "      <td>0.445142</td>\n",
       "      <td>0.186341</td>\n",
       "      <td>0.098407</td>\n",
       "    </tr>\n",
       "    <tr>\n",
       "      <th>18</th>\n",
       "      <td>0.849132</td>\n",
       "      <td>-0.760034</td>\n",
       "      <td>0.483427</td>\n",
       "      <td>0.141458</td>\n",
       "    </tr>\n",
       "    <tr>\n",
       "      <th>19</th>\n",
       "      <td>0.301957</td>\n",
       "      <td>-0.176352</td>\n",
       "      <td>-0.196301</td>\n",
       "      <td>-0.161234</td>\n",
       "    </tr>\n",
       "    <tr>\n",
       "      <th>20</th>\n",
       "      <td>0.071189</td>\n",
       "      <td>0.052736</td>\n",
       "      <td>0.048041</td>\n",
       "      <td>0.089017</td>\n",
       "    </tr>\n",
       "    <tr>\n",
       "      <th>21</th>\n",
       "      <td>0.089714</td>\n",
       "      <td>-0.207731</td>\n",
       "      <td>-0.228060</td>\n",
       "      <td>0.588608</td>\n",
       "    </tr>\n",
       "    <tr>\n",
       "      <th>22</th>\n",
       "      <td>-0.242980</td>\n",
       "      <td>-0.368824</td>\n",
       "      <td>-0.067694</td>\n",
       "      <td>0.144122</td>\n",
       "    </tr>\n",
       "    <tr>\n",
       "      <th>23</th>\n",
       "      <td>0.668040</td>\n",
       "      <td>0.977429</td>\n",
       "      <td>0.150240</td>\n",
       "      <td>0.178308</td>\n",
       "    </tr>\n",
       "    <tr>\n",
       "      <th>24</th>\n",
       "      <td>0.212336</td>\n",
       "      <td>-0.671199</td>\n",
       "      <td>-0.239220</td>\n",
       "      <td>-0.498697</td>\n",
       "    </tr>\n",
       "    <tr>\n",
       "      <th>25</th>\n",
       "      <td>-0.507624</td>\n",
       "      <td>0.577215</td>\n",
       "      <td>0.123049</td>\n",
       "      <td>-0.074259</td>\n",
       "    </tr>\n",
       "    <tr>\n",
       "      <th>26</th>\n",
       "      <td>0.365605</td>\n",
       "      <td>0.596595</td>\n",
       "      <td>-0.141124</td>\n",
       "      <td>-0.020572</td>\n",
       "    </tr>\n",
       "    <tr>\n",
       "      <th>27</th>\n",
       "      <td>0.355385</td>\n",
       "      <td>0.587264</td>\n",
       "      <td>0.001857</td>\n",
       "      <td>0.343892</td>\n",
       "    </tr>\n",
       "    <tr>\n",
       "      <th>28</th>\n",
       "      <td>0.051019</td>\n",
       "      <td>-0.257078</td>\n",
       "      <td>-0.370343</td>\n",
       "      <td>-0.253769</td>\n",
       "    </tr>\n",
       "    <tr>\n",
       "      <th>29</th>\n",
       "      <td>0.526571</td>\n",
       "      <td>-0.227606</td>\n",
       "      <td>0.307115</td>\n",
       "      <td>0.016104</td>\n",
       "    </tr>\n",
       "    <tr>\n",
       "      <th>30</th>\n",
       "      <td>-0.752079</td>\n",
       "      <td>-0.051903</td>\n",
       "      <td>-0.215050</td>\n",
       "      <td>-0.928686</td>\n",
       "    </tr>\n",
       "    <tr>\n",
       "      <th>31</th>\n",
       "      <td>0.529700</td>\n",
       "      <td>0.378611</td>\n",
       "      <td>0.081626</td>\n",
       "      <td>-0.210786</td>\n",
       "    </tr>\n",
       "  </tbody>\n",
       "</table>\n",
       "</div>"
      ],
      "text/plain": [
       "           A         B         C         D\n",
       "1  -0.182482 -0.205090  0.246542  0.523700\n",
       "2  -0.610860  0.052774  0.095210 -0.172404\n",
       "3  -0.167430  0.390377 -0.106098  0.546969\n",
       "4   0.082571  0.107658 -0.781847 -0.049781\n",
       "5   0.602043 -0.046503 -0.033703 -0.179123\n",
       "6   0.775882 -0.093834  0.355353 -0.128347\n",
       "7   0.004927 -0.117809  0.550041  0.052623\n",
       "8  -0.735894 -0.069245  0.241292 -0.136868\n",
       "9   0.714511 -0.303218  0.239807  0.053803\n",
       "10 -0.466276  0.200722  0.058272 -0.130807\n",
       "11  0.530219  0.285193 -0.319683 -0.039977\n",
       "12 -0.455654  0.211867 -0.234489  0.416964\n",
       "13 -0.101092  0.282839  0.627172 -0.135142\n",
       "14  0.450429 -0.054520  0.214422  0.610462\n",
       "15 -0.454222  0.149143  0.779497 -0.258199\n",
       "16 -0.196295  0.289734 -0.040697  0.023580\n",
       "17 -0.440724  0.445142  0.186341  0.098407\n",
       "18  0.849132 -0.760034  0.483427  0.141458\n",
       "19  0.301957 -0.176352 -0.196301 -0.161234\n",
       "20  0.071189  0.052736  0.048041  0.089017\n",
       "21  0.089714 -0.207731 -0.228060  0.588608\n",
       "22 -0.242980 -0.368824 -0.067694  0.144122\n",
       "23  0.668040  0.977429  0.150240  0.178308\n",
       "24  0.212336 -0.671199 -0.239220 -0.498697\n",
       "25 -0.507624  0.577215  0.123049 -0.074259\n",
       "26  0.365605  0.596595 -0.141124 -0.020572\n",
       "27  0.355385  0.587264  0.001857  0.343892\n",
       "28  0.051019 -0.257078 -0.370343 -0.253769\n",
       "29  0.526571 -0.227606  0.307115  0.016104\n",
       "30 -0.752079 -0.051903 -0.215050 -0.928686\n",
       "31  0.529700  0.378611  0.081626 -0.210786"
      ]
     },
     "execution_count": 37,
     "metadata": {},
     "output_type": "execute_result"
    }
   ],
   "source": [
    "df.groupby(df.index.day).mean()"
   ]
  },
  {
   "cell_type": "code",
   "execution_count": 38,
   "metadata": {},
   "outputs": [
    {
     "name": "stdout",
     "output_type": "stream",
     "text": [
      "2012-01-01 00:00:00    317\n",
      "2012-01-01 00:00:01    139\n",
      "2012-01-01 00:00:02     23\n",
      "2012-01-01 00:00:03    293\n",
      "2012-01-01 00:00:04     94\n",
      "                      ... \n",
      "2012-01-01 00:03:15      5\n",
      "2012-01-01 00:03:16     27\n",
      "2012-01-01 00:03:17    370\n",
      "2012-01-01 00:03:18    494\n",
      "2012-01-01 00:03:19    341\n",
      "Freq: S, Length: 200, dtype: int64\n"
     ]
    }
   ],
   "source": [
    "# Hay mucha flexibilidad en el manejo de las fechas para series de tiempo.\n",
    "\n",
    "rango = pd.date_range(\"1/1/2012\", periods = 200, freq = \"S\")\n",
    "ts = pd.Series(np.random.randint( 0, 500, len(rango) ), index = rango)\n",
    "\n",
    "print(ts)"
   ]
  },
  {
   "cell_type": "code",
   "execution_count": 39,
   "metadata": {},
   "outputs": [
    {
     "name": "stdout",
     "output_type": "stream",
     "text": [
      "2012-01-01 00:00:00    14728\n",
      "2012-01-01 00:01:00    14415\n",
      "2012-01-01 00:02:00    16713\n",
      "2012-01-01 00:03:00     4854\n",
      "Freq: T, dtype: int64\n"
     ]
    }
   ],
   "source": [
    "# Hacemos un resampleo.\n",
    "\n",
    "print( ts.resample(\"1Min\").sum() )"
   ]
  },
  {
   "cell_type": "code",
   "execution_count": 40,
   "metadata": {},
   "outputs": [],
   "source": [
    "# Leer y escribir archivos es muy fácil con \n",
    "# el formato csv, compatible con Excel.\n",
    "\n",
    "# Escribir.\n",
    "ts.name = \"Datos\"\n",
    "ts.index.name = \"Timestamp\"\n",
    "ts.to_csv(\"time_series.csv\")\n"
   ]
  },
  {
   "cell_type": "code",
   "execution_count": 41,
   "metadata": {},
   "outputs": [
    {
     "name": "stdout",
     "output_type": "stream",
     "text": [
      "                     Datos\n",
      "Timestamp                 \n",
      "2012-01-01 00:00:00    317\n",
      "2012-01-01 00:00:01    139\n",
      "2012-01-01 00:00:02     23\n",
      "2012-01-01 00:00:03    293\n",
      "2012-01-01 00:00:04     94\n",
      "...                    ...\n",
      "2012-01-01 00:03:15      5\n",
      "2012-01-01 00:03:16     27\n",
      "2012-01-01 00:03:17    370\n",
      "2012-01-01 00:03:18    494\n",
      "2012-01-01 00:03:19    341\n",
      "\n",
      "[200 rows x 1 columns]\n"
     ]
    }
   ],
   "source": [
    "# Leer archivo.\n",
    "\n",
    "ts_2 = pd.read_csv(\"time_series.csv\", index_col = \"Timestamp\")\n",
    "\n",
    "print(ts_2)"
   ]
  },
  {
   "cell_type": "code",
   "execution_count": 42,
   "metadata": {},
   "outputs": [
    {
     "name": "stdout",
     "output_type": "stream",
     "text": [
      "Index(['2012-01-01 00:00:00', '2012-01-01 00:00:01', '2012-01-01 00:00:02',\n",
      "       '2012-01-01 00:00:03', '2012-01-01 00:00:04', '2012-01-01 00:00:05',\n",
      "       '2012-01-01 00:00:06', '2012-01-01 00:00:07', '2012-01-01 00:00:08',\n",
      "       '2012-01-01 00:00:09',\n",
      "       ...\n",
      "       '2012-01-01 00:03:10', '2012-01-01 00:03:11', '2012-01-01 00:03:12',\n",
      "       '2012-01-01 00:03:13', '2012-01-01 00:03:14', '2012-01-01 00:03:15',\n",
      "       '2012-01-01 00:03:16', '2012-01-01 00:03:17', '2012-01-01 00:03:18',\n",
      "       '2012-01-01 00:03:19'],\n",
      "      dtype='object', name='Timestamp', length=200)\n"
     ]
    }
   ],
   "source": [
    "print( ts_2.index )"
   ]
  },
  {
   "cell_type": "code",
   "execution_count": 43,
   "metadata": {},
   "outputs": [
    {
     "name": "stdout",
     "output_type": "stream",
     "text": [
      "DatetimeIndex(['2012-01-01 00:00:00', '2012-01-01 00:00:01',\n",
      "               '2012-01-01 00:00:02', '2012-01-01 00:00:03',\n",
      "               '2012-01-01 00:00:04', '2012-01-01 00:00:05',\n",
      "               '2012-01-01 00:00:06', '2012-01-01 00:00:07',\n",
      "               '2012-01-01 00:00:08', '2012-01-01 00:00:09',\n",
      "               ...\n",
      "               '2012-01-01 00:03:10', '2012-01-01 00:03:11',\n",
      "               '2012-01-01 00:03:12', '2012-01-01 00:03:13',\n",
      "               '2012-01-01 00:03:14', '2012-01-01 00:03:15',\n",
      "               '2012-01-01 00:03:16', '2012-01-01 00:03:17',\n",
      "               '2012-01-01 00:03:18', '2012-01-01 00:03:19'],\n",
      "              dtype='datetime64[ns]', name='Timestamp', length=200, freq=None)\n"
     ]
    }
   ],
   "source": [
    "ts_2.index = pd.to_datetime( ts_2.index )\n",
    "\n",
    "print(ts_2.index)"
   ]
  },
  {
   "cell_type": "code",
   "execution_count": 44,
   "metadata": {},
   "outputs": [
    {
     "name": "stdout",
     "output_type": "stream",
     "text": [
      "      Col_1     Col_2\n",
      "0  0.664954  0.121131\n",
      "1 -0.573261  0.600070\n",
      "2  0.343497  0.512212\n",
      "3  0.586276 -0.448339\n",
      "4  1.929466  0.386596\n",
      "\n",
      "          Col_1     Col_2\n",
      "Col_1  1.000000  0.016645\n",
      "Col_2  0.016645  1.000000\n",
      "\n",
      "          Col_1     Col_2\n",
      "Col_1  1.056700  0.016504\n",
      "Col_2  0.016504  0.930372\n",
      "\n"
     ]
    }
   ],
   "source": [
    "# Correlación\n",
    "\n",
    "# Creamos un dataframe aleatorio.\n",
    "df = pd.DataFrame(np.random.randn(1000,2), columns = [\"Col_1\", \"Col_2\"])\n",
    "\n",
    "print(df.head())\n",
    "print()\n",
    "\n",
    "# Matriz de correlación\n",
    "print( df.corr() )\n",
    "print()\n",
    "\n",
    "# Matriz de covarianza\n",
    "print( df.cov() )\n",
    "print()"
   ]
  },
  {
   "cell_type": "code",
   "execution_count": 51,
   "metadata": {},
   "outputs": [
    {
     "name": "stdout",
     "output_type": "stream",
     "text": [
      "      Col_1     Col_2\n",
      "0 -1.516916 -0.383068\n",
      "1  0.765016 -0.258222\n",
      "2  0.393079  0.301042\n",
      "3  1.090665 -0.262019\n",
      "4 -0.679981 -0.723984\n",
      "\n",
      "      Col_1     Col_2\n",
      "0 -0.615278  0.847995\n",
      "1  0.091538  0.136089\n",
      "2 -0.019375 -0.174542\n",
      "3 -0.351426  0.100549\n",
      "4  0.930820  0.947435\n",
      "\n",
      "        Col_1     Col_2\n",
      "0   -1.516916 -0.383068\n",
      "1    0.765016 -0.258222\n",
      "2    0.393079  0.301042\n",
      "3    1.090665 -0.262019\n",
      "4   -0.679981 -0.723984\n",
      "..        ...       ...\n",
      "195  0.311306  0.782338\n",
      "196  2.283423 -1.018743\n",
      "197 -0.586801  1.134172\n",
      "198 -1.741755  1.216342\n",
      "199  1.203148 -0.254748\n",
      "\n",
      "[200 rows x 2 columns]\n"
     ]
    }
   ],
   "source": [
    "# Concatenar dataframes.\n",
    "\n",
    "# Creamos un dataframe aleatorio.\n",
    "df_1 = pd.DataFrame(np.random.randn(100,2), columns = [\"Col_1\", \"Col_2\"])\n",
    "df_2 = pd.DataFrame(np.random.randn(100,2), columns = [\"Col_1\", \"Col_2\"])\n",
    "\n",
    "print(df_1.head())\n",
    "print()\n",
    "print(df_2.head())\n",
    "print()\n",
    "\n",
    "# Concatenamos.\n",
    "df = pd.concat([df_1, df_2], axis = 0, ignore_index = True)\n",
    "\n",
    "# Reiniciamos el índice.\n",
    "df = df.reset_index(drop = True)\n",
    "\n",
    "print(df)"
   ]
  },
  {
   "cell_type": "code",
   "execution_count": 52,
   "metadata": {},
   "outputs": [
    {
     "name": "stdout",
     "output_type": "stream",
     "text": [
      "      Col_1     Col_2\n",
      "0 -0.047523 -1.654938\n",
      "1 -1.057579 -0.166459\n",
      "2  0.850526 -0.010457\n",
      "3 -0.961197  1.165588\n",
      "4 -0.019126 -0.642064\n",
      "\n",
      "      Col_3     Col_4\n",
      "0  0.678249  0.240590\n",
      "1  0.485131 -0.217273\n",
      "2  1.424911 -0.092623\n",
      "3 -0.237672 -0.405159\n",
      "4 -2.015896  0.817554\n",
      "\n",
      "       Col_1     Col_2     Col_3     Col_4\n",
      "0  -0.047523 -1.654938  0.678249  0.240590\n",
      "1  -1.057579 -0.166459  0.485131 -0.217273\n",
      "2   0.850526 -0.010457  1.424911 -0.092623\n",
      "3  -0.961197  1.165588 -0.237672 -0.405159\n",
      "4  -0.019126 -0.642064 -2.015896  0.817554\n",
      "..       ...       ...       ...       ...\n",
      "95 -1.076402 -1.029765  1.329433  0.693936\n",
      "96 -0.727035 -0.824210 -1.585571  0.337386\n",
      "97 -0.137586 -1.190115  0.616823  1.070981\n",
      "98  0.643492 -0.113891  0.285760 -0.870517\n",
      "99 -0.218098  1.349117 -0.861003  0.599605\n",
      "\n",
      "[100 rows x 4 columns]\n"
     ]
    }
   ],
   "source": [
    "# Concatenar dataframes.\n",
    "\n",
    "# Creamos un dataframe aleatorio.\n",
    "df_1 = pd.DataFrame(np.random.randn(100,2), columns = [\"Col_1\", \"Col_2\"])\n",
    "df_2 = pd.DataFrame(np.random.randn(100,2), columns = [\"Col_3\", \"Col_4\"])\n",
    "\n",
    "print(df_1.head())\n",
    "print()\n",
    "print(df_2.head())\n",
    "print()\n",
    "\n",
    "# Concatenamos.\n",
    "df = pd.concat([df_1, df_2], axis = 1)\n",
    "\n",
    "print(df)"
   ]
  },
  {
   "cell_type": "code",
   "execution_count": 46,
   "metadata": {},
   "outputs": [],
   "source": [
    "# Cargar el archivo Electrico_residencial_2010_2017\n",
    "# Selecciona las entradas correspondientes a Baja California.\n",
    "# Ordena los datos de menor a mayor consumo en 2010.\n",
    "# Selecciona los municipios con una cantidad de usiarios en 2012 menor a 100\n",
    "# Encuentra el municipio con mayor consumo en tarifa DAC.\n",
    "# Selecciona solo la tarifa DAC.\n",
    "# Encuentra la correlación entre el consumo de 2012 y 2013"
   ]
  }
 ],
 "metadata": {
  "kernelspec": {
   "display_name": "gv",
   "language": "python",
   "name": "python3"
  },
  "language_info": {
   "codemirror_mode": {
    "name": "ipython",
    "version": 3
   },
   "file_extension": ".py",
   "mimetype": "text/x-python",
   "name": "python",
   "nbconvert_exporter": "python",
   "pygments_lexer": "ipython3",
   "version": "3.9.9"
  },
  "orig_nbformat": 4,
  "vscode": {
   "interpreter": {
    "hash": "cce8d45697d85db6636183b0f945e1ffea3934773870cd67d93bb4bbe05deaec"
   }
  }
 },
 "nbformat": 4,
 "nbformat_minor": 2
}
