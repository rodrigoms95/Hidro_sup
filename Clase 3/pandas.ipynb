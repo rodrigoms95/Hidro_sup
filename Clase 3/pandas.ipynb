{
 "cells": [
  {
   "cell_type": "code",
   "execution_count": 1,
   "metadata": {},
   "outputs": [
    {
     "name": "stdout",
     "output_type": "stream",
     "text": [
      "Requirement already satisfied: pandas in /opt/homebrew/Caskroom/miniforge/base/envs/gv/lib/python3.9/site-packages (1.3.5)\n",
      "Requirement already satisfied: python-dateutil>=2.7.3 in /opt/homebrew/Caskroom/miniforge/base/envs/gv/lib/python3.9/site-packages (from pandas) (2.8.2)\n",
      "Requirement already satisfied: pytz>=2017.3 in /opt/homebrew/Caskroom/miniforge/base/envs/gv/lib/python3.9/site-packages (from pandas) (2021.3)\n",
      "Requirement already satisfied: numpy>=1.20.0 in /opt/homebrew/Caskroom/miniforge/base/envs/gv/lib/python3.9/site-packages (from pandas) (1.21.5)\n",
      "Requirement already satisfied: six>=1.5 in /opt/homebrew/Caskroom/miniforge/base/envs/gv/lib/python3.9/site-packages (from python-dateutil>=2.7.3->pandas) (1.16.0)\n"
     ]
    }
   ],
   "source": [
    "!pip install pandas"
   ]
  },
  {
   "cell_type": "code",
   "execution_count": 2,
   "metadata": {},
   "outputs": [],
   "source": [
    "# Pandas es el Excel de python.\n",
    "# Obtenido de: https://pandas.pydata.org/docs/user_guide/10min.html\n",
    "\n",
    "import pandas as pd\n",
    "import numpy as np"
   ]
  },
  {
   "cell_type": "code",
   "execution_count": 3,
   "metadata": {},
   "outputs": [
    {
     "name": "stdout",
     "output_type": "stream",
     "text": [
      "0    1.0\n",
      "1    3.0\n",
      "2    5.0\n",
      "3    NaN\n",
      "4    6.0\n",
      "5    8.0\n",
      "dtype: float64\n"
     ]
    }
   ],
   "source": [
    "# Una columna en pandas se llama una serie\n",
    "# np.nan es un valor faltante\n",
    "# Cada elemento tiene un índice.\n",
    "\n",
    "s = pd.Series([1, 3, 5, np.nan, 6, 8])\n",
    "print(s)"
   ]
  },
  {
   "cell_type": "code",
   "execution_count": 4,
   "metadata": {},
   "outputs": [
    {
     "name": "stdout",
     "output_type": "stream",
     "text": [
      "DatetimeIndex(['2013-01-01', '2013-01-02', '2013-01-03', '2013-01-04',\n",
      "               '2013-01-05', '2013-01-06'],\n",
      "              dtype='datetime64[ns]', freq='D')\n"
     ]
    }
   ],
   "source": [
    "# El índice puede ser una fecha\n",
    "\n",
    "fechas = pd.date_range(\"20130101\", periods = 6, freq = \"D\")\n",
    "\n",
    "print(fechas)"
   ]
  },
  {
   "cell_type": "code",
   "execution_count": 5,
   "metadata": {},
   "outputs": [
    {
     "name": "stdout",
     "output_type": "stream",
     "text": [
      "2013-01-01    1.0\n",
      "2013-01-02    3.0\n",
      "2013-01-03    5.0\n",
      "2013-01-04    NaN\n",
      "2013-01-05    6.0\n",
      "2013-01-06    8.0\n",
      "Freq: D, Name: datos, dtype: float64\n"
     ]
    }
   ],
   "source": [
    "s = pd.Series([1, 3, 5, np.nan, 6, 8], index = fechas, name = \"datos\")\n",
    "\n",
    "print(s)"
   ]
  },
  {
   "cell_type": "code",
   "execution_count": 6,
   "metadata": {},
   "outputs": [
    {
     "name": "stdout",
     "output_type": "stream",
     "text": [
      "                   A         B         C         D\n",
      "2013-01-01 -0.692425  0.291806 -0.939638  1.931861\n",
      "2013-01-02 -1.179901  0.527429  0.366479 -1.035113\n",
      "2013-01-03 -0.984117  0.322905 -0.190418 -0.191633\n",
      "2013-01-04 -1.449449  1.180161 -1.666900 -1.194427\n",
      "2013-01-05 -0.748434  0.956975  0.695292  1.016349\n",
      "2013-01-06 -0.733160 -0.042479  0.172088  0.154935\n"
     ]
    }
   ],
   "source": [
    "# Un dataframe es un conjunto de columnas.\n",
    "\n",
    "# creado a partir de arreglos de numpy.\n",
    "df = pd.DataFrame( np.random.randn(6, 4), index = fechas,\n",
    "    columns = [\"A\", \"B\", \"C\", \"D\"] )\n",
    "\n",
    "print(df)"
   ]
  },
  {
   "cell_type": "code",
   "execution_count": 7,
   "metadata": {},
   "outputs": [
    {
     "name": "stdout",
     "output_type": "stream",
     "text": [
      "                   A         B         C         D\n",
      "2013-01-01 -0.692425  0.291806 -0.939638  1.931861\n",
      "2013-01-02 -1.179901  0.527429  0.366479 -1.035113\n",
      "2013-01-03 -0.984117  0.322905 -0.190418 -0.191633\n",
      "2013-01-04 -1.449449  1.180161 -1.666900 -1.194427\n",
      "2013-01-05 -0.748434  0.956975  0.695292  1.016349\n",
      "\n",
      "                   A         B         C         D\n",
      "2013-01-02 -1.179901  0.527429  0.366479 -1.035113\n",
      "2013-01-03 -0.984117  0.322905 -0.190418 -0.191633\n",
      "2013-01-04 -1.449449  1.180161 -1.666900 -1.194427\n",
      "2013-01-05 -0.748434  0.956975  0.695292  1.016349\n",
      "2013-01-06 -0.733160 -0.042479  0.172088  0.154935\n"
     ]
    }
   ],
   "source": [
    "# head() y tail() muestran la parte \n",
    "# superior e inferior del Dataframe.\n",
    "\n",
    "print(df.head())\n",
    "print()\n",
    "print(df.tail())"
   ]
  },
  {
   "cell_type": "code",
   "execution_count": 8,
   "metadata": {},
   "outputs": [
    {
     "name": "stdout",
     "output_type": "stream",
     "text": [
      "DatetimeIndex(['2013-01-01', '2013-01-02', '2013-01-03', '2013-01-04',\n",
      "               '2013-01-05', '2013-01-06'],\n",
      "              dtype='datetime64[ns]', freq='D')\n",
      "\n",
      "Index(['A', 'B', 'C', 'D'], dtype='object')\n"
     ]
    }
   ],
   "source": [
    "# Podemos acceder al índice y las columnas.\n",
    "\n",
    "print(df.index)\n",
    "print()\n",
    "print(df.columns)"
   ]
  },
  {
   "cell_type": "code",
   "execution_count": 9,
   "metadata": {},
   "outputs": [
    {
     "name": "stdout",
     "output_type": "stream",
     "text": [
      "   2013-01-01  2013-01-02  2013-01-03  2013-01-04  2013-01-05  2013-01-06\n",
      "A   -0.692425   -1.179901   -0.984117   -1.449449   -0.748434   -0.733160\n",
      "B    0.291806    0.527429    0.322905    1.180161    0.956975   -0.042479\n",
      "C   -0.939638    0.366479   -0.190418   -1.666900    0.695292    0.172088\n",
      "D    1.931861   -1.035113   -0.191633   -1.194427    1.016349    0.154935\n"
     ]
    }
   ],
   "source": [
    "# Trasponer.\n",
    "\n",
    "print(df.T)"
   ]
  },
  {
   "cell_type": "code",
   "execution_count": 10,
   "metadata": {},
   "outputs": [
    {
     "name": "stdout",
     "output_type": "stream",
     "text": [
      "[[-0.69242532  0.29180555 -0.93963836  1.93186107]\n",
      " [-1.17990097  0.52742913  0.36647884 -1.03511333]\n",
      " [-0.98411722  0.32290481 -0.19041804 -0.19163282]\n",
      " [-1.44944856  1.18016105 -1.66689962 -1.19442743]\n",
      " [-0.74843375  0.95697513  0.6952923   1.01634935]\n",
      " [-0.73315983 -0.04247853  0.17208831  0.15493483]]\n"
     ]
    }
   ],
   "source": [
    "# Convertir a un arreglo de numpy.\n",
    "\n",
    "print( df.to_numpy() )"
   ]
  },
  {
   "cell_type": "code",
   "execution_count": 11,
   "metadata": {},
   "outputs": [
    {
     "name": "stdout",
     "output_type": "stream",
     "text": [
      "              A         B         C         D\n",
      "count  6.000000  6.000000  6.000000  6.000000\n",
      "mean  -0.964581  0.539466 -0.260516  0.113662\n",
      "std    0.302055  0.454278  0.887454  1.203859\n",
      "min   -1.449449 -0.042479 -1.666900 -1.194427\n",
      "25%   -1.130955  0.299580 -0.752333 -0.824243\n",
      "50%   -0.866275  0.425167 -0.009165 -0.018349\n",
      "75%   -0.736978  0.849589  0.317881  0.800996\n",
      "max   -0.692425  1.180161  0.695292  1.931861\n"
     ]
    }
   ],
   "source": [
    "# Estadística descriptiva.\n",
    "\n",
    "print( df.describe() )"
   ]
  },
  {
   "cell_type": "code",
   "execution_count": 12,
   "metadata": {},
   "outputs": [
    {
     "name": "stdout",
     "output_type": "stream",
     "text": [
      "                   A         B         C         D\n",
      "2013-01-06 -0.733160 -0.042479  0.172088  0.154935\n",
      "2013-01-05 -0.748434  0.956975  0.695292  1.016349\n",
      "2013-01-04 -1.449449  1.180161 -1.666900 -1.194427\n",
      "2013-01-03 -0.984117  0.322905 -0.190418 -0.191633\n",
      "2013-01-02 -1.179901  0.527429  0.366479 -1.035113\n",
      "2013-01-01 -0.692425  0.291806 -0.939638  1.931861\n"
     ]
    }
   ],
   "source": [
    "# Ordenar datos.\n",
    "\n",
    "# Por índice.\n",
    "\n",
    "print( df.sort_index(ascending = False) )"
   ]
  },
  {
   "cell_type": "code",
   "execution_count": 13,
   "metadata": {},
   "outputs": [
    {
     "name": "stdout",
     "output_type": "stream",
     "text": [
      "                   A         B         C         D\n",
      "2013-01-06 -0.733160 -0.042479  0.172088  0.154935\n",
      "2013-01-01 -0.692425  0.291806 -0.939638  1.931861\n",
      "2013-01-03 -0.984117  0.322905 -0.190418 -0.191633\n",
      "2013-01-02 -1.179901  0.527429  0.366479 -1.035113\n",
      "2013-01-05 -0.748434  0.956975  0.695292  1.016349\n",
      "2013-01-04 -1.449449  1.180161 -1.666900 -1.194427\n"
     ]
    }
   ],
   "source": [
    "# Por columna.\n",
    "print( df.sort_values(by = \"B\") )"
   ]
  },
  {
   "cell_type": "code",
   "execution_count": 14,
   "metadata": {},
   "outputs": [
    {
     "name": "stdout",
     "output_type": "stream",
     "text": [
      "2013-01-01   -0.692425\n",
      "2013-01-02   -1.179901\n",
      "2013-01-03   -0.984117\n",
      "2013-01-04   -1.449449\n",
      "2013-01-05   -0.748434\n",
      "2013-01-06   -0.733160\n",
      "Freq: D, Name: A, dtype: float64\n"
     ]
    }
   ],
   "source": [
    "# Escoger una columna.\n",
    "\n",
    "print( df[\"A\"] )"
   ]
  },
  {
   "cell_type": "code",
   "execution_count": 15,
   "metadata": {},
   "outputs": [
    {
     "name": "stdout",
     "output_type": "stream",
     "text": [
      "2013-01-01 00:00:00\n",
      "A   -0.692425\n",
      "B    0.291806\n",
      "C   -0.939638\n",
      "D    1.931861\n",
      "Name: 2013-01-01 00:00:00, dtype: float64\n"
     ]
    }
   ],
   "source": [
    "# Escoger una fila.\n",
    "\n",
    "print(df.index[0])\n",
    "print( df.loc[df.index[0]] )"
   ]
  },
  {
   "cell_type": "code",
   "execution_count": 16,
   "metadata": {},
   "outputs": [
    {
     "name": "stdout",
     "output_type": "stream",
     "text": [
      "A   -0.692425\n",
      "B    0.291806\n",
      "C   -0.939638\n",
      "D    1.931861\n",
      "Name: 2013-01-01 00:00:00, dtype: float64\n"
     ]
    }
   ],
   "source": [
    "# Escoger por número de fila.\n",
    "\n",
    "print( df.iloc[0] )"
   ]
  },
  {
   "cell_type": "code",
   "execution_count": 17,
   "metadata": {},
   "outputs": [
    {
     "name": "stdout",
     "output_type": "stream",
     "text": [
      "0.3229048144608326\n"
     ]
    }
   ],
   "source": [
    "# Escoger por fila y columna.\n",
    "\n",
    "print( df.loc[df.index[2], \"B\"] )"
   ]
  },
  {
   "cell_type": "code",
   "execution_count": 18,
   "metadata": {},
   "outputs": [
    {
     "name": "stdout",
     "output_type": "stream",
     "text": [
      "0.3229048144608326\n"
     ]
    }
   ],
   "source": [
    "# Escoger por número de fila y columna.\n",
    "\n",
    "print( df.iloc[2, 1] )"
   ]
  },
  {
   "cell_type": "code",
   "execution_count": 19,
   "metadata": {},
   "outputs": [
    {
     "name": "stdout",
     "output_type": "stream",
     "text": [
      "                   B         C\n",
      "2013-01-03  0.322905 -0.190418\n",
      "2013-01-04  1.180161 -1.666900\n"
     ]
    }
   ],
   "source": [
    "# Escoger una subsección del dataframe.\n",
    "\n",
    "df_2 = df.iloc[2:4, 1:3]\n",
    "print( df_2 )"
   ]
  },
  {
   "cell_type": "code",
   "execution_count": 20,
   "metadata": {},
   "outputs": [
    {
     "name": "stdout",
     "output_type": "stream",
     "text": [
      "                   A         B         C         D\n",
      "2013-01-03 -0.984117  0.322905 -0.190418 -0.191633\n",
      "2013-01-04 -1.449449  1.180161 -1.666900 -1.194427\n"
     ]
    }
   ],
   "source": [
    "df_2 = df.iloc[2:4, :]\n",
    "print( df_2 )\n",
    "\n",
    "# Las copias y vistas funcionan igual que en numpy!!"
   ]
  },
  {
   "cell_type": "code",
   "execution_count": 21,
   "metadata": {},
   "outputs": [
    {
     "name": "stdout",
     "output_type": "stream",
     "text": [
      "Empty DataFrame\n",
      "Columns: [A, B, C, D]\n",
      "Index: []\n"
     ]
    }
   ],
   "source": [
    "# Búsqueda por condiciones.\n",
    "\n",
    "# En una columna.\n",
    "print( df[df[\"A\"] > 0] )"
   ]
  },
  {
   "cell_type": "code",
   "execution_count": 22,
   "metadata": {},
   "outputs": [
    {
     "name": "stdout",
     "output_type": "stream",
     "text": [
      "             A         B         C         D\n",
      "2013-01-01 NaN  0.291806       NaN  1.931861\n",
      "2013-01-02 NaN  0.527429  0.366479       NaN\n",
      "2013-01-03 NaN  0.322905       NaN       NaN\n",
      "2013-01-04 NaN  1.180161       NaN       NaN\n",
      "2013-01-05 NaN  0.956975  0.695292  1.016349\n",
      "2013-01-06 NaN       NaN  0.172088  0.154935\n"
     ]
    }
   ],
   "source": [
    "# En todo el dataframe.\n",
    "\n",
    "print( df[df>0] )"
   ]
  },
  {
   "cell_type": "code",
   "execution_count": 23,
   "metadata": {},
   "outputs": [
    {
     "name": "stdout",
     "output_type": "stream",
     "text": [
      "                   A         B         C         D       E\n",
      "2013-01-01 -0.692425  0.291806 -0.939638  1.931861     uno\n",
      "2013-01-02 -1.179901  0.527429  0.366479 -1.035113     uno\n",
      "2013-01-03 -0.984117  0.322905 -0.190418 -0.191633     dos\n",
      "2013-01-04 -1.449449  1.180161 -1.666900 -1.194427    tres\n",
      "2013-01-05 -0.748434  0.956975  0.695292  1.016349  cuatro\n",
      "2013-01-06 -0.733160 -0.042479  0.172088  0.154935    tres\n"
     ]
    }
   ],
   "source": [
    "# Agregar columnas.\n",
    "# Todos los elementos de una columna son del mismo tipo.\n",
    "# Las columnas pueden tener distintos tipos.\n",
    "\n",
    "df[\"E\"] = [\"uno\", \"uno\", \"dos\", \"tres\", \"cuatro\", \"tres\"]\n",
    "\n",
    "print(df)"
   ]
  },
  {
   "cell_type": "code",
   "execution_count": 24,
   "metadata": {},
   "outputs": [
    {
     "name": "stdout",
     "output_type": "stream",
     "text": [
      "                   A         B         C         D       E    F\n",
      "2013-01-01 -0.692425  0.291806 -0.939638  1.931861     uno  1.0\n",
      "2013-01-02 -1.179901  0.527429  0.366479 -1.035113     uno  1.8\n",
      "2013-01-03 -0.984117  0.322905 -0.190418 -0.191633     dos  2.6\n",
      "2013-01-04 -1.449449  1.180161 -1.666900 -1.194427    tres  3.4\n",
      "2013-01-05 -0.748434  0.956975  0.695292  1.016349  cuatro  4.2\n"
     ]
    }
   ],
   "source": [
    "# Nueva columna con arreglos.\n",
    "\n",
    "df[\"F\"] = np.linspace(1, 5, 6)\n",
    "print(df.head())"
   ]
  },
  {
   "cell_type": "code",
   "execution_count": 25,
   "metadata": {},
   "outputs": [
    {
     "name": "stdout",
     "output_type": "stream",
     "text": [
      "                   A         B         C         D       E    F\n",
      "2013-01-03 -0.984117  0.322905 -0.190418 -0.191633     dos  2.6\n",
      "2013-01-05 -0.748434  0.956975  0.695292  1.016349  cuatro  4.2\n"
     ]
    }
   ],
   "source": [
    "# Buscar valores específicos con isin()\n",
    "\n",
    "print( df[ df[\"E\"].isin( [\"dos\", \"cuatro\"] ) ] )"
   ]
  },
  {
   "cell_type": "code",
   "execution_count": 26,
   "metadata": {},
   "outputs": [
    {
     "data": {
      "text/html": [
       "<div>\n",
       "<style scoped>\n",
       "    .dataframe tbody tr th:only-of-type {\n",
       "        vertical-align: middle;\n",
       "    }\n",
       "\n",
       "    .dataframe tbody tr th {\n",
       "        vertical-align: top;\n",
       "    }\n",
       "\n",
       "    .dataframe thead th {\n",
       "        text-align: right;\n",
       "    }\n",
       "</style>\n",
       "<table border=\"1\" class=\"dataframe\">\n",
       "  <thead>\n",
       "    <tr style=\"text-align: right;\">\n",
       "      <th></th>\n",
       "      <th>A</th>\n",
       "      <th>B</th>\n",
       "      <th>C</th>\n",
       "      <th>D</th>\n",
       "      <th>E</th>\n",
       "      <th>F</th>\n",
       "    </tr>\n",
       "  </thead>\n",
       "  <tbody>\n",
       "    <tr>\n",
       "      <th>2013-01-01</th>\n",
       "      <td>-0.692425</td>\n",
       "      <td>0.291806</td>\n",
       "      <td>-0.939638</td>\n",
       "      <td>1.931861</td>\n",
       "      <td>uno</td>\n",
       "      <td>1.0</td>\n",
       "    </tr>\n",
       "    <tr>\n",
       "      <th>2013-01-06</th>\n",
       "      <td>-0.733160</td>\n",
       "      <td>-0.042479</td>\n",
       "      <td>0.172088</td>\n",
       "      <td>0.154935</td>\n",
       "      <td>tres</td>\n",
       "      <td>5.0</td>\n",
       "    </tr>\n",
       "  </tbody>\n",
       "</table>\n",
       "</div>"
      ],
      "text/plain": [
       "                   A         B         C         D     E    F\n",
       "2013-01-01 -0.692425  0.291806 -0.939638  1.931861   uno  1.0\n",
       "2013-01-06 -0.733160 -0.042479  0.172088  0.154935  tres  5.0"
      ]
     },
     "execution_count": 26,
     "metadata": {},
     "output_type": "execute_result"
    }
   ],
   "source": [
    "df[ df[\"F\"].isin( [1, 5] ) ]"
   ]
  },
  {
   "cell_type": "code",
   "execution_count": 27,
   "metadata": {},
   "outputs": [
    {
     "name": "stdout",
     "output_type": "stream",
     "text": [
      "                   A          B         C         D       E    F\n",
      "2013-01-01 -0.692425  10.000000 -0.939638  1.931861     uno  1.0\n",
      "2013-01-02 -1.179901   0.527429  0.366479 -1.035113     uno  1.8\n",
      "2013-01-03 -0.984117   0.322905 -0.190418 -0.191633     dos  2.6\n",
      "2013-01-04 -1.449449   1.180161 -1.666900 -1.194427    tres  3.4\n",
      "2013-01-05 -0.748434   0.956975  0.695292  1.016349  cuatro  4.2\n",
      "2013-01-06 -0.733160  -0.042479  0.172088  0.154935    tres  5.0\n"
     ]
    }
   ],
   "source": [
    "# Podemos cambiar un valor específico.\n",
    "\n",
    "df.iloc[0, 1] = 10\n",
    "print(df)"
   ]
  },
  {
   "cell_type": "code",
   "execution_count": 28,
   "metadata": {},
   "outputs": [
    {
     "name": "stdout",
     "output_type": "stream",
     "text": [
      "                   A          B         C         D    F\n",
      "2013-01-01 -0.692425  10.000000 -0.939638  1.931861  1.0\n",
      "2013-01-02 -1.179901   0.527429  0.366479 -1.035113  1.8\n",
      "2013-01-03 -0.984117   0.322905 -0.190418 -0.191633  2.6\n",
      "2013-01-04 -1.449449   1.180161 -1.666900 -1.194427  3.4\n",
      "2013-01-05 -0.748434   0.956975  0.695292  1.016349  4.2\n",
      "2013-01-06 -0.733160  -0.042479  0.172088  0.154935  5.0\n"
     ]
    }
   ],
   "source": [
    "# Quitar columna.\n",
    "\n",
    "df = df.drop(\"E\", axis = 1)\n",
    "print(df)"
   ]
  },
  {
   "cell_type": "code",
   "execution_count": 29,
   "metadata": {},
   "outputs": [
    {
     "data": {
      "text/html": [
       "<div>\n",
       "<style scoped>\n",
       "    .dataframe tbody tr th:only-of-type {\n",
       "        vertical-align: middle;\n",
       "    }\n",
       "\n",
       "    .dataframe tbody tr th {\n",
       "        vertical-align: top;\n",
       "    }\n",
       "\n",
       "    .dataframe thead th {\n",
       "        text-align: right;\n",
       "    }\n",
       "</style>\n",
       "<table border=\"1\" class=\"dataframe\">\n",
       "  <thead>\n",
       "    <tr style=\"text-align: right;\">\n",
       "      <th></th>\n",
       "      <th>A</th>\n",
       "      <th>B</th>\n",
       "      <th>C</th>\n",
       "      <th>D</th>\n",
       "      <th>F</th>\n",
       "    </tr>\n",
       "  </thead>\n",
       "  <tbody>\n",
       "    <tr>\n",
       "      <th>2013-01-01</th>\n",
       "      <td>-0.692425</td>\n",
       "      <td>10.000000</td>\n",
       "      <td>-0.939638</td>\n",
       "      <td>1.931861</td>\n",
       "      <td>1.0</td>\n",
       "    </tr>\n",
       "    <tr>\n",
       "      <th>2013-01-02</th>\n",
       "      <td>-1.179901</td>\n",
       "      <td>0.527429</td>\n",
       "      <td>0.366479</td>\n",
       "      <td>-1.035113</td>\n",
       "      <td>1.8</td>\n",
       "    </tr>\n",
       "    <tr>\n",
       "      <th>2013-01-03</th>\n",
       "      <td>-0.984117</td>\n",
       "      <td>0.322905</td>\n",
       "      <td>-0.190418</td>\n",
       "      <td>-0.191633</td>\n",
       "      <td>2.6</td>\n",
       "    </tr>\n",
       "    <tr>\n",
       "      <th>2013-01-05</th>\n",
       "      <td>-0.748434</td>\n",
       "      <td>0.956975</td>\n",
       "      <td>0.695292</td>\n",
       "      <td>1.016349</td>\n",
       "      <td>4.2</td>\n",
       "    </tr>\n",
       "    <tr>\n",
       "      <th>2013-01-06</th>\n",
       "      <td>-0.733160</td>\n",
       "      <td>-0.042479</td>\n",
       "      <td>0.172088</td>\n",
       "      <td>0.154935</td>\n",
       "      <td>5.0</td>\n",
       "    </tr>\n",
       "  </tbody>\n",
       "</table>\n",
       "</div>"
      ],
      "text/plain": [
       "                   A          B         C         D    F\n",
       "2013-01-01 -0.692425  10.000000 -0.939638  1.931861  1.0\n",
       "2013-01-02 -1.179901   0.527429  0.366479 -1.035113  1.8\n",
       "2013-01-03 -0.984117   0.322905 -0.190418 -0.191633  2.6\n",
       "2013-01-05 -0.748434   0.956975  0.695292  1.016349  4.2\n",
       "2013-01-06 -0.733160  -0.042479  0.172088  0.154935  5.0"
      ]
     },
     "execution_count": 29,
     "metadata": {},
     "output_type": "execute_result"
    }
   ],
   "source": [
    "# Quitar filas\n",
    "df = df.drop(df.index[3], axis = 0)\n",
    "\n",
    "df"
   ]
  },
  {
   "cell_type": "code",
   "execution_count": 30,
   "metadata": {},
   "outputs": [
    {
     "name": "stdout",
     "output_type": "stream",
     "text": [
      "              A          B         C         D    F\n",
      "2013-01-01  0.0  10.000000  0.000000  1.931861  1.0\n",
      "2013-01-02  0.0   0.527429  0.366479  0.000000  1.8\n",
      "2013-01-03  0.0   0.322905  0.000000  0.000000  2.6\n",
      "2013-01-05  0.0   0.956975  0.695292  1.016349  4.2\n",
      "2013-01-06  0.0   0.000000  0.172088  0.154935  5.0\n"
     ]
    }
   ],
   "source": [
    "# Establecer valores con condicional.\n",
    "\n",
    "df[df<0] = 0\n",
    "print(df)"
   ]
  },
  {
   "cell_type": "code",
   "execution_count": 31,
   "metadata": {},
   "outputs": [
    {
     "name": "stdout",
     "output_type": "stream",
     "text": [
      "              A         B         C         D    F\n",
      "2013-01-01  0.0       NaN  0.000000  1.931861  1.0\n",
      "2013-01-02  0.0  0.527429  0.366479  0.000000  1.8\n",
      "2013-01-03  0.0  0.322905  0.000000  0.000000  NaN\n",
      "2013-01-05  0.0  0.956975  0.695292  1.016349  NaN\n",
      "2013-01-06  0.0  0.000000  0.172088  0.154935  NaN\n"
     ]
    }
   ],
   "source": [
    "# Agregamos algunos valores nulos.\n",
    "\n",
    "df[df>2] = np.nan\n",
    "print(df)"
   ]
  },
  {
   "cell_type": "code",
   "execution_count": 32,
   "metadata": {},
   "outputs": [
    {
     "name": "stdout",
     "output_type": "stream",
     "text": [
      "              A         B         C    D    F\n",
      "2013-01-02  0.0  0.527429  0.366479  0.0  1.8\n",
      "\n",
      "              A           B         C         D      F\n",
      "2013-01-01  0.0 -100.000000  0.000000  1.931861    1.0\n",
      "2013-01-02  0.0    0.527429  0.366479  0.000000    1.8\n",
      "2013-01-03  0.0    0.322905  0.000000  0.000000 -100.0\n",
      "2013-01-05  0.0    0.956975  0.695292  1.016349 -100.0\n",
      "2013-01-06  0.0    0.000000  0.172088  0.154935 -100.0\n",
      "\n",
      "                A      B      C      D      F\n",
      "2013-01-01  False   True  False  False  False\n",
      "2013-01-02  False  False  False  False  False\n",
      "2013-01-03  False  False  False  False   True\n",
      "2013-01-05  False  False  False  False   True\n",
      "2013-01-06  False  False  False  False   True\n"
     ]
    }
   ],
   "source": [
    "# Quitar filas con valores nulos.\n",
    "print(df.dropna())\n",
    "print()\n",
    "\n",
    "# Rellenar valores nulos.\n",
    "print(df.fillna(-100))\n",
    "print()\n",
    "\n",
    "# Determinar valores nulos.\n",
    "print(df.isna())"
   ]
  },
  {
   "cell_type": "code",
   "execution_count": 33,
   "metadata": {},
   "outputs": [
    {
     "name": "stdout",
     "output_type": "stream",
     "text": [
      "              A         B         C         D    F         G\n",
      "2013-01-01  0.0       NaN  0.000000  1.931861  1.0  0.000000\n",
      "2013-01-02  0.0  0.527429  0.366479  0.000000  1.8  0.366479\n",
      "2013-01-03  0.0  0.322905  0.000000  0.000000  NaN  0.000000\n",
      "2013-01-05  0.0  0.956975  0.695292  1.016349  NaN  0.695292\n",
      "2013-01-06  0.0  0.000000  0.172088  0.154935  NaN  0.172088\n",
      "\n",
      "A    0.000000\n",
      "B    0.451827\n",
      "C    0.246772\n",
      "D    0.620629\n",
      "F    1.400000\n",
      "G    0.246772\n",
      "dtype: float64\n",
      "\n",
      "2013-01-01    0.586372\n",
      "2013-01-02    0.510064\n",
      "2013-01-03    0.064581\n",
      "2013-01-05    0.672782\n",
      "2013-01-06    0.099822\n",
      "dtype: float64\n"
     ]
    }
   ],
   "source": [
    "# operaciones.\n",
    "\n",
    "# Entre columnas.\n",
    "df[\"G\"] = df[\"A\"] + df[\"C\"]\n",
    "\n",
    "print(df)\n",
    "print()\n",
    "\n",
    "# promedio\n",
    "print(df.mean())\n",
    "print()\n",
    "print(df.mean(1))"
   ]
  },
  {
   "cell_type": "code",
   "execution_count": 34,
   "metadata": {},
   "outputs": [
    {
     "data": {
      "text/html": [
       "<div>\n",
       "<style scoped>\n",
       "    .dataframe tbody tr th:only-of-type {\n",
       "        vertical-align: middle;\n",
       "    }\n",
       "\n",
       "    .dataframe tbody tr th {\n",
       "        vertical-align: top;\n",
       "    }\n",
       "\n",
       "    .dataframe thead th {\n",
       "        text-align: right;\n",
       "    }\n",
       "</style>\n",
       "<table border=\"1\" class=\"dataframe\">\n",
       "  <thead>\n",
       "    <tr style=\"text-align: right;\">\n",
       "      <th></th>\n",
       "      <th>A</th>\n",
       "      <th>B</th>\n",
       "      <th>C</th>\n",
       "      <th>D</th>\n",
       "      <th>F</th>\n",
       "      <th>G</th>\n",
       "    </tr>\n",
       "  </thead>\n",
       "  <tbody>\n",
       "    <tr>\n",
       "      <th>2013-01-01</th>\n",
       "      <td>0.0</td>\n",
       "      <td>NaN</td>\n",
       "      <td>0.000000</td>\n",
       "      <td>1.931861</td>\n",
       "      <td>1.0</td>\n",
       "      <td>0.000000</td>\n",
       "    </tr>\n",
       "    <tr>\n",
       "      <th>2013-01-02</th>\n",
       "      <td>0.0</td>\n",
       "      <td>0.527429</td>\n",
       "      <td>0.366479</td>\n",
       "      <td>1.931861</td>\n",
       "      <td>2.8</td>\n",
       "      <td>0.366479</td>\n",
       "    </tr>\n",
       "    <tr>\n",
       "      <th>2013-01-03</th>\n",
       "      <td>0.0</td>\n",
       "      <td>0.850334</td>\n",
       "      <td>0.366479</td>\n",
       "      <td>1.931861</td>\n",
       "      <td>NaN</td>\n",
       "      <td>0.366479</td>\n",
       "    </tr>\n",
       "    <tr>\n",
       "      <th>2013-01-05</th>\n",
       "      <td>0.0</td>\n",
       "      <td>1.807309</td>\n",
       "      <td>1.061771</td>\n",
       "      <td>2.948210</td>\n",
       "      <td>NaN</td>\n",
       "      <td>1.061771</td>\n",
       "    </tr>\n",
       "    <tr>\n",
       "      <th>2013-01-06</th>\n",
       "      <td>0.0</td>\n",
       "      <td>1.807309</td>\n",
       "      <td>1.233859</td>\n",
       "      <td>3.103145</td>\n",
       "      <td>NaN</td>\n",
       "      <td>1.233859</td>\n",
       "    </tr>\n",
       "  </tbody>\n",
       "</table>\n",
       "</div>"
      ],
      "text/plain": [
       "              A         B         C         D    F         G\n",
       "2013-01-01  0.0       NaN  0.000000  1.931861  1.0  0.000000\n",
       "2013-01-02  0.0  0.527429  0.366479  1.931861  2.8  0.366479\n",
       "2013-01-03  0.0  0.850334  0.366479  1.931861  NaN  0.366479\n",
       "2013-01-05  0.0  1.807309  1.061771  2.948210  NaN  1.061771\n",
       "2013-01-06  0.0  1.807309  1.233859  3.103145  NaN  1.233859"
      ]
     },
     "execution_count": 34,
     "metadata": {},
     "output_type": "execute_result"
    }
   ],
   "source": [
    "# Aplicar operación.\n",
    "# np.cumsum() hace una suma acumulada.\n",
    "df.apply(np.cumsum)"
   ]
  },
  {
   "cell_type": "code",
   "execution_count": 35,
   "metadata": {},
   "outputs": [
    {
     "name": "stderr",
     "output_type": "stream",
     "text": [
      "/opt/homebrew/Caskroom/miniforge/base/envs/gv/lib/python3.9/site-packages/pandas/core/arraylike.py:364: RuntimeWarning: divide by zero encountered in log\n",
      "  result = getattr(ufunc, method)(*inputs, **kwargs)\n"
     ]
    },
    {
     "data": {
      "text/html": [
       "<div>\n",
       "<style scoped>\n",
       "    .dataframe tbody tr th:only-of-type {\n",
       "        vertical-align: middle;\n",
       "    }\n",
       "\n",
       "    .dataframe tbody tr th {\n",
       "        vertical-align: top;\n",
       "    }\n",
       "\n",
       "    .dataframe thead th {\n",
       "        text-align: right;\n",
       "    }\n",
       "</style>\n",
       "<table border=\"1\" class=\"dataframe\">\n",
       "  <thead>\n",
       "    <tr style=\"text-align: right;\">\n",
       "      <th></th>\n",
       "      <th>A</th>\n",
       "      <th>B</th>\n",
       "      <th>C</th>\n",
       "      <th>D</th>\n",
       "      <th>F</th>\n",
       "      <th>G</th>\n",
       "      <th>H</th>\n",
       "    </tr>\n",
       "  </thead>\n",
       "  <tbody>\n",
       "    <tr>\n",
       "      <th>2013-01-01</th>\n",
       "      <td>0.0</td>\n",
       "      <td>NaN</td>\n",
       "      <td>0.000000</td>\n",
       "      <td>1.931861</td>\n",
       "      <td>1.0</td>\n",
       "      <td>0.000000</td>\n",
       "      <td>-inf</td>\n",
       "    </tr>\n",
       "    <tr>\n",
       "      <th>2013-01-02</th>\n",
       "      <td>0.0</td>\n",
       "      <td>0.527429</td>\n",
       "      <td>0.366479</td>\n",
       "      <td>0.000000</td>\n",
       "      <td>1.8</td>\n",
       "      <td>0.366479</td>\n",
       "      <td>-1.003814</td>\n",
       "    </tr>\n",
       "    <tr>\n",
       "      <th>2013-01-03</th>\n",
       "      <td>0.0</td>\n",
       "      <td>0.322905</td>\n",
       "      <td>0.000000</td>\n",
       "      <td>0.000000</td>\n",
       "      <td>NaN</td>\n",
       "      <td>0.000000</td>\n",
       "      <td>-inf</td>\n",
       "    </tr>\n",
       "    <tr>\n",
       "      <th>2013-01-05</th>\n",
       "      <td>0.0</td>\n",
       "      <td>0.956975</td>\n",
       "      <td>0.695292</td>\n",
       "      <td>1.016349</td>\n",
       "      <td>NaN</td>\n",
       "      <td>0.695292</td>\n",
       "      <td>-0.363423</td>\n",
       "    </tr>\n",
       "    <tr>\n",
       "      <th>2013-01-06</th>\n",
       "      <td>0.0</td>\n",
       "      <td>0.000000</td>\n",
       "      <td>0.172088</td>\n",
       "      <td>0.154935</td>\n",
       "      <td>NaN</td>\n",
       "      <td>0.172088</td>\n",
       "      <td>-1.759748</td>\n",
       "    </tr>\n",
       "  </tbody>\n",
       "</table>\n",
       "</div>"
      ],
      "text/plain": [
       "              A         B         C         D    F         G         H\n",
       "2013-01-01  0.0       NaN  0.000000  1.931861  1.0  0.000000      -inf\n",
       "2013-01-02  0.0  0.527429  0.366479  0.000000  1.8  0.366479 -1.003814\n",
       "2013-01-03  0.0  0.322905  0.000000  0.000000  NaN  0.000000      -inf\n",
       "2013-01-05  0.0  0.956975  0.695292  1.016349  NaN  0.695292 -0.363423\n",
       "2013-01-06  0.0  0.000000  0.172088  0.154935  NaN  0.172088 -1.759748"
      ]
     },
     "execution_count": 35,
     "metadata": {},
     "output_type": "execute_result"
    }
   ],
   "source": [
    "# Logaritmo a cada elemento.\n",
    "df[\"H\"] = np.log( df[\"C\"] )\n",
    "\n",
    "df"
   ]
  },
  {
   "cell_type": "code",
   "execution_count": 36,
   "metadata": {},
   "outputs": [
    {
     "data": {
      "text/html": [
       "<div>\n",
       "<style scoped>\n",
       "    .dataframe tbody tr th:only-of-type {\n",
       "        vertical-align: middle;\n",
       "    }\n",
       "\n",
       "    .dataframe tbody tr th {\n",
       "        vertical-align: top;\n",
       "    }\n",
       "\n",
       "    .dataframe thead th {\n",
       "        text-align: right;\n",
       "    }\n",
       "</style>\n",
       "<table border=\"1\" class=\"dataframe\">\n",
       "  <thead>\n",
       "    <tr style=\"text-align: right;\">\n",
       "      <th></th>\n",
       "      <th>A</th>\n",
       "      <th>B</th>\n",
       "      <th>C</th>\n",
       "      <th>D</th>\n",
       "      <th>F</th>\n",
       "      <th>G</th>\n",
       "      <th>H</th>\n",
       "      <th>I</th>\n",
       "    </tr>\n",
       "  </thead>\n",
       "  <tbody>\n",
       "    <tr>\n",
       "      <th>2013-01-01</th>\n",
       "      <td>0.0</td>\n",
       "      <td>NaN</td>\n",
       "      <td>0.000000</td>\n",
       "      <td>1.931861</td>\n",
       "      <td>1.0</td>\n",
       "      <td>0.000000</td>\n",
       "      <td>-inf</td>\n",
       "      <td>NaN</td>\n",
       "    </tr>\n",
       "    <tr>\n",
       "      <th>2013-01-02</th>\n",
       "      <td>0.0</td>\n",
       "      <td>0.527429</td>\n",
       "      <td>0.366479</td>\n",
       "      <td>0.000000</td>\n",
       "      <td>1.8</td>\n",
       "      <td>0.366479</td>\n",
       "      <td>-1.003814</td>\n",
       "      <td>NaN</td>\n",
       "    </tr>\n",
       "    <tr>\n",
       "      <th>2013-01-03</th>\n",
       "      <td>0.0</td>\n",
       "      <td>0.322905</td>\n",
       "      <td>0.000000</td>\n",
       "      <td>0.000000</td>\n",
       "      <td>NaN</td>\n",
       "      <td>0.000000</td>\n",
       "      <td>-inf</td>\n",
       "      <td>0.000000</td>\n",
       "    </tr>\n",
       "    <tr>\n",
       "      <th>2013-01-05</th>\n",
       "      <td>0.0</td>\n",
       "      <td>0.956975</td>\n",
       "      <td>0.695292</td>\n",
       "      <td>1.016349</td>\n",
       "      <td>NaN</td>\n",
       "      <td>0.695292</td>\n",
       "      <td>-0.363423</td>\n",
       "      <td>0.366479</td>\n",
       "    </tr>\n",
       "    <tr>\n",
       "      <th>2013-01-06</th>\n",
       "      <td>0.0</td>\n",
       "      <td>0.000000</td>\n",
       "      <td>0.172088</td>\n",
       "      <td>0.154935</td>\n",
       "      <td>NaN</td>\n",
       "      <td>0.172088</td>\n",
       "      <td>-1.759748</td>\n",
       "      <td>0.000000</td>\n",
       "    </tr>\n",
       "  </tbody>\n",
       "</table>\n",
       "</div>"
      ],
      "text/plain": [
       "              A         B         C         D    F         G         H  \\\n",
       "2013-01-01  0.0       NaN  0.000000  1.931861  1.0  0.000000      -inf   \n",
       "2013-01-02  0.0  0.527429  0.366479  0.000000  1.8  0.366479 -1.003814   \n",
       "2013-01-03  0.0  0.322905  0.000000  0.000000  NaN  0.000000      -inf   \n",
       "2013-01-05  0.0  0.956975  0.695292  1.016349  NaN  0.695292 -0.363423   \n",
       "2013-01-06  0.0  0.000000  0.172088  0.154935  NaN  0.172088 -1.759748   \n",
       "\n",
       "                   I  \n",
       "2013-01-01       NaN  \n",
       "2013-01-02       NaN  \n",
       "2013-01-03  0.000000  \n",
       "2013-01-05  0.366479  \n",
       "2013-01-06  0.000000  "
      ]
     },
     "execution_count": 36,
     "metadata": {},
     "output_type": "execute_result"
    }
   ],
   "source": [
    "# Recorrer una columna una cierta cantidad de filas.\n",
    "\n",
    "df[\"I\"] = df[\"C\"].shift(2)\n",
    "\n",
    "df"
   ]
  },
  {
   "cell_type": "code",
   "execution_count": 37,
   "metadata": {},
   "outputs": [],
   "source": [
    "# Leer y escribir archivos es muy fácil con el formato\n",
    "# csv, compatible con Excel.\n",
    "\n",
    "# Escribir.\n",
    "df.to_csv(\"Archivo1.csv\")"
   ]
  },
  {
   "cell_type": "code",
   "execution_count": 38,
   "metadata": {},
   "outputs": [
    {
     "data": {
      "text/html": [
       "<div>\n",
       "<style scoped>\n",
       "    .dataframe tbody tr th:only-of-type {\n",
       "        vertical-align: middle;\n",
       "    }\n",
       "\n",
       "    .dataframe tbody tr th {\n",
       "        vertical-align: top;\n",
       "    }\n",
       "\n",
       "    .dataframe thead th {\n",
       "        text-align: right;\n",
       "    }\n",
       "</style>\n",
       "<table border=\"1\" class=\"dataframe\">\n",
       "  <thead>\n",
       "    <tr style=\"text-align: right;\">\n",
       "      <th></th>\n",
       "      <th>A</th>\n",
       "      <th>B</th>\n",
       "      <th>C</th>\n",
       "      <th>D</th>\n",
       "      <th>F</th>\n",
       "      <th>G</th>\n",
       "      <th>H</th>\n",
       "      <th>I</th>\n",
       "    </tr>\n",
       "  </thead>\n",
       "  <tbody>\n",
       "    <tr>\n",
       "      <th>2013-01-01</th>\n",
       "      <td>0.0</td>\n",
       "      <td>NaN</td>\n",
       "      <td>0.000000</td>\n",
       "      <td>1.931861</td>\n",
       "      <td>1.0</td>\n",
       "      <td>0.000000</td>\n",
       "      <td>-inf</td>\n",
       "      <td>NaN</td>\n",
       "    </tr>\n",
       "    <tr>\n",
       "      <th>2013-01-02</th>\n",
       "      <td>0.0</td>\n",
       "      <td>0.527429</td>\n",
       "      <td>0.366479</td>\n",
       "      <td>0.000000</td>\n",
       "      <td>1.8</td>\n",
       "      <td>0.366479</td>\n",
       "      <td>-1.003814</td>\n",
       "      <td>NaN</td>\n",
       "    </tr>\n",
       "    <tr>\n",
       "      <th>2013-01-03</th>\n",
       "      <td>0.0</td>\n",
       "      <td>0.322905</td>\n",
       "      <td>0.000000</td>\n",
       "      <td>0.000000</td>\n",
       "      <td>NaN</td>\n",
       "      <td>0.000000</td>\n",
       "      <td>-inf</td>\n",
       "      <td>0.000000</td>\n",
       "    </tr>\n",
       "    <tr>\n",
       "      <th>2013-01-05</th>\n",
       "      <td>0.0</td>\n",
       "      <td>0.956975</td>\n",
       "      <td>0.695292</td>\n",
       "      <td>1.016349</td>\n",
       "      <td>NaN</td>\n",
       "      <td>0.695292</td>\n",
       "      <td>-0.363423</td>\n",
       "      <td>0.366479</td>\n",
       "    </tr>\n",
       "    <tr>\n",
       "      <th>2013-01-06</th>\n",
       "      <td>0.0</td>\n",
       "      <td>0.000000</td>\n",
       "      <td>0.172088</td>\n",
       "      <td>0.154935</td>\n",
       "      <td>NaN</td>\n",
       "      <td>0.172088</td>\n",
       "      <td>-1.759748</td>\n",
       "      <td>0.000000</td>\n",
       "    </tr>\n",
       "  </tbody>\n",
       "</table>\n",
       "</div>"
      ],
      "text/plain": [
       "              A         B         C         D    F         G         H  \\\n",
       "2013-01-01  0.0       NaN  0.000000  1.931861  1.0  0.000000      -inf   \n",
       "2013-01-02  0.0  0.527429  0.366479  0.000000  1.8  0.366479 -1.003814   \n",
       "2013-01-03  0.0  0.322905  0.000000  0.000000  NaN  0.000000      -inf   \n",
       "2013-01-05  0.0  0.956975  0.695292  1.016349  NaN  0.695292 -0.363423   \n",
       "2013-01-06  0.0  0.000000  0.172088  0.154935  NaN  0.172088 -1.759748   \n",
       "\n",
       "                   I  \n",
       "2013-01-01       NaN  \n",
       "2013-01-02       NaN  \n",
       "2013-01-03  0.000000  \n",
       "2013-01-05  0.366479  \n",
       "2013-01-06  0.000000  "
      ]
     },
     "execution_count": 38,
     "metadata": {},
     "output_type": "execute_result"
    }
   ],
   "source": [
    "# Leer archivo.\n",
    "\n",
    "df_2 = pd.read_csv(\"Archivo1.csv\", index_col = 0)\n",
    "df_2"
   ]
  },
  {
   "cell_type": "code",
   "execution_count": 39,
   "metadata": {},
   "outputs": [
    {
     "name": "stdout",
     "output_type": "stream",
     "text": [
      "DatetimeIndex(['2013-01-01', '2013-01-02', '2013-01-03', '2013-01-05',\n",
      "               '2013-01-06'],\n",
      "              dtype='datetime64[ns]', freq=None)\n",
      "Index(['2013-01-01', '2013-01-02', '2013-01-03', '2013-01-05', '2013-01-06'], dtype='object')\n"
     ]
    }
   ],
   "source": [
    "# El índice de fechas no se carga con el formato correcto.\n",
    "print( df.index )\n",
    "print( df_2.index )"
   ]
  },
  {
   "cell_type": "code",
   "execution_count": 40,
   "metadata": {},
   "outputs": [
    {
     "data": {
      "text/plain": [
       "DatetimeIndex(['2013-01-01', '2013-01-02', '2013-01-03', '2013-01-05',\n",
       "               '2013-01-06'],\n",
       "              dtype='datetime64[ns]', freq=None)"
      ]
     },
     "execution_count": 40,
     "metadata": {},
     "output_type": "execute_result"
    }
   ],
   "source": [
    "# Cambiamos al formato correcto.\n",
    "df_2.index = pd.to_datetime( df_2.index )\n",
    "df_2.index"
   ]
  },
  {
   "cell_type": "code",
   "execution_count": 41,
   "metadata": {},
   "outputs": [
    {
     "name": "stdout",
     "output_type": "stream",
     "text": [
      "      Col_1     Col_2\n",
      "0  0.296689  0.081364\n",
      "1  0.667543  0.639023\n",
      "2  0.133929  0.738683\n",
      "3  0.432362  0.245172\n",
      "4  0.656807  0.457301\n",
      "\n",
      "          Col_1     Col_2\n",
      "Col_1  1.000000 -0.004124\n",
      "Col_2 -0.004124  1.000000\n",
      "\n",
      "          Col_1     Col_2\n",
      "Col_1  0.083216 -0.000343\n",
      "Col_2 -0.000343  0.083238\n",
      "\n",
      "-0.0034425222432545198\n"
     ]
    }
   ],
   "source": [
    "# Correlación.\n",
    "\n",
    "# Creamos un dataframe aleatorio.\n",
    "df = pd.DataFrame( np.random.rand(100000, 2), columns = [\"Col_1\", \"Col_2\"] )\n",
    "\n",
    "print( df.head() )\n",
    "print()\n",
    "\n",
    "# Matriz de correlación\n",
    "print( df.corr() )\n",
    "print()\n",
    "\n",
    "# Matriz de covarianca\n",
    "print( df.cov() )\n",
    "print()\n",
    "\n",
    "# Autocorrelación.\n",
    "print( df[\"Col_1\"].autocorr(lag = 1) )"
   ]
  },
  {
   "cell_type": "code",
   "execution_count": 42,
   "metadata": {},
   "outputs": [],
   "source": [
    "# Cargar el archivo Electrico_residencial_2010_2017\n",
    "# Selecciona las entradas correspondientes a Baja California.\n",
    "# Ordena los datos de menor a mayor consumo en 2010.\n",
    "# Selecciona los municipios con una cantidad de usuarios en 2012 menor a 100\n",
    "# Encuentra el municipio con mayor consumo en tarifa DAC.\n",
    "# Selecciona solo la tarifa DAC para todos los municipios.\n",
    "# Encuentra la correlación entre el consumo de 2012 y 2013."
   ]
  },
  {
   "cell_type": "code",
   "execution_count": 43,
   "metadata": {},
   "outputs": [
    {
     "name": "stdout",
     "output_type": "stream",
     "text": [
      "                   A         B         C         D\n",
      "2013-01-01 -1.438076 -0.601575 -0.450797  0.762025\n",
      "2013-01-02 -0.101053 -0.917234  0.410505 -0.688452\n",
      "2013-01-03  0.686585 -0.954534 -0.476515  1.696198\n",
      "2013-01-04  1.732757  0.102110  0.673183  0.894403\n",
      "2013-01-05  0.287221 -0.792914  1.101796  1.197078\n",
      "...              ...       ...       ...       ...\n",
      "2013-07-15 -0.989184  1.746952  0.012504 -0.534332\n",
      "2013-07-16 -1.721557  1.348815  0.164203  0.035089\n",
      "2013-07-17 -0.151259  1.228167  1.627226  0.048818\n",
      "2013-07-18  0.033141 -0.451652  1.709694  1.350428\n",
      "2013-07-19 -0.296599  0.742159 -0.487532  0.011527\n",
      "\n",
      "[200 rows x 4 columns]\n"
     ]
    }
   ],
   "source": [
    "# Agrupar datos\n",
    "\n",
    "fechas = pd.date_range(\"20130101\", periods = 200, freq = \"D\")\n",
    "df = pd.DataFrame( np.random.randn(200, 4), index = fechas,\n",
    "    columns = [\"A\", \"B\", \"C\", \"D\"] )\n",
    "\n",
    "print(df)"
   ]
  },
  {
   "cell_type": "code",
   "execution_count": 44,
   "metadata": {},
   "outputs": [
    {
     "data": {
      "text/html": [
       "<div>\n",
       "<style scoped>\n",
       "    .dataframe tbody tr th:only-of-type {\n",
       "        vertical-align: middle;\n",
       "    }\n",
       "\n",
       "    .dataframe tbody tr th {\n",
       "        vertical-align: top;\n",
       "    }\n",
       "\n",
       "    .dataframe thead th {\n",
       "        text-align: right;\n",
       "    }\n",
       "</style>\n",
       "<table border=\"1\" class=\"dataframe\">\n",
       "  <thead>\n",
       "    <tr style=\"text-align: right;\">\n",
       "      <th></th>\n",
       "      <th>A</th>\n",
       "      <th>B</th>\n",
       "      <th>C</th>\n",
       "      <th>D</th>\n",
       "    </tr>\n",
       "  </thead>\n",
       "  <tbody>\n",
       "    <tr>\n",
       "      <th>1</th>\n",
       "      <td>0.967453</td>\n",
       "      <td>-7.667261</td>\n",
       "      <td>2.271338</td>\n",
       "      <td>6.989130</td>\n",
       "    </tr>\n",
       "    <tr>\n",
       "      <th>2</th>\n",
       "      <td>-3.289937</td>\n",
       "      <td>0.691427</td>\n",
       "      <td>5.435141</td>\n",
       "      <td>-7.914718</td>\n",
       "    </tr>\n",
       "    <tr>\n",
       "      <th>3</th>\n",
       "      <td>-0.254666</td>\n",
       "      <td>-0.979370</td>\n",
       "      <td>6.725152</td>\n",
       "      <td>3.207552</td>\n",
       "    </tr>\n",
       "    <tr>\n",
       "      <th>4</th>\n",
       "      <td>3.980718</td>\n",
       "      <td>-7.285414</td>\n",
       "      <td>-6.081857</td>\n",
       "      <td>1.770468</td>\n",
       "    </tr>\n",
       "    <tr>\n",
       "      <th>5</th>\n",
       "      <td>-2.227700</td>\n",
       "      <td>3.016209</td>\n",
       "      <td>3.784511</td>\n",
       "      <td>6.633229</td>\n",
       "    </tr>\n",
       "    <tr>\n",
       "      <th>6</th>\n",
       "      <td>-0.854139</td>\n",
       "      <td>-2.391615</td>\n",
       "      <td>-2.823653</td>\n",
       "      <td>-1.632769</td>\n",
       "    </tr>\n",
       "    <tr>\n",
       "      <th>7</th>\n",
       "      <td>-2.165594</td>\n",
       "      <td>0.982634</td>\n",
       "      <td>3.523837</td>\n",
       "      <td>6.169124</td>\n",
       "    </tr>\n",
       "  </tbody>\n",
       "</table>\n",
       "</div>"
      ],
      "text/plain": [
       "          A         B         C         D\n",
       "1  0.967453 -7.667261  2.271338  6.989130\n",
       "2 -3.289937  0.691427  5.435141 -7.914718\n",
       "3 -0.254666 -0.979370  6.725152  3.207552\n",
       "4  3.980718 -7.285414 -6.081857  1.770468\n",
       "5 -2.227700  3.016209  3.784511  6.633229\n",
       "6 -0.854139 -2.391615 -2.823653 -1.632769\n",
       "7 -2.165594  0.982634  3.523837  6.169124"
      ]
     },
     "execution_count": 44,
     "metadata": {},
     "output_type": "execute_result"
    }
   ],
   "source": [
    "# Agrupamos y realizamos una operación.\n",
    "df.groupby(df.index.month).sum()"
   ]
  },
  {
   "cell_type": "code",
   "execution_count": 45,
   "metadata": {},
   "outputs": [
    {
     "data": {
      "text/html": [
       "<div>\n",
       "<style scoped>\n",
       "    .dataframe tbody tr th:only-of-type {\n",
       "        vertical-align: middle;\n",
       "    }\n",
       "\n",
       "    .dataframe tbody tr th {\n",
       "        vertical-align: top;\n",
       "    }\n",
       "\n",
       "    .dataframe thead th {\n",
       "        text-align: right;\n",
       "    }\n",
       "</style>\n",
       "<table border=\"1\" class=\"dataframe\">\n",
       "  <thead>\n",
       "    <tr style=\"text-align: right;\">\n",
       "      <th></th>\n",
       "      <th>A</th>\n",
       "      <th>B</th>\n",
       "      <th>C</th>\n",
       "      <th>D</th>\n",
       "    </tr>\n",
       "  </thead>\n",
       "  <tbody>\n",
       "    <tr>\n",
       "      <th>1</th>\n",
       "      <td>-0.689058</td>\n",
       "      <td>-0.141548</td>\n",
       "      <td>-0.323411</td>\n",
       "      <td>0.773337</td>\n",
       "    </tr>\n",
       "    <tr>\n",
       "      <th>2</th>\n",
       "      <td>-0.524481</td>\n",
       "      <td>-0.745674</td>\n",
       "      <td>0.643935</td>\n",
       "      <td>0.017175</td>\n",
       "    </tr>\n",
       "    <tr>\n",
       "      <th>3</th>\n",
       "      <td>0.269406</td>\n",
       "      <td>0.296774</td>\n",
       "      <td>-0.380379</td>\n",
       "      <td>0.200025</td>\n",
       "    </tr>\n",
       "    <tr>\n",
       "      <th>4</th>\n",
       "      <td>-0.387438</td>\n",
       "      <td>-0.082012</td>\n",
       "      <td>0.759791</td>\n",
       "      <td>0.079524</td>\n",
       "    </tr>\n",
       "    <tr>\n",
       "      <th>5</th>\n",
       "      <td>0.090019</td>\n",
       "      <td>-0.115923</td>\n",
       "      <td>0.572139</td>\n",
       "      <td>0.059757</td>\n",
       "    </tr>\n",
       "    <tr>\n",
       "      <th>6</th>\n",
       "      <td>0.135394</td>\n",
       "      <td>-0.510957</td>\n",
       "      <td>-0.422119</td>\n",
       "      <td>0.168378</td>\n",
       "    </tr>\n",
       "    <tr>\n",
       "      <th>7</th>\n",
       "      <td>0.773068</td>\n",
       "      <td>-0.352431</td>\n",
       "      <td>0.240454</td>\n",
       "      <td>-0.178043</td>\n",
       "    </tr>\n",
       "    <tr>\n",
       "      <th>8</th>\n",
       "      <td>-0.119851</td>\n",
       "      <td>-0.275955</td>\n",
       "      <td>-0.296910</td>\n",
       "      <td>-0.755115</td>\n",
       "    </tr>\n",
       "    <tr>\n",
       "      <th>9</th>\n",
       "      <td>-0.399255</td>\n",
       "      <td>-0.412794</td>\n",
       "      <td>0.148751</td>\n",
       "      <td>0.132147</td>\n",
       "    </tr>\n",
       "    <tr>\n",
       "      <th>10</th>\n",
       "      <td>0.606130</td>\n",
       "      <td>0.578656</td>\n",
       "      <td>0.289379</td>\n",
       "      <td>0.165783</td>\n",
       "    </tr>\n",
       "    <tr>\n",
       "      <th>11</th>\n",
       "      <td>-0.536797</td>\n",
       "      <td>-1.035411</td>\n",
       "      <td>-0.251354</td>\n",
       "      <td>0.252710</td>\n",
       "    </tr>\n",
       "    <tr>\n",
       "      <th>12</th>\n",
       "      <td>0.063758</td>\n",
       "      <td>-0.628110</td>\n",
       "      <td>0.325947</td>\n",
       "      <td>0.015392</td>\n",
       "    </tr>\n",
       "    <tr>\n",
       "      <th>13</th>\n",
       "      <td>-0.512858</td>\n",
       "      <td>0.430342</td>\n",
       "      <td>0.122311</td>\n",
       "      <td>-0.192025</td>\n",
       "    </tr>\n",
       "    <tr>\n",
       "      <th>14</th>\n",
       "      <td>-0.137276</td>\n",
       "      <td>-0.511413</td>\n",
       "      <td>0.720313</td>\n",
       "      <td>0.448759</td>\n",
       "    </tr>\n",
       "    <tr>\n",
       "      <th>15</th>\n",
       "      <td>-0.194458</td>\n",
       "      <td>0.124904</td>\n",
       "      <td>0.221376</td>\n",
       "      <td>-0.654228</td>\n",
       "    </tr>\n",
       "    <tr>\n",
       "      <th>16</th>\n",
       "      <td>-0.228784</td>\n",
       "      <td>0.054401</td>\n",
       "      <td>-0.998035</td>\n",
       "      <td>-0.407787</td>\n",
       "    </tr>\n",
       "    <tr>\n",
       "      <th>17</th>\n",
       "      <td>-0.165097</td>\n",
       "      <td>0.518037</td>\n",
       "      <td>0.381893</td>\n",
       "      <td>-0.353409</td>\n",
       "    </tr>\n",
       "    <tr>\n",
       "      <th>18</th>\n",
       "      <td>-0.143802</td>\n",
       "      <td>0.030758</td>\n",
       "      <td>0.036566</td>\n",
       "      <td>-0.303284</td>\n",
       "    </tr>\n",
       "    <tr>\n",
       "      <th>19</th>\n",
       "      <td>0.209742</td>\n",
       "      <td>0.377224</td>\n",
       "      <td>0.324749</td>\n",
       "      <td>-0.039826</td>\n",
       "    </tr>\n",
       "    <tr>\n",
       "      <th>20</th>\n",
       "      <td>-0.319574</td>\n",
       "      <td>-0.180056</td>\n",
       "      <td>-0.033729</td>\n",
       "      <td>0.358148</td>\n",
       "    </tr>\n",
       "    <tr>\n",
       "      <th>21</th>\n",
       "      <td>0.755223</td>\n",
       "      <td>-0.156308</td>\n",
       "      <td>-0.016206</td>\n",
       "      <td>0.358465</td>\n",
       "    </tr>\n",
       "    <tr>\n",
       "      <th>22</th>\n",
       "      <td>0.639002</td>\n",
       "      <td>0.053538</td>\n",
       "      <td>-0.312958</td>\n",
       "      <td>0.883463</td>\n",
       "    </tr>\n",
       "    <tr>\n",
       "      <th>23</th>\n",
       "      <td>-0.118541</td>\n",
       "      <td>-0.126886</td>\n",
       "      <td>-0.279735</td>\n",
       "      <td>0.439620</td>\n",
       "    </tr>\n",
       "    <tr>\n",
       "      <th>24</th>\n",
       "      <td>0.094703</td>\n",
       "      <td>0.070258</td>\n",
       "      <td>0.044372</td>\n",
       "      <td>0.276444</td>\n",
       "    </tr>\n",
       "    <tr>\n",
       "      <th>25</th>\n",
       "      <td>0.403803</td>\n",
       "      <td>0.337943</td>\n",
       "      <td>0.060254</td>\n",
       "      <td>0.095760</td>\n",
       "    </tr>\n",
       "    <tr>\n",
       "      <th>26</th>\n",
       "      <td>-0.826656</td>\n",
       "      <td>-0.000549</td>\n",
       "      <td>-0.381382</td>\n",
       "      <td>0.156517</td>\n",
       "    </tr>\n",
       "    <tr>\n",
       "      <th>27</th>\n",
       "      <td>0.312682</td>\n",
       "      <td>0.286763</td>\n",
       "      <td>-0.320272</td>\n",
       "      <td>0.280625</td>\n",
       "    </tr>\n",
       "    <tr>\n",
       "      <th>28</th>\n",
       "      <td>-0.162450</td>\n",
       "      <td>-0.304266</td>\n",
       "      <td>0.084978</td>\n",
       "      <td>-0.017153</td>\n",
       "    </tr>\n",
       "    <tr>\n",
       "      <th>29</th>\n",
       "      <td>0.036490</td>\n",
       "      <td>0.682489</td>\n",
       "      <td>0.481951</td>\n",
       "      <td>0.868281</td>\n",
       "    </tr>\n",
       "    <tr>\n",
       "      <th>30</th>\n",
       "      <td>0.507929</td>\n",
       "      <td>-0.481700</td>\n",
       "      <td>0.248938</td>\n",
       "      <td>-0.111012</td>\n",
       "    </tr>\n",
       "    <tr>\n",
       "      <th>31</th>\n",
       "      <td>0.668784</td>\n",
       "      <td>0.762650</td>\n",
       "      <td>0.433441</td>\n",
       "      <td>-0.520189</td>\n",
       "    </tr>\n",
       "  </tbody>\n",
       "</table>\n",
       "</div>"
      ],
      "text/plain": [
       "           A         B         C         D\n",
       "1  -0.689058 -0.141548 -0.323411  0.773337\n",
       "2  -0.524481 -0.745674  0.643935  0.017175\n",
       "3   0.269406  0.296774 -0.380379  0.200025\n",
       "4  -0.387438 -0.082012  0.759791  0.079524\n",
       "5   0.090019 -0.115923  0.572139  0.059757\n",
       "6   0.135394 -0.510957 -0.422119  0.168378\n",
       "7   0.773068 -0.352431  0.240454 -0.178043\n",
       "8  -0.119851 -0.275955 -0.296910 -0.755115\n",
       "9  -0.399255 -0.412794  0.148751  0.132147\n",
       "10  0.606130  0.578656  0.289379  0.165783\n",
       "11 -0.536797 -1.035411 -0.251354  0.252710\n",
       "12  0.063758 -0.628110  0.325947  0.015392\n",
       "13 -0.512858  0.430342  0.122311 -0.192025\n",
       "14 -0.137276 -0.511413  0.720313  0.448759\n",
       "15 -0.194458  0.124904  0.221376 -0.654228\n",
       "16 -0.228784  0.054401 -0.998035 -0.407787\n",
       "17 -0.165097  0.518037  0.381893 -0.353409\n",
       "18 -0.143802  0.030758  0.036566 -0.303284\n",
       "19  0.209742  0.377224  0.324749 -0.039826\n",
       "20 -0.319574 -0.180056 -0.033729  0.358148\n",
       "21  0.755223 -0.156308 -0.016206  0.358465\n",
       "22  0.639002  0.053538 -0.312958  0.883463\n",
       "23 -0.118541 -0.126886 -0.279735  0.439620\n",
       "24  0.094703  0.070258  0.044372  0.276444\n",
       "25  0.403803  0.337943  0.060254  0.095760\n",
       "26 -0.826656 -0.000549 -0.381382  0.156517\n",
       "27  0.312682  0.286763 -0.320272  0.280625\n",
       "28 -0.162450 -0.304266  0.084978 -0.017153\n",
       "29  0.036490  0.682489  0.481951  0.868281\n",
       "30  0.507929 -0.481700  0.248938 -0.111012\n",
       "31  0.668784  0.762650  0.433441 -0.520189"
      ]
     },
     "execution_count": 45,
     "metadata": {},
     "output_type": "execute_result"
    }
   ],
   "source": [
    "df.groupby(df.index.day).mean()"
   ]
  },
  {
   "cell_type": "code",
   "execution_count": 46,
   "metadata": {},
   "outputs": [
    {
     "name": "stdout",
     "output_type": "stream",
     "text": [
      "      Col_1     Col_2\n",
      "0  0.346116  0.871710\n",
      "1 -0.348600 -1.136638\n",
      "2  0.722027  0.575099\n",
      "3 -1.090957  1.190842\n",
      "4  0.099001 -0.962180\n",
      "\n",
      "      Col_1     Col_2\n",
      "0  0.473232 -0.199885\n",
      "1  2.156939 -0.533408\n",
      "2 -0.107902 -2.315383\n",
      "3 -1.660630 -1.115910\n",
      "4 -0.762037  0.125856\n",
      "\n",
      "        Col_1     Col_2\n",
      "0    0.346116  0.871710\n",
      "1   -0.348600 -1.136638\n",
      "2    0.722027  0.575099\n",
      "3   -1.090957  1.190842\n",
      "4    0.099001 -0.962180\n",
      "..        ...       ...\n",
      "195 -0.613604  1.819984\n",
      "196 -1.160317 -0.463583\n",
      "197  0.417002 -0.557350\n",
      "198 -0.468153 -1.145942\n",
      "199 -0.533366  1.420247\n",
      "\n",
      "[200 rows x 2 columns]\n"
     ]
    }
   ],
   "source": [
    "# Concatenar dataframes.\n",
    "\n",
    "# Creamos un dataframe aleatorio.\n",
    "df_1 = pd.DataFrame(np.random.randn(100,2), columns = [\"Col_1\", \"Col_2\"])\n",
    "df_2 = pd.DataFrame(np.random.randn(100,2), columns = [\"Col_1\", \"Col_2\"])\n",
    "\n",
    "print(df_1.head())\n",
    "print()\n",
    "print(df_2.head())\n",
    "print()\n",
    "\n",
    "# Concatenamos.\n",
    "df = pd.concat([df_1, df_2], axis = 0, ignore_index = True)\n",
    "\n",
    "# Reiniciamos el índice.\n",
    "df = df.reset_index(drop = True)\n",
    "\n",
    "print(df)"
   ]
  },
  {
   "cell_type": "code",
   "execution_count": 47,
   "metadata": {},
   "outputs": [
    {
     "name": "stdout",
     "output_type": "stream",
     "text": [
      "      Col_1     Col_2\n",
      "0 -0.488254  1.843923\n",
      "1 -1.491169 -0.125679\n",
      "2 -0.608179 -1.549635\n",
      "3  0.083725  0.674484\n",
      "4  0.397495 -0.563910\n",
      "\n",
      "      Col_3     Col_4\n",
      "0 -0.276993 -0.329882\n",
      "1 -1.436838  0.246728\n",
      "2 -1.233688 -0.083130\n",
      "3  0.063574 -2.044710\n",
      "4 -0.500643  0.629550\n",
      "\n",
      "       Col_1     Col_2     Col_3     Col_4\n",
      "0  -0.488254  1.843923 -0.276993 -0.329882\n",
      "1  -1.491169 -0.125679 -1.436838  0.246728\n",
      "2  -0.608179 -1.549635 -1.233688 -0.083130\n",
      "3   0.083725  0.674484  0.063574 -2.044710\n",
      "4   0.397495 -0.563910 -0.500643  0.629550\n",
      "..       ...       ...       ...       ...\n",
      "95  0.064618  0.720847  0.290224 -0.887515\n",
      "96  0.344654 -2.041280 -0.276150 -1.015886\n",
      "97 -1.390758  0.609607  1.133998  0.137532\n",
      "98 -0.051474 -0.598544 -0.099250 -0.945249\n",
      "99  2.943336 -1.340950 -1.387872  1.124751\n",
      "\n",
      "[100 rows x 4 columns]\n"
     ]
    }
   ],
   "source": [
    "# Concatenar dataframes.\n",
    "\n",
    "# Creamos un dataframe aleatorio.\n",
    "df_1 = pd.DataFrame(np.random.randn(100,2), columns = [\"Col_1\", \"Col_2\"])\n",
    "df_2 = pd.DataFrame(np.random.randn(100,2), columns = [\"Col_3\", \"Col_4\"])\n",
    "\n",
    "print(df_1.head())\n",
    "print()\n",
    "print(df_2.head())\n",
    "print()\n",
    "\n",
    "# Concatenamos.\n",
    "df = pd.concat([df_1, df_2], axis = 1)\n",
    "\n",
    "print(df)"
   ]
  }
 ],
 "metadata": {
  "kernelspec": {
   "display_name": "gv",
   "language": "python",
   "name": "python3"
  },
  "language_info": {
   "codemirror_mode": {
    "name": "ipython",
    "version": 3
   },
   "file_extension": ".py",
   "mimetype": "text/x-python",
   "name": "python",
   "nbconvert_exporter": "python",
   "pygments_lexer": "ipython3",
   "version": "3.9.9"
  },
  "orig_nbformat": 4,
  "vscode": {
   "interpreter": {
    "hash": "cce8d45697d85db6636183b0f945e1ffea3934773870cd67d93bb4bbe05deaec"
   }
  }
 },
 "nbformat": 4,
 "nbformat_minor": 2
}
