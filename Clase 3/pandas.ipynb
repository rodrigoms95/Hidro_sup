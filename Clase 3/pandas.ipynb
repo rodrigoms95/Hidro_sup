{
 "cells": [
  {
   "cell_type": "code",
   "execution_count": 1,
   "metadata": {},
   "outputs": [],
   "source": [
    "# Pandas es el Excel de python.\n",
    "# Obtenido de: https://pandas.pydata.org/docs/user_guide/10min.html\n",
    "\n",
    "import pandas as pd\n",
    "import numpy as np"
   ]
  },
  {
   "cell_type": "code",
   "execution_count": 2,
   "metadata": {},
   "outputs": [
    {
     "name": "stdout",
     "output_type": "stream",
     "text": [
      "0    1.0\n",
      "1    3.0\n",
      "2    5.0\n",
      "3    NaN\n",
      "4    6.0\n",
      "5    8.0\n",
      "dtype: float64\n"
     ]
    }
   ],
   "source": [
    "# Una columna en pandas se llama una serie\n",
    "# np.nan es un valor faltante\n",
    "# Cada elemento tiene un índice.\n",
    "\n",
    "s = pd.Series([1, 3, 5, np.nan, 6, 8])\n",
    "print(s)"
   ]
  },
  {
   "cell_type": "code",
   "execution_count": 3,
   "metadata": {},
   "outputs": [
    {
     "name": "stdout",
     "output_type": "stream",
     "text": [
      "DatetimeIndex(['2013-01-01', '2013-01-02', '2013-01-03', '2013-01-04',\n",
      "               '2013-01-05', '2013-01-06'],\n",
      "              dtype='datetime64[ns]', freq='D')\n"
     ]
    }
   ],
   "source": [
    "# El índice puede ser una fecha\n",
    "\n",
    "fechas = pd.date_range(\"20130101\", periods = 6, freq = \"D\")\n",
    "\n",
    "print(fechas)"
   ]
  },
  {
   "cell_type": "code",
   "execution_count": 4,
   "metadata": {},
   "outputs": [
    {
     "name": "stdout",
     "output_type": "stream",
     "text": [
      "2013-01-01    1.0\n",
      "2013-01-02    3.0\n",
      "2013-01-03    5.0\n",
      "2013-01-04    NaN\n",
      "2013-01-05    6.0\n",
      "2013-01-06    8.0\n",
      "Freq: D, Name: datos, dtype: float64\n"
     ]
    }
   ],
   "source": [
    "s = pd.Series([1, 3, 5, np.nan, 6, 8], index = fechas, name = \"datos\")\n",
    "\n",
    "print(s)"
   ]
  },
  {
   "cell_type": "code",
   "execution_count": 5,
   "metadata": {},
   "outputs": [
    {
     "name": "stdout",
     "output_type": "stream",
     "text": [
      "                   A         B         C         D\n",
      "2013-01-01  0.700287  0.106060 -0.866704  0.400799\n",
      "2013-01-02  0.248242  0.704857 -0.788719  1.310796\n",
      "2013-01-03  0.670712 -0.312124  1.103823 -1.951334\n",
      "2013-01-04 -0.499327  1.055084  0.578908 -0.466273\n",
      "2013-01-05  0.245457 -1.152776  1.365896  0.660772\n",
      "2013-01-06 -0.295343  0.412956 -0.286058 -1.674446\n"
     ]
    }
   ],
   "source": [
    "# Un dataframe es un conjunto de columnas.\n",
    "\n",
    "# creado a partir de series.\n",
    "df = pd.DataFrame( np.random.randn(6, 4), index = fechas,\n",
    "    columns = [\"A\", \"B\", \"C\", \"D\"] )\n",
    "\n",
    "print(df)"
   ]
  },
  {
   "cell_type": "code",
   "execution_count": 6,
   "metadata": {},
   "outputs": [
    {
     "name": "stdout",
     "output_type": "stream",
     "text": [
      "                   A         B         C         D\n",
      "2013-01-01  0.700287  0.106060 -0.866704  0.400799\n",
      "2013-01-02  0.248242  0.704857 -0.788719  1.310796\n",
      "2013-01-03  0.670712 -0.312124  1.103823 -1.951334\n",
      "2013-01-04 -0.499327  1.055084  0.578908 -0.466273\n",
      "2013-01-05  0.245457 -1.152776  1.365896  0.660772\n",
      "                   A         B         C         D\n",
      "2013-01-02  0.248242  0.704857 -0.788719  1.310796\n",
      "2013-01-03  0.670712 -0.312124  1.103823 -1.951334\n",
      "2013-01-04 -0.499327  1.055084  0.578908 -0.466273\n",
      "2013-01-05  0.245457 -1.152776  1.365896  0.660772\n",
      "2013-01-06 -0.295343  0.412956 -0.286058 -1.674446\n"
     ]
    }
   ],
   "source": [
    "# head() y tail() muestran la parte \n",
    "# superior e inferior del Dataframe.\n",
    "\n",
    "print(df.head())\n",
    "print(df.tail())"
   ]
  },
  {
   "cell_type": "code",
   "execution_count": 7,
   "metadata": {},
   "outputs": [
    {
     "name": "stdout",
     "output_type": "stream",
     "text": [
      "DatetimeIndex(['2013-01-01', '2013-01-02', '2013-01-03', '2013-01-04',\n",
      "               '2013-01-05', '2013-01-06'],\n",
      "              dtype='datetime64[ns]', freq='D')\n",
      "Index(['A', 'B', 'C', 'D'], dtype='object')\n"
     ]
    }
   ],
   "source": [
    "# Podemos acceder al índice y las columnas.\n",
    "\n",
    "print(df.index)\n",
    "print(df.columns)"
   ]
  },
  {
   "cell_type": "code",
   "execution_count": 8,
   "metadata": {},
   "outputs": [
    {
     "name": "stdout",
     "output_type": "stream",
     "text": [
      "   2013-01-01  2013-01-02  2013-01-03  2013-01-04  2013-01-05  2013-01-06\n",
      "A    0.700287    0.248242    0.670712   -0.499327    0.245457   -0.295343\n",
      "B    0.106060    0.704857   -0.312124    1.055084   -1.152776    0.412956\n",
      "C   -0.866704   -0.788719    1.103823    0.578908    1.365896   -0.286058\n",
      "D    0.400799    1.310796   -1.951334   -0.466273    0.660772   -1.674446\n"
     ]
    }
   ],
   "source": [
    "# Trasponer.\n",
    "\n",
    "print(df.T)"
   ]
  },
  {
   "cell_type": "code",
   "execution_count": 9,
   "metadata": {},
   "outputs": [
    {
     "name": "stdout",
     "output_type": "stream",
     "text": [
      "[[ 0.70028669  0.10606049 -0.86670352  0.40079927]\n",
      " [ 0.24824246  0.70485705 -0.78871936  1.3107959 ]\n",
      " [ 0.67071218 -0.31212374  1.10382288 -1.9513342 ]\n",
      " [-0.49932747  1.0550844   0.57890758 -0.46627343]\n",
      " [ 0.2454575  -1.15277639  1.36589592  0.66077218]\n",
      " [-0.2953426   0.41295553 -0.28605829 -1.67444574]]\n"
     ]
    }
   ],
   "source": [
    "# Convertir a un arreglo de numpy.\n",
    "\n",
    "print( df.to_numpy() )"
   ]
  },
  {
   "cell_type": "code",
   "execution_count": 10,
   "metadata": {},
   "outputs": [
    {
     "name": "stdout",
     "output_type": "stream",
     "text": [
      "              A         B         C         D\n",
      "count  6.000000  6.000000  6.000000  6.000000\n",
      "mean   0.178338  0.135676  0.184524 -0.286614\n",
      "std    0.491499  0.788375  0.966439  1.315404\n",
      "min   -0.499327 -1.152776 -0.866704 -1.951334\n",
      "25%   -0.160143 -0.207578 -0.663054 -1.372403\n",
      "50%    0.246850  0.259508  0.146425 -0.032737\n",
      "75%    0.565095  0.631882  0.972594  0.595779\n",
      "max    0.700287  1.055084  1.365896  1.310796\n"
     ]
    }
   ],
   "source": [
    "# Estadística descriptiva.\n",
    "\n",
    "print( df.describe() )"
   ]
  },
  {
   "cell_type": "code",
   "execution_count": 11,
   "metadata": {},
   "outputs": [
    {
     "name": "stdout",
     "output_type": "stream",
     "text": [
      "                   A         B         C         D\n",
      "2013-01-06 -0.295343  0.412956 -0.286058 -1.674446\n",
      "2013-01-05  0.245457 -1.152776  1.365896  0.660772\n",
      "2013-01-04 -0.499327  1.055084  0.578908 -0.466273\n",
      "2013-01-03  0.670712 -0.312124  1.103823 -1.951334\n",
      "2013-01-02  0.248242  0.704857 -0.788719  1.310796\n",
      "2013-01-01  0.700287  0.106060 -0.866704  0.400799\n"
     ]
    }
   ],
   "source": [
    "# Ordenar datos.\n",
    "\n",
    "# Por índice.\n",
    "\n",
    "print( df.sort_index(ascending = False) )"
   ]
  },
  {
   "cell_type": "code",
   "execution_count": 12,
   "metadata": {},
   "outputs": [
    {
     "name": "stdout",
     "output_type": "stream",
     "text": [
      "                   A         B         C         D\n",
      "2013-01-05  0.245457 -1.152776  1.365896  0.660772\n",
      "2013-01-03  0.670712 -0.312124  1.103823 -1.951334\n",
      "2013-01-01  0.700287  0.106060 -0.866704  0.400799\n",
      "2013-01-06 -0.295343  0.412956 -0.286058 -1.674446\n",
      "2013-01-02  0.248242  0.704857 -0.788719  1.310796\n",
      "2013-01-04 -0.499327  1.055084  0.578908 -0.466273\n"
     ]
    }
   ],
   "source": [
    "# Por columna.\n",
    "print( df.sort_values(by = \"B\") )"
   ]
  },
  {
   "cell_type": "code",
   "execution_count": 13,
   "metadata": {},
   "outputs": [
    {
     "name": "stdout",
     "output_type": "stream",
     "text": [
      "2013-01-01    0.700287\n",
      "2013-01-02    0.248242\n",
      "2013-01-03    0.670712\n",
      "2013-01-04   -0.499327\n",
      "2013-01-05    0.245457\n",
      "2013-01-06   -0.295343\n",
      "Freq: D, Name: A, dtype: float64\n"
     ]
    }
   ],
   "source": [
    "# Escoger una columna.\n",
    "\n",
    "print( df[\"A\"] )"
   ]
  },
  {
   "cell_type": "code",
   "execution_count": 14,
   "metadata": {},
   "outputs": [
    {
     "name": "stdout",
     "output_type": "stream",
     "text": [
      "A    0.700287\n",
      "B    0.106060\n",
      "C   -0.866704\n",
      "D    0.400799\n",
      "Name: 2013-01-01 00:00:00, dtype: float64\n"
     ]
    }
   ],
   "source": [
    "# Escoger una fila.\n",
    "\n",
    "print( df.loc[df.index[0]] )"
   ]
  },
  {
   "cell_type": "code",
   "execution_count": 15,
   "metadata": {},
   "outputs": [
    {
     "name": "stdout",
     "output_type": "stream",
     "text": [
      "A    0.700287\n",
      "B    0.106060\n",
      "C   -0.866704\n",
      "D    0.400799\n",
      "Name: 2013-01-01 00:00:00, dtype: float64\n"
     ]
    }
   ],
   "source": [
    "# Escoger por número de fila.\n",
    "\n",
    "print( df.iloc[0] )"
   ]
  },
  {
   "cell_type": "code",
   "execution_count": 16,
   "metadata": {},
   "outputs": [
    {
     "name": "stdout",
     "output_type": "stream",
     "text": [
      "-0.3121237440838935\n"
     ]
    }
   ],
   "source": [
    "# Escoger por fila y columna.\n",
    "\n",
    "print( df.loc[df.index[2], \"B\"] )"
   ]
  },
  {
   "cell_type": "code",
   "execution_count": 17,
   "metadata": {},
   "outputs": [
    {
     "name": "stdout",
     "output_type": "stream",
     "text": [
      "-0.3121237440838935\n"
     ]
    }
   ],
   "source": [
    "# Escoger por número de fila y columna.\n",
    "\n",
    "print( df.iloc[2, 1] )"
   ]
  },
  {
   "cell_type": "code",
   "execution_count": 18,
   "metadata": {},
   "outputs": [
    {
     "name": "stdout",
     "output_type": "stream",
     "text": [
      "                   B         C\n",
      "2013-01-03 -0.312124  1.103823\n",
      "2013-01-04  1.055084  0.578908\n"
     ]
    }
   ],
   "source": [
    "# Escoger una subsección del dataframe.\n",
    "\n",
    "df_2 = df.iloc[2:4, 1:3]\n",
    "print( df_2 )"
   ]
  },
  {
   "cell_type": "code",
   "execution_count": 19,
   "metadata": {},
   "outputs": [
    {
     "name": "stdout",
     "output_type": "stream",
     "text": [
      "                   A         B         C         D\n",
      "2013-01-03  0.670712 -0.312124  1.103823 -1.951334\n",
      "2013-01-04 -0.499327  1.055084  0.578908 -0.466273\n"
     ]
    }
   ],
   "source": [
    "df_2 = df.iloc[2:4, :]\n",
    "print( df_2 )\n",
    "\n",
    "# Las copias y vistas funcionan igual que en numpy!!"
   ]
  },
  {
   "cell_type": "code",
   "execution_count": 20,
   "metadata": {},
   "outputs": [
    {
     "name": "stdout",
     "output_type": "stream",
     "text": [
      "                   A         B         C         D\n",
      "2013-01-01  0.700287  0.106060 -0.866704  0.400799\n",
      "2013-01-02  0.248242  0.704857 -0.788719  1.310796\n",
      "2013-01-03  0.670712 -0.312124  1.103823 -1.951334\n",
      "2013-01-05  0.245457 -1.152776  1.365896  0.660772\n"
     ]
    }
   ],
   "source": [
    "# Búsqueda por condiciones.\n",
    "\n",
    "# En una columna.\n",
    "print( df[df[\"A\"] > 0] )"
   ]
  },
  {
   "cell_type": "code",
   "execution_count": 21,
   "metadata": {},
   "outputs": [
    {
     "name": "stdout",
     "output_type": "stream",
     "text": [
      "                   A         B         C         D\n",
      "2013-01-01  0.700287  0.106060       NaN  0.400799\n",
      "2013-01-02  0.248242  0.704857       NaN  1.310796\n",
      "2013-01-03  0.670712       NaN  1.103823       NaN\n",
      "2013-01-04       NaN  1.055084  0.578908       NaN\n",
      "2013-01-05  0.245457       NaN  1.365896  0.660772\n",
      "2013-01-06       NaN  0.412956       NaN       NaN\n"
     ]
    }
   ],
   "source": [
    "# En todo el dataframe.\n",
    "\n",
    "print( df[df>0] )"
   ]
  },
  {
   "cell_type": "code",
   "execution_count": 22,
   "metadata": {},
   "outputs": [
    {
     "name": "stdout",
     "output_type": "stream",
     "text": [
      "                   A         B         C         D       E\n",
      "2013-01-01  0.700287  0.106060 -0.866704  0.400799     uno\n",
      "2013-01-02  0.248242  0.704857 -0.788719  1.310796     uno\n",
      "2013-01-03  0.670712 -0.312124  1.103823 -1.951334     dos\n",
      "2013-01-04 -0.499327  1.055084  0.578908 -0.466273    tres\n",
      "2013-01-05  0.245457 -1.152776  1.365896  0.660772  cuatro\n",
      "2013-01-06 -0.295343  0.412956 -0.286058 -1.674446    tres\n"
     ]
    }
   ],
   "source": [
    "# Agregar columnas.\n",
    "# Todos los elementos de una columna son del mismo tipo.\n",
    "# Las columnas pueden tener distintos tipos.\n",
    "\n",
    "df[\"E\"] = [\"uno\", \"uno\", \"dos\", \"tres\", \"cuatro\", \"tres\"]\n",
    "\n",
    "print(df)"
   ]
  },
  {
   "cell_type": "code",
   "execution_count": 23,
   "metadata": {},
   "outputs": [
    {
     "name": "stdout",
     "output_type": "stream",
     "text": [
      "                   A         B         C         D       E    F\n",
      "2013-01-01  0.700287  0.106060 -0.866704  0.400799     uno  1.0\n",
      "2013-01-02  0.248242  0.704857 -0.788719  1.310796     uno  1.8\n",
      "2013-01-03  0.670712 -0.312124  1.103823 -1.951334     dos  2.6\n",
      "2013-01-04 -0.499327  1.055084  0.578908 -0.466273    tres  3.4\n",
      "2013-01-05  0.245457 -1.152776  1.365896  0.660772  cuatro  4.2\n"
     ]
    }
   ],
   "source": [
    "# Nueva columna con arreglos.\n",
    "\n",
    "df[\"F\"] = np.linspace(1, 5, 6)\n",
    "print(df.head())"
   ]
  },
  {
   "cell_type": "code",
   "execution_count": 24,
   "metadata": {},
   "outputs": [
    {
     "name": "stdout",
     "output_type": "stream",
     "text": [
      "                   A         B         C         D       E    F\n",
      "2013-01-03  0.670712 -0.312124  1.103823 -1.951334     dos  2.6\n",
      "2013-01-05  0.245457 -1.152776  1.365896  0.660772  cuatro  4.2\n"
     ]
    }
   ],
   "source": [
    "# Buscar valores específicos con isin()\n",
    "\n",
    "print( df[df[\"E\"].isin([\"dos\", \"cuatro\"])] )"
   ]
  },
  {
   "cell_type": "code",
   "execution_count": 25,
   "metadata": {},
   "outputs": [
    {
     "name": "stdout",
     "output_type": "stream",
     "text": [
      "                   A          B         C         D       E    F\n",
      "2013-01-01  0.700287  10.000000 -0.866704  0.400799     uno  1.0\n",
      "2013-01-02  0.248242   0.704857 -0.788719  1.310796     uno  1.8\n",
      "2013-01-03  0.670712  -0.312124  1.103823 -1.951334     dos  2.6\n",
      "2013-01-04 -0.499327   1.055084  0.578908 -0.466273    tres  3.4\n",
      "2013-01-05  0.245457  -1.152776  1.365896  0.660772  cuatro  4.2\n",
      "2013-01-06 -0.295343   0.412956 -0.286058 -1.674446    tres  5.0\n"
     ]
    }
   ],
   "source": [
    "# Podemos cambiar un valor específico.\n",
    "\n",
    "df.iloc[0, 1] = 10\n",
    "print(df)"
   ]
  },
  {
   "cell_type": "code",
   "execution_count": 26,
   "metadata": {},
   "outputs": [
    {
     "name": "stdout",
     "output_type": "stream",
     "text": [
      "                   A          B         C         D    F\n",
      "2013-01-01  0.700287  10.000000 -0.866704  0.400799  1.0\n",
      "2013-01-02  0.248242   0.704857 -0.788719  1.310796  1.8\n",
      "2013-01-03  0.670712  -0.312124  1.103823 -1.951334  2.6\n",
      "2013-01-04 -0.499327   1.055084  0.578908 -0.466273  3.4\n",
      "2013-01-05  0.245457  -1.152776  1.365896  0.660772  4.2\n",
      "2013-01-06 -0.295343   0.412956 -0.286058 -1.674446  5.0\n"
     ]
    }
   ],
   "source": [
    "# Quitar columna.\n",
    "\n",
    "df = df.drop(\"E\", axis = 1)\n",
    "print(df)"
   ]
  },
  {
   "cell_type": "code",
   "execution_count": 27,
   "metadata": {},
   "outputs": [
    {
     "name": "stdout",
     "output_type": "stream",
     "text": [
      "                   A          B         C         D    F\n",
      "2013-01-01  0.700287  10.000000  0.000000  0.400799  1.0\n",
      "2013-01-02  0.248242   0.704857  0.000000  1.310796  1.8\n",
      "2013-01-03  0.670712   0.000000  1.103823  0.000000  2.6\n",
      "2013-01-04  0.000000   1.055084  0.578908  0.000000  3.4\n",
      "2013-01-05  0.245457   0.000000  1.365896  0.660772  4.2\n",
      "2013-01-06  0.000000   0.412956  0.000000  0.000000  5.0\n"
     ]
    }
   ],
   "source": [
    "# Establecer valores con condicional.\n",
    "\n",
    "df[df<0] = 0\n",
    "print(df)"
   ]
  },
  {
   "cell_type": "code",
   "execution_count": 28,
   "metadata": {},
   "outputs": [
    {
     "name": "stdout",
     "output_type": "stream",
     "text": [
      "                   A         B         C         D    F\n",
      "2013-01-01  0.700287       NaN  0.000000  0.400799  1.0\n",
      "2013-01-02  0.248242  0.704857  0.000000  1.310796  1.8\n",
      "2013-01-03  0.670712  0.000000  1.103823  0.000000  NaN\n",
      "2013-01-04  0.000000  1.055084  0.578908  0.000000  NaN\n",
      "2013-01-05  0.245457  0.000000  1.365896  0.660772  NaN\n",
      "2013-01-06  0.000000  0.412956  0.000000  0.000000  NaN\n"
     ]
    }
   ],
   "source": [
    "# Agregamos algunos valores nulos.\n",
    "\n",
    "df[df>2] = np.nan\n",
    "print(df)"
   ]
  },
  {
   "cell_type": "code",
   "execution_count": 29,
   "metadata": {},
   "outputs": [
    {
     "name": "stdout",
     "output_type": "stream",
     "text": [
      "                   A         B    C         D    F\n",
      "2013-01-02  0.248242  0.704857  0.0  1.310796  1.8\n",
      "                   A           B         C         D      F\n",
      "2013-01-01  0.700287 -100.000000  0.000000  0.400799    1.0\n",
      "2013-01-02  0.248242    0.704857  0.000000  1.310796    1.8\n",
      "2013-01-03  0.670712    0.000000  1.103823  0.000000 -100.0\n",
      "2013-01-04  0.000000    1.055084  0.578908  0.000000 -100.0\n",
      "2013-01-05  0.245457    0.000000  1.365896  0.660772 -100.0\n",
      "2013-01-06  0.000000    0.412956  0.000000  0.000000 -100.0\n",
      "                A      B      C      D      F\n",
      "2013-01-01  False   True  False  False  False\n",
      "2013-01-02  False  False  False  False  False\n",
      "2013-01-03  False  False  False  False   True\n",
      "2013-01-04  False  False  False  False   True\n",
      "2013-01-05  False  False  False  False   True\n",
      "2013-01-06  False  False  False  False   True\n"
     ]
    }
   ],
   "source": [
    "# Quitar filas con valores nulos.\n",
    "print(df.dropna())\n",
    "\n",
    "# Rellenar valores nulos.\n",
    "print(df.fillna(-100))\n",
    "\n",
    "# Determinar valores nulos.\n",
    "print(df.isna())"
   ]
  },
  {
   "cell_type": "code",
   "execution_count": 30,
   "metadata": {},
   "outputs": [
    {
     "name": "stdout",
     "output_type": "stream",
     "text": [
      "                   A         B         C         D    F         G\n",
      "2013-01-01  0.700287       NaN  0.000000  0.400799  1.0  0.700287\n",
      "2013-01-02  0.248242  0.704857  0.000000  1.310796  1.8  0.248242\n",
      "2013-01-03  0.670712  0.000000  1.103823  0.000000  NaN  1.774535\n",
      "2013-01-04  0.000000  1.055084  0.578908  0.000000  NaN  0.578908\n",
      "2013-01-05  0.245457  0.000000  1.365896  0.660772  NaN  1.611353\n",
      "2013-01-06  0.000000  0.412956  0.000000  0.000000  NaN  0.000000\n",
      "A    0.310783\n",
      "B    0.434579\n",
      "C    0.508104\n",
      "D    0.395395\n",
      "F    1.400000\n",
      "G    0.818888\n",
      "dtype: float64\n",
      "2013-01-01    0.560275\n",
      "2013-01-02    0.718690\n",
      "2013-01-03    0.709814\n",
      "2013-01-04    0.442580\n",
      "2013-01-05    0.776696\n",
      "2013-01-06    0.082591\n",
      "Freq: D, dtype: float64\n"
     ]
    }
   ],
   "source": [
    "# operaciones.\n",
    "\n",
    "# Entre columnas.\n",
    "df[\"G\"] = df[\"A\"] + df[\"C\"]\n",
    "\n",
    "print(df)\n",
    "\n",
    "# promedio\n",
    "print(df.mean())\n",
    "print(df.mean(1))"
   ]
  },
  {
   "cell_type": "code",
   "execution_count": 31,
   "metadata": {},
   "outputs": [
    {
     "data": {
      "text/html": [
       "<div>\n",
       "<style scoped>\n",
       "    .dataframe tbody tr th:only-of-type {\n",
       "        vertical-align: middle;\n",
       "    }\n",
       "\n",
       "    .dataframe tbody tr th {\n",
       "        vertical-align: top;\n",
       "    }\n",
       "\n",
       "    .dataframe thead th {\n",
       "        text-align: right;\n",
       "    }\n",
       "</style>\n",
       "<table border=\"1\" class=\"dataframe\">\n",
       "  <thead>\n",
       "    <tr style=\"text-align: right;\">\n",
       "      <th></th>\n",
       "      <th>A</th>\n",
       "      <th>B</th>\n",
       "      <th>C</th>\n",
       "      <th>D</th>\n",
       "      <th>F</th>\n",
       "      <th>G</th>\n",
       "    </tr>\n",
       "  </thead>\n",
       "  <tbody>\n",
       "    <tr>\n",
       "      <th>2013-01-01</th>\n",
       "      <td>0.700287</td>\n",
       "      <td>NaN</td>\n",
       "      <td>0.000000</td>\n",
       "      <td>0.400799</td>\n",
       "      <td>1.0</td>\n",
       "      <td>0.700287</td>\n",
       "    </tr>\n",
       "    <tr>\n",
       "      <th>2013-01-02</th>\n",
       "      <td>0.948529</td>\n",
       "      <td>0.704857</td>\n",
       "      <td>0.000000</td>\n",
       "      <td>1.711595</td>\n",
       "      <td>2.8</td>\n",
       "      <td>0.948529</td>\n",
       "    </tr>\n",
       "    <tr>\n",
       "      <th>2013-01-03</th>\n",
       "      <td>1.619241</td>\n",
       "      <td>0.704857</td>\n",
       "      <td>1.103823</td>\n",
       "      <td>1.711595</td>\n",
       "      <td>NaN</td>\n",
       "      <td>2.723064</td>\n",
       "    </tr>\n",
       "    <tr>\n",
       "      <th>2013-01-04</th>\n",
       "      <td>1.619241</td>\n",
       "      <td>1.759941</td>\n",
       "      <td>1.682730</td>\n",
       "      <td>1.711595</td>\n",
       "      <td>NaN</td>\n",
       "      <td>3.301972</td>\n",
       "    </tr>\n",
       "    <tr>\n",
       "      <th>2013-01-05</th>\n",
       "      <td>1.864699</td>\n",
       "      <td>1.759941</td>\n",
       "      <td>3.048626</td>\n",
       "      <td>2.372367</td>\n",
       "      <td>NaN</td>\n",
       "      <td>4.913325</td>\n",
       "    </tr>\n",
       "    <tr>\n",
       "      <th>2013-01-06</th>\n",
       "      <td>1.864699</td>\n",
       "      <td>2.172897</td>\n",
       "      <td>3.048626</td>\n",
       "      <td>2.372367</td>\n",
       "      <td>NaN</td>\n",
       "      <td>4.913325</td>\n",
       "    </tr>\n",
       "  </tbody>\n",
       "</table>\n",
       "</div>"
      ],
      "text/plain": [
       "                   A         B         C         D    F         G\n",
       "2013-01-01  0.700287       NaN  0.000000  0.400799  1.0  0.700287\n",
       "2013-01-02  0.948529  0.704857  0.000000  1.711595  2.8  0.948529\n",
       "2013-01-03  1.619241  0.704857  1.103823  1.711595  NaN  2.723064\n",
       "2013-01-04  1.619241  1.759941  1.682730  1.711595  NaN  3.301972\n",
       "2013-01-05  1.864699  1.759941  3.048626  2.372367  NaN  4.913325\n",
       "2013-01-06  1.864699  2.172897  3.048626  2.372367  NaN  4.913325"
      ]
     },
     "execution_count": 31,
     "metadata": {},
     "output_type": "execute_result"
    }
   ],
   "source": [
    "# Aplicar operación.\n",
    "# np.cumsum() hace una suma acumulada.\n",
    "df.apply(np.cumsum)"
   ]
  },
  {
   "cell_type": "code",
   "execution_count": 32,
   "metadata": {},
   "outputs": [
    {
     "name": "stderr",
     "output_type": "stream",
     "text": [
      "/opt/homebrew/Caskroom/miniforge/base/envs/gv/lib/python3.9/site-packages/pandas/core/arraylike.py:364: RuntimeWarning: divide by zero encountered in log\n",
      "  result = getattr(ufunc, method)(*inputs, **kwargs)\n"
     ]
    },
    {
     "data": {
      "text/html": [
       "<div>\n",
       "<style scoped>\n",
       "    .dataframe tbody tr th:only-of-type {\n",
       "        vertical-align: middle;\n",
       "    }\n",
       "\n",
       "    .dataframe tbody tr th {\n",
       "        vertical-align: top;\n",
       "    }\n",
       "\n",
       "    .dataframe thead th {\n",
       "        text-align: right;\n",
       "    }\n",
       "</style>\n",
       "<table border=\"1\" class=\"dataframe\">\n",
       "  <thead>\n",
       "    <tr style=\"text-align: right;\">\n",
       "      <th></th>\n",
       "      <th>A</th>\n",
       "      <th>B</th>\n",
       "      <th>C</th>\n",
       "      <th>D</th>\n",
       "      <th>F</th>\n",
       "      <th>G</th>\n",
       "      <th>H</th>\n",
       "    </tr>\n",
       "  </thead>\n",
       "  <tbody>\n",
       "    <tr>\n",
       "      <th>2013-01-01</th>\n",
       "      <td>0.700287</td>\n",
       "      <td>NaN</td>\n",
       "      <td>0.000000</td>\n",
       "      <td>0.400799</td>\n",
       "      <td>1.0</td>\n",
       "      <td>0.700287</td>\n",
       "      <td>-inf</td>\n",
       "    </tr>\n",
       "    <tr>\n",
       "      <th>2013-01-02</th>\n",
       "      <td>0.248242</td>\n",
       "      <td>0.704857</td>\n",
       "      <td>0.000000</td>\n",
       "      <td>1.310796</td>\n",
       "      <td>1.8</td>\n",
       "      <td>0.248242</td>\n",
       "      <td>-inf</td>\n",
       "    </tr>\n",
       "    <tr>\n",
       "      <th>2013-01-03</th>\n",
       "      <td>0.670712</td>\n",
       "      <td>0.000000</td>\n",
       "      <td>1.103823</td>\n",
       "      <td>0.000000</td>\n",
       "      <td>NaN</td>\n",
       "      <td>1.774535</td>\n",
       "      <td>0.098779</td>\n",
       "    </tr>\n",
       "    <tr>\n",
       "      <th>2013-01-04</th>\n",
       "      <td>0.000000</td>\n",
       "      <td>1.055084</td>\n",
       "      <td>0.578908</td>\n",
       "      <td>0.000000</td>\n",
       "      <td>NaN</td>\n",
       "      <td>0.578908</td>\n",
       "      <td>-0.546612</td>\n",
       "    </tr>\n",
       "    <tr>\n",
       "      <th>2013-01-05</th>\n",
       "      <td>0.245457</td>\n",
       "      <td>0.000000</td>\n",
       "      <td>1.365896</td>\n",
       "      <td>0.660772</td>\n",
       "      <td>NaN</td>\n",
       "      <td>1.611353</td>\n",
       "      <td>0.311811</td>\n",
       "    </tr>\n",
       "    <tr>\n",
       "      <th>2013-01-06</th>\n",
       "      <td>0.000000</td>\n",
       "      <td>0.412956</td>\n",
       "      <td>0.000000</td>\n",
       "      <td>0.000000</td>\n",
       "      <td>NaN</td>\n",
       "      <td>0.000000</td>\n",
       "      <td>-inf</td>\n",
       "    </tr>\n",
       "  </tbody>\n",
       "</table>\n",
       "</div>"
      ],
      "text/plain": [
       "                   A         B         C         D    F         G         H\n",
       "2013-01-01  0.700287       NaN  0.000000  0.400799  1.0  0.700287      -inf\n",
       "2013-01-02  0.248242  0.704857  0.000000  1.310796  1.8  0.248242      -inf\n",
       "2013-01-03  0.670712  0.000000  1.103823  0.000000  NaN  1.774535  0.098779\n",
       "2013-01-04  0.000000  1.055084  0.578908  0.000000  NaN  0.578908 -0.546612\n",
       "2013-01-05  0.245457  0.000000  1.365896  0.660772  NaN  1.611353  0.311811\n",
       "2013-01-06  0.000000  0.412956  0.000000  0.000000  NaN  0.000000      -inf"
      ]
     },
     "execution_count": 32,
     "metadata": {},
     "output_type": "execute_result"
    }
   ],
   "source": [
    "# Logaritmo a cada elemento.\n",
    "df[\"H\"] = np.log( df[\"C\"] )\n",
    "\n",
    "df"
   ]
  },
  {
   "cell_type": "code",
   "execution_count": 33,
   "metadata": {},
   "outputs": [
    {
     "data": {
      "text/html": [
       "<div>\n",
       "<style scoped>\n",
       "    .dataframe tbody tr th:only-of-type {\n",
       "        vertical-align: middle;\n",
       "    }\n",
       "\n",
       "    .dataframe tbody tr th {\n",
       "        vertical-align: top;\n",
       "    }\n",
       "\n",
       "    .dataframe thead th {\n",
       "        text-align: right;\n",
       "    }\n",
       "</style>\n",
       "<table border=\"1\" class=\"dataframe\">\n",
       "  <thead>\n",
       "    <tr style=\"text-align: right;\">\n",
       "      <th></th>\n",
       "      <th>A</th>\n",
       "      <th>B</th>\n",
       "      <th>C</th>\n",
       "      <th>D</th>\n",
       "      <th>F</th>\n",
       "      <th>G</th>\n",
       "      <th>H</th>\n",
       "      <th>I</th>\n",
       "    </tr>\n",
       "  </thead>\n",
       "  <tbody>\n",
       "    <tr>\n",
       "      <th>2013-01-01</th>\n",
       "      <td>0.700287</td>\n",
       "      <td>NaN</td>\n",
       "      <td>0.000000</td>\n",
       "      <td>0.400799</td>\n",
       "      <td>1.0</td>\n",
       "      <td>0.700287</td>\n",
       "      <td>-inf</td>\n",
       "      <td>NaN</td>\n",
       "    </tr>\n",
       "    <tr>\n",
       "      <th>2013-01-02</th>\n",
       "      <td>0.248242</td>\n",
       "      <td>0.704857</td>\n",
       "      <td>0.000000</td>\n",
       "      <td>1.310796</td>\n",
       "      <td>1.8</td>\n",
       "      <td>0.248242</td>\n",
       "      <td>-inf</td>\n",
       "      <td>NaN</td>\n",
       "    </tr>\n",
       "    <tr>\n",
       "      <th>2013-01-03</th>\n",
       "      <td>0.670712</td>\n",
       "      <td>0.000000</td>\n",
       "      <td>1.103823</td>\n",
       "      <td>0.000000</td>\n",
       "      <td>NaN</td>\n",
       "      <td>1.774535</td>\n",
       "      <td>0.098779</td>\n",
       "      <td>0.000000</td>\n",
       "    </tr>\n",
       "    <tr>\n",
       "      <th>2013-01-04</th>\n",
       "      <td>0.000000</td>\n",
       "      <td>1.055084</td>\n",
       "      <td>0.578908</td>\n",
       "      <td>0.000000</td>\n",
       "      <td>NaN</td>\n",
       "      <td>0.578908</td>\n",
       "      <td>-0.546612</td>\n",
       "      <td>0.000000</td>\n",
       "    </tr>\n",
       "    <tr>\n",
       "      <th>2013-01-05</th>\n",
       "      <td>0.245457</td>\n",
       "      <td>0.000000</td>\n",
       "      <td>1.365896</td>\n",
       "      <td>0.660772</td>\n",
       "      <td>NaN</td>\n",
       "      <td>1.611353</td>\n",
       "      <td>0.311811</td>\n",
       "      <td>1.103823</td>\n",
       "    </tr>\n",
       "    <tr>\n",
       "      <th>2013-01-06</th>\n",
       "      <td>0.000000</td>\n",
       "      <td>0.412956</td>\n",
       "      <td>0.000000</td>\n",
       "      <td>0.000000</td>\n",
       "      <td>NaN</td>\n",
       "      <td>0.000000</td>\n",
       "      <td>-inf</td>\n",
       "      <td>0.578908</td>\n",
       "    </tr>\n",
       "  </tbody>\n",
       "</table>\n",
       "</div>"
      ],
      "text/plain": [
       "                   A         B         C         D    F         G         H  \\\n",
       "2013-01-01  0.700287       NaN  0.000000  0.400799  1.0  0.700287      -inf   \n",
       "2013-01-02  0.248242  0.704857  0.000000  1.310796  1.8  0.248242      -inf   \n",
       "2013-01-03  0.670712  0.000000  1.103823  0.000000  NaN  1.774535  0.098779   \n",
       "2013-01-04  0.000000  1.055084  0.578908  0.000000  NaN  0.578908 -0.546612   \n",
       "2013-01-05  0.245457  0.000000  1.365896  0.660772  NaN  1.611353  0.311811   \n",
       "2013-01-06  0.000000  0.412956  0.000000  0.000000  NaN  0.000000      -inf   \n",
       "\n",
       "                   I  \n",
       "2013-01-01       NaN  \n",
       "2013-01-02       NaN  \n",
       "2013-01-03  0.000000  \n",
       "2013-01-04  0.000000  \n",
       "2013-01-05  1.103823  \n",
       "2013-01-06  0.578908  "
      ]
     },
     "execution_count": 33,
     "metadata": {},
     "output_type": "execute_result"
    }
   ],
   "source": [
    "# Recorrer una columna una cierta cantidad de filas.\n",
    "\n",
    "df[\"I\"] = df[\"C\"].shift(2)\n",
    "\n",
    "df"
   ]
  },
  {
   "cell_type": "code",
   "execution_count": 34,
   "metadata": {},
   "outputs": [
    {
     "name": "stdout",
     "output_type": "stream",
     "text": [
      "0    0\n",
      "1    0\n",
      "2    2\n",
      "3    4\n",
      "4    4\n",
      "5    3\n",
      "6    0\n",
      "7    4\n",
      "8    6\n",
      "9    3\n",
      "dtype: int64\n"
     ]
    }
   ],
   "source": [
    "# Se puede obtener un histograma.\n",
    "\n",
    "s = pd.Series(np.random.randint(0, 7, size = 10))\n",
    "print (s)\n"
   ]
  },
  {
   "cell_type": "code",
   "execution_count": 35,
   "metadata": {},
   "outputs": [
    {
     "name": "stdout",
     "output_type": "stream",
     "text": [
      "0    3\n",
      "4    3\n",
      "3    2\n",
      "2    1\n",
      "6    1\n",
      "dtype: int64\n"
     ]
    }
   ],
   "source": [
    "print(s.value_counts())"
   ]
  },
  {
   "cell_type": "code",
   "execution_count": 36,
   "metadata": {},
   "outputs": [
    {
     "name": "stdout",
     "output_type": "stream",
     "text": [
      "                   A         B         C         D\n",
      "2013-01-01  0.378988  0.114256 -0.183128 -0.436035\n",
      "2013-01-02 -0.432302 -0.051768 -0.030623 -2.160883\n",
      "2013-01-03  0.305397  0.207042 -0.218787  0.598337\n",
      "2013-01-04  1.396758  0.397797  0.263895  0.081114\n",
      "2013-01-05  0.682928  0.123097 -0.801697  0.546532\n",
      "...              ...       ...       ...       ...\n",
      "2013-07-15  1.995105  0.442287 -2.161827  0.909218\n",
      "2013-07-16  0.392429 -0.790886 -1.246562 -0.177115\n",
      "2013-07-17 -0.649010  1.769364  0.362228  1.229272\n",
      "2013-07-18 -0.151900  0.519274 -0.966547 -0.037173\n",
      "2013-07-19  0.075832  0.116789 -0.302677  0.364927\n",
      "\n",
      "[200 rows x 4 columns]\n"
     ]
    }
   ],
   "source": [
    "# Agrupar datos\n",
    "\n",
    "fechas = pd.date_range(\"20130101\", periods = 200, freq = \"D\")\n",
    "df = pd.DataFrame( np.random.randn(200, 4), index = fechas,\n",
    "    columns = [\"A\", \"B\", \"C\", \"D\"] )\n",
    "\n",
    "print(df)"
   ]
  },
  {
   "cell_type": "code",
   "execution_count": 37,
   "metadata": {},
   "outputs": [
    {
     "data": {
      "text/html": [
       "<div>\n",
       "<style scoped>\n",
       "    .dataframe tbody tr th:only-of-type {\n",
       "        vertical-align: middle;\n",
       "    }\n",
       "\n",
       "    .dataframe tbody tr th {\n",
       "        vertical-align: top;\n",
       "    }\n",
       "\n",
       "    .dataframe thead th {\n",
       "        text-align: right;\n",
       "    }\n",
       "</style>\n",
       "<table border=\"1\" class=\"dataframe\">\n",
       "  <thead>\n",
       "    <tr style=\"text-align: right;\">\n",
       "      <th></th>\n",
       "      <th>A</th>\n",
       "      <th>B</th>\n",
       "      <th>C</th>\n",
       "      <th>D</th>\n",
       "    </tr>\n",
       "  </thead>\n",
       "  <tbody>\n",
       "    <tr>\n",
       "      <th>1</th>\n",
       "      <td>4.457227</td>\n",
       "      <td>2.115958</td>\n",
       "      <td>3.977852</td>\n",
       "      <td>-0.532730</td>\n",
       "    </tr>\n",
       "    <tr>\n",
       "      <th>2</th>\n",
       "      <td>-0.253663</td>\n",
       "      <td>-2.988084</td>\n",
       "      <td>-4.857697</td>\n",
       "      <td>3.531936</td>\n",
       "    </tr>\n",
       "    <tr>\n",
       "      <th>3</th>\n",
       "      <td>7.861050</td>\n",
       "      <td>6.727287</td>\n",
       "      <td>9.296932</td>\n",
       "      <td>-4.609883</td>\n",
       "    </tr>\n",
       "    <tr>\n",
       "      <th>4</th>\n",
       "      <td>1.462494</td>\n",
       "      <td>1.627626</td>\n",
       "      <td>6.857631</td>\n",
       "      <td>8.142079</td>\n",
       "    </tr>\n",
       "    <tr>\n",
       "      <th>5</th>\n",
       "      <td>0.367190</td>\n",
       "      <td>4.232605</td>\n",
       "      <td>-4.819755</td>\n",
       "      <td>-7.730979</td>\n",
       "    </tr>\n",
       "    <tr>\n",
       "      <th>6</th>\n",
       "      <td>-1.202336</td>\n",
       "      <td>3.874938</td>\n",
       "      <td>-2.020953</td>\n",
       "      <td>-12.974006</td>\n",
       "    </tr>\n",
       "    <tr>\n",
       "      <th>7</th>\n",
       "      <td>5.102971</td>\n",
       "      <td>-2.502698</td>\n",
       "      <td>-4.742694</td>\n",
       "      <td>7.078165</td>\n",
       "    </tr>\n",
       "  </tbody>\n",
       "</table>\n",
       "</div>"
      ],
      "text/plain": [
       "          A         B         C          D\n",
       "1  4.457227  2.115958  3.977852  -0.532730\n",
       "2 -0.253663 -2.988084 -4.857697   3.531936\n",
       "3  7.861050  6.727287  9.296932  -4.609883\n",
       "4  1.462494  1.627626  6.857631   8.142079\n",
       "5  0.367190  4.232605 -4.819755  -7.730979\n",
       "6 -1.202336  3.874938 -2.020953 -12.974006\n",
       "7  5.102971 -2.502698 -4.742694   7.078165"
      ]
     },
     "execution_count": 37,
     "metadata": {},
     "output_type": "execute_result"
    }
   ],
   "source": [
    "# Agrupamos y realizamos una operación.\n",
    "df.groupby(df.index.month).sum()"
   ]
  },
  {
   "cell_type": "code",
   "execution_count": 38,
   "metadata": {},
   "outputs": [
    {
     "data": {
      "text/html": [
       "<div>\n",
       "<style scoped>\n",
       "    .dataframe tbody tr th:only-of-type {\n",
       "        vertical-align: middle;\n",
       "    }\n",
       "\n",
       "    .dataframe tbody tr th {\n",
       "        vertical-align: top;\n",
       "    }\n",
       "\n",
       "    .dataframe thead th {\n",
       "        text-align: right;\n",
       "    }\n",
       "</style>\n",
       "<table border=\"1\" class=\"dataframe\">\n",
       "  <thead>\n",
       "    <tr style=\"text-align: right;\">\n",
       "      <th></th>\n",
       "      <th>A</th>\n",
       "      <th>B</th>\n",
       "      <th>C</th>\n",
       "      <th>D</th>\n",
       "    </tr>\n",
       "  </thead>\n",
       "  <tbody>\n",
       "    <tr>\n",
       "      <th>1</th>\n",
       "      <td>-0.124838</td>\n",
       "      <td>-0.883067</td>\n",
       "      <td>0.031716</td>\n",
       "      <td>-0.108427</td>\n",
       "    </tr>\n",
       "    <tr>\n",
       "      <th>2</th>\n",
       "      <td>0.023397</td>\n",
       "      <td>-0.088267</td>\n",
       "      <td>-0.108538</td>\n",
       "      <td>-0.358604</td>\n",
       "    </tr>\n",
       "    <tr>\n",
       "      <th>3</th>\n",
       "      <td>-0.141949</td>\n",
       "      <td>0.926936</td>\n",
       "      <td>-0.647855</td>\n",
       "      <td>-0.060228</td>\n",
       "    </tr>\n",
       "    <tr>\n",
       "      <th>4</th>\n",
       "      <td>0.733734</td>\n",
       "      <td>-0.105589</td>\n",
       "      <td>0.486748</td>\n",
       "      <td>0.503345</td>\n",
       "    </tr>\n",
       "    <tr>\n",
       "      <th>5</th>\n",
       "      <td>0.062603</td>\n",
       "      <td>-0.223528</td>\n",
       "      <td>0.233028</td>\n",
       "      <td>-0.046292</td>\n",
       "    </tr>\n",
       "    <tr>\n",
       "      <th>6</th>\n",
       "      <td>0.002999</td>\n",
       "      <td>0.371651</td>\n",
       "      <td>-0.220372</td>\n",
       "      <td>-0.467411</td>\n",
       "    </tr>\n",
       "    <tr>\n",
       "      <th>7</th>\n",
       "      <td>0.125450</td>\n",
       "      <td>0.479706</td>\n",
       "      <td>0.560692</td>\n",
       "      <td>0.046907</td>\n",
       "    </tr>\n",
       "    <tr>\n",
       "      <th>8</th>\n",
       "      <td>0.305257</td>\n",
       "      <td>0.364743</td>\n",
       "      <td>-0.749827</td>\n",
       "      <td>0.427963</td>\n",
       "    </tr>\n",
       "    <tr>\n",
       "      <th>9</th>\n",
       "      <td>0.075706</td>\n",
       "      <td>-0.950150</td>\n",
       "      <td>-0.387214</td>\n",
       "      <td>-0.544318</td>\n",
       "    </tr>\n",
       "    <tr>\n",
       "      <th>10</th>\n",
       "      <td>0.173953</td>\n",
       "      <td>-0.184918</td>\n",
       "      <td>0.313973</td>\n",
       "      <td>-0.386691</td>\n",
       "    </tr>\n",
       "    <tr>\n",
       "      <th>11</th>\n",
       "      <td>-0.405575</td>\n",
       "      <td>-0.199911</td>\n",
       "      <td>-0.579230</td>\n",
       "      <td>0.199062</td>\n",
       "    </tr>\n",
       "    <tr>\n",
       "      <th>12</th>\n",
       "      <td>0.239026</td>\n",
       "      <td>-0.023436</td>\n",
       "      <td>-0.144484</td>\n",
       "      <td>-0.045055</td>\n",
       "    </tr>\n",
       "    <tr>\n",
       "      <th>13</th>\n",
       "      <td>0.095898</td>\n",
       "      <td>-0.104207</td>\n",
       "      <td>-0.158025</td>\n",
       "      <td>-0.097147</td>\n",
       "    </tr>\n",
       "    <tr>\n",
       "      <th>14</th>\n",
       "      <td>-0.279175</td>\n",
       "      <td>0.490592</td>\n",
       "      <td>-0.486706</td>\n",
       "      <td>0.477893</td>\n",
       "    </tr>\n",
       "    <tr>\n",
       "      <th>15</th>\n",
       "      <td>0.667122</td>\n",
       "      <td>0.121451</td>\n",
       "      <td>-0.062118</td>\n",
       "      <td>0.061338</td>\n",
       "    </tr>\n",
       "    <tr>\n",
       "      <th>16</th>\n",
       "      <td>0.006962</td>\n",
       "      <td>-0.212796</td>\n",
       "      <td>-0.416630</td>\n",
       "      <td>-0.387746</td>\n",
       "    </tr>\n",
       "    <tr>\n",
       "      <th>17</th>\n",
       "      <td>0.510575</td>\n",
       "      <td>0.152141</td>\n",
       "      <td>0.602150</td>\n",
       "      <td>0.086168</td>\n",
       "    </tr>\n",
       "    <tr>\n",
       "      <th>18</th>\n",
       "      <td>0.200596</td>\n",
       "      <td>0.531508</td>\n",
       "      <td>0.214774</td>\n",
       "      <td>0.017532</td>\n",
       "    </tr>\n",
       "    <tr>\n",
       "      <th>19</th>\n",
       "      <td>0.011291</td>\n",
       "      <td>0.280663</td>\n",
       "      <td>-0.171567</td>\n",
       "      <td>0.321931</td>\n",
       "    </tr>\n",
       "    <tr>\n",
       "      <th>20</th>\n",
       "      <td>-0.129149</td>\n",
       "      <td>-0.104332</td>\n",
       "      <td>-0.256615</td>\n",
       "      <td>0.055916</td>\n",
       "    </tr>\n",
       "    <tr>\n",
       "      <th>21</th>\n",
       "      <td>0.073370</td>\n",
       "      <td>-0.743608</td>\n",
       "      <td>0.171793</td>\n",
       "      <td>0.343716</td>\n",
       "    </tr>\n",
       "    <tr>\n",
       "      <th>22</th>\n",
       "      <td>0.259161</td>\n",
       "      <td>0.188185</td>\n",
       "      <td>0.562288</td>\n",
       "      <td>0.249309</td>\n",
       "    </tr>\n",
       "    <tr>\n",
       "      <th>23</th>\n",
       "      <td>-0.221395</td>\n",
       "      <td>0.086818</td>\n",
       "      <td>0.042127</td>\n",
       "      <td>0.083026</td>\n",
       "    </tr>\n",
       "    <tr>\n",
       "      <th>24</th>\n",
       "      <td>0.422184</td>\n",
       "      <td>-0.057129</td>\n",
       "      <td>0.358216</td>\n",
       "      <td>-0.901307</td>\n",
       "    </tr>\n",
       "    <tr>\n",
       "      <th>25</th>\n",
       "      <td>-0.267083</td>\n",
       "      <td>0.472906</td>\n",
       "      <td>0.978773</td>\n",
       "      <td>-0.028118</td>\n",
       "    </tr>\n",
       "    <tr>\n",
       "      <th>26</th>\n",
       "      <td>-0.206319</td>\n",
       "      <td>0.461112</td>\n",
       "      <td>-0.037261</td>\n",
       "      <td>-0.238919</td>\n",
       "    </tr>\n",
       "    <tr>\n",
       "      <th>27</th>\n",
       "      <td>-0.181496</td>\n",
       "      <td>1.050292</td>\n",
       "      <td>-0.320127</td>\n",
       "      <td>-0.010443</td>\n",
       "    </tr>\n",
       "    <tr>\n",
       "      <th>28</th>\n",
       "      <td>-0.565160</td>\n",
       "      <td>-0.249531</td>\n",
       "      <td>0.881215</td>\n",
       "      <td>0.176008</td>\n",
       "    </tr>\n",
       "    <tr>\n",
       "      <th>29</th>\n",
       "      <td>0.169919</td>\n",
       "      <td>0.225063</td>\n",
       "      <td>0.357714</td>\n",
       "      <td>-0.062277</td>\n",
       "    </tr>\n",
       "    <tr>\n",
       "      <th>30</th>\n",
       "      <td>0.657879</td>\n",
       "      <td>-0.351698</td>\n",
       "      <td>-0.061039</td>\n",
       "      <td>-0.344186</td>\n",
       "    </tr>\n",
       "    <tr>\n",
       "      <th>31</th>\n",
       "      <td>0.856678</td>\n",
       "      <td>0.629297</td>\n",
       "      <td>-0.082709</td>\n",
       "      <td>-0.306593</td>\n",
       "    </tr>\n",
       "  </tbody>\n",
       "</table>\n",
       "</div>"
      ],
      "text/plain": [
       "           A         B         C         D\n",
       "1  -0.124838 -0.883067  0.031716 -0.108427\n",
       "2   0.023397 -0.088267 -0.108538 -0.358604\n",
       "3  -0.141949  0.926936 -0.647855 -0.060228\n",
       "4   0.733734 -0.105589  0.486748  0.503345\n",
       "5   0.062603 -0.223528  0.233028 -0.046292\n",
       "6   0.002999  0.371651 -0.220372 -0.467411\n",
       "7   0.125450  0.479706  0.560692  0.046907\n",
       "8   0.305257  0.364743 -0.749827  0.427963\n",
       "9   0.075706 -0.950150 -0.387214 -0.544318\n",
       "10  0.173953 -0.184918  0.313973 -0.386691\n",
       "11 -0.405575 -0.199911 -0.579230  0.199062\n",
       "12  0.239026 -0.023436 -0.144484 -0.045055\n",
       "13  0.095898 -0.104207 -0.158025 -0.097147\n",
       "14 -0.279175  0.490592 -0.486706  0.477893\n",
       "15  0.667122  0.121451 -0.062118  0.061338\n",
       "16  0.006962 -0.212796 -0.416630 -0.387746\n",
       "17  0.510575  0.152141  0.602150  0.086168\n",
       "18  0.200596  0.531508  0.214774  0.017532\n",
       "19  0.011291  0.280663 -0.171567  0.321931\n",
       "20 -0.129149 -0.104332 -0.256615  0.055916\n",
       "21  0.073370 -0.743608  0.171793  0.343716\n",
       "22  0.259161  0.188185  0.562288  0.249309\n",
       "23 -0.221395  0.086818  0.042127  0.083026\n",
       "24  0.422184 -0.057129  0.358216 -0.901307\n",
       "25 -0.267083  0.472906  0.978773 -0.028118\n",
       "26 -0.206319  0.461112 -0.037261 -0.238919\n",
       "27 -0.181496  1.050292 -0.320127 -0.010443\n",
       "28 -0.565160 -0.249531  0.881215  0.176008\n",
       "29  0.169919  0.225063  0.357714 -0.062277\n",
       "30  0.657879 -0.351698 -0.061039 -0.344186\n",
       "31  0.856678  0.629297 -0.082709 -0.306593"
      ]
     },
     "execution_count": 38,
     "metadata": {},
     "output_type": "execute_result"
    }
   ],
   "source": [
    "df.groupby(df.index.day).mean()"
   ]
  },
  {
   "cell_type": "code",
   "execution_count": 39,
   "metadata": {},
   "outputs": [
    {
     "name": "stdout",
     "output_type": "stream",
     "text": [
      "2012-01-01 00:00:00     90\n",
      "2012-01-01 00:00:01    354\n",
      "2012-01-01 00:00:02    194\n",
      "2012-01-01 00:00:03     42\n",
      "2012-01-01 00:00:04    250\n",
      "                      ... \n",
      "2012-01-01 00:03:15    280\n",
      "2012-01-01 00:03:16    441\n",
      "2012-01-01 00:03:17     79\n",
      "2012-01-01 00:03:18    352\n",
      "2012-01-01 00:03:19    243\n",
      "Freq: S, Length: 200, dtype: int64\n"
     ]
    }
   ],
   "source": [
    "# Hay mucha flexibilidad en el manejo de las fechas para series de tiempo.\n",
    "\n",
    "rango = pd.date_range(\"1/1/2012\", periods = 200, freq = \"S\")\n",
    "ts = pd.Series(np.random.randint( 0, 500, len(rango) ), index = rango)\n",
    "\n",
    "print(ts)"
   ]
  },
  {
   "cell_type": "code",
   "execution_count": 40,
   "metadata": {},
   "outputs": [
    {
     "name": "stdout",
     "output_type": "stream",
     "text": [
      "2012-01-01 00:00:00    13934\n",
      "2012-01-01 00:01:00    13624\n",
      "2012-01-01 00:02:00    13904\n",
      "2012-01-01 00:03:00     4916\n",
      "Freq: T, dtype: int64\n"
     ]
    }
   ],
   "source": [
    "# Hacemos un resampleo.\n",
    "\n",
    "print( ts.resample(\"1Min\").sum() )"
   ]
  },
  {
   "cell_type": "code",
   "execution_count": 41,
   "metadata": {},
   "outputs": [],
   "source": [
    "# Leer y escribir archivos es muy fácil con \n",
    "# el formato csv, compatible con Excel.\n",
    "\n",
    "# Escribir.\n",
    "ts.name = \"Datos\"\n",
    "ts.index.name = \"Timestamp\"\n",
    "ts.to_csv(\"time_series.csv\")\n"
   ]
  },
  {
   "cell_type": "code",
   "execution_count": 42,
   "metadata": {},
   "outputs": [
    {
     "name": "stdout",
     "output_type": "stream",
     "text": [
      "                     Datos\n",
      "Timestamp                 \n",
      "2012-01-01 00:00:00     90\n",
      "2012-01-01 00:00:01    354\n",
      "2012-01-01 00:00:02    194\n",
      "2012-01-01 00:00:03     42\n",
      "2012-01-01 00:00:04    250\n",
      "...                    ...\n",
      "2012-01-01 00:03:15    280\n",
      "2012-01-01 00:03:16    441\n",
      "2012-01-01 00:03:17     79\n",
      "2012-01-01 00:03:18    352\n",
      "2012-01-01 00:03:19    243\n",
      "\n",
      "[200 rows x 1 columns]\n"
     ]
    }
   ],
   "source": [
    "# Leer archivo.\n",
    "\n",
    "ts_2 = pd.read_csv(\"time_series.csv\", index_col = \"Timestamp\")\n",
    "\n",
    "print(ts_2)"
   ]
  },
  {
   "cell_type": "code",
   "execution_count": 43,
   "metadata": {},
   "outputs": [
    {
     "name": "stdout",
     "output_type": "stream",
     "text": [
      "Index(['2012-01-01 00:00:00', '2012-01-01 00:00:01', '2012-01-01 00:00:02',\n",
      "       '2012-01-01 00:00:03', '2012-01-01 00:00:04', '2012-01-01 00:00:05',\n",
      "       '2012-01-01 00:00:06', '2012-01-01 00:00:07', '2012-01-01 00:00:08',\n",
      "       '2012-01-01 00:00:09',\n",
      "       ...\n",
      "       '2012-01-01 00:03:10', '2012-01-01 00:03:11', '2012-01-01 00:03:12',\n",
      "       '2012-01-01 00:03:13', '2012-01-01 00:03:14', '2012-01-01 00:03:15',\n",
      "       '2012-01-01 00:03:16', '2012-01-01 00:03:17', '2012-01-01 00:03:18',\n",
      "       '2012-01-01 00:03:19'],\n",
      "      dtype='object', name='Timestamp', length=200)\n"
     ]
    }
   ],
   "source": [
    "print( ts_2.index )"
   ]
  },
  {
   "cell_type": "code",
   "execution_count": 44,
   "metadata": {},
   "outputs": [
    {
     "name": "stdout",
     "output_type": "stream",
     "text": [
      "DatetimeIndex(['2012-01-01 00:00:00', '2012-01-01 00:00:01',\n",
      "               '2012-01-01 00:00:02', '2012-01-01 00:00:03',\n",
      "               '2012-01-01 00:00:04', '2012-01-01 00:00:05',\n",
      "               '2012-01-01 00:00:06', '2012-01-01 00:00:07',\n",
      "               '2012-01-01 00:00:08', '2012-01-01 00:00:09',\n",
      "               ...\n",
      "               '2012-01-01 00:03:10', '2012-01-01 00:03:11',\n",
      "               '2012-01-01 00:03:12', '2012-01-01 00:03:13',\n",
      "               '2012-01-01 00:03:14', '2012-01-01 00:03:15',\n",
      "               '2012-01-01 00:03:16', '2012-01-01 00:03:17',\n",
      "               '2012-01-01 00:03:18', '2012-01-01 00:03:19'],\n",
      "              dtype='datetime64[ns]', name='Timestamp', length=200, freq=None)\n"
     ]
    }
   ],
   "source": [
    "ts_2.index = pd.to_datetime( ts_2.index )\n",
    "\n",
    "print(ts_2.index)"
   ]
  },
  {
   "cell_type": "code",
   "execution_count": 45,
   "metadata": {},
   "outputs": [
    {
     "name": "stdout",
     "output_type": "stream",
     "text": [
      "      Col_1     Col_2\n",
      "0  1.688429 -0.716003\n",
      "1  0.779820 -0.015046\n",
      "2 -0.054194  0.615313\n",
      "3 -0.566583  0.291915\n",
      "4  1.121626  0.131290\n",
      "\n",
      "          Col_1     Col_2\n",
      "Col_1  1.000000  0.001794\n",
      "Col_2  0.001794  1.000000\n",
      "\n",
      "          Col_1     Col_2\n",
      "Col_1  1.048496  0.001826\n",
      "Col_2  0.001826  0.988756\n",
      "\n",
      "-0.01563882483724106\n"
     ]
    }
   ],
   "source": [
    "# Correlación\n",
    "\n",
    "# Creamos un dataframe aleatorio.\n",
    "df = pd.DataFrame(np.random.randn(1000,2), columns = [\"Col_1\", \"Col_2\"])\n",
    "\n",
    "print(df.head())\n",
    "print()\n",
    "\n",
    "# Matriz de correlación\n",
    "print( df.corr() )\n",
    "print()\n",
    "\n",
    "# Matriz de covarianza\n",
    "print( df.cov() )\n",
    "print()\n",
    "\n",
    "# Autocorrelación.\n",
    "print(df[\"Col_1\"].autocorr(lag = 1))"
   ]
  },
  {
   "cell_type": "code",
   "execution_count": 46,
   "metadata": {},
   "outputs": [
    {
     "name": "stdout",
     "output_type": "stream",
     "text": [
      "      Col_1     Col_2\n",
      "0  0.895022 -0.445394\n",
      "1  0.531045  1.289390\n",
      "2  1.603603 -1.283008\n",
      "3 -0.268152  1.826182\n",
      "4 -1.418714 -0.490321\n",
      "\n",
      "      Col_1     Col_2\n",
      "0 -0.857374  1.035646\n",
      "1  0.146367 -0.064369\n",
      "2  1.717349 -1.075337\n",
      "3 -0.233492 -1.554533\n",
      "4 -0.252572 -0.980573\n",
      "\n",
      "        Col_1     Col_2\n",
      "0    0.895022 -0.445394\n",
      "1    0.531045  1.289390\n",
      "2    1.603603 -1.283008\n",
      "3   -0.268152  1.826182\n",
      "4   -1.418714 -0.490321\n",
      "..        ...       ...\n",
      "195  1.295268  1.048177\n",
      "196  0.498974 -1.396414\n",
      "197 -0.595539 -1.120585\n",
      "198  0.359538  0.387093\n",
      "199 -1.472849  0.181375\n",
      "\n",
      "[200 rows x 2 columns]\n"
     ]
    }
   ],
   "source": [
    "# Concatenar dataframes.\n",
    "\n",
    "# Creamos un dataframe aleatorio.\n",
    "df_1 = pd.DataFrame(np.random.randn(100,2), columns = [\"Col_1\", \"Col_2\"])\n",
    "df_2 = pd.DataFrame(np.random.randn(100,2), columns = [\"Col_1\", \"Col_2\"])\n",
    "\n",
    "print(df_1.head())\n",
    "print()\n",
    "print(df_2.head())\n",
    "print()\n",
    "\n",
    "# Concatenamos.\n",
    "df = pd.concat([df_1, df_2], axis = 0, ignore_index = True)\n",
    "\n",
    "# Reiniciamos el índice.\n",
    "df = df.reset_index(drop = True)\n",
    "\n",
    "print(df)"
   ]
  },
  {
   "cell_type": "code",
   "execution_count": 47,
   "metadata": {},
   "outputs": [
    {
     "name": "stdout",
     "output_type": "stream",
     "text": [
      "      Col_1     Col_2\n",
      "0 -2.625500 -0.393720\n",
      "1  1.190954 -0.362425\n",
      "2  0.463621 -0.476837\n",
      "3 -0.401781 -0.778725\n",
      "4 -1.164925 -1.041746\n",
      "\n",
      "      Col_3     Col_4\n",
      "0 -0.715134 -0.336828\n",
      "1 -0.725068  1.011219\n",
      "2 -0.407877  3.204771\n",
      "3  0.756902  1.291022\n",
      "4  1.296974 -0.527047\n",
      "\n",
      "       Col_1     Col_2     Col_3     Col_4\n",
      "0  -2.625500 -0.393720 -0.715134 -0.336828\n",
      "1   1.190954 -0.362425 -0.725068  1.011219\n",
      "2   0.463621 -0.476837 -0.407877  3.204771\n",
      "3  -0.401781 -0.778725  0.756902  1.291022\n",
      "4  -1.164925 -1.041746  1.296974 -0.527047\n",
      "..       ...       ...       ...       ...\n",
      "95 -0.750328  1.520645 -0.941781  1.584569\n",
      "96 -0.247350 -0.684965  0.074305  1.498597\n",
      "97  0.265750  1.755498 -1.913953 -0.944842\n",
      "98  0.134145  0.515333  0.314255  0.026398\n",
      "99 -0.003530 -0.884255 -1.093853  1.223163\n",
      "\n",
      "[100 rows x 4 columns]\n"
     ]
    }
   ],
   "source": [
    "# Concatenar dataframes.\n",
    "\n",
    "# Creamos un dataframe aleatorio.\n",
    "df_1 = pd.DataFrame(np.random.randn(100,2), columns = [\"Col_1\", \"Col_2\"])\n",
    "df_2 = pd.DataFrame(np.random.randn(100,2), columns = [\"Col_3\", \"Col_4\"])\n",
    "\n",
    "print(df_1.head())\n",
    "print()\n",
    "print(df_2.head())\n",
    "print()\n",
    "\n",
    "# Concatenamos.\n",
    "df = pd.concat([df_1, df_2], axis = 1)\n",
    "\n",
    "print(df)"
   ]
  },
  {
   "cell_type": "code",
   "execution_count": 48,
   "metadata": {},
   "outputs": [],
   "source": [
    "# Cargar el archivo Electrico_residencial_2010_2017\n",
    "# Selecciona las entradas correspondientes a Baja California.\n",
    "# Ordena los datos de menor a mayor consumo en 2010.\n",
    "# Selecciona los municipios con una cantidad de usiarios en 2012 menor a 100\n",
    "# Encuentra el municipio con mayor consumo en tarifa DAC.\n",
    "# Selecciona solo la tarifa DAC.\n",
    "# Encuentra la correlación entre el consumo de 2012 y 2013"
   ]
  }
 ],
 "metadata": {
  "kernelspec": {
   "display_name": "gv",
   "language": "python",
   "name": "python3"
  },
  "language_info": {
   "codemirror_mode": {
    "name": "ipython",
    "version": 3
   },
   "file_extension": ".py",
   "mimetype": "text/x-python",
   "name": "python",
   "nbconvert_exporter": "python",
   "pygments_lexer": "ipython3",
   "version": "3.9.9"
  },
  "orig_nbformat": 4,
  "vscode": {
   "interpreter": {
    "hash": "cce8d45697d85db6636183b0f945e1ffea3934773870cd67d93bb4bbe05deaec"
   }
  }
 },
 "nbformat": 4,
 "nbformat_minor": 2
}
