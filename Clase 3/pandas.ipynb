{
 "cells": [
  {
   "cell_type": "code",
   "execution_count": 50,
   "metadata": {},
   "outputs": [],
   "source": [
    "# Pandas es el Excel de python.\n",
    "# Obtenido de: https://pandas.pydata.org/docs/user_guide/10min.html\n",
    "\n",
    "import pandas as pd\n",
    "import numpy as np"
   ]
  },
  {
   "cell_type": "code",
   "execution_count": 51,
   "metadata": {},
   "outputs": [
    {
     "name": "stdout",
     "output_type": "stream",
     "text": [
      "0    1.0\n",
      "1    3.0\n",
      "2    5.0\n",
      "3    NaN\n",
      "4    6.0\n",
      "5    8.0\n",
      "dtype: float64\n"
     ]
    }
   ],
   "source": [
    "# Una columna en pandas se llama una serie\n",
    "# np.nan es un valor faltante\n",
    "# Cada elemento tiene un índice.\n",
    "\n",
    "s = pd.Series([1, 3, 5, np.nan, 6, 8])\n",
    "print(s)"
   ]
  },
  {
   "cell_type": "code",
   "execution_count": 52,
   "metadata": {},
   "outputs": [
    {
     "name": "stdout",
     "output_type": "stream",
     "text": [
      "DatetimeIndex(['2013-01-01', '2013-01-02', '2013-01-03', '2013-01-04',\n",
      "               '2013-01-05', '2013-01-06'],\n",
      "              dtype='datetime64[ns]', freq='D')\n"
     ]
    }
   ],
   "source": [
    "# El índice puede ser una fecha\n",
    "\n",
    "fechas = pd.date_range(\"20130101\", periods = 6, freq = \"D\")\n",
    "\n",
    "print(fechas)"
   ]
  },
  {
   "cell_type": "code",
   "execution_count": 53,
   "metadata": {},
   "outputs": [
    {
     "name": "stdout",
     "output_type": "stream",
     "text": [
      "2013-01-01    1.0\n",
      "2013-01-02    3.0\n",
      "2013-01-03    5.0\n",
      "2013-01-04    NaN\n",
      "2013-01-05    6.0\n",
      "2013-01-06    8.0\n",
      "Freq: D, Name: datos, dtype: float64\n"
     ]
    }
   ],
   "source": [
    "s = pd.Series([1, 3, 5, np.nan, 6, 8], index = fechas, name = \"datos\")\n",
    "\n",
    "print(s)"
   ]
  },
  {
   "cell_type": "code",
   "execution_count": 54,
   "metadata": {},
   "outputs": [
    {
     "name": "stdout",
     "output_type": "stream",
     "text": [
      "                   A         B         C         D\n",
      "2013-01-01  0.721528  2.163466  0.197465  0.956179\n",
      "2013-01-02  0.211874  0.341063 -0.479328 -0.219198\n",
      "2013-01-03  0.003530  1.188484  1.072230 -1.035879\n",
      "2013-01-04 -0.587499 -1.181399  0.866636 -0.293493\n",
      "2013-01-05  1.007495  0.902794  1.910276 -0.572103\n",
      "2013-01-06  1.814723  0.509839  1.940401 -1.389314\n"
     ]
    }
   ],
   "source": [
    "# Un dataframe es un conjunto de columnas.\n",
    "\n",
    "# creado a partir de series.\n",
    "df = pd.DataFrame( np.random.randn(6, 4), index = fechas,\n",
    "    columns = [\"A\", \"B\", \"C\", \"D\"] )\n",
    "\n",
    "print(df)"
   ]
  },
  {
   "cell_type": "code",
   "execution_count": 55,
   "metadata": {},
   "outputs": [
    {
     "name": "stdout",
     "output_type": "stream",
     "text": [
      "                   A         B         C         D\n",
      "2013-01-01  0.721528  2.163466  0.197465  0.956179\n",
      "2013-01-02  0.211874  0.341063 -0.479328 -0.219198\n",
      "2013-01-03  0.003530  1.188484  1.072230 -1.035879\n",
      "2013-01-04 -0.587499 -1.181399  0.866636 -0.293493\n",
      "2013-01-05  1.007495  0.902794  1.910276 -0.572103\n",
      "                   A         B         C         D\n",
      "2013-01-02  0.211874  0.341063 -0.479328 -0.219198\n",
      "2013-01-03  0.003530  1.188484  1.072230 -1.035879\n",
      "2013-01-04 -0.587499 -1.181399  0.866636 -0.293493\n",
      "2013-01-05  1.007495  0.902794  1.910276 -0.572103\n",
      "2013-01-06  1.814723  0.509839  1.940401 -1.389314\n"
     ]
    }
   ],
   "source": [
    "# head() y tail() muestran la parte \n",
    "# superior e inferior del Dataframe.\n",
    "\n",
    "print(df.head())\n",
    "print(df.tail())"
   ]
  },
  {
   "cell_type": "code",
   "execution_count": 56,
   "metadata": {},
   "outputs": [
    {
     "name": "stdout",
     "output_type": "stream",
     "text": [
      "DatetimeIndex(['2013-01-01', '2013-01-02', '2013-01-03', '2013-01-04',\n",
      "               '2013-01-05', '2013-01-06'],\n",
      "              dtype='datetime64[ns]', freq='D')\n",
      "Index(['A', 'B', 'C', 'D'], dtype='object')\n"
     ]
    }
   ],
   "source": [
    "# Podemos acceder al índice y las columnas.\n",
    "\n",
    "print(df.index)\n",
    "print(df.columns)"
   ]
  },
  {
   "cell_type": "code",
   "execution_count": 57,
   "metadata": {},
   "outputs": [
    {
     "name": "stdout",
     "output_type": "stream",
     "text": [
      "   2013-01-01  2013-01-02  2013-01-03  2013-01-04  2013-01-05  2013-01-06\n",
      "A    0.721528    0.211874    0.003530   -0.587499    1.007495    1.814723\n",
      "B    2.163466    0.341063    1.188484   -1.181399    0.902794    0.509839\n",
      "C    0.197465   -0.479328    1.072230    0.866636    1.910276    1.940401\n",
      "D    0.956179   -0.219198   -1.035879   -0.293493   -0.572103   -1.389314\n"
     ]
    }
   ],
   "source": [
    "# Trasponer.\n",
    "\n",
    "print(df.T)"
   ]
  },
  {
   "cell_type": "code",
   "execution_count": 58,
   "metadata": {},
   "outputs": [
    {
     "name": "stdout",
     "output_type": "stream",
     "text": [
      "[[ 0.7215285   2.16346566  0.197465    0.95617857]\n",
      " [ 0.21187426  0.3410633  -0.47932769 -0.21919774]\n",
      " [ 0.00353044  1.18848374  1.07222958 -1.03587885]\n",
      " [-0.58749949 -1.18139862  0.86663573 -0.29349287]\n",
      " [ 1.00749487  0.9027945   1.91027648 -0.57210265]\n",
      " [ 1.81472285  0.50983949  1.94040128 -1.38931445]]\n"
     ]
    }
   ],
   "source": [
    "# Convertir a un arreglo de numpy.\n",
    "\n",
    "print( df.to_numpy() )"
   ]
  },
  {
   "cell_type": "code",
   "execution_count": 59,
   "metadata": {},
   "outputs": [
    {
     "name": "stdout",
     "output_type": "stream",
     "text": [
      "              A         B         C         D\n",
      "count  6.000000  6.000000  6.000000  6.000000\n",
      "mean   0.528609  0.654041  0.917947 -0.425635\n",
      "std    0.841708  1.105754  0.951634  0.811420\n",
      "min   -0.587499 -1.181399 -0.479328 -1.389314\n",
      "25%    0.055616  0.383257  0.364758 -0.919935\n",
      "50%    0.466701  0.706317  0.969433 -0.432798\n",
      "75%    0.936003  1.117061  1.700765 -0.237772\n",
      "max    1.814723  2.163466  1.940401  0.956179\n"
     ]
    }
   ],
   "source": [
    "# Estadística descriptiva.\n",
    "\n",
    "print( df.describe() )"
   ]
  },
  {
   "cell_type": "code",
   "execution_count": 60,
   "metadata": {},
   "outputs": [
    {
     "name": "stdout",
     "output_type": "stream",
     "text": [
      "                   A         B         C         D\n",
      "2013-01-06  1.814723  0.509839  1.940401 -1.389314\n",
      "2013-01-05  1.007495  0.902794  1.910276 -0.572103\n",
      "2013-01-04 -0.587499 -1.181399  0.866636 -0.293493\n",
      "2013-01-03  0.003530  1.188484  1.072230 -1.035879\n",
      "2013-01-02  0.211874  0.341063 -0.479328 -0.219198\n",
      "2013-01-01  0.721528  2.163466  0.197465  0.956179\n"
     ]
    }
   ],
   "source": [
    "# Ordenar datos.\n",
    "\n",
    "# Por índice.\n",
    "\n",
    "print( df.sort_index(ascending = False) )"
   ]
  },
  {
   "cell_type": "code",
   "execution_count": 61,
   "metadata": {},
   "outputs": [
    {
     "name": "stdout",
     "output_type": "stream",
     "text": [
      "                   A         B         C         D\n",
      "2013-01-04 -0.587499 -1.181399  0.866636 -0.293493\n",
      "2013-01-02  0.211874  0.341063 -0.479328 -0.219198\n",
      "2013-01-06  1.814723  0.509839  1.940401 -1.389314\n",
      "2013-01-05  1.007495  0.902794  1.910276 -0.572103\n",
      "2013-01-03  0.003530  1.188484  1.072230 -1.035879\n",
      "2013-01-01  0.721528  2.163466  0.197465  0.956179\n"
     ]
    }
   ],
   "source": [
    "# Por columna.\n",
    "print( df.sort_values(by = \"B\") )"
   ]
  },
  {
   "cell_type": "code",
   "execution_count": 62,
   "metadata": {},
   "outputs": [
    {
     "name": "stdout",
     "output_type": "stream",
     "text": [
      "2013-01-01    0.721528\n",
      "2013-01-02    0.211874\n",
      "2013-01-03    0.003530\n",
      "2013-01-04   -0.587499\n",
      "2013-01-05    1.007495\n",
      "2013-01-06    1.814723\n",
      "Freq: D, Name: A, dtype: float64\n"
     ]
    }
   ],
   "source": [
    "# Escoger una columna.\n",
    "\n",
    "print( df[\"A\"] )"
   ]
  },
  {
   "cell_type": "code",
   "execution_count": 63,
   "metadata": {},
   "outputs": [
    {
     "name": "stdout",
     "output_type": "stream",
     "text": [
      "A    0.721528\n",
      "B    2.163466\n",
      "C    0.197465\n",
      "D    0.956179\n",
      "Name: 2013-01-01 00:00:00, dtype: float64\n"
     ]
    }
   ],
   "source": [
    "# Escoger una fila.\n",
    "\n",
    "print( df.loc[df.index[0]] )"
   ]
  },
  {
   "cell_type": "code",
   "execution_count": 64,
   "metadata": {},
   "outputs": [
    {
     "name": "stdout",
     "output_type": "stream",
     "text": [
      "A    0.721528\n",
      "B    2.163466\n",
      "C    0.197465\n",
      "D    0.956179\n",
      "Name: 2013-01-01 00:00:00, dtype: float64\n"
     ]
    }
   ],
   "source": [
    "# Escoger por número de fila.\n",
    "\n",
    "print( df.iloc[0] )"
   ]
  },
  {
   "cell_type": "code",
   "execution_count": 65,
   "metadata": {},
   "outputs": [
    {
     "name": "stdout",
     "output_type": "stream",
     "text": [
      "1.1884837417990106\n"
     ]
    }
   ],
   "source": [
    "# Escoger por fila y columna.\n",
    "\n",
    "print( df.loc[df.index[2], \"B\"] )"
   ]
  },
  {
   "cell_type": "code",
   "execution_count": 66,
   "metadata": {},
   "outputs": [
    {
     "name": "stdout",
     "output_type": "stream",
     "text": [
      "1.1884837417990106\n"
     ]
    }
   ],
   "source": [
    "# Escoger por número de fila y columna.\n",
    "\n",
    "print( df.iloc[2, 1] )"
   ]
  },
  {
   "cell_type": "code",
   "execution_count": 67,
   "metadata": {},
   "outputs": [
    {
     "name": "stdout",
     "output_type": "stream",
     "text": [
      "                   B         C\n",
      "2013-01-03  1.188484  1.072230\n",
      "2013-01-04 -1.181399  0.866636\n"
     ]
    }
   ],
   "source": [
    "# Escoger una subsección del dataframe.\n",
    "\n",
    "df_2 = df.iloc[2:4, 1:3]\n",
    "print( df_2 )"
   ]
  },
  {
   "cell_type": "code",
   "execution_count": 68,
   "metadata": {},
   "outputs": [
    {
     "name": "stdout",
     "output_type": "stream",
     "text": [
      "                   A         B         C         D\n",
      "2013-01-03  0.003530  1.188484  1.072230 -1.035879\n",
      "2013-01-04 -0.587499 -1.181399  0.866636 -0.293493\n"
     ]
    }
   ],
   "source": [
    "df_2 = df.iloc[2:4, :]\n",
    "print( df_2 )\n",
    "\n",
    "# Las copias y vistas funcionan igual que en numpy!!"
   ]
  },
  {
   "cell_type": "code",
   "execution_count": 69,
   "metadata": {},
   "outputs": [
    {
     "name": "stdout",
     "output_type": "stream",
     "text": [
      "                   A         B         C         D\n",
      "2013-01-01  0.721528  2.163466  0.197465  0.956179\n",
      "2013-01-02  0.211874  0.341063 -0.479328 -0.219198\n",
      "2013-01-03  0.003530  1.188484  1.072230 -1.035879\n",
      "2013-01-05  1.007495  0.902794  1.910276 -0.572103\n",
      "2013-01-06  1.814723  0.509839  1.940401 -1.389314\n"
     ]
    }
   ],
   "source": [
    "# Búsqueda por condiciones.\n",
    "\n",
    "# En una columna.\n",
    "print( df[df[\"A\"] > 0] )"
   ]
  },
  {
   "cell_type": "code",
   "execution_count": 70,
   "metadata": {},
   "outputs": [
    {
     "name": "stdout",
     "output_type": "stream",
     "text": [
      "                   A         B         C         D\n",
      "2013-01-01  0.721528  2.163466  0.197465  0.956179\n",
      "2013-01-02  0.211874  0.341063       NaN       NaN\n",
      "2013-01-03  0.003530  1.188484  1.072230       NaN\n",
      "2013-01-04       NaN       NaN  0.866636       NaN\n",
      "2013-01-05  1.007495  0.902794  1.910276       NaN\n",
      "2013-01-06  1.814723  0.509839  1.940401       NaN\n"
     ]
    }
   ],
   "source": [
    "# En todo el dataframe.\n",
    "\n",
    "print( df[df>0] )"
   ]
  },
  {
   "cell_type": "code",
   "execution_count": 71,
   "metadata": {},
   "outputs": [
    {
     "name": "stdout",
     "output_type": "stream",
     "text": [
      "                   A         B         C         D       E\n",
      "2013-01-01  0.721528  2.163466  0.197465  0.956179     uno\n",
      "2013-01-02  0.211874  0.341063 -0.479328 -0.219198     uno\n",
      "2013-01-03  0.003530  1.188484  1.072230 -1.035879     dos\n",
      "2013-01-04 -0.587499 -1.181399  0.866636 -0.293493    tres\n",
      "2013-01-05  1.007495  0.902794  1.910276 -0.572103  cuatro\n",
      "2013-01-06  1.814723  0.509839  1.940401 -1.389314    tres\n"
     ]
    }
   ],
   "source": [
    "# Agregar columnas.\n",
    "# Todos los elementos de una columna son del mismo tipo.\n",
    "# Las columnas pueden tener distintos tipos.\n",
    "\n",
    "df[\"E\"] = [\"uno\", \"uno\", \"dos\", \"tres\", \"cuatro\", \"tres\"]\n",
    "\n",
    "print(df)"
   ]
  },
  {
   "cell_type": "code",
   "execution_count": 72,
   "metadata": {},
   "outputs": [
    {
     "name": "stdout",
     "output_type": "stream",
     "text": [
      "                   A         B         C         D       E    F\n",
      "2013-01-01  0.721528  2.163466  0.197465  0.956179     uno  1.0\n",
      "2013-01-02  0.211874  0.341063 -0.479328 -0.219198     uno  1.8\n",
      "2013-01-03  0.003530  1.188484  1.072230 -1.035879     dos  2.6\n",
      "2013-01-04 -0.587499 -1.181399  0.866636 -0.293493    tres  3.4\n",
      "2013-01-05  1.007495  0.902794  1.910276 -0.572103  cuatro  4.2\n"
     ]
    }
   ],
   "source": [
    "# Nueva columna con arreglos.\n",
    "\n",
    "df[\"F\"] = np.linspace(1, 5, 6)\n",
    "print(df.head())"
   ]
  },
  {
   "cell_type": "code",
   "execution_count": 73,
   "metadata": {},
   "outputs": [
    {
     "name": "stdout",
     "output_type": "stream",
     "text": [
      "                   A         B         C         D       E    F\n",
      "2013-01-03  0.003530  1.188484  1.072230 -1.035879     dos  2.6\n",
      "2013-01-05  1.007495  0.902794  1.910276 -0.572103  cuatro  4.2\n"
     ]
    }
   ],
   "source": [
    "# Buscar valores específicos con isin()\n",
    "\n",
    "print( df[df[\"E\"].isin([\"dos\", \"cuatro\"])] )"
   ]
  },
  {
   "cell_type": "code",
   "execution_count": 74,
   "metadata": {},
   "outputs": [
    {
     "name": "stdout",
     "output_type": "stream",
     "text": [
      "                   A          B         C         D       E    F\n",
      "2013-01-01  0.721528  10.000000  0.197465  0.956179     uno  1.0\n",
      "2013-01-02  0.211874   0.341063 -0.479328 -0.219198     uno  1.8\n",
      "2013-01-03  0.003530   1.188484  1.072230 -1.035879     dos  2.6\n",
      "2013-01-04 -0.587499  -1.181399  0.866636 -0.293493    tres  3.4\n",
      "2013-01-05  1.007495   0.902794  1.910276 -0.572103  cuatro  4.2\n",
      "2013-01-06  1.814723   0.509839  1.940401 -1.389314    tres  5.0\n"
     ]
    }
   ],
   "source": [
    "# Podemos cambiar un valor específico.\n",
    "\n",
    "df.iloc[0, 1] = 10\n",
    "print(df)"
   ]
  },
  {
   "cell_type": "code",
   "execution_count": 75,
   "metadata": {},
   "outputs": [
    {
     "name": "stdout",
     "output_type": "stream",
     "text": [
      "                   A          B         C         D    F\n",
      "2013-01-01  0.721528  10.000000  0.197465  0.956179  1.0\n",
      "2013-01-02  0.211874   0.341063 -0.479328 -0.219198  1.8\n",
      "2013-01-03  0.003530   1.188484  1.072230 -1.035879  2.6\n",
      "2013-01-04 -0.587499  -1.181399  0.866636 -0.293493  3.4\n",
      "2013-01-05  1.007495   0.902794  1.910276 -0.572103  4.2\n",
      "2013-01-06  1.814723   0.509839  1.940401 -1.389314  5.0\n"
     ]
    }
   ],
   "source": [
    "# Quitar columna.\n",
    "\n",
    "df = df.drop(\"E\", axis = 1)\n",
    "print(df)"
   ]
  },
  {
   "cell_type": "code",
   "execution_count": 76,
   "metadata": {},
   "outputs": [
    {
     "name": "stdout",
     "output_type": "stream",
     "text": [
      "                   A          B         C         D    F\n",
      "2013-01-01  0.721528  10.000000  0.197465  0.956179  1.0\n",
      "2013-01-02  0.211874   0.341063  0.000000  0.000000  1.8\n",
      "2013-01-03  0.003530   1.188484  1.072230  0.000000  2.6\n",
      "2013-01-04  0.000000   0.000000  0.866636  0.000000  3.4\n",
      "2013-01-05  1.007495   0.902794  1.910276  0.000000  4.2\n",
      "2013-01-06  1.814723   0.509839  1.940401  0.000000  5.0\n"
     ]
    }
   ],
   "source": [
    "# Establecer valores con condicional.\n",
    "\n",
    "df[df<0] = 0\n",
    "print(df)"
   ]
  },
  {
   "cell_type": "code",
   "execution_count": 77,
   "metadata": {},
   "outputs": [
    {
     "name": "stdout",
     "output_type": "stream",
     "text": [
      "                   A         B         C         D    F\n",
      "2013-01-01  0.721528       NaN  0.197465  0.956179  1.0\n",
      "2013-01-02  0.211874  0.341063  0.000000  0.000000  1.8\n",
      "2013-01-03  0.003530  1.188484  1.072230  0.000000  NaN\n",
      "2013-01-04  0.000000  0.000000  0.866636  0.000000  NaN\n",
      "2013-01-05  1.007495  0.902794  1.910276  0.000000  NaN\n",
      "2013-01-06  1.814723  0.509839  1.940401  0.000000  NaN\n"
     ]
    }
   ],
   "source": [
    "# Agregamos algunos valores nulos.\n",
    "\n",
    "df[df>2] = np.nan\n",
    "print(df)"
   ]
  },
  {
   "cell_type": "code",
   "execution_count": 78,
   "metadata": {},
   "outputs": [
    {
     "name": "stdout",
     "output_type": "stream",
     "text": [
      "                   A         B    C    D    F\n",
      "2013-01-02  0.211874  0.341063  0.0  0.0  1.8\n",
      "                   A           B         C         D      F\n",
      "2013-01-01  0.721528 -100.000000  0.197465  0.956179    1.0\n",
      "2013-01-02  0.211874    0.341063  0.000000  0.000000    1.8\n",
      "2013-01-03  0.003530    1.188484  1.072230  0.000000 -100.0\n",
      "2013-01-04  0.000000    0.000000  0.866636  0.000000 -100.0\n",
      "2013-01-05  1.007495    0.902794  1.910276  0.000000 -100.0\n",
      "2013-01-06  1.814723    0.509839  1.940401  0.000000 -100.0\n",
      "                A      B      C      D      F\n",
      "2013-01-01  False   True  False  False  False\n",
      "2013-01-02  False  False  False  False  False\n",
      "2013-01-03  False  False  False  False   True\n",
      "2013-01-04  False  False  False  False   True\n",
      "2013-01-05  False  False  False  False   True\n",
      "2013-01-06  False  False  False  False   True\n"
     ]
    }
   ],
   "source": [
    "# Quitar filas con valores nulos.\n",
    "print(df.dropna())\n",
    "\n",
    "# Rellenar valores nulos.\n",
    "print(df.fillna(-100))\n",
    "\n",
    "# Determinar valores nulos.\n",
    "print(df.isna())"
   ]
  },
  {
   "cell_type": "code",
   "execution_count": 79,
   "metadata": {},
   "outputs": [
    {
     "name": "stdout",
     "output_type": "stream",
     "text": [
      "                   A         B         C         D    F         G\n",
      "2013-01-01  0.721528       NaN  0.197465  0.956179  1.0  0.918993\n",
      "2013-01-02  0.211874  0.341063  0.000000  0.000000  1.8  0.211874\n",
      "2013-01-03  0.003530  1.188484  1.072230  0.000000  NaN  1.075760\n",
      "2013-01-04  0.000000  0.000000  0.866636  0.000000  NaN  0.866636\n",
      "2013-01-05  1.007495  0.902794  1.910276  0.000000  NaN  2.917771\n",
      "2013-01-06  1.814723  0.509839  1.940401  0.000000  NaN  3.755124\n",
      "A    0.626525\n",
      "B    0.588436\n",
      "C    0.997835\n",
      "D    0.159363\n",
      "F    1.400000\n",
      "G    1.624360\n",
      "dtype: float64\n",
      "2013-01-01    0.758833\n",
      "2013-01-02    0.427469\n",
      "2013-01-03    0.668001\n",
      "2013-01-04    0.346654\n",
      "2013-01-05    1.347667\n",
      "2013-01-06    1.604018\n",
      "Freq: D, dtype: float64\n"
     ]
    }
   ],
   "source": [
    "# operaciones.\n",
    "\n",
    "# Entre columnas.\n",
    "df[\"G\"] = df[\"A\"] + df[\"C\"]\n",
    "\n",
    "print(df)\n",
    "\n",
    "# promedio\n",
    "print(df.mean())\n",
    "print(df.mean(1))"
   ]
  },
  {
   "cell_type": "code",
   "execution_count": 80,
   "metadata": {},
   "outputs": [
    {
     "data": {
      "text/html": [
       "<div>\n",
       "<style scoped>\n",
       "    .dataframe tbody tr th:only-of-type {\n",
       "        vertical-align: middle;\n",
       "    }\n",
       "\n",
       "    .dataframe tbody tr th {\n",
       "        vertical-align: top;\n",
       "    }\n",
       "\n",
       "    .dataframe thead th {\n",
       "        text-align: right;\n",
       "    }\n",
       "</style>\n",
       "<table border=\"1\" class=\"dataframe\">\n",
       "  <thead>\n",
       "    <tr style=\"text-align: right;\">\n",
       "      <th></th>\n",
       "      <th>A</th>\n",
       "      <th>B</th>\n",
       "      <th>C</th>\n",
       "      <th>D</th>\n",
       "      <th>F</th>\n",
       "      <th>G</th>\n",
       "    </tr>\n",
       "  </thead>\n",
       "  <tbody>\n",
       "    <tr>\n",
       "      <th>2013-01-01</th>\n",
       "      <td>0.721528</td>\n",
       "      <td>NaN</td>\n",
       "      <td>0.197465</td>\n",
       "      <td>0.956179</td>\n",
       "      <td>1.0</td>\n",
       "      <td>0.918993</td>\n",
       "    </tr>\n",
       "    <tr>\n",
       "      <th>2013-01-02</th>\n",
       "      <td>0.933403</td>\n",
       "      <td>0.341063</td>\n",
       "      <td>0.197465</td>\n",
       "      <td>0.956179</td>\n",
       "      <td>2.8</td>\n",
       "      <td>1.130868</td>\n",
       "    </tr>\n",
       "    <tr>\n",
       "      <th>2013-01-03</th>\n",
       "      <td>0.936933</td>\n",
       "      <td>1.529547</td>\n",
       "      <td>1.269695</td>\n",
       "      <td>0.956179</td>\n",
       "      <td>NaN</td>\n",
       "      <td>2.206628</td>\n",
       "    </tr>\n",
       "    <tr>\n",
       "      <th>2013-01-04</th>\n",
       "      <td>0.936933</td>\n",
       "      <td>1.529547</td>\n",
       "      <td>2.136330</td>\n",
       "      <td>0.956179</td>\n",
       "      <td>NaN</td>\n",
       "      <td>3.073264</td>\n",
       "    </tr>\n",
       "    <tr>\n",
       "      <th>2013-01-05</th>\n",
       "      <td>1.944428</td>\n",
       "      <td>2.432342</td>\n",
       "      <td>4.046607</td>\n",
       "      <td>0.956179</td>\n",
       "      <td>NaN</td>\n",
       "      <td>5.991035</td>\n",
       "    </tr>\n",
       "    <tr>\n",
       "      <th>2013-01-06</th>\n",
       "      <td>3.759151</td>\n",
       "      <td>2.942181</td>\n",
       "      <td>5.987008</td>\n",
       "      <td>0.956179</td>\n",
       "      <td>NaN</td>\n",
       "      <td>9.746159</td>\n",
       "    </tr>\n",
       "  </tbody>\n",
       "</table>\n",
       "</div>"
      ],
      "text/plain": [
       "                   A         B         C         D    F         G\n",
       "2013-01-01  0.721528       NaN  0.197465  0.956179  1.0  0.918993\n",
       "2013-01-02  0.933403  0.341063  0.197465  0.956179  2.8  1.130868\n",
       "2013-01-03  0.936933  1.529547  1.269695  0.956179  NaN  2.206628\n",
       "2013-01-04  0.936933  1.529547  2.136330  0.956179  NaN  3.073264\n",
       "2013-01-05  1.944428  2.432342  4.046607  0.956179  NaN  5.991035\n",
       "2013-01-06  3.759151  2.942181  5.987008  0.956179  NaN  9.746159"
      ]
     },
     "execution_count": 80,
     "metadata": {},
     "output_type": "execute_result"
    }
   ],
   "source": [
    "# Aplicar operación.\n",
    "# np.cumsum() hace una suma acumulada.\n",
    "df.apply(np.cumsum)"
   ]
  },
  {
   "cell_type": "code",
   "execution_count": 81,
   "metadata": {},
   "outputs": [
    {
     "name": "stderr",
     "output_type": "stream",
     "text": [
      "/opt/homebrew/Caskroom/miniforge/base/envs/gv/lib/python3.9/site-packages/pandas/core/arraylike.py:364: RuntimeWarning: divide by zero encountered in log\n",
      "  result = getattr(ufunc, method)(*inputs, **kwargs)\n"
     ]
    },
    {
     "data": {
      "text/html": [
       "<div>\n",
       "<style scoped>\n",
       "    .dataframe tbody tr th:only-of-type {\n",
       "        vertical-align: middle;\n",
       "    }\n",
       "\n",
       "    .dataframe tbody tr th {\n",
       "        vertical-align: top;\n",
       "    }\n",
       "\n",
       "    .dataframe thead th {\n",
       "        text-align: right;\n",
       "    }\n",
       "</style>\n",
       "<table border=\"1\" class=\"dataframe\">\n",
       "  <thead>\n",
       "    <tr style=\"text-align: right;\">\n",
       "      <th></th>\n",
       "      <th>A</th>\n",
       "      <th>B</th>\n",
       "      <th>C</th>\n",
       "      <th>D</th>\n",
       "      <th>F</th>\n",
       "      <th>G</th>\n",
       "      <th>H</th>\n",
       "    </tr>\n",
       "  </thead>\n",
       "  <tbody>\n",
       "    <tr>\n",
       "      <th>2013-01-01</th>\n",
       "      <td>0.721528</td>\n",
       "      <td>NaN</td>\n",
       "      <td>0.197465</td>\n",
       "      <td>0.956179</td>\n",
       "      <td>1.0</td>\n",
       "      <td>0.918993</td>\n",
       "      <td>-1.622194</td>\n",
       "    </tr>\n",
       "    <tr>\n",
       "      <th>2013-01-02</th>\n",
       "      <td>0.211874</td>\n",
       "      <td>0.341063</td>\n",
       "      <td>0.000000</td>\n",
       "      <td>0.000000</td>\n",
       "      <td>1.8</td>\n",
       "      <td>0.211874</td>\n",
       "      <td>-inf</td>\n",
       "    </tr>\n",
       "    <tr>\n",
       "      <th>2013-01-03</th>\n",
       "      <td>0.003530</td>\n",
       "      <td>1.188484</td>\n",
       "      <td>1.072230</td>\n",
       "      <td>0.000000</td>\n",
       "      <td>NaN</td>\n",
       "      <td>1.075760</td>\n",
       "      <td>0.069740</td>\n",
       "    </tr>\n",
       "    <tr>\n",
       "      <th>2013-01-04</th>\n",
       "      <td>0.000000</td>\n",
       "      <td>0.000000</td>\n",
       "      <td>0.866636</td>\n",
       "      <td>0.000000</td>\n",
       "      <td>NaN</td>\n",
       "      <td>0.866636</td>\n",
       "      <td>-0.143137</td>\n",
       "    </tr>\n",
       "    <tr>\n",
       "      <th>2013-01-05</th>\n",
       "      <td>1.007495</td>\n",
       "      <td>0.902794</td>\n",
       "      <td>1.910276</td>\n",
       "      <td>0.000000</td>\n",
       "      <td>NaN</td>\n",
       "      <td>2.917771</td>\n",
       "      <td>0.647248</td>\n",
       "    </tr>\n",
       "    <tr>\n",
       "      <th>2013-01-06</th>\n",
       "      <td>1.814723</td>\n",
       "      <td>0.509839</td>\n",
       "      <td>1.940401</td>\n",
       "      <td>0.000000</td>\n",
       "      <td>NaN</td>\n",
       "      <td>3.755124</td>\n",
       "      <td>0.662895</td>\n",
       "    </tr>\n",
       "  </tbody>\n",
       "</table>\n",
       "</div>"
      ],
      "text/plain": [
       "                   A         B         C         D    F         G         H\n",
       "2013-01-01  0.721528       NaN  0.197465  0.956179  1.0  0.918993 -1.622194\n",
       "2013-01-02  0.211874  0.341063  0.000000  0.000000  1.8  0.211874      -inf\n",
       "2013-01-03  0.003530  1.188484  1.072230  0.000000  NaN  1.075760  0.069740\n",
       "2013-01-04  0.000000  0.000000  0.866636  0.000000  NaN  0.866636 -0.143137\n",
       "2013-01-05  1.007495  0.902794  1.910276  0.000000  NaN  2.917771  0.647248\n",
       "2013-01-06  1.814723  0.509839  1.940401  0.000000  NaN  3.755124  0.662895"
      ]
     },
     "execution_count": 81,
     "metadata": {},
     "output_type": "execute_result"
    }
   ],
   "source": [
    "df[\"H\"] = np.log( df[\"C\"] )\n",
    "\n",
    "df"
   ]
  },
  {
   "cell_type": "code",
   "execution_count": 82,
   "metadata": {},
   "outputs": [
    {
     "name": "stdout",
     "output_type": "stream",
     "text": [
      "0    2\n",
      "1    2\n",
      "2    3\n",
      "3    5\n",
      "4    3\n",
      "5    0\n",
      "6    0\n",
      "7    3\n",
      "8    3\n",
      "9    6\n",
      "dtype: int64\n"
     ]
    }
   ],
   "source": [
    "# Se puede obtener un histograma.\n",
    "\n",
    "s = pd.Series(np.random.randint(0, 7, size = 10))\n",
    "print (s)\n"
   ]
  },
  {
   "cell_type": "code",
   "execution_count": 83,
   "metadata": {},
   "outputs": [
    {
     "name": "stdout",
     "output_type": "stream",
     "text": [
      "3    4\n",
      "2    2\n",
      "0    2\n",
      "5    1\n",
      "6    1\n",
      "dtype: int64\n"
     ]
    }
   ],
   "source": [
    "print(s.value_counts())"
   ]
  },
  {
   "cell_type": "code",
   "execution_count": 84,
   "metadata": {},
   "outputs": [
    {
     "name": "stdout",
     "output_type": "stream",
     "text": [
      "                   A         B         C         D\n",
      "2013-01-01 -0.081012  0.782166  0.168883 -2.235812\n",
      "2013-01-02  0.478676  0.530940  0.613818 -0.029573\n",
      "2013-01-03 -1.006465 -0.173889 -1.770311 -1.271142\n",
      "2013-01-04 -2.722963 -2.505809  0.044979  0.556915\n",
      "2013-01-05 -0.192212 -0.478922  0.368318 -0.257449\n",
      "...              ...       ...       ...       ...\n",
      "2013-07-15 -1.343711  0.096377 -0.113509  0.303902\n",
      "2013-07-16 -0.333740 -1.249941 -1.649008 -1.829500\n",
      "2013-07-17 -0.895110 -0.308012 -1.106519 -0.527387\n",
      "2013-07-18  0.697204 -0.097088 -0.494006  0.346064\n",
      "2013-07-19 -1.802230  0.830730  0.289162 -0.851615\n",
      "\n",
      "[200 rows x 4 columns]\n"
     ]
    }
   ],
   "source": [
    "# Agrupar datos\n",
    "\n",
    "fechas = pd.date_range(\"20130101\", periods = 200, freq = \"D\")\n",
    "df = pd.DataFrame( np.random.randn(200, 4), index = fechas,\n",
    "    columns = [\"A\", \"B\", \"C\", \"D\"] )\n",
    "\n",
    "print(df)"
   ]
  },
  {
   "cell_type": "code",
   "execution_count": 85,
   "metadata": {},
   "outputs": [
    {
     "data": {
      "text/html": [
       "<div>\n",
       "<style scoped>\n",
       "    .dataframe tbody tr th:only-of-type {\n",
       "        vertical-align: middle;\n",
       "    }\n",
       "\n",
       "    .dataframe tbody tr th {\n",
       "        vertical-align: top;\n",
       "    }\n",
       "\n",
       "    .dataframe thead th {\n",
       "        text-align: right;\n",
       "    }\n",
       "</style>\n",
       "<table border=\"1\" class=\"dataframe\">\n",
       "  <thead>\n",
       "    <tr style=\"text-align: right;\">\n",
       "      <th></th>\n",
       "      <th>A</th>\n",
       "      <th>B</th>\n",
       "      <th>C</th>\n",
       "      <th>D</th>\n",
       "    </tr>\n",
       "  </thead>\n",
       "  <tbody>\n",
       "    <tr>\n",
       "      <th>1</th>\n",
       "      <td>-0.798077</td>\n",
       "      <td>3.838560</td>\n",
       "      <td>-4.049747</td>\n",
       "      <td>-8.885975</td>\n",
       "    </tr>\n",
       "    <tr>\n",
       "      <th>2</th>\n",
       "      <td>-1.430027</td>\n",
       "      <td>-14.533154</td>\n",
       "      <td>6.573088</td>\n",
       "      <td>2.720362</td>\n",
       "    </tr>\n",
       "    <tr>\n",
       "      <th>3</th>\n",
       "      <td>-3.524114</td>\n",
       "      <td>1.508642</td>\n",
       "      <td>-3.239550</td>\n",
       "      <td>8.713066</td>\n",
       "    </tr>\n",
       "    <tr>\n",
       "      <th>4</th>\n",
       "      <td>-9.598943</td>\n",
       "      <td>9.441280</td>\n",
       "      <td>-5.596464</td>\n",
       "      <td>4.617217</td>\n",
       "    </tr>\n",
       "    <tr>\n",
       "      <th>5</th>\n",
       "      <td>1.009982</td>\n",
       "      <td>4.907997</td>\n",
       "      <td>-1.932292</td>\n",
       "      <td>-1.692895</td>\n",
       "    </tr>\n",
       "    <tr>\n",
       "      <th>6</th>\n",
       "      <td>-4.890213</td>\n",
       "      <td>-1.907895</td>\n",
       "      <td>2.934414</td>\n",
       "      <td>-3.595034</td>\n",
       "    </tr>\n",
       "    <tr>\n",
       "      <th>7</th>\n",
       "      <td>0.453305</td>\n",
       "      <td>-5.370138</td>\n",
       "      <td>3.398496</td>\n",
       "      <td>-4.566965</td>\n",
       "    </tr>\n",
       "  </tbody>\n",
       "</table>\n",
       "</div>"
      ],
      "text/plain": [
       "          A          B         C         D\n",
       "1 -0.798077   3.838560 -4.049747 -8.885975\n",
       "2 -1.430027 -14.533154  6.573088  2.720362\n",
       "3 -3.524114   1.508642 -3.239550  8.713066\n",
       "4 -9.598943   9.441280 -5.596464  4.617217\n",
       "5  1.009982   4.907997 -1.932292 -1.692895\n",
       "6 -4.890213  -1.907895  2.934414 -3.595034\n",
       "7  0.453305  -5.370138  3.398496 -4.566965"
      ]
     },
     "execution_count": 85,
     "metadata": {},
     "output_type": "execute_result"
    }
   ],
   "source": [
    "# Agrupamos y realizamos una operación.\n",
    "df.groupby(df.index.month).sum()"
   ]
  },
  {
   "cell_type": "code",
   "execution_count": 86,
   "metadata": {},
   "outputs": [
    {
     "data": {
      "text/html": [
       "<div>\n",
       "<style scoped>\n",
       "    .dataframe tbody tr th:only-of-type {\n",
       "        vertical-align: middle;\n",
       "    }\n",
       "\n",
       "    .dataframe tbody tr th {\n",
       "        vertical-align: top;\n",
       "    }\n",
       "\n",
       "    .dataframe thead th {\n",
       "        text-align: right;\n",
       "    }\n",
       "</style>\n",
       "<table border=\"1\" class=\"dataframe\">\n",
       "  <thead>\n",
       "    <tr style=\"text-align: right;\">\n",
       "      <th></th>\n",
       "      <th>A</th>\n",
       "      <th>B</th>\n",
       "      <th>C</th>\n",
       "      <th>D</th>\n",
       "    </tr>\n",
       "  </thead>\n",
       "  <tbody>\n",
       "    <tr>\n",
       "      <th>1</th>\n",
       "      <td>0.080776</td>\n",
       "      <td>0.035915</td>\n",
       "      <td>0.437792</td>\n",
       "      <td>-0.264141</td>\n",
       "    </tr>\n",
       "    <tr>\n",
       "      <th>2</th>\n",
       "      <td>0.486945</td>\n",
       "      <td>-0.227749</td>\n",
       "      <td>0.862887</td>\n",
       "      <td>-0.703551</td>\n",
       "    </tr>\n",
       "    <tr>\n",
       "      <th>3</th>\n",
       "      <td>-0.097854</td>\n",
       "      <td>-0.315475</td>\n",
       "      <td>-0.523858</td>\n",
       "      <td>0.041969</td>\n",
       "    </tr>\n",
       "    <tr>\n",
       "      <th>4</th>\n",
       "      <td>-0.425877</td>\n",
       "      <td>-0.463429</td>\n",
       "      <td>-0.363330</td>\n",
       "      <td>0.577864</td>\n",
       "    </tr>\n",
       "    <tr>\n",
       "      <th>5</th>\n",
       "      <td>0.108469</td>\n",
       "      <td>-0.191223</td>\n",
       "      <td>0.325115</td>\n",
       "      <td>-0.173312</td>\n",
       "    </tr>\n",
       "    <tr>\n",
       "      <th>6</th>\n",
       "      <td>0.382845</td>\n",
       "      <td>0.390719</td>\n",
       "      <td>0.273312</td>\n",
       "      <td>-0.225439</td>\n",
       "    </tr>\n",
       "    <tr>\n",
       "      <th>7</th>\n",
       "      <td>0.043699</td>\n",
       "      <td>-0.040151</td>\n",
       "      <td>-0.394495</td>\n",
       "      <td>0.022033</td>\n",
       "    </tr>\n",
       "    <tr>\n",
       "      <th>8</th>\n",
       "      <td>0.141149</td>\n",
       "      <td>-0.064651</td>\n",
       "      <td>-0.279638</td>\n",
       "      <td>0.456184</td>\n",
       "    </tr>\n",
       "    <tr>\n",
       "      <th>9</th>\n",
       "      <td>0.006065</td>\n",
       "      <td>0.143651</td>\n",
       "      <td>-0.145783</td>\n",
       "      <td>-0.329834</td>\n",
       "    </tr>\n",
       "    <tr>\n",
       "      <th>10</th>\n",
       "      <td>-0.286142</td>\n",
       "      <td>-0.002587</td>\n",
       "      <td>0.528855</td>\n",
       "      <td>-0.485697</td>\n",
       "    </tr>\n",
       "    <tr>\n",
       "      <th>11</th>\n",
       "      <td>0.050492</td>\n",
       "      <td>-0.081133</td>\n",
       "      <td>0.086134</td>\n",
       "      <td>0.284047</td>\n",
       "    </tr>\n",
       "    <tr>\n",
       "      <th>12</th>\n",
       "      <td>0.223643</td>\n",
       "      <td>-0.086820</td>\n",
       "      <td>-0.236439</td>\n",
       "      <td>0.268099</td>\n",
       "    </tr>\n",
       "    <tr>\n",
       "      <th>13</th>\n",
       "      <td>-0.591034</td>\n",
       "      <td>0.211280</td>\n",
       "      <td>0.124266</td>\n",
       "      <td>-0.205971</td>\n",
       "    </tr>\n",
       "    <tr>\n",
       "      <th>14</th>\n",
       "      <td>-0.183203</td>\n",
       "      <td>0.281098</td>\n",
       "      <td>-0.075009</td>\n",
       "      <td>-0.074315</td>\n",
       "    </tr>\n",
       "    <tr>\n",
       "      <th>15</th>\n",
       "      <td>-0.537416</td>\n",
       "      <td>-0.382651</td>\n",
       "      <td>-0.051342</td>\n",
       "      <td>0.228163</td>\n",
       "    </tr>\n",
       "    <tr>\n",
       "      <th>16</th>\n",
       "      <td>0.150370</td>\n",
       "      <td>-0.010797</td>\n",
       "      <td>-0.408663</td>\n",
       "      <td>0.458545</td>\n",
       "    </tr>\n",
       "    <tr>\n",
       "      <th>17</th>\n",
       "      <td>0.009221</td>\n",
       "      <td>-0.037049</td>\n",
       "      <td>-0.577994</td>\n",
       "      <td>-0.289492</td>\n",
       "    </tr>\n",
       "    <tr>\n",
       "      <th>18</th>\n",
       "      <td>-0.060960</td>\n",
       "      <td>0.186228</td>\n",
       "      <td>-0.562943</td>\n",
       "      <td>-0.056071</td>\n",
       "    </tr>\n",
       "    <tr>\n",
       "      <th>19</th>\n",
       "      <td>-0.172807</td>\n",
       "      <td>-0.054119</td>\n",
       "      <td>-0.243146</td>\n",
       "      <td>0.087475</td>\n",
       "    </tr>\n",
       "    <tr>\n",
       "      <th>20</th>\n",
       "      <td>-0.168135</td>\n",
       "      <td>0.019175</td>\n",
       "      <td>0.384871</td>\n",
       "      <td>-0.025632</td>\n",
       "    </tr>\n",
       "    <tr>\n",
       "      <th>21</th>\n",
       "      <td>0.344544</td>\n",
       "      <td>-0.797076</td>\n",
       "      <td>0.200216</td>\n",
       "      <td>-0.178949</td>\n",
       "    </tr>\n",
       "    <tr>\n",
       "      <th>22</th>\n",
       "      <td>-0.799463</td>\n",
       "      <td>0.736925</td>\n",
       "      <td>0.537329</td>\n",
       "      <td>-0.652413</td>\n",
       "    </tr>\n",
       "    <tr>\n",
       "      <th>23</th>\n",
       "      <td>-0.047959</td>\n",
       "      <td>0.550365</td>\n",
       "      <td>0.253949</td>\n",
       "      <td>-0.514127</td>\n",
       "    </tr>\n",
       "    <tr>\n",
       "      <th>24</th>\n",
       "      <td>0.426245</td>\n",
       "      <td>-0.325006</td>\n",
       "      <td>-0.284212</td>\n",
       "      <td>-0.064949</td>\n",
       "    </tr>\n",
       "    <tr>\n",
       "      <th>25</th>\n",
       "      <td>-1.389276</td>\n",
       "      <td>-0.257007</td>\n",
       "      <td>0.164848</td>\n",
       "      <td>0.942096</td>\n",
       "    </tr>\n",
       "    <tr>\n",
       "      <th>26</th>\n",
       "      <td>-0.511467</td>\n",
       "      <td>0.151121</td>\n",
       "      <td>-0.611026</td>\n",
       "      <td>0.052245</td>\n",
       "    </tr>\n",
       "    <tr>\n",
       "      <th>27</th>\n",
       "      <td>-0.489110</td>\n",
       "      <td>0.326843</td>\n",
       "      <td>-0.259237</td>\n",
       "      <td>0.417888</td>\n",
       "    </tr>\n",
       "    <tr>\n",
       "      <th>28</th>\n",
       "      <td>0.087113</td>\n",
       "      <td>-0.115760</td>\n",
       "      <td>0.594418</td>\n",
       "      <td>0.017537</td>\n",
       "    </tr>\n",
       "    <tr>\n",
       "      <th>29</th>\n",
       "      <td>-0.204057</td>\n",
       "      <td>0.190590</td>\n",
       "      <td>0.159945</td>\n",
       "      <td>-0.330976</td>\n",
       "    </tr>\n",
       "    <tr>\n",
       "      <th>30</th>\n",
       "      <td>0.091499</td>\n",
       "      <td>0.187884</td>\n",
       "      <td>0.265577</td>\n",
       "      <td>0.426290</td>\n",
       "    </tr>\n",
       "    <tr>\n",
       "      <th>31</th>\n",
       "      <td>0.590360</td>\n",
       "      <td>-0.260649</td>\n",
       "      <td>-0.452214</td>\n",
       "      <td>-0.148282</td>\n",
       "    </tr>\n",
       "  </tbody>\n",
       "</table>\n",
       "</div>"
      ],
      "text/plain": [
       "           A         B         C         D\n",
       "1   0.080776  0.035915  0.437792 -0.264141\n",
       "2   0.486945 -0.227749  0.862887 -0.703551\n",
       "3  -0.097854 -0.315475 -0.523858  0.041969\n",
       "4  -0.425877 -0.463429 -0.363330  0.577864\n",
       "5   0.108469 -0.191223  0.325115 -0.173312\n",
       "6   0.382845  0.390719  0.273312 -0.225439\n",
       "7   0.043699 -0.040151 -0.394495  0.022033\n",
       "8   0.141149 -0.064651 -0.279638  0.456184\n",
       "9   0.006065  0.143651 -0.145783 -0.329834\n",
       "10 -0.286142 -0.002587  0.528855 -0.485697\n",
       "11  0.050492 -0.081133  0.086134  0.284047\n",
       "12  0.223643 -0.086820 -0.236439  0.268099\n",
       "13 -0.591034  0.211280  0.124266 -0.205971\n",
       "14 -0.183203  0.281098 -0.075009 -0.074315\n",
       "15 -0.537416 -0.382651 -0.051342  0.228163\n",
       "16  0.150370 -0.010797 -0.408663  0.458545\n",
       "17  0.009221 -0.037049 -0.577994 -0.289492\n",
       "18 -0.060960  0.186228 -0.562943 -0.056071\n",
       "19 -0.172807 -0.054119 -0.243146  0.087475\n",
       "20 -0.168135  0.019175  0.384871 -0.025632\n",
       "21  0.344544 -0.797076  0.200216 -0.178949\n",
       "22 -0.799463  0.736925  0.537329 -0.652413\n",
       "23 -0.047959  0.550365  0.253949 -0.514127\n",
       "24  0.426245 -0.325006 -0.284212 -0.064949\n",
       "25 -1.389276 -0.257007  0.164848  0.942096\n",
       "26 -0.511467  0.151121 -0.611026  0.052245\n",
       "27 -0.489110  0.326843 -0.259237  0.417888\n",
       "28  0.087113 -0.115760  0.594418  0.017537\n",
       "29 -0.204057  0.190590  0.159945 -0.330976\n",
       "30  0.091499  0.187884  0.265577  0.426290\n",
       "31  0.590360 -0.260649 -0.452214 -0.148282"
      ]
     },
     "execution_count": 86,
     "metadata": {},
     "output_type": "execute_result"
    }
   ],
   "source": [
    "df.groupby(df.index.day).mean()"
   ]
  },
  {
   "cell_type": "code",
   "execution_count": 87,
   "metadata": {},
   "outputs": [
    {
     "name": "stdout",
     "output_type": "stream",
     "text": [
      "2012-01-01 00:00:00    229\n",
      "2012-01-01 00:00:01    470\n",
      "2012-01-01 00:00:02    442\n",
      "2012-01-01 00:00:03    403\n",
      "2012-01-01 00:00:04    317\n",
      "                      ... \n",
      "2012-01-01 00:03:15     42\n",
      "2012-01-01 00:03:16    220\n",
      "2012-01-01 00:03:17    460\n",
      "2012-01-01 00:03:18    324\n",
      "2012-01-01 00:03:19    161\n",
      "Freq: S, Length: 200, dtype: int64\n"
     ]
    }
   ],
   "source": [
    "# Hay mucha flexibilidad en el manejo de las fechas para series de tiempo.\n",
    "\n",
    "rango = pd.date_range(\"1/1/2012\", periods = 200, freq = \"S\")\n",
    "ts = pd.Series(np.random.randint( 0, 500, len(rango) ), index = rango)\n",
    "\n",
    "print(ts)"
   ]
  },
  {
   "cell_type": "code",
   "execution_count": 88,
   "metadata": {},
   "outputs": [
    {
     "name": "stdout",
     "output_type": "stream",
     "text": [
      "2012-01-01 00:00:00    15192\n",
      "2012-01-01 00:01:00    13268\n",
      "2012-01-01 00:02:00    13035\n",
      "2012-01-01 00:03:00     5574\n",
      "Freq: T, dtype: int64\n"
     ]
    }
   ],
   "source": [
    "# Hacemos un resampleo.\n",
    "\n",
    "print( ts.resample(\"1Min\").sum() )"
   ]
  },
  {
   "cell_type": "code",
   "execution_count": 89,
   "metadata": {},
   "outputs": [],
   "source": [
    "# Leer y escribir archivos es muy fácil con \n",
    "# el formato csv, compatible con Excel.\n",
    "\n",
    "# Escribir.\n",
    "ts.name = \"Datos\"\n",
    "ts.index.name = \"Timestamp\"\n",
    "ts.to_csv(\"time_series.csv\")\n"
   ]
  },
  {
   "cell_type": "code",
   "execution_count": 90,
   "metadata": {},
   "outputs": [
    {
     "name": "stdout",
     "output_type": "stream",
     "text": [
      "                     Datos\n",
      "Timestamp                 \n",
      "2012-01-01 00:00:00    229\n",
      "2012-01-01 00:00:01    470\n",
      "2012-01-01 00:00:02    442\n",
      "2012-01-01 00:00:03    403\n",
      "2012-01-01 00:00:04    317\n",
      "...                    ...\n",
      "2012-01-01 00:03:15     42\n",
      "2012-01-01 00:03:16    220\n",
      "2012-01-01 00:03:17    460\n",
      "2012-01-01 00:03:18    324\n",
      "2012-01-01 00:03:19    161\n",
      "\n",
      "[200 rows x 1 columns]\n"
     ]
    }
   ],
   "source": [
    "# Leer archivo.\n",
    "\n",
    "ts_2 = pd.read_csv(\"time_series.csv\", index_col = \"Timestamp\")\n",
    "\n",
    "print(ts_2)"
   ]
  },
  {
   "cell_type": "code",
   "execution_count": 91,
   "metadata": {},
   "outputs": [
    {
     "name": "stdout",
     "output_type": "stream",
     "text": [
      "Index(['2012-01-01 00:00:00', '2012-01-01 00:00:01', '2012-01-01 00:00:02',\n",
      "       '2012-01-01 00:00:03', '2012-01-01 00:00:04', '2012-01-01 00:00:05',\n",
      "       '2012-01-01 00:00:06', '2012-01-01 00:00:07', '2012-01-01 00:00:08',\n",
      "       '2012-01-01 00:00:09',\n",
      "       ...\n",
      "       '2012-01-01 00:03:10', '2012-01-01 00:03:11', '2012-01-01 00:03:12',\n",
      "       '2012-01-01 00:03:13', '2012-01-01 00:03:14', '2012-01-01 00:03:15',\n",
      "       '2012-01-01 00:03:16', '2012-01-01 00:03:17', '2012-01-01 00:03:18',\n",
      "       '2012-01-01 00:03:19'],\n",
      "      dtype='object', name='Timestamp', length=200)\n"
     ]
    }
   ],
   "source": [
    "print( ts_2.index )"
   ]
  },
  {
   "cell_type": "code",
   "execution_count": 92,
   "metadata": {},
   "outputs": [
    {
     "name": "stdout",
     "output_type": "stream",
     "text": [
      "DatetimeIndex(['2012-01-01 00:00:00', '2012-01-01 00:00:01',\n",
      "               '2012-01-01 00:00:02', '2012-01-01 00:00:03',\n",
      "               '2012-01-01 00:00:04', '2012-01-01 00:00:05',\n",
      "               '2012-01-01 00:00:06', '2012-01-01 00:00:07',\n",
      "               '2012-01-01 00:00:08', '2012-01-01 00:00:09',\n",
      "               ...\n",
      "               '2012-01-01 00:03:10', '2012-01-01 00:03:11',\n",
      "               '2012-01-01 00:03:12', '2012-01-01 00:03:13',\n",
      "               '2012-01-01 00:03:14', '2012-01-01 00:03:15',\n",
      "               '2012-01-01 00:03:16', '2012-01-01 00:03:17',\n",
      "               '2012-01-01 00:03:18', '2012-01-01 00:03:19'],\n",
      "              dtype='datetime64[ns]', name='Timestamp', length=200, freq=None)\n"
     ]
    }
   ],
   "source": [
    "ts_2.index = pd.to_datetime( ts_2.index )\n",
    "\n",
    "print(ts_2.index)"
   ]
  },
  {
   "cell_type": "code",
   "execution_count": 93,
   "metadata": {},
   "outputs": [
    {
     "name": "stdout",
     "output_type": "stream",
     "text": [
      "      Col_1     Col_2\n",
      "0 -0.167635 -0.801782\n",
      "1  0.276739 -0.511667\n",
      "2 -1.114099 -0.640085\n",
      "3  0.308471  0.300934\n",
      "4 -0.328477 -1.706633\n",
      "\n",
      "          Col_1     Col_2\n",
      "Col_1  1.000000  0.000733\n",
      "Col_2  0.000733  1.000000\n",
      "\n",
      "          Col_1     Col_2\n",
      "Col_1  0.994865  0.000739\n",
      "Col_2  0.000739  1.021994\n",
      "\n"
     ]
    }
   ],
   "source": [
    "# Correlación\n",
    "\n",
    "# Creamos un dataframe aleatorio.\n",
    "df = pd.DataFrame(np.random.randn(1000,2), columns = [\"Col_1\", \"Col_2\"])\n",
    "\n",
    "print(df.head())\n",
    "print()\n",
    "\n",
    "# Matriz de correlación\n",
    "print( df.corr() )\n",
    "print()\n",
    "\n",
    "# Matriz de covarianza\n",
    "print( df.cov() )\n",
    "print()"
   ]
  },
  {
   "cell_type": "code",
   "execution_count": 94,
   "metadata": {},
   "outputs": [
    {
     "name": "stdout",
     "output_type": "stream",
     "text": [
      "      Col_1     Col_2\n",
      "0 -0.433675  0.998925\n",
      "1 -0.669555 -1.652491\n",
      "2  1.749122 -0.284538\n",
      "3 -2.284783 -0.566064\n",
      "4 -0.317420  0.722254\n",
      "\n",
      "      Col_1     Col_2\n",
      "0  0.439650 -0.099283\n",
      "1 -1.303901  0.082103\n",
      "2 -0.472249 -1.031095\n",
      "3 -0.625879  0.306549\n",
      "4  1.665371 -0.214742\n",
      "\n",
      "        Col_1     Col_2\n",
      "0   -0.433675  0.998925\n",
      "1   -0.669555 -1.652491\n",
      "2    1.749122 -0.284538\n",
      "3   -2.284783 -0.566064\n",
      "4   -0.317420  0.722254\n",
      "..        ...       ...\n",
      "195 -0.179022 -1.057300\n",
      "196  0.849659  2.526274\n",
      "197  0.382693  0.230633\n",
      "198  0.592083  1.801855\n",
      "199 -0.237396 -0.451695\n",
      "\n",
      "[200 rows x 2 columns]\n"
     ]
    }
   ],
   "source": [
    "# Concatenar dataframes.\n",
    "\n",
    "# Creamos un dataframe aleatorio.\n",
    "df_1 = pd.DataFrame(np.random.randn(100,2), columns = [\"Col_1\", \"Col_2\"])\n",
    "df_2 = pd.DataFrame(np.random.randn(100,2), columns = [\"Col_1\", \"Col_2\"])\n",
    "\n",
    "print(df_1.head())\n",
    "print()\n",
    "print(df_2.head())\n",
    "print()\n",
    "\n",
    "# Concatenamos.\n",
    "df = pd.concat([df_1, df_2], axis = 0, ignore_index = True)\n",
    "\n",
    "# Reiniciamos el índice.\n",
    "df = df.reset_index(drop = True)\n",
    "\n",
    "print(df)"
   ]
  },
  {
   "cell_type": "code",
   "execution_count": 95,
   "metadata": {},
   "outputs": [
    {
     "name": "stdout",
     "output_type": "stream",
     "text": [
      "      Col_1     Col_2\n",
      "0  0.248384 -1.469891\n",
      "1  0.540045  1.232635\n",
      "2 -0.564560  0.252825\n",
      "3  0.316136 -0.528789\n",
      "4 -0.680130 -0.401939\n",
      "\n",
      "      Col_3     Col_4\n",
      "0 -0.106692 -0.456279\n",
      "1  0.329974  0.279194\n",
      "2 -0.288887  1.436253\n",
      "3  0.097060  0.837448\n",
      "4  1.001060  0.496942\n",
      "\n",
      "       Col_1     Col_2     Col_3     Col_4\n",
      "0   0.248384 -1.469891 -0.106692 -0.456279\n",
      "1   0.540045  1.232635  0.329974  0.279194\n",
      "2  -0.564560  0.252825 -0.288887  1.436253\n",
      "3   0.316136 -0.528789  0.097060  0.837448\n",
      "4  -0.680130 -0.401939  1.001060  0.496942\n",
      "..       ...       ...       ...       ...\n",
      "95  1.138090  1.540096 -0.652882  0.841344\n",
      "96 -1.801081  1.029975  0.509095 -0.503295\n",
      "97 -0.172826 -1.329791 -2.439784 -0.758918\n",
      "98 -0.815126  1.157758  1.551319  0.300145\n",
      "99 -1.878599 -0.406990  0.450245  1.996175\n",
      "\n",
      "[100 rows x 4 columns]\n"
     ]
    }
   ],
   "source": [
    "# Concatenar dataframes.\n",
    "\n",
    "# Creamos un dataframe aleatorio.\n",
    "df_1 = pd.DataFrame(np.random.randn(100,2), columns = [\"Col_1\", \"Col_2\"])\n",
    "df_2 = pd.DataFrame(np.random.randn(100,2), columns = [\"Col_3\", \"Col_4\"])\n",
    "\n",
    "print(df_1.head())\n",
    "print()\n",
    "print(df_2.head())\n",
    "print()\n",
    "\n",
    "# Concatenamos.\n",
    "df = pd.concat([df_1, df_2], axis = 1)\n",
    "\n",
    "print(df)"
   ]
  },
  {
   "cell_type": "code",
   "execution_count": 96,
   "metadata": {},
   "outputs": [],
   "source": [
    "# Cargar el archivo Electrico_residencial_2010_2017\n",
    "# Selecciona las entradas correspondientes a Baja California.\n",
    "# Ordena los datos de menor a mayor consumo en 2010.\n",
    "# Selecciona los municipios con una cantidad de usiarios en 2012 menor a 100\n",
    "# Encuentra el municipio con mayor consumo en tarifa DAC.\n",
    "# Selecciona solo la tarifa DAC.\n",
    "# Encuentra la correlación entre el consumo de 2012 y 2013"
   ]
  }
 ],
 "metadata": {
  "kernelspec": {
   "display_name": "gv",
   "language": "python",
   "name": "python3"
  },
  "language_info": {
   "codemirror_mode": {
    "name": "ipython",
    "version": 3
   },
   "file_extension": ".py",
   "mimetype": "text/x-python",
   "name": "python",
   "nbconvert_exporter": "python",
   "pygments_lexer": "ipython3",
   "version": "3.9.9"
  },
  "orig_nbformat": 4,
  "vscode": {
   "interpreter": {
    "hash": "cce8d45697d85db6636183b0f945e1ffea3934773870cd67d93bb4bbe05deaec"
   }
  }
 },
 "nbformat": 4,
 "nbformat_minor": 2
}
