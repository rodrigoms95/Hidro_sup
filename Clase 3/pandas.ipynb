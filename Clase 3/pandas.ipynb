{
 "cells": [
  {
   "cell_type": "code",
   "execution_count": 76,
   "metadata": {},
   "outputs": [
    {
     "name": "stdout",
     "output_type": "stream",
     "text": [
      "Requirement already satisfied: pandas in /opt/homebrew/Caskroom/miniforge/base/envs/gv/lib/python3.9/site-packages (1.3.5)\n",
      "Requirement already satisfied: python-dateutil>=2.7.3 in /opt/homebrew/Caskroom/miniforge/base/envs/gv/lib/python3.9/site-packages (from pandas) (2.8.2)\n",
      "Requirement already satisfied: pytz>=2017.3 in /opt/homebrew/Caskroom/miniforge/base/envs/gv/lib/python3.9/site-packages (from pandas) (2021.3)\n",
      "Requirement already satisfied: numpy>=1.20.0 in /opt/homebrew/Caskroom/miniforge/base/envs/gv/lib/python3.9/site-packages (from pandas) (1.21.5)\n",
      "Requirement already satisfied: six>=1.5 in /opt/homebrew/Caskroom/miniforge/base/envs/gv/lib/python3.9/site-packages (from python-dateutil>=2.7.3->pandas) (1.16.0)\n"
     ]
    }
   ],
   "source": [
    "!pip install pandas"
   ]
  },
  {
   "cell_type": "code",
   "execution_count": 77,
   "metadata": {},
   "outputs": [],
   "source": [
    "# Pandas es el Excel de python.\n",
    "# Obtenido de: https://pandas.pydata.org/docs/user_guide/10min.html\n",
    "\n",
    "import pandas as pd\n",
    "import numpy as np"
   ]
  },
  {
   "cell_type": "code",
   "execution_count": 78,
   "metadata": {},
   "outputs": [
    {
     "name": "stdout",
     "output_type": "stream",
     "text": [
      "0    1.0\n",
      "1    3.0\n",
      "2    5.0\n",
      "3    NaN\n",
      "4    6.0\n",
      "5    8.0\n",
      "dtype: float64\n"
     ]
    }
   ],
   "source": [
    "# Una columna en pandas se llama una serie\n",
    "# np.nan es un valor faltante\n",
    "# Cada elemento tiene un índice.\n",
    "\n",
    "s = pd.Series([1, 3, 5, np.nan, 6, 8])\n",
    "print(s)"
   ]
  },
  {
   "cell_type": "code",
   "execution_count": 79,
   "metadata": {},
   "outputs": [
    {
     "name": "stdout",
     "output_type": "stream",
     "text": [
      "DatetimeIndex(['2013-01-01', '2013-01-02', '2013-01-03', '2013-01-04',\n",
      "               '2013-01-05', '2013-01-06'],\n",
      "              dtype='datetime64[ns]', freq='D')\n"
     ]
    }
   ],
   "source": [
    "# El índice puede ser una fecha\n",
    "\n",
    "fechas = pd.date_range(\"20130101\", periods = 6, freq = \"D\")\n",
    "\n",
    "print(fechas)"
   ]
  },
  {
   "cell_type": "code",
   "execution_count": 80,
   "metadata": {},
   "outputs": [
    {
     "name": "stdout",
     "output_type": "stream",
     "text": [
      "2013-01-01    1.0\n",
      "2013-01-02    3.0\n",
      "2013-01-03    5.0\n",
      "2013-01-04    NaN\n",
      "2013-01-05    6.0\n",
      "2013-01-06    8.0\n",
      "Freq: D, Name: datos, dtype: float64\n"
     ]
    }
   ],
   "source": [
    "s = pd.Series([1, 3, 5, np.nan, 6, 8], index = fechas, name = \"datos\")\n",
    "\n",
    "print(s)"
   ]
  },
  {
   "cell_type": "code",
   "execution_count": 81,
   "metadata": {},
   "outputs": [
    {
     "name": "stdout",
     "output_type": "stream",
     "text": [
      "                   A         B         C         D\n",
      "2013-01-01  0.405006  0.748404  0.244871 -1.181110\n",
      "2013-01-02 -1.817821 -0.288873 -0.719807  0.170888\n",
      "2013-01-03  1.075171 -0.969841 -0.120263  1.199907\n",
      "2013-01-04  0.393199 -0.174549 -0.809589  1.432332\n",
      "2013-01-05  0.210182  0.855749 -0.382265  0.634273\n",
      "2013-01-06 -1.629181  0.510364  1.159254  0.563412\n"
     ]
    }
   ],
   "source": [
    "# Un dataframe es un conjunto de columnas.\n",
    "\n",
    "# creado a partir de arreglos de numpy.\n",
    "df = pd.DataFrame( np.random.randn(6, 4), index = fechas,\n",
    "    columns = [\"A\", \"B\", \"C\", \"D\"] )\n",
    "\n",
    "print(df)"
   ]
  },
  {
   "cell_type": "code",
   "execution_count": 82,
   "metadata": {},
   "outputs": [
    {
     "name": "stdout",
     "output_type": "stream",
     "text": [
      "                   A         B         C         D\n",
      "2013-01-01  0.405006  0.748404  0.244871 -1.181110\n",
      "2013-01-02 -1.817821 -0.288873 -0.719807  0.170888\n",
      "2013-01-03  1.075171 -0.969841 -0.120263  1.199907\n",
      "2013-01-04  0.393199 -0.174549 -0.809589  1.432332\n",
      "2013-01-05  0.210182  0.855749 -0.382265  0.634273\n",
      "\n",
      "                   A         B         C         D\n",
      "2013-01-02 -1.817821 -0.288873 -0.719807  0.170888\n",
      "2013-01-03  1.075171 -0.969841 -0.120263  1.199907\n",
      "2013-01-04  0.393199 -0.174549 -0.809589  1.432332\n",
      "2013-01-05  0.210182  0.855749 -0.382265  0.634273\n",
      "2013-01-06 -1.629181  0.510364  1.159254  0.563412\n"
     ]
    }
   ],
   "source": [
    "# head() y tail() muestran la parte \n",
    "# superior e inferior del Dataframe.\n",
    "\n",
    "print(df.head())\n",
    "print()\n",
    "print(df.tail())"
   ]
  },
  {
   "cell_type": "code",
   "execution_count": 83,
   "metadata": {},
   "outputs": [
    {
     "name": "stdout",
     "output_type": "stream",
     "text": [
      "DatetimeIndex(['2013-01-01', '2013-01-02', '2013-01-03', '2013-01-04',\n",
      "               '2013-01-05', '2013-01-06'],\n",
      "              dtype='datetime64[ns]', freq='D')\n",
      "\n",
      "Index(['A', 'B', 'C', 'D'], dtype='object')\n"
     ]
    }
   ],
   "source": [
    "# Podemos acceder al índice y las columnas.\n",
    "\n",
    "print(df.index)\n",
    "print()\n",
    "print(df.columns)"
   ]
  },
  {
   "cell_type": "code",
   "execution_count": 84,
   "metadata": {},
   "outputs": [
    {
     "name": "stdout",
     "output_type": "stream",
     "text": [
      "   2013-01-01  2013-01-02  2013-01-03  2013-01-04  2013-01-05  2013-01-06\n",
      "A    0.405006   -1.817821    1.075171    0.393199    0.210182   -1.629181\n",
      "B    0.748404   -0.288873   -0.969841   -0.174549    0.855749    0.510364\n",
      "C    0.244871   -0.719807   -0.120263   -0.809589   -0.382265    1.159254\n",
      "D   -1.181110    0.170888    1.199907    1.432332    0.634273    0.563412\n"
     ]
    }
   ],
   "source": [
    "# Trasponer.\n",
    "\n",
    "print(df.T)"
   ]
  },
  {
   "cell_type": "code",
   "execution_count": 85,
   "metadata": {},
   "outputs": [
    {
     "name": "stdout",
     "output_type": "stream",
     "text": [
      "[[ 0.40500581  0.748404    0.24487114 -1.18111028]\n",
      " [-1.81782124 -0.28887308 -0.71980652  0.17088785]\n",
      " [ 1.0751714  -0.9698415  -0.12026286  1.19990699]\n",
      " [ 0.39319856 -0.17454856 -0.80958924  1.43233223]\n",
      " [ 0.21018161  0.85574876 -0.38226455  0.63427349]\n",
      " [-1.62918135  0.51036378  1.15925417  0.56341246]]\n"
     ]
    }
   ],
   "source": [
    "# Convertir a un arreglo de numpy.\n",
    "\n",
    "print( df.to_numpy() )"
   ]
  },
  {
   "cell_type": "code",
   "execution_count": 86,
   "metadata": {},
   "outputs": [
    {
     "name": "stdout",
     "output_type": "stream",
     "text": [
      "              A         B         C         D\n",
      "count  6.000000  6.000000  6.000000  6.000000\n",
      "mean  -0.227241  0.113542 -0.104633  0.469950\n",
      "std    1.197304  0.711343  0.731066  0.928460\n",
      "min   -1.817821 -0.969841 -0.809589 -1.181110\n",
      "25%   -1.169341 -0.260292 -0.635421  0.269019\n",
      "50%    0.301690  0.167908 -0.251264  0.598843\n",
      "75%    0.402054  0.688894  0.153588  1.058499\n",
      "max    1.075171  0.855749  1.159254  1.432332\n"
     ]
    }
   ],
   "source": [
    "# Estadística descriptiva.\n",
    "\n",
    "print( df.describe() )"
   ]
  },
  {
   "cell_type": "code",
   "execution_count": 87,
   "metadata": {},
   "outputs": [
    {
     "name": "stdout",
     "output_type": "stream",
     "text": [
      "                   A         B         C         D\n",
      "2013-01-06 -1.629181  0.510364  1.159254  0.563412\n",
      "2013-01-05  0.210182  0.855749 -0.382265  0.634273\n",
      "2013-01-04  0.393199 -0.174549 -0.809589  1.432332\n",
      "2013-01-03  1.075171 -0.969841 -0.120263  1.199907\n",
      "2013-01-02 -1.817821 -0.288873 -0.719807  0.170888\n",
      "2013-01-01  0.405006  0.748404  0.244871 -1.181110\n"
     ]
    }
   ],
   "source": [
    "# Ordenar datos.\n",
    "\n",
    "# Por índice.\n",
    "\n",
    "print( df.sort_index(ascending = False) )"
   ]
  },
  {
   "cell_type": "code",
   "execution_count": 88,
   "metadata": {},
   "outputs": [
    {
     "name": "stdout",
     "output_type": "stream",
     "text": [
      "                   A         B         C         D\n",
      "2013-01-03  1.075171 -0.969841 -0.120263  1.199907\n",
      "2013-01-02 -1.817821 -0.288873 -0.719807  0.170888\n",
      "2013-01-04  0.393199 -0.174549 -0.809589  1.432332\n",
      "2013-01-06 -1.629181  0.510364  1.159254  0.563412\n",
      "2013-01-01  0.405006  0.748404  0.244871 -1.181110\n",
      "2013-01-05  0.210182  0.855749 -0.382265  0.634273\n"
     ]
    }
   ],
   "source": [
    "# Por columna.\n",
    "print( df.sort_values(by = \"B\") )"
   ]
  },
  {
   "cell_type": "code",
   "execution_count": 89,
   "metadata": {},
   "outputs": [
    {
     "name": "stdout",
     "output_type": "stream",
     "text": [
      "2013-01-01    0.405006\n",
      "2013-01-02   -1.817821\n",
      "2013-01-03    1.075171\n",
      "2013-01-04    0.393199\n",
      "2013-01-05    0.210182\n",
      "2013-01-06   -1.629181\n",
      "Freq: D, Name: A, dtype: float64\n"
     ]
    }
   ],
   "source": [
    "# Escoger una columna.\n",
    "\n",
    "print( df[\"A\"] )"
   ]
  },
  {
   "cell_type": "code",
   "execution_count": 90,
   "metadata": {},
   "outputs": [
    {
     "name": "stdout",
     "output_type": "stream",
     "text": [
      "2013-01-01 00:00:00\n",
      "A    0.405006\n",
      "B    0.748404\n",
      "C    0.244871\n",
      "D   -1.181110\n",
      "Name: 2013-01-01 00:00:00, dtype: float64\n"
     ]
    }
   ],
   "source": [
    "# Escoger una fila.\n",
    "\n",
    "print(df.index[0])\n",
    "print( df.loc[df.index[0]] )"
   ]
  },
  {
   "cell_type": "code",
   "execution_count": 91,
   "metadata": {},
   "outputs": [
    {
     "name": "stdout",
     "output_type": "stream",
     "text": [
      "A    0.405006\n",
      "B    0.748404\n",
      "C    0.244871\n",
      "D   -1.181110\n",
      "Name: 2013-01-01 00:00:00, dtype: float64\n"
     ]
    }
   ],
   "source": [
    "# Escoger por número de fila.\n",
    "\n",
    "print( df.iloc[0] )"
   ]
  },
  {
   "cell_type": "code",
   "execution_count": 92,
   "metadata": {},
   "outputs": [
    {
     "name": "stdout",
     "output_type": "stream",
     "text": [
      "-0.9698414969728085\n"
     ]
    }
   ],
   "source": [
    "# Escoger por fila y columna.\n",
    "\n",
    "print( df.loc[df.index[2], \"B\"] )"
   ]
  },
  {
   "cell_type": "code",
   "execution_count": 93,
   "metadata": {},
   "outputs": [
    {
     "name": "stdout",
     "output_type": "stream",
     "text": [
      "-0.9698414969728085\n"
     ]
    }
   ],
   "source": [
    "# Escoger por número de fila y columna.\n",
    "\n",
    "print( df.iloc[2, 1] )"
   ]
  },
  {
   "cell_type": "code",
   "execution_count": 94,
   "metadata": {},
   "outputs": [
    {
     "name": "stdout",
     "output_type": "stream",
     "text": [
      "                   B         C\n",
      "2013-01-03 -0.969841 -0.120263\n",
      "2013-01-04 -0.174549 -0.809589\n"
     ]
    }
   ],
   "source": [
    "# Escoger una subsección del dataframe.\n",
    "\n",
    "df_2 = df.iloc[2:4, 1:3]\n",
    "print( df_2 )"
   ]
  },
  {
   "cell_type": "code",
   "execution_count": 95,
   "metadata": {},
   "outputs": [
    {
     "name": "stdout",
     "output_type": "stream",
     "text": [
      "                   A         B         C         D\n",
      "2013-01-03  1.075171 -0.969841 -0.120263  1.199907\n",
      "2013-01-04  0.393199 -0.174549 -0.809589  1.432332\n"
     ]
    }
   ],
   "source": [
    "df_2 = df.iloc[2:4, :]\n",
    "print( df_2 )\n",
    "\n",
    "# Las copias y vistas funcionan igual que en numpy!!"
   ]
  },
  {
   "cell_type": "code",
   "execution_count": 96,
   "metadata": {},
   "outputs": [
    {
     "name": "stdout",
     "output_type": "stream",
     "text": [
      "                   A         B         C         D\n",
      "2013-01-01  0.405006  0.748404  0.244871 -1.181110\n",
      "2013-01-03  1.075171 -0.969841 -0.120263  1.199907\n",
      "2013-01-04  0.393199 -0.174549 -0.809589  1.432332\n",
      "2013-01-05  0.210182  0.855749 -0.382265  0.634273\n"
     ]
    }
   ],
   "source": [
    "# Búsqueda por condiciones.\n",
    "\n",
    "# En una columna.\n",
    "print( df[df[\"A\"] > 0] )"
   ]
  },
  {
   "cell_type": "code",
   "execution_count": 97,
   "metadata": {},
   "outputs": [
    {
     "name": "stdout",
     "output_type": "stream",
     "text": [
      "                   A         B         C         D\n",
      "2013-01-01  0.405006  0.748404  0.244871       NaN\n",
      "2013-01-02       NaN       NaN       NaN  0.170888\n",
      "2013-01-03  1.075171       NaN       NaN  1.199907\n",
      "2013-01-04  0.393199       NaN       NaN  1.432332\n",
      "2013-01-05  0.210182  0.855749       NaN  0.634273\n",
      "2013-01-06       NaN  0.510364  1.159254  0.563412\n"
     ]
    }
   ],
   "source": [
    "# En todo el dataframe.\n",
    "\n",
    "print( df[df>0] )"
   ]
  },
  {
   "cell_type": "code",
   "execution_count": 98,
   "metadata": {},
   "outputs": [
    {
     "name": "stdout",
     "output_type": "stream",
     "text": [
      "                   A         B         C         D       E\n",
      "2013-01-01  0.405006  0.748404  0.244871 -1.181110     uno\n",
      "2013-01-02 -1.817821 -0.288873 -0.719807  0.170888     uno\n",
      "2013-01-03  1.075171 -0.969841 -0.120263  1.199907     dos\n",
      "2013-01-04  0.393199 -0.174549 -0.809589  1.432332    tres\n",
      "2013-01-05  0.210182  0.855749 -0.382265  0.634273  cuatro\n",
      "2013-01-06 -1.629181  0.510364  1.159254  0.563412    tres\n"
     ]
    }
   ],
   "source": [
    "# Agregar columnas.\n",
    "# Todos los elementos de una columna son del mismo tipo.\n",
    "# Las columnas pueden tener distintos tipos.\n",
    "\n",
    "df[\"E\"] = [\"uno\", \"uno\", \"dos\", \"tres\", \"cuatro\", \"tres\"]\n",
    "\n",
    "print(df)"
   ]
  },
  {
   "cell_type": "code",
   "execution_count": 99,
   "metadata": {},
   "outputs": [
    {
     "data": {
      "text/html": [
       "<div>\n",
       "<style scoped>\n",
       "    .dataframe tbody tr th:only-of-type {\n",
       "        vertical-align: middle;\n",
       "    }\n",
       "\n",
       "    .dataframe tbody tr th {\n",
       "        vertical-align: top;\n",
       "    }\n",
       "\n",
       "    .dataframe thead th {\n",
       "        text-align: right;\n",
       "    }\n",
       "</style>\n",
       "<table border=\"1\" class=\"dataframe\">\n",
       "  <thead>\n",
       "    <tr style=\"text-align: right;\">\n",
       "      <th></th>\n",
       "      <th>A</th>\n",
       "      <th>B</th>\n",
       "      <th>C</th>\n",
       "      <th>D</th>\n",
       "      <th>E</th>\n",
       "    </tr>\n",
       "  </thead>\n",
       "  <tbody>\n",
       "    <tr>\n",
       "      <th>2013-01-01</th>\n",
       "      <td>0.405006</td>\n",
       "      <td>0.748404</td>\n",
       "      <td>0.244871</td>\n",
       "      <td>-1.181110</td>\n",
       "      <td>uno</td>\n",
       "    </tr>\n",
       "    <tr>\n",
       "      <th>2013-01-02</th>\n",
       "      <td>-1.817821</td>\n",
       "      <td>-0.288873</td>\n",
       "      <td>-0.719807</td>\n",
       "      <td>0.170888</td>\n",
       "      <td>uno</td>\n",
       "    </tr>\n",
       "  </tbody>\n",
       "</table>\n",
       "</div>"
      ],
      "text/plain": [
       "                   A         B         C         D    E\n",
       "2013-01-01  0.405006  0.748404  0.244871 -1.181110  uno\n",
       "2013-01-02 -1.817821 -0.288873 -0.719807  0.170888  uno"
      ]
     },
     "execution_count": 99,
     "metadata": {},
     "output_type": "execute_result"
    }
   ],
   "source": [
    "# Buscar un valor específico dentro de una columna.\n",
    "\n",
    "df[ df[\"E\"] == \"uno\" ]"
   ]
  },
  {
   "cell_type": "code",
   "execution_count": 100,
   "metadata": {},
   "outputs": [
    {
     "name": "stdout",
     "output_type": "stream",
     "text": [
      "                   A         B         C         D       E    F\n",
      "2013-01-01  0.405006  0.748404  0.244871 -1.181110     uno  1.0\n",
      "2013-01-02 -1.817821 -0.288873 -0.719807  0.170888     uno  1.8\n",
      "2013-01-03  1.075171 -0.969841 -0.120263  1.199907     dos  2.6\n",
      "2013-01-04  0.393199 -0.174549 -0.809589  1.432332    tres  3.4\n",
      "2013-01-05  0.210182  0.855749 -0.382265  0.634273  cuatro  4.2\n"
     ]
    }
   ],
   "source": [
    "# Nueva columna con arreglos.\n",
    "\n",
    "df[\"F\"] = np.linspace(1, 5, 6)\n",
    "print(df.head())"
   ]
  },
  {
   "cell_type": "code",
   "execution_count": 101,
   "metadata": {},
   "outputs": [
    {
     "name": "stdout",
     "output_type": "stream",
     "text": [
      "                   A         B         C         D       E    F\n",
      "2013-01-03  1.075171 -0.969841 -0.120263  1.199907     dos  2.6\n",
      "2013-01-05  0.210182  0.855749 -0.382265  0.634273  cuatro  4.2\n"
     ]
    }
   ],
   "source": [
    "# Buscar valores específicos con isin()\n",
    "\n",
    "print( df[ df[\"E\"].isin( [\"dos\", \"cuatro\"] ) ] )"
   ]
  },
  {
   "cell_type": "code",
   "execution_count": 102,
   "metadata": {},
   "outputs": [
    {
     "data": {
      "text/html": [
       "<div>\n",
       "<style scoped>\n",
       "    .dataframe tbody tr th:only-of-type {\n",
       "        vertical-align: middle;\n",
       "    }\n",
       "\n",
       "    .dataframe tbody tr th {\n",
       "        vertical-align: top;\n",
       "    }\n",
       "\n",
       "    .dataframe thead th {\n",
       "        text-align: right;\n",
       "    }\n",
       "</style>\n",
       "<table border=\"1\" class=\"dataframe\">\n",
       "  <thead>\n",
       "    <tr style=\"text-align: right;\">\n",
       "      <th></th>\n",
       "      <th>A</th>\n",
       "      <th>B</th>\n",
       "      <th>C</th>\n",
       "      <th>D</th>\n",
       "      <th>E</th>\n",
       "      <th>F</th>\n",
       "    </tr>\n",
       "  </thead>\n",
       "  <tbody>\n",
       "    <tr>\n",
       "      <th>2013-01-01</th>\n",
       "      <td>0.405006</td>\n",
       "      <td>0.748404</td>\n",
       "      <td>0.244871</td>\n",
       "      <td>-1.181110</td>\n",
       "      <td>uno</td>\n",
       "      <td>1.0</td>\n",
       "    </tr>\n",
       "    <tr>\n",
       "      <th>2013-01-06</th>\n",
       "      <td>-1.629181</td>\n",
       "      <td>0.510364</td>\n",
       "      <td>1.159254</td>\n",
       "      <td>0.563412</td>\n",
       "      <td>tres</td>\n",
       "      <td>5.0</td>\n",
       "    </tr>\n",
       "  </tbody>\n",
       "</table>\n",
       "</div>"
      ],
      "text/plain": [
       "                   A         B         C         D     E    F\n",
       "2013-01-01  0.405006  0.748404  0.244871 -1.181110   uno  1.0\n",
       "2013-01-06 -1.629181  0.510364  1.159254  0.563412  tres  5.0"
      ]
     },
     "execution_count": 102,
     "metadata": {},
     "output_type": "execute_result"
    }
   ],
   "source": [
    "df[ df[\"F\"].isin( [1, 5] ) ]"
   ]
  },
  {
   "cell_type": "code",
   "execution_count": 103,
   "metadata": {},
   "outputs": [
    {
     "name": "stdout",
     "output_type": "stream",
     "text": [
      "                   A          B         C         D       E    F\n",
      "2013-01-01  0.405006  10.000000  0.244871 -1.181110     uno  1.0\n",
      "2013-01-02 -1.817821  -0.288873 -0.719807  0.170888     uno  1.8\n",
      "2013-01-03  1.075171  -0.969841 -0.120263  1.199907     dos  2.6\n",
      "2013-01-04  0.393199  -0.174549 -0.809589  1.432332    tres  3.4\n",
      "2013-01-05  0.210182   0.855749 -0.382265  0.634273  cuatro  4.2\n",
      "2013-01-06 -1.629181   0.510364  1.159254  0.563412    tres  5.0\n"
     ]
    }
   ],
   "source": [
    "# Podemos cambiar un valor específico.\n",
    "\n",
    "df.iloc[0, 1] = 10\n",
    "print(df)"
   ]
  },
  {
   "cell_type": "code",
   "execution_count": 104,
   "metadata": {},
   "outputs": [
    {
     "name": "stdout",
     "output_type": "stream",
     "text": [
      "                   A          B         C         D    F\n",
      "2013-01-01  0.405006  10.000000  0.244871 -1.181110  1.0\n",
      "2013-01-02 -1.817821  -0.288873 -0.719807  0.170888  1.8\n",
      "2013-01-03  1.075171  -0.969841 -0.120263  1.199907  2.6\n",
      "2013-01-04  0.393199  -0.174549 -0.809589  1.432332  3.4\n",
      "2013-01-05  0.210182   0.855749 -0.382265  0.634273  4.2\n",
      "2013-01-06 -1.629181   0.510364  1.159254  0.563412  5.0\n"
     ]
    }
   ],
   "source": [
    "# Quitar columna.\n",
    "\n",
    "df = df.drop(\"E\", axis = 1)\n",
    "print(df)"
   ]
  },
  {
   "cell_type": "code",
   "execution_count": 105,
   "metadata": {},
   "outputs": [
    {
     "data": {
      "text/html": [
       "<div>\n",
       "<style scoped>\n",
       "    .dataframe tbody tr th:only-of-type {\n",
       "        vertical-align: middle;\n",
       "    }\n",
       "\n",
       "    .dataframe tbody tr th {\n",
       "        vertical-align: top;\n",
       "    }\n",
       "\n",
       "    .dataframe thead th {\n",
       "        text-align: right;\n",
       "    }\n",
       "</style>\n",
       "<table border=\"1\" class=\"dataframe\">\n",
       "  <thead>\n",
       "    <tr style=\"text-align: right;\">\n",
       "      <th></th>\n",
       "      <th>A</th>\n",
       "      <th>B</th>\n",
       "      <th>C</th>\n",
       "      <th>D</th>\n",
       "      <th>F</th>\n",
       "    </tr>\n",
       "  </thead>\n",
       "  <tbody>\n",
       "    <tr>\n",
       "      <th>2013-01-01</th>\n",
       "      <td>0.405006</td>\n",
       "      <td>10.000000</td>\n",
       "      <td>0.244871</td>\n",
       "      <td>-1.181110</td>\n",
       "      <td>1.0</td>\n",
       "    </tr>\n",
       "    <tr>\n",
       "      <th>2013-01-02</th>\n",
       "      <td>-1.817821</td>\n",
       "      <td>-0.288873</td>\n",
       "      <td>-0.719807</td>\n",
       "      <td>0.170888</td>\n",
       "      <td>1.8</td>\n",
       "    </tr>\n",
       "    <tr>\n",
       "      <th>2013-01-03</th>\n",
       "      <td>1.075171</td>\n",
       "      <td>-0.969841</td>\n",
       "      <td>-0.120263</td>\n",
       "      <td>1.199907</td>\n",
       "      <td>2.6</td>\n",
       "    </tr>\n",
       "    <tr>\n",
       "      <th>2013-01-05</th>\n",
       "      <td>0.210182</td>\n",
       "      <td>0.855749</td>\n",
       "      <td>-0.382265</td>\n",
       "      <td>0.634273</td>\n",
       "      <td>4.2</td>\n",
       "    </tr>\n",
       "    <tr>\n",
       "      <th>2013-01-06</th>\n",
       "      <td>-1.629181</td>\n",
       "      <td>0.510364</td>\n",
       "      <td>1.159254</td>\n",
       "      <td>0.563412</td>\n",
       "      <td>5.0</td>\n",
       "    </tr>\n",
       "  </tbody>\n",
       "</table>\n",
       "</div>"
      ],
      "text/plain": [
       "                   A          B         C         D    F\n",
       "2013-01-01  0.405006  10.000000  0.244871 -1.181110  1.0\n",
       "2013-01-02 -1.817821  -0.288873 -0.719807  0.170888  1.8\n",
       "2013-01-03  1.075171  -0.969841 -0.120263  1.199907  2.6\n",
       "2013-01-05  0.210182   0.855749 -0.382265  0.634273  4.2\n",
       "2013-01-06 -1.629181   0.510364  1.159254  0.563412  5.0"
      ]
     },
     "execution_count": 105,
     "metadata": {},
     "output_type": "execute_result"
    }
   ],
   "source": [
    "# Quitar filas\n",
    "df = df.drop(df.index[3], axis = 0)\n",
    "\n",
    "df"
   ]
  },
  {
   "cell_type": "code",
   "execution_count": 106,
   "metadata": {},
   "outputs": [
    {
     "name": "stdout",
     "output_type": "stream",
     "text": [
      "                   A          B         C         D    F\n",
      "2013-01-01  0.405006  10.000000  0.244871  0.000000  1.0\n",
      "2013-01-02  0.000000   0.000000  0.000000  0.170888  1.8\n",
      "2013-01-03  1.075171   0.000000  0.000000  1.199907  2.6\n",
      "2013-01-05  0.210182   0.855749  0.000000  0.634273  4.2\n",
      "2013-01-06  0.000000   0.510364  1.159254  0.563412  5.0\n"
     ]
    }
   ],
   "source": [
    "# Establecer valores con condicional.\n",
    "\n",
    "df[df<0] = 0\n",
    "print(df)"
   ]
  },
  {
   "cell_type": "code",
   "execution_count": 107,
   "metadata": {},
   "outputs": [
    {
     "name": "stdout",
     "output_type": "stream",
     "text": [
      "                   A         B         C         D    F\n",
      "2013-01-01  0.405006       NaN  0.244871  0.000000  1.0\n",
      "2013-01-02  0.000000  0.000000  0.000000  0.170888  1.8\n",
      "2013-01-03  1.075171  0.000000  0.000000  1.199907  NaN\n",
      "2013-01-05  0.210182  0.855749  0.000000  0.634273  NaN\n",
      "2013-01-06  0.000000  0.510364  1.159254  0.563412  NaN\n"
     ]
    }
   ],
   "source": [
    "# Agregamos algunos valores nulos.\n",
    "\n",
    "df[df>2] = np.nan\n",
    "print(df)"
   ]
  },
  {
   "cell_type": "code",
   "execution_count": 108,
   "metadata": {},
   "outputs": [
    {
     "name": "stdout",
     "output_type": "stream",
     "text": [
      "              A    B    C         D    F\n",
      "2013-01-02  0.0  0.0  0.0  0.170888  1.8\n",
      "\n",
      "                   A           B         C         D      F\n",
      "2013-01-01  0.405006 -100.000000  0.244871  0.000000    1.0\n",
      "2013-01-02  0.000000    0.000000  0.000000  0.170888    1.8\n",
      "2013-01-03  1.075171    0.000000  0.000000  1.199907 -100.0\n",
      "2013-01-05  0.210182    0.855749  0.000000  0.634273 -100.0\n",
      "2013-01-06  0.000000    0.510364  1.159254  0.563412 -100.0\n",
      "\n",
      "                A      B      C      D      F\n",
      "2013-01-01  False   True  False  False  False\n",
      "2013-01-02  False  False  False  False  False\n",
      "2013-01-03  False  False  False  False   True\n",
      "2013-01-05  False  False  False  False   True\n",
      "2013-01-06  False  False  False  False   True\n"
     ]
    }
   ],
   "source": [
    "# Quitar filas con valores nulos.\n",
    "print(df.dropna())\n",
    "print()\n",
    "\n",
    "# Rellenar valores nulos.\n",
    "print(df.fillna(-100))\n",
    "print()\n",
    "\n",
    "# Determinar valores nulos.\n",
    "print(df.isna())"
   ]
  },
  {
   "cell_type": "code",
   "execution_count": 109,
   "metadata": {},
   "outputs": [
    {
     "name": "stdout",
     "output_type": "stream",
     "text": [
      "                   A         B         C         D    F         G\n",
      "2013-01-01  0.405006       NaN  0.244871  0.000000  1.0  0.649877\n",
      "2013-01-02  0.000000  0.000000  0.000000  0.170888  1.8  0.000000\n",
      "2013-01-03  1.075171  0.000000  0.000000  1.199907  NaN  1.075171\n",
      "2013-01-05  0.210182  0.855749  0.000000  0.634273  NaN  0.210182\n",
      "2013-01-06  0.000000  0.510364  1.159254  0.563412  NaN  1.159254\n",
      "\n",
      "A    0.338072\n",
      "B    0.341528\n",
      "C    0.280825\n",
      "D    0.513696\n",
      "F    1.400000\n",
      "G    0.618897\n",
      "dtype: float64\n",
      "\n",
      "2013-01-01    0.459951\n",
      "2013-01-02    0.328481\n",
      "2013-01-03    0.670050\n",
      "2013-01-05    0.382077\n",
      "2013-01-06    0.678457\n",
      "dtype: float64\n"
     ]
    }
   ],
   "source": [
    "# operaciones.\n",
    "\n",
    "# Entre columnas.\n",
    "df[\"G\"] = df[\"A\"] + df[\"C\"]\n",
    "\n",
    "print(df)\n",
    "print()\n",
    "\n",
    "# promedio\n",
    "print(df.mean())\n",
    "print()\n",
    "print(df.mean(1))"
   ]
  },
  {
   "cell_type": "code",
   "execution_count": 110,
   "metadata": {},
   "outputs": [
    {
     "data": {
      "text/html": [
       "<div>\n",
       "<style scoped>\n",
       "    .dataframe tbody tr th:only-of-type {\n",
       "        vertical-align: middle;\n",
       "    }\n",
       "\n",
       "    .dataframe tbody tr th {\n",
       "        vertical-align: top;\n",
       "    }\n",
       "\n",
       "    .dataframe thead th {\n",
       "        text-align: right;\n",
       "    }\n",
       "</style>\n",
       "<table border=\"1\" class=\"dataframe\">\n",
       "  <thead>\n",
       "    <tr style=\"text-align: right;\">\n",
       "      <th></th>\n",
       "      <th>A</th>\n",
       "      <th>B</th>\n",
       "      <th>C</th>\n",
       "      <th>D</th>\n",
       "      <th>F</th>\n",
       "      <th>G</th>\n",
       "    </tr>\n",
       "  </thead>\n",
       "  <tbody>\n",
       "    <tr>\n",
       "      <th>2013-01-01</th>\n",
       "      <td>0.405006</td>\n",
       "      <td>NaN</td>\n",
       "      <td>0.244871</td>\n",
       "      <td>0.000000</td>\n",
       "      <td>1.0</td>\n",
       "      <td>0.649877</td>\n",
       "    </tr>\n",
       "    <tr>\n",
       "      <th>2013-01-02</th>\n",
       "      <td>0.405006</td>\n",
       "      <td>0.000000</td>\n",
       "      <td>0.244871</td>\n",
       "      <td>0.170888</td>\n",
       "      <td>2.8</td>\n",
       "      <td>0.649877</td>\n",
       "    </tr>\n",
       "    <tr>\n",
       "      <th>2013-01-03</th>\n",
       "      <td>1.480177</td>\n",
       "      <td>0.000000</td>\n",
       "      <td>0.244871</td>\n",
       "      <td>1.370795</td>\n",
       "      <td>NaN</td>\n",
       "      <td>1.725048</td>\n",
       "    </tr>\n",
       "    <tr>\n",
       "      <th>2013-01-05</th>\n",
       "      <td>1.690359</td>\n",
       "      <td>0.855749</td>\n",
       "      <td>0.244871</td>\n",
       "      <td>2.005068</td>\n",
       "      <td>NaN</td>\n",
       "      <td>1.935230</td>\n",
       "    </tr>\n",
       "    <tr>\n",
       "      <th>2013-01-06</th>\n",
       "      <td>1.690359</td>\n",
       "      <td>1.366113</td>\n",
       "      <td>1.404125</td>\n",
       "      <td>2.568481</td>\n",
       "      <td>NaN</td>\n",
       "      <td>3.094484</td>\n",
       "    </tr>\n",
       "  </tbody>\n",
       "</table>\n",
       "</div>"
      ],
      "text/plain": [
       "                   A         B         C         D    F         G\n",
       "2013-01-01  0.405006       NaN  0.244871  0.000000  1.0  0.649877\n",
       "2013-01-02  0.405006  0.000000  0.244871  0.170888  2.8  0.649877\n",
       "2013-01-03  1.480177  0.000000  0.244871  1.370795  NaN  1.725048\n",
       "2013-01-05  1.690359  0.855749  0.244871  2.005068  NaN  1.935230\n",
       "2013-01-06  1.690359  1.366113  1.404125  2.568481  NaN  3.094484"
      ]
     },
     "execution_count": 110,
     "metadata": {},
     "output_type": "execute_result"
    }
   ],
   "source": [
    "# Aplicar operación.\n",
    "# np.cumsum() hace una suma acumulada.\n",
    "df.apply(np.cumsum)"
   ]
  },
  {
   "cell_type": "code",
   "execution_count": 111,
   "metadata": {},
   "outputs": [
    {
     "name": "stderr",
     "output_type": "stream",
     "text": [
      "/opt/homebrew/Caskroom/miniforge/base/envs/gv/lib/python3.9/site-packages/pandas/core/arraylike.py:364: RuntimeWarning: divide by zero encountered in log\n",
      "  result = getattr(ufunc, method)(*inputs, **kwargs)\n"
     ]
    },
    {
     "data": {
      "text/html": [
       "<div>\n",
       "<style scoped>\n",
       "    .dataframe tbody tr th:only-of-type {\n",
       "        vertical-align: middle;\n",
       "    }\n",
       "\n",
       "    .dataframe tbody tr th {\n",
       "        vertical-align: top;\n",
       "    }\n",
       "\n",
       "    .dataframe thead th {\n",
       "        text-align: right;\n",
       "    }\n",
       "</style>\n",
       "<table border=\"1\" class=\"dataframe\">\n",
       "  <thead>\n",
       "    <tr style=\"text-align: right;\">\n",
       "      <th></th>\n",
       "      <th>A</th>\n",
       "      <th>B</th>\n",
       "      <th>C</th>\n",
       "      <th>D</th>\n",
       "      <th>F</th>\n",
       "      <th>G</th>\n",
       "      <th>H</th>\n",
       "    </tr>\n",
       "  </thead>\n",
       "  <tbody>\n",
       "    <tr>\n",
       "      <th>2013-01-01</th>\n",
       "      <td>0.405006</td>\n",
       "      <td>NaN</td>\n",
       "      <td>0.244871</td>\n",
       "      <td>0.000000</td>\n",
       "      <td>1.0</td>\n",
       "      <td>0.649877</td>\n",
       "      <td>-1.407023</td>\n",
       "    </tr>\n",
       "    <tr>\n",
       "      <th>2013-01-02</th>\n",
       "      <td>0.000000</td>\n",
       "      <td>0.000000</td>\n",
       "      <td>0.000000</td>\n",
       "      <td>0.170888</td>\n",
       "      <td>1.8</td>\n",
       "      <td>0.000000</td>\n",
       "      <td>-inf</td>\n",
       "    </tr>\n",
       "    <tr>\n",
       "      <th>2013-01-03</th>\n",
       "      <td>1.075171</td>\n",
       "      <td>0.000000</td>\n",
       "      <td>0.000000</td>\n",
       "      <td>1.199907</td>\n",
       "      <td>NaN</td>\n",
       "      <td>1.075171</td>\n",
       "      <td>-inf</td>\n",
       "    </tr>\n",
       "    <tr>\n",
       "      <th>2013-01-05</th>\n",
       "      <td>0.210182</td>\n",
       "      <td>0.855749</td>\n",
       "      <td>0.000000</td>\n",
       "      <td>0.634273</td>\n",
       "      <td>NaN</td>\n",
       "      <td>0.210182</td>\n",
       "      <td>-inf</td>\n",
       "    </tr>\n",
       "    <tr>\n",
       "      <th>2013-01-06</th>\n",
       "      <td>0.000000</td>\n",
       "      <td>0.510364</td>\n",
       "      <td>1.159254</td>\n",
       "      <td>0.563412</td>\n",
       "      <td>NaN</td>\n",
       "      <td>1.159254</td>\n",
       "      <td>0.147777</td>\n",
       "    </tr>\n",
       "  </tbody>\n",
       "</table>\n",
       "</div>"
      ],
      "text/plain": [
       "                   A         B         C         D    F         G         H\n",
       "2013-01-01  0.405006       NaN  0.244871  0.000000  1.0  0.649877 -1.407023\n",
       "2013-01-02  0.000000  0.000000  0.000000  0.170888  1.8  0.000000      -inf\n",
       "2013-01-03  1.075171  0.000000  0.000000  1.199907  NaN  1.075171      -inf\n",
       "2013-01-05  0.210182  0.855749  0.000000  0.634273  NaN  0.210182      -inf\n",
       "2013-01-06  0.000000  0.510364  1.159254  0.563412  NaN  1.159254  0.147777"
      ]
     },
     "execution_count": 111,
     "metadata": {},
     "output_type": "execute_result"
    }
   ],
   "source": [
    "# Logaritmo a cada elemento.\n",
    "df[\"H\"] = np.log( df[\"C\"] )\n",
    "\n",
    "df"
   ]
  },
  {
   "cell_type": "code",
   "execution_count": 112,
   "metadata": {},
   "outputs": [
    {
     "data": {
      "text/html": [
       "<div>\n",
       "<style scoped>\n",
       "    .dataframe tbody tr th:only-of-type {\n",
       "        vertical-align: middle;\n",
       "    }\n",
       "\n",
       "    .dataframe tbody tr th {\n",
       "        vertical-align: top;\n",
       "    }\n",
       "\n",
       "    .dataframe thead th {\n",
       "        text-align: right;\n",
       "    }\n",
       "</style>\n",
       "<table border=\"1\" class=\"dataframe\">\n",
       "  <thead>\n",
       "    <tr style=\"text-align: right;\">\n",
       "      <th></th>\n",
       "      <th>A</th>\n",
       "      <th>B</th>\n",
       "      <th>C</th>\n",
       "      <th>D</th>\n",
       "      <th>F</th>\n",
       "      <th>G</th>\n",
       "      <th>H</th>\n",
       "      <th>I</th>\n",
       "    </tr>\n",
       "  </thead>\n",
       "  <tbody>\n",
       "    <tr>\n",
       "      <th>2013-01-01</th>\n",
       "      <td>0.405006</td>\n",
       "      <td>NaN</td>\n",
       "      <td>0.244871</td>\n",
       "      <td>0.000000</td>\n",
       "      <td>1.0</td>\n",
       "      <td>0.649877</td>\n",
       "      <td>-1.407023</td>\n",
       "      <td>NaN</td>\n",
       "    </tr>\n",
       "    <tr>\n",
       "      <th>2013-01-02</th>\n",
       "      <td>0.000000</td>\n",
       "      <td>0.000000</td>\n",
       "      <td>0.000000</td>\n",
       "      <td>0.170888</td>\n",
       "      <td>1.8</td>\n",
       "      <td>0.000000</td>\n",
       "      <td>-inf</td>\n",
       "      <td>NaN</td>\n",
       "    </tr>\n",
       "    <tr>\n",
       "      <th>2013-01-03</th>\n",
       "      <td>1.075171</td>\n",
       "      <td>0.000000</td>\n",
       "      <td>0.000000</td>\n",
       "      <td>1.199907</td>\n",
       "      <td>NaN</td>\n",
       "      <td>1.075171</td>\n",
       "      <td>-inf</td>\n",
       "      <td>0.244871</td>\n",
       "    </tr>\n",
       "    <tr>\n",
       "      <th>2013-01-05</th>\n",
       "      <td>0.210182</td>\n",
       "      <td>0.855749</td>\n",
       "      <td>0.000000</td>\n",
       "      <td>0.634273</td>\n",
       "      <td>NaN</td>\n",
       "      <td>0.210182</td>\n",
       "      <td>-inf</td>\n",
       "      <td>0.000000</td>\n",
       "    </tr>\n",
       "    <tr>\n",
       "      <th>2013-01-06</th>\n",
       "      <td>0.000000</td>\n",
       "      <td>0.510364</td>\n",
       "      <td>1.159254</td>\n",
       "      <td>0.563412</td>\n",
       "      <td>NaN</td>\n",
       "      <td>1.159254</td>\n",
       "      <td>0.147777</td>\n",
       "      <td>0.000000</td>\n",
       "    </tr>\n",
       "  </tbody>\n",
       "</table>\n",
       "</div>"
      ],
      "text/plain": [
       "                   A         B         C         D    F         G         H  \\\n",
       "2013-01-01  0.405006       NaN  0.244871  0.000000  1.0  0.649877 -1.407023   \n",
       "2013-01-02  0.000000  0.000000  0.000000  0.170888  1.8  0.000000      -inf   \n",
       "2013-01-03  1.075171  0.000000  0.000000  1.199907  NaN  1.075171      -inf   \n",
       "2013-01-05  0.210182  0.855749  0.000000  0.634273  NaN  0.210182      -inf   \n",
       "2013-01-06  0.000000  0.510364  1.159254  0.563412  NaN  1.159254  0.147777   \n",
       "\n",
       "                   I  \n",
       "2013-01-01       NaN  \n",
       "2013-01-02       NaN  \n",
       "2013-01-03  0.244871  \n",
       "2013-01-05  0.000000  \n",
       "2013-01-06  0.000000  "
      ]
     },
     "execution_count": 112,
     "metadata": {},
     "output_type": "execute_result"
    }
   ],
   "source": [
    "# Recorrer una columna una cierta cantidad de filas.\n",
    "\n",
    "df[\"I\"] = df[\"C\"].shift(2)\n",
    "\n",
    "df"
   ]
  },
  {
   "cell_type": "code",
   "execution_count": 113,
   "metadata": {},
   "outputs": [],
   "source": [
    "# Leer y escribir archivos es muy fácil con el formato\n",
    "# csv, compatible con Excel.\n",
    "\n",
    "# Escribir.\n",
    "df.to_csv(\"Archivo1.csv\")"
   ]
  },
  {
   "cell_type": "code",
   "execution_count": 114,
   "metadata": {},
   "outputs": [
    {
     "data": {
      "text/html": [
       "<div>\n",
       "<style scoped>\n",
       "    .dataframe tbody tr th:only-of-type {\n",
       "        vertical-align: middle;\n",
       "    }\n",
       "\n",
       "    .dataframe tbody tr th {\n",
       "        vertical-align: top;\n",
       "    }\n",
       "\n",
       "    .dataframe thead th {\n",
       "        text-align: right;\n",
       "    }\n",
       "</style>\n",
       "<table border=\"1\" class=\"dataframe\">\n",
       "  <thead>\n",
       "    <tr style=\"text-align: right;\">\n",
       "      <th></th>\n",
       "      <th>A</th>\n",
       "      <th>B</th>\n",
       "      <th>C</th>\n",
       "      <th>D</th>\n",
       "      <th>F</th>\n",
       "      <th>G</th>\n",
       "      <th>H</th>\n",
       "      <th>I</th>\n",
       "    </tr>\n",
       "  </thead>\n",
       "  <tbody>\n",
       "    <tr>\n",
       "      <th>2013-01-01</th>\n",
       "      <td>0.405006</td>\n",
       "      <td>NaN</td>\n",
       "      <td>0.244871</td>\n",
       "      <td>0.000000</td>\n",
       "      <td>1.0</td>\n",
       "      <td>0.649877</td>\n",
       "      <td>-1.407023</td>\n",
       "      <td>NaN</td>\n",
       "    </tr>\n",
       "    <tr>\n",
       "      <th>2013-01-02</th>\n",
       "      <td>0.000000</td>\n",
       "      <td>0.000000</td>\n",
       "      <td>0.000000</td>\n",
       "      <td>0.170888</td>\n",
       "      <td>1.8</td>\n",
       "      <td>0.000000</td>\n",
       "      <td>-inf</td>\n",
       "      <td>NaN</td>\n",
       "    </tr>\n",
       "    <tr>\n",
       "      <th>2013-01-03</th>\n",
       "      <td>1.075171</td>\n",
       "      <td>0.000000</td>\n",
       "      <td>0.000000</td>\n",
       "      <td>1.199907</td>\n",
       "      <td>NaN</td>\n",
       "      <td>1.075171</td>\n",
       "      <td>-inf</td>\n",
       "      <td>0.244871</td>\n",
       "    </tr>\n",
       "    <tr>\n",
       "      <th>2013-01-05</th>\n",
       "      <td>0.210182</td>\n",
       "      <td>0.855749</td>\n",
       "      <td>0.000000</td>\n",
       "      <td>0.634273</td>\n",
       "      <td>NaN</td>\n",
       "      <td>0.210182</td>\n",
       "      <td>-inf</td>\n",
       "      <td>0.000000</td>\n",
       "    </tr>\n",
       "    <tr>\n",
       "      <th>2013-01-06</th>\n",
       "      <td>0.000000</td>\n",
       "      <td>0.510364</td>\n",
       "      <td>1.159254</td>\n",
       "      <td>0.563412</td>\n",
       "      <td>NaN</td>\n",
       "      <td>1.159254</td>\n",
       "      <td>0.147777</td>\n",
       "      <td>0.000000</td>\n",
       "    </tr>\n",
       "  </tbody>\n",
       "</table>\n",
       "</div>"
      ],
      "text/plain": [
       "                   A         B         C         D    F         G         H  \\\n",
       "2013-01-01  0.405006       NaN  0.244871  0.000000  1.0  0.649877 -1.407023   \n",
       "2013-01-02  0.000000  0.000000  0.000000  0.170888  1.8  0.000000      -inf   \n",
       "2013-01-03  1.075171  0.000000  0.000000  1.199907  NaN  1.075171      -inf   \n",
       "2013-01-05  0.210182  0.855749  0.000000  0.634273  NaN  0.210182      -inf   \n",
       "2013-01-06  0.000000  0.510364  1.159254  0.563412  NaN  1.159254  0.147777   \n",
       "\n",
       "                   I  \n",
       "2013-01-01       NaN  \n",
       "2013-01-02       NaN  \n",
       "2013-01-03  0.244871  \n",
       "2013-01-05  0.000000  \n",
       "2013-01-06  0.000000  "
      ]
     },
     "execution_count": 114,
     "metadata": {},
     "output_type": "execute_result"
    }
   ],
   "source": [
    "# Leer archivo.\n",
    "\n",
    "df_2 = pd.read_csv(\"Archivo1.csv\", index_col = 0)\n",
    "df_2"
   ]
  },
  {
   "cell_type": "code",
   "execution_count": 115,
   "metadata": {},
   "outputs": [
    {
     "name": "stdout",
     "output_type": "stream",
     "text": [
      "DatetimeIndex(['2013-01-01', '2013-01-02', '2013-01-03', '2013-01-05',\n",
      "               '2013-01-06'],\n",
      "              dtype='datetime64[ns]', freq=None)\n",
      "Index(['2013-01-01', '2013-01-02', '2013-01-03', '2013-01-05', '2013-01-06'], dtype='object')\n"
     ]
    }
   ],
   "source": [
    "# El índice de fechas no se carga con el formato correcto.\n",
    "print( df.index )\n",
    "print( df_2.index )"
   ]
  },
  {
   "cell_type": "code",
   "execution_count": 116,
   "metadata": {},
   "outputs": [
    {
     "data": {
      "text/plain": [
       "DatetimeIndex(['2013-01-01', '2013-01-02', '2013-01-03', '2013-01-05',\n",
       "               '2013-01-06'],\n",
       "              dtype='datetime64[ns]', freq=None)"
      ]
     },
     "execution_count": 116,
     "metadata": {},
     "output_type": "execute_result"
    }
   ],
   "source": [
    "# Cambiamos al formato correcto.\n",
    "df_2.index = pd.to_datetime( df_2.index )\n",
    "df_2.index"
   ]
  },
  {
   "cell_type": "code",
   "execution_count": 117,
   "metadata": {},
   "outputs": [
    {
     "name": "stdout",
     "output_type": "stream",
     "text": [
      "      Col_1     Col_2\n",
      "0  0.983965  0.050127\n",
      "1  0.906384  0.335550\n",
      "2  0.214511  0.155169\n",
      "3  0.813020  0.863430\n",
      "4  0.578360  0.781036\n",
      "\n",
      "        Col_1   Col_2\n",
      "Col_1  1.0000  0.0015\n",
      "Col_2  0.0015  1.0000\n",
      "\n",
      "          Col_1     Col_2\n",
      "Col_1  0.083342  0.000125\n",
      "Col_2  0.000125  0.083669\n",
      "\n",
      "0.00048464378817299474\n"
     ]
    }
   ],
   "source": [
    "# Correlación.\n",
    "\n",
    "# Creamos un dataframe aleatorio.\n",
    "df = pd.DataFrame( np.random.rand(100000, 2), columns = [\"Col_1\", \"Col_2\"] )\n",
    "\n",
    "print( df.head() )\n",
    "print()\n",
    "\n",
    "# Matriz de correlación\n",
    "print( df.corr() )\n",
    "print()\n",
    "\n",
    "# Matriz de covarianca\n",
    "print( df.cov() )\n",
    "print()\n",
    "\n",
    "# Autocorrelación.\n",
    "print( df[\"Col_1\"].autocorr(lag = 1) )"
   ]
  },
  {
   "cell_type": "code",
   "execution_count": 118,
   "metadata": {},
   "outputs": [],
   "source": [
    "# Cargar el archivo Electrico_residencial_2010_2017\n",
    "# Selecciona las entradas correspondientes a Baja California.\n",
    "# Ordena los datos de menor a mayor consumo en 2010.\n",
    "# Selecciona los municipios con una cantidad de usuarios en 2012 menor a 100\n",
    "# Encuentra el municipio con mayor consumo en tarifa DAC.\n",
    "# Selecciona solo la tarifa DAC para todos los municipios.\n",
    "# Encuentra la correlación entre el consumo de 2012 y 2013."
   ]
  },
  {
   "cell_type": "code",
   "execution_count": 119,
   "metadata": {},
   "outputs": [
    {
     "name": "stdout",
     "output_type": "stream",
     "text": [
      "                   A         B         C         D\n",
      "2013-01-01 -1.220750  0.246002  2.351986  1.061611\n",
      "2013-01-02  0.524894 -3.345036  0.417855 -2.891213\n",
      "2013-01-03  0.296039 -0.069509 -0.421897  0.075144\n",
      "2013-01-04  1.511488 -0.166646 -0.804257 -0.354594\n",
      "2013-01-05  0.493615 -0.981581 -0.937825  0.996464\n",
      "...              ...       ...       ...       ...\n",
      "2013-07-15 -0.441957 -0.810924 -0.812820 -0.117883\n",
      "2013-07-16 -1.188517 -1.154910 -1.866865  0.138533\n",
      "2013-07-17  0.224287 -1.151766  0.248978  1.057335\n",
      "2013-07-18 -0.058570 -1.791684  0.316113 -0.348543\n",
      "2013-07-19 -0.409744  0.106588  0.698179  0.482049\n",
      "\n",
      "[200 rows x 4 columns]\n"
     ]
    }
   ],
   "source": [
    "# Agrupar datos\n",
    "\n",
    "fechas = pd.date_range(\"20130101\", periods = 200, freq = \"D\")\n",
    "df = pd.DataFrame( np.random.randn(200, 4), index = fechas,\n",
    "    columns = [\"A\", \"B\", \"C\", \"D\"] )\n",
    "\n",
    "print(df)"
   ]
  },
  {
   "cell_type": "code",
   "execution_count": 120,
   "metadata": {},
   "outputs": [
    {
     "data": {
      "text/html": [
       "<div>\n",
       "<style scoped>\n",
       "    .dataframe tbody tr th:only-of-type {\n",
       "        vertical-align: middle;\n",
       "    }\n",
       "\n",
       "    .dataframe tbody tr th {\n",
       "        vertical-align: top;\n",
       "    }\n",
       "\n",
       "    .dataframe thead th {\n",
       "        text-align: right;\n",
       "    }\n",
       "</style>\n",
       "<table border=\"1\" class=\"dataframe\">\n",
       "  <thead>\n",
       "    <tr style=\"text-align: right;\">\n",
       "      <th></th>\n",
       "      <th>A</th>\n",
       "      <th>B</th>\n",
       "      <th>C</th>\n",
       "      <th>D</th>\n",
       "    </tr>\n",
       "  </thead>\n",
       "  <tbody>\n",
       "    <tr>\n",
       "      <th>1</th>\n",
       "      <td>4.998462</td>\n",
       "      <td>-2.073669</td>\n",
       "      <td>-1.709344</td>\n",
       "      <td>-7.113343</td>\n",
       "    </tr>\n",
       "    <tr>\n",
       "      <th>2</th>\n",
       "      <td>-2.516486</td>\n",
       "      <td>-0.914856</td>\n",
       "      <td>-1.780524</td>\n",
       "      <td>-7.906893</td>\n",
       "    </tr>\n",
       "    <tr>\n",
       "      <th>3</th>\n",
       "      <td>7.583140</td>\n",
       "      <td>-1.448229</td>\n",
       "      <td>0.813348</td>\n",
       "      <td>-9.781932</td>\n",
       "    </tr>\n",
       "    <tr>\n",
       "      <th>4</th>\n",
       "      <td>-7.997626</td>\n",
       "      <td>-6.518806</td>\n",
       "      <td>-6.417857</td>\n",
       "      <td>2.297530</td>\n",
       "    </tr>\n",
       "    <tr>\n",
       "      <th>5</th>\n",
       "      <td>3.622846</td>\n",
       "      <td>-5.678564</td>\n",
       "      <td>1.675448</td>\n",
       "      <td>7.171013</td>\n",
       "    </tr>\n",
       "    <tr>\n",
       "      <th>6</th>\n",
       "      <td>7.019563</td>\n",
       "      <td>-6.851240</td>\n",
       "      <td>3.149841</td>\n",
       "      <td>0.174455</td>\n",
       "    </tr>\n",
       "    <tr>\n",
       "      <th>7</th>\n",
       "      <td>0.895927</td>\n",
       "      <td>-8.541925</td>\n",
       "      <td>0.602251</td>\n",
       "      <td>5.768909</td>\n",
       "    </tr>\n",
       "  </tbody>\n",
       "</table>\n",
       "</div>"
      ],
      "text/plain": [
       "          A         B         C         D\n",
       "1  4.998462 -2.073669 -1.709344 -7.113343\n",
       "2 -2.516486 -0.914856 -1.780524 -7.906893\n",
       "3  7.583140 -1.448229  0.813348 -9.781932\n",
       "4 -7.997626 -6.518806 -6.417857  2.297530\n",
       "5  3.622846 -5.678564  1.675448  7.171013\n",
       "6  7.019563 -6.851240  3.149841  0.174455\n",
       "7  0.895927 -8.541925  0.602251  5.768909"
      ]
     },
     "execution_count": 120,
     "metadata": {},
     "output_type": "execute_result"
    }
   ],
   "source": [
    "# Agrupamos y realizamos una operación.\n",
    "df.groupby(df.index.month).sum()"
   ]
  },
  {
   "cell_type": "code",
   "execution_count": 121,
   "metadata": {},
   "outputs": [
    {
     "data": {
      "text/html": [
       "<div>\n",
       "<style scoped>\n",
       "    .dataframe tbody tr th:only-of-type {\n",
       "        vertical-align: middle;\n",
       "    }\n",
       "\n",
       "    .dataframe tbody tr th {\n",
       "        vertical-align: top;\n",
       "    }\n",
       "\n",
       "    .dataframe thead th {\n",
       "        text-align: right;\n",
       "    }\n",
       "</style>\n",
       "<table border=\"1\" class=\"dataframe\">\n",
       "  <thead>\n",
       "    <tr style=\"text-align: right;\">\n",
       "      <th></th>\n",
       "      <th>A</th>\n",
       "      <th>B</th>\n",
       "      <th>C</th>\n",
       "      <th>D</th>\n",
       "    </tr>\n",
       "  </thead>\n",
       "  <tbody>\n",
       "    <tr>\n",
       "      <th>1</th>\n",
       "      <td>-0.093427</td>\n",
       "      <td>-0.131032</td>\n",
       "      <td>0.063438</td>\n",
       "      <td>0.383449</td>\n",
       "    </tr>\n",
       "    <tr>\n",
       "      <th>2</th>\n",
       "      <td>0.294861</td>\n",
       "      <td>-0.624617</td>\n",
       "      <td>0.134520</td>\n",
       "      <td>0.200541</td>\n",
       "    </tr>\n",
       "    <tr>\n",
       "      <th>3</th>\n",
       "      <td>0.358974</td>\n",
       "      <td>-0.349309</td>\n",
       "      <td>-0.138700</td>\n",
       "      <td>-0.325600</td>\n",
       "    </tr>\n",
       "    <tr>\n",
       "      <th>4</th>\n",
       "      <td>0.103916</td>\n",
       "      <td>-0.376646</td>\n",
       "      <td>0.470079</td>\n",
       "      <td>0.023335</td>\n",
       "    </tr>\n",
       "    <tr>\n",
       "      <th>5</th>\n",
       "      <td>-0.270047</td>\n",
       "      <td>-0.579265</td>\n",
       "      <td>0.182484</td>\n",
       "      <td>-0.012482</td>\n",
       "    </tr>\n",
       "    <tr>\n",
       "      <th>6</th>\n",
       "      <td>0.368846</td>\n",
       "      <td>0.399904</td>\n",
       "      <td>0.385671</td>\n",
       "      <td>0.275822</td>\n",
       "    </tr>\n",
       "    <tr>\n",
       "      <th>7</th>\n",
       "      <td>-0.204460</td>\n",
       "      <td>-0.168760</td>\n",
       "      <td>0.043468</td>\n",
       "      <td>-0.600002</td>\n",
       "    </tr>\n",
       "    <tr>\n",
       "      <th>8</th>\n",
       "      <td>0.358642</td>\n",
       "      <td>-0.002165</td>\n",
       "      <td>0.279910</td>\n",
       "      <td>0.103521</td>\n",
       "    </tr>\n",
       "    <tr>\n",
       "      <th>9</th>\n",
       "      <td>-0.212364</td>\n",
       "      <td>0.015047</td>\n",
       "      <td>-0.544510</td>\n",
       "      <td>-0.225394</td>\n",
       "    </tr>\n",
       "    <tr>\n",
       "      <th>10</th>\n",
       "      <td>0.189201</td>\n",
       "      <td>-0.032667</td>\n",
       "      <td>-0.106008</td>\n",
       "      <td>-0.317678</td>\n",
       "    </tr>\n",
       "    <tr>\n",
       "      <th>11</th>\n",
       "      <td>0.306048</td>\n",
       "      <td>-0.366788</td>\n",
       "      <td>-0.349622</td>\n",
       "      <td>0.532606</td>\n",
       "    </tr>\n",
       "    <tr>\n",
       "      <th>12</th>\n",
       "      <td>0.249595</td>\n",
       "      <td>0.058923</td>\n",
       "      <td>0.181983</td>\n",
       "      <td>-0.062644</td>\n",
       "    </tr>\n",
       "    <tr>\n",
       "      <th>13</th>\n",
       "      <td>0.011435</td>\n",
       "      <td>0.207352</td>\n",
       "      <td>-0.204690</td>\n",
       "      <td>-0.016021</td>\n",
       "    </tr>\n",
       "    <tr>\n",
       "      <th>14</th>\n",
       "      <td>-0.947709</td>\n",
       "      <td>-0.559255</td>\n",
       "      <td>-0.415899</td>\n",
       "      <td>0.056416</td>\n",
       "    </tr>\n",
       "    <tr>\n",
       "      <th>15</th>\n",
       "      <td>-0.114355</td>\n",
       "      <td>-0.309637</td>\n",
       "      <td>0.542793</td>\n",
       "      <td>-0.545936</td>\n",
       "    </tr>\n",
       "    <tr>\n",
       "      <th>16</th>\n",
       "      <td>0.395579</td>\n",
       "      <td>-0.102002</td>\n",
       "      <td>-0.092447</td>\n",
       "      <td>0.574435</td>\n",
       "    </tr>\n",
       "    <tr>\n",
       "      <th>17</th>\n",
       "      <td>0.726755</td>\n",
       "      <td>-0.479078</td>\n",
       "      <td>0.198917</td>\n",
       "      <td>0.612413</td>\n",
       "    </tr>\n",
       "    <tr>\n",
       "      <th>18</th>\n",
       "      <td>-0.151341</td>\n",
       "      <td>-0.190689</td>\n",
       "      <td>0.177852</td>\n",
       "      <td>0.276131</td>\n",
       "    </tr>\n",
       "    <tr>\n",
       "      <th>19</th>\n",
       "      <td>-0.193917</td>\n",
       "      <td>0.484406</td>\n",
       "      <td>0.061770</td>\n",
       "      <td>-0.188981</td>\n",
       "    </tr>\n",
       "    <tr>\n",
       "      <th>20</th>\n",
       "      <td>0.607394</td>\n",
       "      <td>0.080312</td>\n",
       "      <td>-0.559746</td>\n",
       "      <td>0.209954</td>\n",
       "    </tr>\n",
       "    <tr>\n",
       "      <th>21</th>\n",
       "      <td>0.571666</td>\n",
       "      <td>-0.029932</td>\n",
       "      <td>-0.432655</td>\n",
       "      <td>-0.495454</td>\n",
       "    </tr>\n",
       "    <tr>\n",
       "      <th>22</th>\n",
       "      <td>0.587711</td>\n",
       "      <td>0.441719</td>\n",
       "      <td>-0.136169</td>\n",
       "      <td>-0.070106</td>\n",
       "    </tr>\n",
       "    <tr>\n",
       "      <th>23</th>\n",
       "      <td>-0.305052</td>\n",
       "      <td>-0.453862</td>\n",
       "      <td>-0.231918</td>\n",
       "      <td>-0.534799</td>\n",
       "    </tr>\n",
       "    <tr>\n",
       "      <th>24</th>\n",
       "      <td>-0.280640</td>\n",
       "      <td>0.436142</td>\n",
       "      <td>-0.261738</td>\n",
       "      <td>-0.626082</td>\n",
       "    </tr>\n",
       "    <tr>\n",
       "      <th>25</th>\n",
       "      <td>-0.126754</td>\n",
       "      <td>-0.165242</td>\n",
       "      <td>-0.250258</td>\n",
       "      <td>0.203873</td>\n",
       "    </tr>\n",
       "    <tr>\n",
       "      <th>26</th>\n",
       "      <td>0.296593</td>\n",
       "      <td>-1.110274</td>\n",
       "      <td>-0.133557</td>\n",
       "      <td>-0.041567</td>\n",
       "    </tr>\n",
       "    <tr>\n",
       "      <th>27</th>\n",
       "      <td>-0.554698</td>\n",
       "      <td>-0.079314</td>\n",
       "      <td>-0.544595</td>\n",
       "      <td>-0.181545</td>\n",
       "    </tr>\n",
       "    <tr>\n",
       "      <th>28</th>\n",
       "      <td>0.336983</td>\n",
       "      <td>0.220905</td>\n",
       "      <td>0.331812</td>\n",
       "      <td>-0.061734</td>\n",
       "    </tr>\n",
       "    <tr>\n",
       "      <th>29</th>\n",
       "      <td>-0.261888</td>\n",
       "      <td>-0.834757</td>\n",
       "      <td>0.328654</td>\n",
       "      <td>-0.382276</td>\n",
       "    </tr>\n",
       "    <tr>\n",
       "      <th>30</th>\n",
       "      <td>-0.413209</td>\n",
       "      <td>-0.770424</td>\n",
       "      <td>-0.167795</td>\n",
       "      <td>-0.606972</td>\n",
       "    </tr>\n",
       "    <tr>\n",
       "      <th>31</th>\n",
       "      <td>0.649498</td>\n",
       "      <td>0.566613</td>\n",
       "      <td>0.914923</td>\n",
       "      <td>-0.022259</td>\n",
       "    </tr>\n",
       "  </tbody>\n",
       "</table>\n",
       "</div>"
      ],
      "text/plain": [
       "           A         B         C         D\n",
       "1  -0.093427 -0.131032  0.063438  0.383449\n",
       "2   0.294861 -0.624617  0.134520  0.200541\n",
       "3   0.358974 -0.349309 -0.138700 -0.325600\n",
       "4   0.103916 -0.376646  0.470079  0.023335\n",
       "5  -0.270047 -0.579265  0.182484 -0.012482\n",
       "6   0.368846  0.399904  0.385671  0.275822\n",
       "7  -0.204460 -0.168760  0.043468 -0.600002\n",
       "8   0.358642 -0.002165  0.279910  0.103521\n",
       "9  -0.212364  0.015047 -0.544510 -0.225394\n",
       "10  0.189201 -0.032667 -0.106008 -0.317678\n",
       "11  0.306048 -0.366788 -0.349622  0.532606\n",
       "12  0.249595  0.058923  0.181983 -0.062644\n",
       "13  0.011435  0.207352 -0.204690 -0.016021\n",
       "14 -0.947709 -0.559255 -0.415899  0.056416\n",
       "15 -0.114355 -0.309637  0.542793 -0.545936\n",
       "16  0.395579 -0.102002 -0.092447  0.574435\n",
       "17  0.726755 -0.479078  0.198917  0.612413\n",
       "18 -0.151341 -0.190689  0.177852  0.276131\n",
       "19 -0.193917  0.484406  0.061770 -0.188981\n",
       "20  0.607394  0.080312 -0.559746  0.209954\n",
       "21  0.571666 -0.029932 -0.432655 -0.495454\n",
       "22  0.587711  0.441719 -0.136169 -0.070106\n",
       "23 -0.305052 -0.453862 -0.231918 -0.534799\n",
       "24 -0.280640  0.436142 -0.261738 -0.626082\n",
       "25 -0.126754 -0.165242 -0.250258  0.203873\n",
       "26  0.296593 -1.110274 -0.133557 -0.041567\n",
       "27 -0.554698 -0.079314 -0.544595 -0.181545\n",
       "28  0.336983  0.220905  0.331812 -0.061734\n",
       "29 -0.261888 -0.834757  0.328654 -0.382276\n",
       "30 -0.413209 -0.770424 -0.167795 -0.606972\n",
       "31  0.649498  0.566613  0.914923 -0.022259"
      ]
     },
     "execution_count": 121,
     "metadata": {},
     "output_type": "execute_result"
    }
   ],
   "source": [
    "df.groupby(df.index.day).mean()"
   ]
  },
  {
   "cell_type": "code",
   "execution_count": 122,
   "metadata": {},
   "outputs": [
    {
     "name": "stdout",
     "output_type": "stream",
     "text": [
      "      Col_1     Col_2\n",
      "0 -1.508641 -0.236958\n",
      "1 -0.345513  0.188296\n",
      "2  0.429979 -1.299435\n",
      "3  0.320174  0.916676\n",
      "4 -0.789388 -2.052451\n",
      "\n",
      "      Col_1     Col_2\n",
      "0 -0.449652 -0.726443\n",
      "1  0.713304  0.203263\n",
      "2  0.366794 -0.434259\n",
      "3 -0.412114  0.575549\n",
      "4 -1.314400 -0.078902\n",
      "\n",
      "        Col_1     Col_2\n",
      "0   -1.508641 -0.236958\n",
      "1   -0.345513  0.188296\n",
      "2    0.429979 -1.299435\n",
      "3    0.320174  0.916676\n",
      "4   -0.789388 -2.052451\n",
      "..        ...       ...\n",
      "195  1.315424  1.205990\n",
      "196 -0.082110 -0.289320\n",
      "197 -0.217560 -1.108567\n",
      "198  0.801418  1.762060\n",
      "199  0.674087 -0.150390\n",
      "\n",
      "[200 rows x 2 columns]\n"
     ]
    }
   ],
   "source": [
    "# Concatenar dataframes.\n",
    "\n",
    "# Creamos un dataframe aleatorio.\n",
    "df_1 = pd.DataFrame(np.random.randn(100,2), columns = [\"Col_1\", \"Col_2\"])\n",
    "df_2 = pd.DataFrame(np.random.randn(100,2), columns = [\"Col_1\", \"Col_2\"])\n",
    "\n",
    "print(df_1.head())\n",
    "print()\n",
    "print(df_2.head())\n",
    "print()\n",
    "\n",
    "# Concatenamos.\n",
    "df = pd.concat([df_1, df_2], axis = 0, ignore_index = True)\n",
    "\n",
    "# Reiniciamos el índice.\n",
    "df = df.reset_index(drop = True)\n",
    "\n",
    "print(df)"
   ]
  },
  {
   "cell_type": "code",
   "execution_count": 123,
   "metadata": {},
   "outputs": [
    {
     "name": "stdout",
     "output_type": "stream",
     "text": [
      "      Col_1     Col_2\n",
      "0 -0.153558  0.498055\n",
      "1 -0.227531 -0.940505\n",
      "2  2.234391 -0.798033\n",
      "3 -2.370212  1.235076\n",
      "4  0.424379 -0.535412\n",
      "\n",
      "      Col_3     Col_4\n",
      "0  0.683027  0.174353\n",
      "1 -0.079426  0.072674\n",
      "2 -1.907828  1.083841\n",
      "3  0.178687 -0.065395\n",
      "4 -0.717261  0.246544\n",
      "\n",
      "       Col_1     Col_2     Col_3     Col_4\n",
      "0  -0.153558  0.498055  0.683027  0.174353\n",
      "1  -0.227531 -0.940505 -0.079426  0.072674\n",
      "2   2.234391 -0.798033 -1.907828  1.083841\n",
      "3  -2.370212  1.235076  0.178687 -0.065395\n",
      "4   0.424379 -0.535412 -0.717261  0.246544\n",
      "..       ...       ...       ...       ...\n",
      "95 -0.446058 -0.775728  0.551037 -0.443230\n",
      "96  0.364020  0.578839 -0.407735  0.400240\n",
      "97 -0.484211  0.475334  0.041963  1.107414\n",
      "98 -1.450585  2.107550  0.708739 -0.812024\n",
      "99  0.925974  1.034610 -2.748673 -1.144608\n",
      "\n",
      "[100 rows x 4 columns]\n"
     ]
    }
   ],
   "source": [
    "# Concatenar dataframes.\n",
    "\n",
    "# Creamos un dataframe aleatorio.\n",
    "df_1 = pd.DataFrame(np.random.randn(100,2), columns = [\"Col_1\", \"Col_2\"])\n",
    "df_2 = pd.DataFrame(np.random.randn(100,2), columns = [\"Col_3\", \"Col_4\"])\n",
    "\n",
    "print(df_1.head())\n",
    "print()\n",
    "print(df_2.head())\n",
    "print()\n",
    "\n",
    "# Concatenamos.\n",
    "df = pd.concat([df_1, df_2], axis = 1)\n",
    "\n",
    "print(df)"
   ]
  }
 ],
 "metadata": {
  "kernelspec": {
   "display_name": "gv",
   "language": "python",
   "name": "python3"
  },
  "language_info": {
   "codemirror_mode": {
    "name": "ipython",
    "version": 3
   },
   "file_extension": ".py",
   "mimetype": "text/x-python",
   "name": "python",
   "nbconvert_exporter": "python",
   "pygments_lexer": "ipython3",
   "version": "3.9.9"
  },
  "orig_nbformat": 4,
  "vscode": {
   "interpreter": {
    "hash": "cce8d45697d85db6636183b0f945e1ffea3934773870cd67d93bb4bbe05deaec"
   }
  }
 },
 "nbformat": 4,
 "nbformat_minor": 2
}
