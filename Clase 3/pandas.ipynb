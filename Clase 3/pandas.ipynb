{
 "cells": [
  {
   "cell_type": "code",
   "execution_count": 76,
   "metadata": {},
   "outputs": [
    {
     "name": "stdout",
     "output_type": "stream",
     "text": [
      "Requirement already satisfied: pandas in /opt/homebrew/Caskroom/miniforge/base/envs/gv/lib/python3.9/site-packages (1.3.5)\n",
      "Requirement already satisfied: python-dateutil>=2.7.3 in /opt/homebrew/Caskroom/miniforge/base/envs/gv/lib/python3.9/site-packages (from pandas) (2.8.2)\n",
      "Requirement already satisfied: pytz>=2017.3 in /opt/homebrew/Caskroom/miniforge/base/envs/gv/lib/python3.9/site-packages (from pandas) (2021.3)\n",
      "Requirement already satisfied: numpy>=1.20.0 in /opt/homebrew/Caskroom/miniforge/base/envs/gv/lib/python3.9/site-packages (from pandas) (1.21.5)\n",
      "Requirement already satisfied: six>=1.5 in /opt/homebrew/Caskroom/miniforge/base/envs/gv/lib/python3.9/site-packages (from python-dateutil>=2.7.3->pandas) (1.16.0)\n"
     ]
    }
   ],
   "source": [
    "!pip install pandas"
   ]
  },
  {
   "cell_type": "code",
   "execution_count": 77,
   "metadata": {},
   "outputs": [],
   "source": [
    "# Pandas es el Excel de python.\n",
    "# Obtenido de: https://pandas.pydata.org/docs/user_guide/10min.html\n",
    "\n",
    "import pandas as pd\n",
    "import numpy as np"
   ]
  },
  {
   "cell_type": "code",
   "execution_count": 78,
   "metadata": {},
   "outputs": [
    {
     "name": "stdout",
     "output_type": "stream",
     "text": [
      "0    1.0\n",
      "1    3.0\n",
      "2    5.0\n",
      "3    NaN\n",
      "4    6.0\n",
      "5    8.0\n",
      "dtype: float64\n"
     ]
    }
   ],
   "source": [
    "# Una columna en pandas se llama una serie\n",
    "# np.nan es un valor faltante\n",
    "# Cada elemento tiene un índice.\n",
    "\n",
    "s = pd.Series([1, 3, 5, np.nan, 6, 8])\n",
    "print(s)"
   ]
  },
  {
   "cell_type": "code",
   "execution_count": 79,
   "metadata": {},
   "outputs": [
    {
     "name": "stdout",
     "output_type": "stream",
     "text": [
      "DatetimeIndex(['2013-01-01', '2013-01-02', '2013-01-03', '2013-01-04',\n",
      "               '2013-01-05', '2013-01-06'],\n",
      "              dtype='datetime64[ns]', freq='D')\n"
     ]
    }
   ],
   "source": [
    "# El índice puede ser una fecha\n",
    "\n",
    "fechas = pd.date_range(\"20130101\", periods = 6, freq = \"D\")\n",
    "\n",
    "print(fechas)"
   ]
  },
  {
   "cell_type": "code",
   "execution_count": 80,
   "metadata": {},
   "outputs": [
    {
     "name": "stdout",
     "output_type": "stream",
     "text": [
      "2013-01-01    1.0\n",
      "2013-01-02    3.0\n",
      "2013-01-03    5.0\n",
      "2013-01-04    NaN\n",
      "2013-01-05    6.0\n",
      "2013-01-06    8.0\n",
      "Freq: D, Name: datos, dtype: float64\n"
     ]
    }
   ],
   "source": [
    "s = pd.Series([1, 3, 5, np.nan, 6, 8], index = fechas, name = \"datos\")\n",
    "\n",
    "print(s)"
   ]
  },
  {
   "cell_type": "code",
   "execution_count": 81,
   "metadata": {},
   "outputs": [
    {
     "name": "stdout",
     "output_type": "stream",
     "text": [
      "                   A         B         C         D\n",
      "2013-01-01  0.405006  0.748404  0.244871 -1.181110\n",
      "2013-01-02 -1.817821 -0.288873 -0.719807  0.170888\n",
      "2013-01-03  1.075171 -0.969841 -0.120263  1.199907\n",
      "2013-01-04  0.393199 -0.174549 -0.809589  1.432332\n",
      "2013-01-05  0.210182  0.855749 -0.382265  0.634273\n",
      "2013-01-06 -1.629181  0.510364  1.159254  0.563412\n"
     ]
    }
   ],
   "source": [
    "# Un dataframe es un conjunto de columnas.\n",
    "\n",
    "# creado a partir de arreglos de numpy.\n",
    "df = pd.DataFrame( np.random.randn(6, 4), index = fechas,\n",
    "    columns = [\"A\", \"B\", \"C\", \"D\"] )\n",
    "\n",
    "print(df)"
   ]
  },
  {
   "cell_type": "code",
   "execution_count": 82,
   "metadata": {},
   "outputs": [
    {
     "name": "stdout",
     "output_type": "stream",
     "text": [
      "                   A         B         C         D\n",
      "2013-01-01  0.405006  0.748404  0.244871 -1.181110\n",
      "2013-01-02 -1.817821 -0.288873 -0.719807  0.170888\n",
      "2013-01-03  1.075171 -0.969841 -0.120263  1.199907\n",
      "2013-01-04  0.393199 -0.174549 -0.809589  1.432332\n",
      "2013-01-05  0.210182  0.855749 -0.382265  0.634273\n",
      "\n",
      "                   A         B         C         D\n",
      "2013-01-02 -1.817821 -0.288873 -0.719807  0.170888\n",
      "2013-01-03  1.075171 -0.969841 -0.120263  1.199907\n",
      "2013-01-04  0.393199 -0.174549 -0.809589  1.432332\n",
      "2013-01-05  0.210182  0.855749 -0.382265  0.634273\n",
      "2013-01-06 -1.629181  0.510364  1.159254  0.563412\n"
     ]
    }
   ],
   "source": [
    "# head() y tail() muestran la parte \n",
    "# superior e inferior del Dataframe.\n",
    "\n",
    "print(df.head())\n",
    "print()\n",
    "print(df.tail())"
   ]
  },
  {
   "cell_type": "code",
   "execution_count": 83,
   "metadata": {},
   "outputs": [
    {
     "name": "stdout",
     "output_type": "stream",
     "text": [
      "DatetimeIndex(['2013-01-01', '2013-01-02', '2013-01-03', '2013-01-04',\n",
      "               '2013-01-05', '2013-01-06'],\n",
      "              dtype='datetime64[ns]', freq='D')\n",
      "\n",
      "Index(['A', 'B', 'C', 'D'], dtype='object')\n"
     ]
    }
   ],
   "source": [
    "# Podemos acceder al índice y las columnas.\n",
    "\n",
    "print(df.index)\n",
    "print()\n",
    "print(df.columns)"
   ]
  },
  {
   "cell_type": "code",
   "execution_count": 84,
   "metadata": {},
   "outputs": [
    {
     "name": "stdout",
     "output_type": "stream",
     "text": [
      "   2013-01-01  2013-01-02  2013-01-03  2013-01-04  2013-01-05  2013-01-06\n",
      "A    0.405006   -1.817821    1.075171    0.393199    0.210182   -1.629181\n",
      "B    0.748404   -0.288873   -0.969841   -0.174549    0.855749    0.510364\n",
      "C    0.244871   -0.719807   -0.120263   -0.809589   -0.382265    1.159254\n",
      "D   -1.181110    0.170888    1.199907    1.432332    0.634273    0.563412\n"
     ]
    }
   ],
   "source": [
    "# Trasponer.\n",
    "\n",
    "print(df.T)"
   ]
  },
  {
   "cell_type": "code",
   "execution_count": 85,
   "metadata": {},
   "outputs": [
    {
     "name": "stdout",
     "output_type": "stream",
     "text": [
      "[[ 0.40500581  0.748404    0.24487114 -1.18111028]\n",
      " [-1.81782124 -0.28887308 -0.71980652  0.17088785]\n",
      " [ 1.0751714  -0.9698415  -0.12026286  1.19990699]\n",
      " [ 0.39319856 -0.17454856 -0.80958924  1.43233223]\n",
      " [ 0.21018161  0.85574876 -0.38226455  0.63427349]\n",
      " [-1.62918135  0.51036378  1.15925417  0.56341246]]\n"
     ]
    }
   ],
   "source": [
    "# Convertir a un arreglo de numpy.\n",
    "\n",
    "print( df.to_numpy() )"
   ]
  },
  {
   "cell_type": "code",
   "execution_count": 86,
   "metadata": {},
   "outputs": [
    {
     "name": "stdout",
     "output_type": "stream",
     "text": [
      "              A         B         C         D\n",
      "count  6.000000  6.000000  6.000000  6.000000\n",
      "mean  -0.227241  0.113542 -0.104633  0.469950\n",
      "std    1.197304  0.711343  0.731066  0.928460\n",
      "min   -1.817821 -0.969841 -0.809589 -1.181110\n",
      "25%   -1.169341 -0.260292 -0.635421  0.269019\n",
      "50%    0.301690  0.167908 -0.251264  0.598843\n",
      "75%    0.402054  0.688894  0.153588  1.058499\n",
      "max    1.075171  0.855749  1.159254  1.432332\n"
     ]
    }
   ],
   "source": [
    "# Estadística descriptiva.\n",
    "\n",
    "print( df.describe() )"
   ]
  },
  {
   "cell_type": "code",
   "execution_count": 87,
   "metadata": {},
   "outputs": [
    {
     "name": "stdout",
     "output_type": "stream",
     "text": [
      "                   A         B         C         D\n",
      "2013-01-06 -1.629181  0.510364  1.159254  0.563412\n",
      "2013-01-05  0.210182  0.855749 -0.382265  0.634273\n",
      "2013-01-04  0.393199 -0.174549 -0.809589  1.432332\n",
      "2013-01-03  1.075171 -0.969841 -0.120263  1.199907\n",
      "2013-01-02 -1.817821 -0.288873 -0.719807  0.170888\n",
      "2013-01-01  0.405006  0.748404  0.244871 -1.181110\n"
     ]
    }
   ],
   "source": [
    "# Ordenar datos.\n",
    "\n",
    "# Por índice.\n",
    "\n",
    "print( df.sort_index(ascending = False) )"
   ]
  },
  {
   "cell_type": "code",
   "execution_count": 88,
   "metadata": {},
   "outputs": [
    {
     "name": "stdout",
     "output_type": "stream",
     "text": [
      "                   A         B         C         D\n",
      "2013-01-03  1.075171 -0.969841 -0.120263  1.199907\n",
      "2013-01-02 -1.817821 -0.288873 -0.719807  0.170888\n",
      "2013-01-04  0.393199 -0.174549 -0.809589  1.432332\n",
      "2013-01-06 -1.629181  0.510364  1.159254  0.563412\n",
      "2013-01-01  0.405006  0.748404  0.244871 -1.181110\n",
      "2013-01-05  0.210182  0.855749 -0.382265  0.634273\n"
     ]
    }
   ],
   "source": [
    "# Por columna.\n",
    "print( df.sort_values(by = \"B\") )"
   ]
  },
  {
   "cell_type": "code",
   "execution_count": 89,
   "metadata": {},
   "outputs": [
    {
     "name": "stdout",
     "output_type": "stream",
     "text": [
      "2013-01-01    0.405006\n",
      "2013-01-02   -1.817821\n",
      "2013-01-03    1.075171\n",
      "2013-01-04    0.393199\n",
      "2013-01-05    0.210182\n",
      "2013-01-06   -1.629181\n",
      "Freq: D, Name: A, dtype: float64\n"
     ]
    }
   ],
   "source": [
    "# Escoger una columna.\n",
    "\n",
    "print( df[\"A\"] )"
   ]
  },
  {
   "cell_type": "code",
   "execution_count": 90,
   "metadata": {},
   "outputs": [
    {
     "name": "stdout",
     "output_type": "stream",
     "text": [
      "2013-01-01 00:00:00\n",
      "A    0.405006\n",
      "B    0.748404\n",
      "C    0.244871\n",
      "D   -1.181110\n",
      "Name: 2013-01-01 00:00:00, dtype: float64\n"
     ]
    }
   ],
   "source": [
    "# Escoger una fila.\n",
    "\n",
    "print(df.index[0])\n",
    "print( df.loc[df.index[0]] )"
   ]
  },
  {
   "cell_type": "code",
   "execution_count": 91,
   "metadata": {},
   "outputs": [
    {
     "name": "stdout",
     "output_type": "stream",
     "text": [
      "A    0.405006\n",
      "B    0.748404\n",
      "C    0.244871\n",
      "D   -1.181110\n",
      "Name: 2013-01-01 00:00:00, dtype: float64\n"
     ]
    }
   ],
   "source": [
    "# Escoger por número de fila.\n",
    "\n",
    "print( df.iloc[0] )"
   ]
  },
  {
   "cell_type": "code",
   "execution_count": 92,
   "metadata": {},
   "outputs": [
    {
     "name": "stdout",
     "output_type": "stream",
     "text": [
      "-0.9698414969728085\n"
     ]
    }
   ],
   "source": [
    "# Escoger por fila y columna.\n",
    "\n",
    "print( df.loc[df.index[2], \"B\"] )"
   ]
  },
  {
   "cell_type": "code",
   "execution_count": 93,
   "metadata": {},
   "outputs": [
    {
     "name": "stdout",
     "output_type": "stream",
     "text": [
      "-0.9698414969728085\n"
     ]
    }
   ],
   "source": [
    "# Escoger por número de fila y columna.\n",
    "\n",
    "print( df.iloc[2, 1] )"
   ]
  },
  {
   "cell_type": "code",
   "execution_count": 94,
   "metadata": {},
   "outputs": [
    {
     "name": "stdout",
     "output_type": "stream",
     "text": [
      "                   B         C\n",
      "2013-01-03 -0.969841 -0.120263\n",
      "2013-01-04 -0.174549 -0.809589\n"
     ]
    }
   ],
   "source": [
    "# Escoger una subsección del dataframe.\n",
    "\n",
    "df_2 = df.iloc[2:4, 1:3]\n",
    "print( df_2 )"
   ]
  },
  {
   "cell_type": "code",
   "execution_count": 95,
   "metadata": {},
   "outputs": [
    {
     "name": "stdout",
     "output_type": "stream",
     "text": [
      "                   A         B         C         D\n",
      "2013-01-03  1.075171 -0.969841 -0.120263  1.199907\n",
      "2013-01-04  0.393199 -0.174549 -0.809589  1.432332\n"
     ]
    }
   ],
   "source": [
    "df_2 = df.iloc[2:4, :]\n",
    "print( df_2 )\n",
    "\n",
    "# Las copias y vistas funcionan igual que en numpy!!"
   ]
  },
  {
   "cell_type": "code",
   "execution_count": 96,
   "metadata": {},
   "outputs": [
    {
     "name": "stdout",
     "output_type": "stream",
     "text": [
      "                   A         B         C         D\n",
      "2013-01-01  0.405006  0.748404  0.244871 -1.181110\n",
      "2013-01-03  1.075171 -0.969841 -0.120263  1.199907\n",
      "2013-01-04  0.393199 -0.174549 -0.809589  1.432332\n",
      "2013-01-05  0.210182  0.855749 -0.382265  0.634273\n"
     ]
    }
   ],
   "source": [
    "# Búsqueda por condiciones.\n",
    "\n",
    "# En una columna.\n",
    "print( df[df[\"A\"] > 0] )"
   ]
  },
  {
   "cell_type": "code",
   "execution_count": 97,
   "metadata": {},
   "outputs": [
    {
     "name": "stdout",
     "output_type": "stream",
     "text": [
      "                   A         B         C         D\n",
      "2013-01-01  0.405006  0.748404  0.244871       NaN\n",
      "2013-01-02       NaN       NaN       NaN  0.170888\n",
      "2013-01-03  1.075171       NaN       NaN  1.199907\n",
      "2013-01-04  0.393199       NaN       NaN  1.432332\n",
      "2013-01-05  0.210182  0.855749       NaN  0.634273\n",
      "2013-01-06       NaN  0.510364  1.159254  0.563412\n"
     ]
    }
   ],
   "source": [
    "# En todo el dataframe.\n",
    "\n",
    "print( df[df>0] )"
   ]
  },
  {
   "cell_type": "code",
   "execution_count": 98,
   "metadata": {},
   "outputs": [
    {
     "name": "stdout",
     "output_type": "stream",
     "text": [
      "                   A         B         C         D       E\n",
      "2013-01-01  0.405006  0.748404  0.244871 -1.181110     uno\n",
      "2013-01-02 -1.817821 -0.288873 -0.719807  0.170888     uno\n",
      "2013-01-03  1.075171 -0.969841 -0.120263  1.199907     dos\n",
      "2013-01-04  0.393199 -0.174549 -0.809589  1.432332    tres\n",
      "2013-01-05  0.210182  0.855749 -0.382265  0.634273  cuatro\n",
      "2013-01-06 -1.629181  0.510364  1.159254  0.563412    tres\n"
     ]
    }
   ],
   "source": [
    "# Agregar columnas.\n",
    "# Todos los elementos de una columna son del mismo tipo.\n",
    "# Las columnas pueden tener distintos tipos.\n",
    "\n",
    "df[\"E\"] = [\"uno\", \"uno\", \"dos\", \"tres\", \"cuatro\", \"tres\"]\n",
    "\n",
    "print(df)"
   ]
  },
  {
   "cell_type": "code",
   "execution_count": 99,
   "metadata": {},
   "outputs": [
    {
     "data": {
      "text/html": [
       "<div>\n",
       "<style scoped>\n",
       "    .dataframe tbody tr th:only-of-type {\n",
       "        vertical-align: middle;\n",
       "    }\n",
       "\n",
       "    .dataframe tbody tr th {\n",
       "        vertical-align: top;\n",
       "    }\n",
       "\n",
       "    .dataframe thead th {\n",
       "        text-align: right;\n",
       "    }\n",
       "</style>\n",
       "<table border=\"1\" class=\"dataframe\">\n",
       "  <thead>\n",
       "    <tr style=\"text-align: right;\">\n",
       "      <th></th>\n",
       "      <th>A</th>\n",
       "      <th>B</th>\n",
       "      <th>C</th>\n",
       "      <th>D</th>\n",
       "      <th>E</th>\n",
       "    </tr>\n",
       "  </thead>\n",
       "  <tbody>\n",
       "    <tr>\n",
       "      <th>2013-01-01</th>\n",
       "      <td>0.405006</td>\n",
       "      <td>0.748404</td>\n",
       "      <td>0.244871</td>\n",
       "      <td>-1.181110</td>\n",
       "      <td>uno</td>\n",
       "    </tr>\n",
       "    <tr>\n",
       "      <th>2013-01-02</th>\n",
       "      <td>-1.817821</td>\n",
       "      <td>-0.288873</td>\n",
       "      <td>-0.719807</td>\n",
       "      <td>0.170888</td>\n",
       "      <td>uno</td>\n",
       "    </tr>\n",
       "  </tbody>\n",
       "</table>\n",
       "</div>"
      ],
      "text/plain": [
       "                   A         B         C         D    E\n",
       "2013-01-01  0.405006  0.748404  0.244871 -1.181110  uno\n",
       "2013-01-02 -1.817821 -0.288873 -0.719807  0.170888  uno"
      ]
     },
     "execution_count": 99,
     "metadata": {},
     "output_type": "execute_result"
    }
   ],
   "source": [
    "# Buscar un valor específico dentro de una columna.\n",
    "\n",
    "df[ df[\"E\"] == \"uno\" ]"
   ]
  },
  {
   "cell_type": "code",
   "execution_count": 100,
   "metadata": {},
   "outputs": [
    {
     "name": "stdout",
     "output_type": "stream",
     "text": [
      "                   A         B         C         D       E    F\n",
      "2013-01-01  0.405006  0.748404  0.244871 -1.181110     uno  1.0\n",
      "2013-01-02 -1.817821 -0.288873 -0.719807  0.170888     uno  1.8\n",
      "2013-01-03  1.075171 -0.969841 -0.120263  1.199907     dos  2.6\n",
      "2013-01-04  0.393199 -0.174549 -0.809589  1.432332    tres  3.4\n",
      "2013-01-05  0.210182  0.855749 -0.382265  0.634273  cuatro  4.2\n"
     ]
    }
   ],
   "source": [
    "# Nueva columna con arreglos.\n",
    "\n",
    "df[\"F\"] = np.linspace(1, 5, 6)\n",
    "print(df.head())"
   ]
  },
  {
   "cell_type": "code",
   "execution_count": 101,
   "metadata": {},
   "outputs": [
    {
     "name": "stdout",
     "output_type": "stream",
     "text": [
      "                   A         B         C         D       E    F\n",
      "2013-01-03  1.075171 -0.969841 -0.120263  1.199907     dos  2.6\n",
      "2013-01-05  0.210182  0.855749 -0.382265  0.634273  cuatro  4.2\n"
     ]
    }
   ],
   "source": [
    "# Buscar valores específicos con isin()\n",
    "\n",
    "print( df[ df[\"E\"].isin( [\"dos\", \"cuatro\"] ) ] )"
   ]
  },
  {
   "cell_type": "code",
   "execution_count": 102,
   "metadata": {},
   "outputs": [
    {
     "data": {
      "text/html": [
       "<div>\n",
       "<style scoped>\n",
       "    .dataframe tbody tr th:only-of-type {\n",
       "        vertical-align: middle;\n",
       "    }\n",
       "\n",
       "    .dataframe tbody tr th {\n",
       "        vertical-align: top;\n",
       "    }\n",
       "\n",
       "    .dataframe thead th {\n",
       "        text-align: right;\n",
       "    }\n",
       "</style>\n",
       "<table border=\"1\" class=\"dataframe\">\n",
       "  <thead>\n",
       "    <tr style=\"text-align: right;\">\n",
       "      <th></th>\n",
       "      <th>A</th>\n",
       "      <th>B</th>\n",
       "      <th>C</th>\n",
       "      <th>D</th>\n",
       "      <th>E</th>\n",
       "      <th>F</th>\n",
       "    </tr>\n",
       "  </thead>\n",
       "  <tbody>\n",
       "    <tr>\n",
       "      <th>2013-01-01</th>\n",
       "      <td>0.405006</td>\n",
       "      <td>0.748404</td>\n",
       "      <td>0.244871</td>\n",
       "      <td>-1.181110</td>\n",
       "      <td>uno</td>\n",
       "      <td>1.0</td>\n",
       "    </tr>\n",
       "    <tr>\n",
       "      <th>2013-01-06</th>\n",
       "      <td>-1.629181</td>\n",
       "      <td>0.510364</td>\n",
       "      <td>1.159254</td>\n",
       "      <td>0.563412</td>\n",
       "      <td>tres</td>\n",
       "      <td>5.0</td>\n",
       "    </tr>\n",
       "  </tbody>\n",
       "</table>\n",
       "</div>"
      ],
      "text/plain": [
       "                   A         B         C         D     E    F\n",
       "2013-01-01  0.405006  0.748404  0.244871 -1.181110   uno  1.0\n",
       "2013-01-06 -1.629181  0.510364  1.159254  0.563412  tres  5.0"
      ]
     },
     "execution_count": 102,
     "metadata": {},
     "output_type": "execute_result"
    }
   ],
   "source": [
    "df[ df[\"F\"].isin( [1, 5] ) ]"
   ]
  },
  {
   "cell_type": "code",
   "execution_count": 103,
   "metadata": {},
   "outputs": [
    {
     "name": "stdout",
     "output_type": "stream",
     "text": [
      "                   A          B         C         D       E    F\n",
      "2013-01-01  0.405006  10.000000  0.244871 -1.181110     uno  1.0\n",
      "2013-01-02 -1.817821  -0.288873 -0.719807  0.170888     uno  1.8\n",
      "2013-01-03  1.075171  -0.969841 -0.120263  1.199907     dos  2.6\n",
      "2013-01-04  0.393199  -0.174549 -0.809589  1.432332    tres  3.4\n",
      "2013-01-05  0.210182   0.855749 -0.382265  0.634273  cuatro  4.2\n",
      "2013-01-06 -1.629181   0.510364  1.159254  0.563412    tres  5.0\n"
     ]
    }
   ],
   "source": [
    "# Podemos cambiar un valor específico.\n",
    "\n",
    "df.iloc[0, 1] = 10\n",
    "print(df)"
   ]
  },
  {
   "cell_type": "code",
   "execution_count": 104,
   "metadata": {},
   "outputs": [
    {
     "name": "stdout",
     "output_type": "stream",
     "text": [
      "                   A          B         C         D    F\n",
      "2013-01-01  0.405006  10.000000  0.244871 -1.181110  1.0\n",
      "2013-01-02 -1.817821  -0.288873 -0.719807  0.170888  1.8\n",
      "2013-01-03  1.075171  -0.969841 -0.120263  1.199907  2.6\n",
      "2013-01-04  0.393199  -0.174549 -0.809589  1.432332  3.4\n",
      "2013-01-05  0.210182   0.855749 -0.382265  0.634273  4.2\n",
      "2013-01-06 -1.629181   0.510364  1.159254  0.563412  5.0\n"
     ]
    }
   ],
   "source": [
    "# Quitar columna.\n",
    "\n",
    "df = df.drop(\"E\", axis = 1)\n",
    "print(df)"
   ]
  },
  {
   "cell_type": "code",
   "execution_count": 105,
   "metadata": {},
   "outputs": [
    {
     "data": {
      "text/html": [
       "<div>\n",
       "<style scoped>\n",
       "    .dataframe tbody tr th:only-of-type {\n",
       "        vertical-align: middle;\n",
       "    }\n",
       "\n",
       "    .dataframe tbody tr th {\n",
       "        vertical-align: top;\n",
       "    }\n",
       "\n",
       "    .dataframe thead th {\n",
       "        text-align: right;\n",
       "    }\n",
       "</style>\n",
       "<table border=\"1\" class=\"dataframe\">\n",
       "  <thead>\n",
       "    <tr style=\"text-align: right;\">\n",
       "      <th></th>\n",
       "      <th>A</th>\n",
       "      <th>B</th>\n",
       "      <th>C</th>\n",
       "      <th>D</th>\n",
       "      <th>F</th>\n",
       "    </tr>\n",
       "  </thead>\n",
       "  <tbody>\n",
       "    <tr>\n",
       "      <th>2013-01-01</th>\n",
       "      <td>0.405006</td>\n",
       "      <td>10.000000</td>\n",
       "      <td>0.244871</td>\n",
       "      <td>-1.181110</td>\n",
       "      <td>1.0</td>\n",
       "    </tr>\n",
       "    <tr>\n",
       "      <th>2013-01-02</th>\n",
       "      <td>-1.817821</td>\n",
       "      <td>-0.288873</td>\n",
       "      <td>-0.719807</td>\n",
       "      <td>0.170888</td>\n",
       "      <td>1.8</td>\n",
       "    </tr>\n",
       "    <tr>\n",
       "      <th>2013-01-03</th>\n",
       "      <td>1.075171</td>\n",
       "      <td>-0.969841</td>\n",
       "      <td>-0.120263</td>\n",
       "      <td>1.199907</td>\n",
       "      <td>2.6</td>\n",
       "    </tr>\n",
       "    <tr>\n",
       "      <th>2013-01-05</th>\n",
       "      <td>0.210182</td>\n",
       "      <td>0.855749</td>\n",
       "      <td>-0.382265</td>\n",
       "      <td>0.634273</td>\n",
       "      <td>4.2</td>\n",
       "    </tr>\n",
       "    <tr>\n",
       "      <th>2013-01-06</th>\n",
       "      <td>-1.629181</td>\n",
       "      <td>0.510364</td>\n",
       "      <td>1.159254</td>\n",
       "      <td>0.563412</td>\n",
       "      <td>5.0</td>\n",
       "    </tr>\n",
       "  </tbody>\n",
       "</table>\n",
       "</div>"
      ],
      "text/plain": [
       "                   A          B         C         D    F\n",
       "2013-01-01  0.405006  10.000000  0.244871 -1.181110  1.0\n",
       "2013-01-02 -1.817821  -0.288873 -0.719807  0.170888  1.8\n",
       "2013-01-03  1.075171  -0.969841 -0.120263  1.199907  2.6\n",
       "2013-01-05  0.210182   0.855749 -0.382265  0.634273  4.2\n",
       "2013-01-06 -1.629181   0.510364  1.159254  0.563412  5.0"
      ]
     },
     "execution_count": 105,
     "metadata": {},
     "output_type": "execute_result"
    }
   ],
   "source": [
    "# Quitar filas\n",
    "df = df.drop(df.index[3], axis = 0)\n",
    "\n",
    "df"
   ]
  },
  {
   "cell_type": "code",
   "execution_count": 106,
   "metadata": {},
   "outputs": [
    {
     "name": "stdout",
     "output_type": "stream",
     "text": [
      "                   A          B         C         D    F\n",
      "2013-01-01  0.405006  10.000000  0.244871  0.000000  1.0\n",
      "2013-01-02  0.000000   0.000000  0.000000  0.170888  1.8\n",
      "2013-01-03  1.075171   0.000000  0.000000  1.199907  2.6\n",
      "2013-01-05  0.210182   0.855749  0.000000  0.634273  4.2\n",
      "2013-01-06  0.000000   0.510364  1.159254  0.563412  5.0\n"
     ]
    }
   ],
   "source": [
    "# Establecer valores con condicional.\n",
    "\n",
    "df[df<0] = 0\n",
    "print(df)"
   ]
  },
  {
   "cell_type": "code",
   "execution_count": 107,
   "metadata": {},
   "outputs": [
    {
     "name": "stdout",
     "output_type": "stream",
     "text": [
      "                   A         B         C         D    F\n",
      "2013-01-01  0.405006       NaN  0.244871  0.000000  1.0\n",
      "2013-01-02  0.000000  0.000000  0.000000  0.170888  1.8\n",
      "2013-01-03  1.075171  0.000000  0.000000  1.199907  NaN\n",
      "2013-01-05  0.210182  0.855749  0.000000  0.634273  NaN\n",
      "2013-01-06  0.000000  0.510364  1.159254  0.563412  NaN\n"
     ]
    }
   ],
   "source": [
    "# Agregamos algunos valores nulos.\n",
    "\n",
    "df[df>2] = np.nan\n",
    "print(df)"
   ]
  },
  {
   "cell_type": "code",
   "execution_count": 108,
   "metadata": {},
   "outputs": [
    {
     "name": "stdout",
     "output_type": "stream",
     "text": [
      "              A    B    C         D    F\n",
      "2013-01-02  0.0  0.0  0.0  0.170888  1.8\n",
      "\n",
      "                   A           B         C         D      F\n",
      "2013-01-01  0.405006 -100.000000  0.244871  0.000000    1.0\n",
      "2013-01-02  0.000000    0.000000  0.000000  0.170888    1.8\n",
      "2013-01-03  1.075171    0.000000  0.000000  1.199907 -100.0\n",
      "2013-01-05  0.210182    0.855749  0.000000  0.634273 -100.0\n",
      "2013-01-06  0.000000    0.510364  1.159254  0.563412 -100.0\n",
      "\n",
      "                A      B      C      D      F\n",
      "2013-01-01  False   True  False  False  False\n",
      "2013-01-02  False  False  False  False  False\n",
      "2013-01-03  False  False  False  False   True\n",
      "2013-01-05  False  False  False  False   True\n",
      "2013-01-06  False  False  False  False   True\n"
     ]
    }
   ],
   "source": [
    "# Quitar filas con valores nulos.\n",
    "print(df.dropna())\n",
    "print()\n",
    "\n",
    "# Rellenar valores nulos.\n",
    "print(df.fillna(-100))\n",
    "print()\n",
    "\n",
    "# Determinar valores nulos.\n",
    "print(df.isna())"
   ]
  },
  {
   "cell_type": "code",
   "execution_count": 109,
   "metadata": {},
   "outputs": [
    {
     "name": "stdout",
     "output_type": "stream",
     "text": [
      "                   A         B         C         D    F         G\n",
      "2013-01-01  0.405006       NaN  0.244871  0.000000  1.0  0.649877\n",
      "2013-01-02  0.000000  0.000000  0.000000  0.170888  1.8  0.000000\n",
      "2013-01-03  1.075171  0.000000  0.000000  1.199907  NaN  1.075171\n",
      "2013-01-05  0.210182  0.855749  0.000000  0.634273  NaN  0.210182\n",
      "2013-01-06  0.000000  0.510364  1.159254  0.563412  NaN  1.159254\n",
      "\n",
      "A    0.338072\n",
      "B    0.341528\n",
      "C    0.280825\n",
      "D    0.513696\n",
      "F    1.400000\n",
      "G    0.618897\n",
      "dtype: float64\n",
      "\n",
      "2013-01-01    0.459951\n",
      "2013-01-02    0.328481\n",
      "2013-01-03    0.670050\n",
      "2013-01-05    0.382077\n",
      "2013-01-06    0.678457\n",
      "dtype: float64\n"
     ]
    }
   ],
   "source": [
    "# operaciones.\n",
    "\n",
    "# Entre columnas.\n",
    "df[\"G\"] = df[\"A\"] + df[\"C\"]\n",
    "\n",
    "print(df)\n",
    "print()\n",
    "\n",
    "# promedio\n",
    "print(df.mean())\n",
    "print()\n",
    "print(df.mean(1))"
   ]
  },
  {
   "cell_type": "code",
   "execution_count": 110,
   "metadata": {},
   "outputs": [
    {
     "data": {
      "text/html": [
       "<div>\n",
       "<style scoped>\n",
       "    .dataframe tbody tr th:only-of-type {\n",
       "        vertical-align: middle;\n",
       "    }\n",
       "\n",
       "    .dataframe tbody tr th {\n",
       "        vertical-align: top;\n",
       "    }\n",
       "\n",
       "    .dataframe thead th {\n",
       "        text-align: right;\n",
       "    }\n",
       "</style>\n",
       "<table border=\"1\" class=\"dataframe\">\n",
       "  <thead>\n",
       "    <tr style=\"text-align: right;\">\n",
       "      <th></th>\n",
       "      <th>A</th>\n",
       "      <th>B</th>\n",
       "      <th>C</th>\n",
       "      <th>D</th>\n",
       "      <th>F</th>\n",
       "      <th>G</th>\n",
       "    </tr>\n",
       "  </thead>\n",
       "  <tbody>\n",
       "    <tr>\n",
       "      <th>2013-01-01</th>\n",
       "      <td>0.405006</td>\n",
       "      <td>NaN</td>\n",
       "      <td>0.244871</td>\n",
       "      <td>0.000000</td>\n",
       "      <td>1.0</td>\n",
       "      <td>0.649877</td>\n",
       "    </tr>\n",
       "    <tr>\n",
       "      <th>2013-01-02</th>\n",
       "      <td>0.405006</td>\n",
       "      <td>0.000000</td>\n",
       "      <td>0.244871</td>\n",
       "      <td>0.170888</td>\n",
       "      <td>2.8</td>\n",
       "      <td>0.649877</td>\n",
       "    </tr>\n",
       "    <tr>\n",
       "      <th>2013-01-03</th>\n",
       "      <td>1.480177</td>\n",
       "      <td>0.000000</td>\n",
       "      <td>0.244871</td>\n",
       "      <td>1.370795</td>\n",
       "      <td>NaN</td>\n",
       "      <td>1.725048</td>\n",
       "    </tr>\n",
       "    <tr>\n",
       "      <th>2013-01-05</th>\n",
       "      <td>1.690359</td>\n",
       "      <td>0.855749</td>\n",
       "      <td>0.244871</td>\n",
       "      <td>2.005068</td>\n",
       "      <td>NaN</td>\n",
       "      <td>1.935230</td>\n",
       "    </tr>\n",
       "    <tr>\n",
       "      <th>2013-01-06</th>\n",
       "      <td>1.690359</td>\n",
       "      <td>1.366113</td>\n",
       "      <td>1.404125</td>\n",
       "      <td>2.568481</td>\n",
       "      <td>NaN</td>\n",
       "      <td>3.094484</td>\n",
       "    </tr>\n",
       "  </tbody>\n",
       "</table>\n",
       "</div>"
      ],
      "text/plain": [
       "                   A         B         C         D    F         G\n",
       "2013-01-01  0.405006       NaN  0.244871  0.000000  1.0  0.649877\n",
       "2013-01-02  0.405006  0.000000  0.244871  0.170888  2.8  0.649877\n",
       "2013-01-03  1.480177  0.000000  0.244871  1.370795  NaN  1.725048\n",
       "2013-01-05  1.690359  0.855749  0.244871  2.005068  NaN  1.935230\n",
       "2013-01-06  1.690359  1.366113  1.404125  2.568481  NaN  3.094484"
      ]
     },
     "execution_count": 110,
     "metadata": {},
     "output_type": "execute_result"
    }
   ],
   "source": [
    "# Aplicar operación.\n",
    "# np.cumsum() hace una suma acumulada.\n",
    "df.apply(np.cumsum)"
   ]
  },
  {
   "cell_type": "code",
   "execution_count": 111,
   "metadata": {},
   "outputs": [
    {
     "name": "stderr",
     "output_type": "stream",
     "text": [
      "/opt/homebrew/Caskroom/miniforge/base/envs/gv/lib/python3.9/site-packages/pandas/core/arraylike.py:364: RuntimeWarning: divide by zero encountered in log\n",
      "  result = getattr(ufunc, method)(*inputs, **kwargs)\n"
     ]
    },
    {
     "data": {
      "text/html": [
       "<div>\n",
       "<style scoped>\n",
       "    .dataframe tbody tr th:only-of-type {\n",
       "        vertical-align: middle;\n",
       "    }\n",
       "\n",
       "    .dataframe tbody tr th {\n",
       "        vertical-align: top;\n",
       "    }\n",
       "\n",
       "    .dataframe thead th {\n",
       "        text-align: right;\n",
       "    }\n",
       "</style>\n",
       "<table border=\"1\" class=\"dataframe\">\n",
       "  <thead>\n",
       "    <tr style=\"text-align: right;\">\n",
       "      <th></th>\n",
       "      <th>A</th>\n",
       "      <th>B</th>\n",
       "      <th>C</th>\n",
       "      <th>D</th>\n",
       "      <th>F</th>\n",
       "      <th>G</th>\n",
       "      <th>H</th>\n",
       "    </tr>\n",
       "  </thead>\n",
       "  <tbody>\n",
       "    <tr>\n",
       "      <th>2013-01-01</th>\n",
       "      <td>0.405006</td>\n",
       "      <td>NaN</td>\n",
       "      <td>0.244871</td>\n",
       "      <td>0.000000</td>\n",
       "      <td>1.0</td>\n",
       "      <td>0.649877</td>\n",
       "      <td>-1.407023</td>\n",
       "    </tr>\n",
       "    <tr>\n",
       "      <th>2013-01-02</th>\n",
       "      <td>0.000000</td>\n",
       "      <td>0.000000</td>\n",
       "      <td>0.000000</td>\n",
       "      <td>0.170888</td>\n",
       "      <td>1.8</td>\n",
       "      <td>0.000000</td>\n",
       "      <td>-inf</td>\n",
       "    </tr>\n",
       "    <tr>\n",
       "      <th>2013-01-03</th>\n",
       "      <td>1.075171</td>\n",
       "      <td>0.000000</td>\n",
       "      <td>0.000000</td>\n",
       "      <td>1.199907</td>\n",
       "      <td>NaN</td>\n",
       "      <td>1.075171</td>\n",
       "      <td>-inf</td>\n",
       "    </tr>\n",
       "    <tr>\n",
       "      <th>2013-01-05</th>\n",
       "      <td>0.210182</td>\n",
       "      <td>0.855749</td>\n",
       "      <td>0.000000</td>\n",
       "      <td>0.634273</td>\n",
       "      <td>NaN</td>\n",
       "      <td>0.210182</td>\n",
       "      <td>-inf</td>\n",
       "    </tr>\n",
       "    <tr>\n",
       "      <th>2013-01-06</th>\n",
       "      <td>0.000000</td>\n",
       "      <td>0.510364</td>\n",
       "      <td>1.159254</td>\n",
       "      <td>0.563412</td>\n",
       "      <td>NaN</td>\n",
       "      <td>1.159254</td>\n",
       "      <td>0.147777</td>\n",
       "    </tr>\n",
       "  </tbody>\n",
       "</table>\n",
       "</div>"
      ],
      "text/plain": [
       "                   A         B         C         D    F         G         H\n",
       "2013-01-01  0.405006       NaN  0.244871  0.000000  1.0  0.649877 -1.407023\n",
       "2013-01-02  0.000000  0.000000  0.000000  0.170888  1.8  0.000000      -inf\n",
       "2013-01-03  1.075171  0.000000  0.000000  1.199907  NaN  1.075171      -inf\n",
       "2013-01-05  0.210182  0.855749  0.000000  0.634273  NaN  0.210182      -inf\n",
       "2013-01-06  0.000000  0.510364  1.159254  0.563412  NaN  1.159254  0.147777"
      ]
     },
     "execution_count": 111,
     "metadata": {},
     "output_type": "execute_result"
    }
   ],
   "source": [
    "# Logaritmo a cada elemento.\n",
    "df[\"H\"] = np.log( df[\"C\"] )\n",
    "\n",
    "df"
   ]
  },
  {
   "cell_type": "code",
   "execution_count": 112,
   "metadata": {},
   "outputs": [
    {
     "data": {
      "text/html": [
       "<div>\n",
       "<style scoped>\n",
       "    .dataframe tbody tr th:only-of-type {\n",
       "        vertical-align: middle;\n",
       "    }\n",
       "\n",
       "    .dataframe tbody tr th {\n",
       "        vertical-align: top;\n",
       "    }\n",
       "\n",
       "    .dataframe thead th {\n",
       "        text-align: right;\n",
       "    }\n",
       "</style>\n",
       "<table border=\"1\" class=\"dataframe\">\n",
       "  <thead>\n",
       "    <tr style=\"text-align: right;\">\n",
       "      <th></th>\n",
       "      <th>A</th>\n",
       "      <th>B</th>\n",
       "      <th>C</th>\n",
       "      <th>D</th>\n",
       "      <th>F</th>\n",
       "      <th>G</th>\n",
       "      <th>H</th>\n",
       "      <th>I</th>\n",
       "    </tr>\n",
       "  </thead>\n",
       "  <tbody>\n",
       "    <tr>\n",
       "      <th>2013-01-01</th>\n",
       "      <td>0.405006</td>\n",
       "      <td>NaN</td>\n",
       "      <td>0.244871</td>\n",
       "      <td>0.000000</td>\n",
       "      <td>1.0</td>\n",
       "      <td>0.649877</td>\n",
       "      <td>-1.407023</td>\n",
       "      <td>NaN</td>\n",
       "    </tr>\n",
       "    <tr>\n",
       "      <th>2013-01-02</th>\n",
       "      <td>0.000000</td>\n",
       "      <td>0.000000</td>\n",
       "      <td>0.000000</td>\n",
       "      <td>0.170888</td>\n",
       "      <td>1.8</td>\n",
       "      <td>0.000000</td>\n",
       "      <td>-inf</td>\n",
       "      <td>NaN</td>\n",
       "    </tr>\n",
       "    <tr>\n",
       "      <th>2013-01-03</th>\n",
       "      <td>1.075171</td>\n",
       "      <td>0.000000</td>\n",
       "      <td>0.000000</td>\n",
       "      <td>1.199907</td>\n",
       "      <td>NaN</td>\n",
       "      <td>1.075171</td>\n",
       "      <td>-inf</td>\n",
       "      <td>0.244871</td>\n",
       "    </tr>\n",
       "    <tr>\n",
       "      <th>2013-01-05</th>\n",
       "      <td>0.210182</td>\n",
       "      <td>0.855749</td>\n",
       "      <td>0.000000</td>\n",
       "      <td>0.634273</td>\n",
       "      <td>NaN</td>\n",
       "      <td>0.210182</td>\n",
       "      <td>-inf</td>\n",
       "      <td>0.000000</td>\n",
       "    </tr>\n",
       "    <tr>\n",
       "      <th>2013-01-06</th>\n",
       "      <td>0.000000</td>\n",
       "      <td>0.510364</td>\n",
       "      <td>1.159254</td>\n",
       "      <td>0.563412</td>\n",
       "      <td>NaN</td>\n",
       "      <td>1.159254</td>\n",
       "      <td>0.147777</td>\n",
       "      <td>0.000000</td>\n",
       "    </tr>\n",
       "  </tbody>\n",
       "</table>\n",
       "</div>"
      ],
      "text/plain": [
       "                   A         B         C         D    F         G         H  \\\n",
       "2013-01-01  0.405006       NaN  0.244871  0.000000  1.0  0.649877 -1.407023   \n",
       "2013-01-02  0.000000  0.000000  0.000000  0.170888  1.8  0.000000      -inf   \n",
       "2013-01-03  1.075171  0.000000  0.000000  1.199907  NaN  1.075171      -inf   \n",
       "2013-01-05  0.210182  0.855749  0.000000  0.634273  NaN  0.210182      -inf   \n",
       "2013-01-06  0.000000  0.510364  1.159254  0.563412  NaN  1.159254  0.147777   \n",
       "\n",
       "                   I  \n",
       "2013-01-01       NaN  \n",
       "2013-01-02       NaN  \n",
       "2013-01-03  0.244871  \n",
       "2013-01-05  0.000000  \n",
       "2013-01-06  0.000000  "
      ]
     },
     "execution_count": 112,
     "metadata": {},
     "output_type": "execute_result"
    }
   ],
   "source": [
    "# Recorrer una columna una cierta cantidad de filas.\n",
    "\n",
    "df[\"I\"] = df[\"C\"].shift(2)\n",
    "\n",
    "df"
   ]
  },
  {
   "cell_type": "code",
   "execution_count": 113,
   "metadata": {},
   "outputs": [],
   "source": [
    "# Leer y escribir archivos es muy fácil con el formato\n",
    "# csv, compatible con Excel.\n",
    "\n",
    "# Escribir.\n",
    "df.to_csv(\"Archivo1.csv\")"
   ]
  },
  {
   "cell_type": "code",
   "execution_count": 114,
   "metadata": {},
   "outputs": [
    {
     "data": {
      "text/html": [
       "<div>\n",
       "<style scoped>\n",
       "    .dataframe tbody tr th:only-of-type {\n",
       "        vertical-align: middle;\n",
       "    }\n",
       "\n",
       "    .dataframe tbody tr th {\n",
       "        vertical-align: top;\n",
       "    }\n",
       "\n",
       "    .dataframe thead th {\n",
       "        text-align: right;\n",
       "    }\n",
       "</style>\n",
       "<table border=\"1\" class=\"dataframe\">\n",
       "  <thead>\n",
       "    <tr style=\"text-align: right;\">\n",
       "      <th></th>\n",
       "      <th>A</th>\n",
       "      <th>B</th>\n",
       "      <th>C</th>\n",
       "      <th>D</th>\n",
       "      <th>F</th>\n",
       "      <th>G</th>\n",
       "      <th>H</th>\n",
       "      <th>I</th>\n",
       "    </tr>\n",
       "  </thead>\n",
       "  <tbody>\n",
       "    <tr>\n",
       "      <th>2013-01-01</th>\n",
       "      <td>0.405006</td>\n",
       "      <td>NaN</td>\n",
       "      <td>0.244871</td>\n",
       "      <td>0.000000</td>\n",
       "      <td>1.0</td>\n",
       "      <td>0.649877</td>\n",
       "      <td>-1.407023</td>\n",
       "      <td>NaN</td>\n",
       "    </tr>\n",
       "    <tr>\n",
       "      <th>2013-01-02</th>\n",
       "      <td>0.000000</td>\n",
       "      <td>0.000000</td>\n",
       "      <td>0.000000</td>\n",
       "      <td>0.170888</td>\n",
       "      <td>1.8</td>\n",
       "      <td>0.000000</td>\n",
       "      <td>-inf</td>\n",
       "      <td>NaN</td>\n",
       "    </tr>\n",
       "    <tr>\n",
       "      <th>2013-01-03</th>\n",
       "      <td>1.075171</td>\n",
       "      <td>0.000000</td>\n",
       "      <td>0.000000</td>\n",
       "      <td>1.199907</td>\n",
       "      <td>NaN</td>\n",
       "      <td>1.075171</td>\n",
       "      <td>-inf</td>\n",
       "      <td>0.244871</td>\n",
       "    </tr>\n",
       "    <tr>\n",
       "      <th>2013-01-05</th>\n",
       "      <td>0.210182</td>\n",
       "      <td>0.855749</td>\n",
       "      <td>0.000000</td>\n",
       "      <td>0.634273</td>\n",
       "      <td>NaN</td>\n",
       "      <td>0.210182</td>\n",
       "      <td>-inf</td>\n",
       "      <td>0.000000</td>\n",
       "    </tr>\n",
       "    <tr>\n",
       "      <th>2013-01-06</th>\n",
       "      <td>0.000000</td>\n",
       "      <td>0.510364</td>\n",
       "      <td>1.159254</td>\n",
       "      <td>0.563412</td>\n",
       "      <td>NaN</td>\n",
       "      <td>1.159254</td>\n",
       "      <td>0.147777</td>\n",
       "      <td>0.000000</td>\n",
       "    </tr>\n",
       "  </tbody>\n",
       "</table>\n",
       "</div>"
      ],
      "text/plain": [
       "                   A         B         C         D    F         G         H  \\\n",
       "2013-01-01  0.405006       NaN  0.244871  0.000000  1.0  0.649877 -1.407023   \n",
       "2013-01-02  0.000000  0.000000  0.000000  0.170888  1.8  0.000000      -inf   \n",
       "2013-01-03  1.075171  0.000000  0.000000  1.199907  NaN  1.075171      -inf   \n",
       "2013-01-05  0.210182  0.855749  0.000000  0.634273  NaN  0.210182      -inf   \n",
       "2013-01-06  0.000000  0.510364  1.159254  0.563412  NaN  1.159254  0.147777   \n",
       "\n",
       "                   I  \n",
       "2013-01-01       NaN  \n",
       "2013-01-02       NaN  \n",
       "2013-01-03  0.244871  \n",
       "2013-01-05  0.000000  \n",
       "2013-01-06  0.000000  "
      ]
     },
     "execution_count": 114,
     "metadata": {},
     "output_type": "execute_result"
    }
   ],
   "source": [
    "# Leer archivo.\n",
    "\n",
    "df_2 = pd.read_csv(\"Archivo1.csv\", index_col = 0)\n",
    "df_2"
   ]
  },
  {
   "cell_type": "code",
   "execution_count": 115,
   "metadata": {},
   "outputs": [
    {
     "name": "stdout",
     "output_type": "stream",
     "text": [
      "DatetimeIndex(['2013-01-01', '2013-01-02', '2013-01-03', '2013-01-05',\n",
      "               '2013-01-06'],\n",
      "              dtype='datetime64[ns]', freq=None)\n",
      "Index(['2013-01-01', '2013-01-02', '2013-01-03', '2013-01-05', '2013-01-06'], dtype='object')\n"
     ]
    }
   ],
   "source": [
    "# El índice de fechas no se carga con el formato correcto.\n",
    "print( df.index )\n",
    "print( df_2.index )"
   ]
  },
  {
   "cell_type": "code",
   "execution_count": 116,
   "metadata": {},
   "outputs": [
    {
     "data": {
      "text/plain": [
       "DatetimeIndex(['2013-01-01', '2013-01-02', '2013-01-03', '2013-01-05',\n",
       "               '2013-01-06'],\n",
       "              dtype='datetime64[ns]', freq=None)"
      ]
     },
     "execution_count": 116,
     "metadata": {},
     "output_type": "execute_result"
    }
   ],
   "source": [
    "# Cambiamos al formato correcto.\n",
    "df_2.index = pd.to_datetime( df_2.index )\n",
    "df_2.index"
   ]
  },
  {
   "cell_type": "code",
   "execution_count": 117,
   "metadata": {},
   "outputs": [
    {
     "name": "stdout",
     "output_type": "stream",
     "text": [
      "      Col_1     Col_2\n",
      "0  0.983965  0.050127\n",
      "1  0.906384  0.335550\n",
      "2  0.214511  0.155169\n",
      "3  0.813020  0.863430\n",
      "4  0.578360  0.781036\n",
      "\n",
      "        Col_1   Col_2\n",
      "Col_1  1.0000  0.0015\n",
      "Col_2  0.0015  1.0000\n",
      "\n",
      "          Col_1     Col_2\n",
      "Col_1  0.083342  0.000125\n",
      "Col_2  0.000125  0.083669\n",
      "\n",
      "0.00048464378817299474\n"
     ]
    }
   ],
   "source": [
    "# Correlación.\n",
    "\n",
    "# Creamos un dataframe aleatorio.\n",
    "df = pd.DataFrame( np.random.rand(100000, 2), columns = [\"Col_1\", \"Col_2\"] )\n",
    "\n",
    "print( df.head() )\n",
    "print()\n",
    "\n",
    "# Matriz de correlación\n",
    "print( df.corr() )\n",
    "print()\n",
    "\n",
    "# Matriz de covarianca\n",
    "print( df.cov() )\n",
    "print()\n",
    "\n",
    "# Autocorrelación.\n",
    "print( df[\"Col_1\"].autocorr(lag = 1) )"
   ]
  },
  {
   "cell_type": "code",
   "execution_count": 118,
   "metadata": {},
   "outputs": [],
   "source": [
    "# Tarea clase 3.\n",
    "# 1. Cargar el archivo Electrico_residencial_2010_2017.\n",
    "# 2. Selecciona las entradas correspondientes a Baja California.\n",
    "# 3. Ordena los datos de menor a mayor consumo en 2010.\n",
    "# 4. Selecciona los municipios con una cantidad\n",
    "# de usuarios en 2012 menor a 100\n",
    "# 5. Selecciona solo la tarifa DAC para todos los municipios.\n",
    "# Encuentra el municipio con mayor consumo en tarifa DAC.\n",
    "# 6. Encuentra la correlación entre el consumo de 2012 y 2013."
   ]
  }
 ],
 "metadata": {
  "kernelspec": {
   "display_name": "gv",
   "language": "python",
   "name": "python3"
  },
  "language_info": {
   "codemirror_mode": {
    "name": "ipython",
    "version": 3
   },
   "file_extension": ".py",
   "mimetype": "text/x-python",
   "name": "python",
   "nbconvert_exporter": "python",
   "pygments_lexer": "ipython3",
   "version": "3.9.9"
  },
  "orig_nbformat": 4,
  "vscode": {
   "interpreter": {
    "hash": "cce8d45697d85db6636183b0f945e1ffea3934773870cd67d93bb4bbe05deaec"
   }
  }
 },
 "nbformat": 4,
 "nbformat_minor": 2
}
