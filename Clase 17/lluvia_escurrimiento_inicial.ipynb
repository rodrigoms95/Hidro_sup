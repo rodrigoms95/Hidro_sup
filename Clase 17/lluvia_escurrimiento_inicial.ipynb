{
 "cells": [
  {
   "cell_type": "code",
   "execution_count": 1,
   "metadata": {},
   "outputs": [],
   "source": [
    "# Cálculo de relaciones lluvia escurrimiento.\n",
    "\n",
    "import numpy as np\n",
    "import pandas as pd\n",
    "\n",
    "from matplotlib import pyplot as plt\n",
    "\n",
    "import geopandas as gpd\n",
    "\n",
    "from scipy import integrate"
   ]
  },
  {
   "cell_type": "code",
   "execution_count": 2,
   "metadata": {},
   "outputs": [],
   "source": [
    "# Dirección de los datos.\n",
    "path = \"../Material/Clase 17/\"\n",
    "\n",
    "# Escurrimiento.\n",
    "esc_n  = \"Escurrimiento.csv\"\n",
    "# Curva masa.\n",
    "inf_n   = \"infiltracion.csv\"\n",
    "\n",
    "# Cargamos los datos.\n",
    "esc = pd.read_csv(path + esc_n, index_col = \"tiempo\")\n",
    "esc.index = pd.to_datetime(esc.index)\n",
    "inf  = pd.read_csv(path + inf_n, index_col = \"tiempo\")\n",
    "inf.index = pd.to_datetime(inf.index)\n",
    "inf.index.name = esc.index.name"
   ]
  }
 ],
 "metadata": {
  "kernelspec": {
   "display_name": "gv",
   "language": "python",
   "name": "python3"
  },
  "language_info": {
   "codemirror_mode": {
    "name": "ipython",
    "version": 3
   },
   "file_extension": ".py",
   "mimetype": "text/x-python",
   "name": "python",
   "nbconvert_exporter": "python",
   "pygments_lexer": "ipython3",
   "version": "3.9.9"
  },
  "orig_nbformat": 4
 },
 "nbformat": 4,
 "nbformat_minor": 2
}
