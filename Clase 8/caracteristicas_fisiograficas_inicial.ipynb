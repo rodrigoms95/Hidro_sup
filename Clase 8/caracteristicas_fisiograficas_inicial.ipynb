{
 "cells": [
  {
   "cell_type": "code",
   "execution_count": 1,
   "metadata": {},
   "outputs": [],
   "source": [
    "# Cálculo de algunas características fisiográficas de cuencas.\n",
    "\n",
    "import numpy as np\n",
    "import pandas as pd\n",
    "\n",
    "from scipy import optimize\n",
    "from scipy import integrate\n",
    "\n",
    "from matplotlib import pyplot as plt\n",
    "\n",
    "import geopandas as gpd"
   ]
  },
  {
   "cell_type": "code",
   "execution_count": 2,
   "metadata": {},
   "outputs": [],
   "source": [
    "# Dirección de los datos.\n",
    "path = \"../Material/Clases/Clase 8/\"\n",
    "\n",
    "# Nombres de las cuencas.\n",
    "nombres_sub = [\"RH12Ai_subc.shp\", \"RH19Be_subc.shp\"]\n",
    "nombres_c   = [\"RH12Ai_curvas.shp\", \"RH19Be_curvas.shp\"]\n",
    "nombres_r   = [\"Río San Fernando.shp\", \"Coords Río San Fernando.shp\"]"
   ]
  },
  {
   "cell_type": "code",
   "execution_count": null,
   "metadata": {},
   "outputs": [],
   "source": [
    "# Tarea clase 8.\n",
    "# 1. calcular la pendiente para el río Sonora por\n",
    "# desnivel medio y por áreas compensadas y comparar.\n",
    "# Utilizar UTM 12N (m) EPSG:32612 (https://epsg.io/32612)\n",
    "# 2. Para las dos subcuencas calcula la densidad\n",
    "# de corrientes, la densidad de drenaje, y el orden de la cuenca.\n",
    "# Para el orden, utiliza la columna \"ORDER\"."
   ]
  }
 ],
 "metadata": {
  "kernelspec": {
   "display_name": "gv",
   "language": "python",
   "name": "python3"
  },
  "language_info": {
   "codemirror_mode": {
    "name": "ipython",
    "version": 3
   },
   "file_extension": ".py",
   "mimetype": "text/x-python",
   "name": "python",
   "nbconvert_exporter": "python",
   "pygments_lexer": "ipython3",
   "version": "3.9.9"
  },
  "orig_nbformat": 4,
  "vscode": {
   "interpreter": {
    "hash": "cce8d45697d85db6636183b0f945e1ffea3934773870cd67d93bb4bbe05deaec"
   }
  }
 },
 "nbformat": 4,
 "nbformat_minor": 2
}
